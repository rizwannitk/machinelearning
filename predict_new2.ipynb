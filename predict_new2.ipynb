{
  "nbformat": 4,
  "nbformat_minor": 0,
  "metadata": {
    "kernelspec": {
      "display_name": "Python 3",
      "language": "python",
      "name": "python3"
    },
    "language_info": {
      "codemirror_mode": {
        "name": "ipython",
        "version": 3
      },
      "file_extension": ".py",
      "mimetype": "text/x-python",
      "name": "python",
      "nbconvert_exporter": "python",
      "pygments_lexer": "ipython3",
      "version": "3.6.9"
    },
    "colab": {
      "name": "Untitled.ipynb",
      "provenance": [],
      "toc_visible": true
    }
  },
  "cells": [
    {
      "cell_type": "markdown",
      "metadata": {
        "id": "b0RKCxURPf4f"
      },
      "source": [
        "### Stock Market Prediction And Forecasting Using Stacked LSTM"
      ]
    },
    {
      "cell_type": "code",
      "metadata": {
        "id": "GuOSnY44Pf4h"
      },
      "source": [
        "### Keras and Tensorflow >2.0"
      ],
      "execution_count": null,
      "outputs": []
    },
    {
      "cell_type": "code",
      "metadata": {
        "id": "F1i4eG91Pf4l"
      },
      "source": [
        "### Data Collection\n",
        "import pandas_datareader as pdr\n",
        "key=\"\""
      ],
      "execution_count": 241,
      "outputs": []
    },
    {
      "cell_type": "code",
      "metadata": {
        "id": "KBSa49OcPf4o",
        "outputId": "02264cf4-3db5-496c-e459-2be4602eb12e",
        "colab": {
          "base_uri": "https://localhost:8080/",
          "height": 306
        }
      },
      "source": [
        "df = pdr.get_data_tiingo('AAPL', api_key=key)"
      ],
      "execution_count": 242,
      "outputs": [
        {
          "output_type": "error",
          "ename": "ValueError",
          "evalue": "ignored",
          "traceback": [
            "\u001b[0;31m---------------------------------------------------------------------------\u001b[0m",
            "\u001b[0;31mValueError\u001b[0m                                Traceback (most recent call last)",
            "\u001b[0;32m<ipython-input-242-08157bf6935e>\u001b[0m in \u001b[0;36m<module>\u001b[0;34m()\u001b[0m\n\u001b[0;32m----> 1\u001b[0;31m \u001b[0mdf\u001b[0m \u001b[0;34m=\u001b[0m \u001b[0mpdr\u001b[0m\u001b[0;34m.\u001b[0m\u001b[0mget_data_tiingo\u001b[0m\u001b[0;34m(\u001b[0m\u001b[0;34m'AAPL'\u001b[0m\u001b[0;34m,\u001b[0m \u001b[0mapi_key\u001b[0m\u001b[0;34m=\u001b[0m\u001b[0mkey\u001b[0m\u001b[0;34m)\u001b[0m\u001b[0;34m\u001b[0m\u001b[0;34m\u001b[0m\u001b[0m\n\u001b[0m",
            "\u001b[0;32m/usr/local/lib/python3.6/dist-packages/pandas_datareader/data.py\u001b[0m in \u001b[0;36mget_data_tiingo\u001b[0;34m(*args, **kwargs)\u001b[0m\n\u001b[1;32m    124\u001b[0m \u001b[0;34m\u001b[0m\u001b[0m\n\u001b[1;32m    125\u001b[0m \u001b[0;32mdef\u001b[0m \u001b[0mget_data_tiingo\u001b[0m\u001b[0;34m(\u001b[0m\u001b[0;34m*\u001b[0m\u001b[0margs\u001b[0m\u001b[0;34m,\u001b[0m \u001b[0;34m**\u001b[0m\u001b[0mkwargs\u001b[0m\u001b[0;34m)\u001b[0m\u001b[0;34m:\u001b[0m\u001b[0;34m\u001b[0m\u001b[0;34m\u001b[0m\u001b[0m\n\u001b[0;32m--> 126\u001b[0;31m     \u001b[0;32mreturn\u001b[0m \u001b[0mTiingoDailyReader\u001b[0m\u001b[0;34m(\u001b[0m\u001b[0;34m*\u001b[0m\u001b[0margs\u001b[0m\u001b[0;34m,\u001b[0m \u001b[0;34m**\u001b[0m\u001b[0mkwargs\u001b[0m\u001b[0;34m)\u001b[0m\u001b[0;34m.\u001b[0m\u001b[0mread\u001b[0m\u001b[0;34m(\u001b[0m\u001b[0;34m)\u001b[0m\u001b[0;34m\u001b[0m\u001b[0;34m\u001b[0m\u001b[0m\n\u001b[0m\u001b[1;32m    127\u001b[0m \u001b[0;34m\u001b[0m\u001b[0m\n\u001b[1;32m    128\u001b[0m \u001b[0;34m\u001b[0m\u001b[0m\n",
            "\u001b[0;32m/usr/local/lib/python3.6/dist-packages/pandas_datareader/tiingo.py\u001b[0m in \u001b[0;36m__init__\u001b[0;34m(self, symbols, start, end, retry_count, pause, timeout, session, freq, api_key)\u001b[0m\n\u001b[1;32m    182\u001b[0m         \u001b[0;32mif\u001b[0m \u001b[0;32mnot\u001b[0m \u001b[0mapi_key\u001b[0m \u001b[0;32mor\u001b[0m \u001b[0;32mnot\u001b[0m \u001b[0misinstance\u001b[0m\u001b[0;34m(\u001b[0m\u001b[0mapi_key\u001b[0m\u001b[0;34m,\u001b[0m \u001b[0mstr\u001b[0m\u001b[0;34m)\u001b[0m\u001b[0;34m:\u001b[0m\u001b[0;34m\u001b[0m\u001b[0;34m\u001b[0m\u001b[0m\n\u001b[1;32m    183\u001b[0m             raise ValueError(\n\u001b[0;32m--> 184\u001b[0;31m                 \u001b[0;34m\"The tiingo API key must be provided either \"\u001b[0m\u001b[0;34m\u001b[0m\u001b[0;34m\u001b[0m\u001b[0m\n\u001b[0m\u001b[1;32m    185\u001b[0m                 \u001b[0;34m\"through the api_key variable or through the \"\u001b[0m\u001b[0;34m\u001b[0m\u001b[0;34m\u001b[0m\u001b[0m\n\u001b[1;32m    186\u001b[0m                 \u001b[0;34m\"environmental variable TIINGO_API_KEY.\"\u001b[0m\u001b[0;34m\u001b[0m\u001b[0;34m\u001b[0m\u001b[0m\n",
            "\u001b[0;31mValueError\u001b[0m: The tiingo API key must be provided either through the api_key variable or through the environmental variable TIINGO_API_KEY."
          ]
        }
      ]
    },
    {
      "cell_type": "code",
      "metadata": {
        "id": "15t7EkYqPf4r"
      },
      "source": [
        "df.to_csv('AAPL.csv')"
      ],
      "execution_count": null,
      "outputs": []
    },
    {
      "cell_type": "code",
      "metadata": {
        "id": "mfMCHsOuPf4u"
      },
      "source": [
        "import pandas as pd"
      ],
      "execution_count": 243,
      "outputs": []
    },
    {
      "cell_type": "code",
      "metadata": {
        "id": "VlDu6V9OYpmW"
      },
      "source": [
        "new_df=pd.read_csv('/content/sample_data/rest2.csv')\n",
        "new_df.head()\n",
        "new_df1=new_df.reset_index()['REV']"
      ],
      "execution_count": 244,
      "outputs": []
    },
    {
      "cell_type": "code",
      "metadata": {
        "id": "YSoMC2MScLM3"
      },
      "source": [
        "new_df1"
      ],
      "execution_count": null,
      "outputs": []
    },
    {
      "cell_type": "code",
      "metadata": {
        "id": "x6YFJ6P_Zahf",
        "outputId": "9cad4bc6-b145-4e51-8ffe-afebe3568834",
        "colab": {
          "base_uri": "https://localhost:8080/",
          "height": 282
        }
      },
      "source": [
        "import matplotlib.pyplot as plt\n",
        "plt.plot(new_df1)"
      ],
      "execution_count": 245,
      "outputs": [
        {
          "output_type": "execute_result",
          "data": {
            "text/plain": [
              "[<matplotlib.lines.Line2D at 0x7f945c7e5ba8>]"
            ]
          },
          "metadata": {
            "tags": []
          },
          "execution_count": 245
        },
        {
          "output_type": "display_data",
          "data": {
            "image/png": "[encoded data removed]",
            "text/plain": [
              "<Figure size 432x288 with 1 Axes>"
            ]
          },
          "metadata": {
            "tags": [],
            "needs_background": "light"
          }
        }
      ]
    },
    {
      "cell_type": "code",
      "metadata": {
        "id": "TO3LV-OeZkaA"
      },
      "source": [
        "from sklearn.preprocessing import MinMaxScaler\n",
        "scaler=MinMaxScaler(feature_range=(0,1))\n",
        "new_df1=scaler.fit_transform(np.array(new_df1).reshape(-1,1))"
      ],
      "execution_count": 246,
      "outputs": []
    },
    {
      "cell_type": "code",
      "metadata": {
        "id": "dVgChalbcFw-",
        "outputId": "68512706-485c-4399-cc10-d50b78617bb4",
        "colab": {
          "base_uri": "https://localhost:8080/",
          "height": 282
        }
      },
      "source": [
        "plt.plot(new_df1)"
      ],
      "execution_count": 190,
      "outputs": [
        {
          "output_type": "execute_result",
          "data": {
            "text/plain": [
              "[<matplotlib.lines.Line2D at 0x7f945ff41710>]"
            ]
          },
          "metadata": {
            "tags": []
          },
          "execution_count": 190
        },
        {
          "output_type": "display_data",
          "data": {
            "image/png": "[encoded data removed]",
            "text/plain": [
              "<Figure size 432x288 with 1 Axes>"
            ]
          },
          "metadata": {
            "tags": [],
            "needs_background": "light"
          }
        }
      ]
    },
    {
      "cell_type": "code",
      "metadata": {
        "id": "t4OzkchgZuRd"
      },
      "source": [
        "##splitting dataset into train and test split\n",
        "training_size=int(len(new_df1)*0.85)\n",
        "test_size=len(new_df1)-training_size\n",
        "train_data,test_data=new_df1[0:training_size,:],new_df1[training_size:len(new_df1),:1]"
      ],
      "execution_count": 247,
      "outputs": []
    },
    {
      "cell_type": "code",
      "metadata": {
        "id": "uWONNrDyZ_AS",
        "outputId": "48f535ec-13c3-40b8-b002-9215e1e5f4ea",
        "colab": {
          "base_uri": "https://localhost:8080/"
        }
      },
      "source": [
        "training_size,test_size"
      ],
      "execution_count": 192,
      "outputs": [
        {
          "output_type": "execute_result",
          "data": {
            "text/plain": [
              "(736, 130)"
            ]
          },
          "metadata": {
            "tags": []
          },
          "execution_count": 192
        }
      ]
    },
    {
      "cell_type": "code",
      "metadata": {
        "id": "BeZasBCbcZL6",
        "outputId": "afef57fe-3bee-47a4-d50e-f5a2f9f5b071",
        "colab": {
          "base_uri": "https://localhost:8080/",
          "height": 282
        }
      },
      "source": [
        "plt.plot(train_data)"
      ],
      "execution_count": 248,
      "outputs": [
        {
          "output_type": "execute_result",
          "data": {
            "text/plain": [
              "[<matplotlib.lines.Line2D at 0x7f945c7436d8>]"
            ]
          },
          "metadata": {
            "tags": []
          },
          "execution_count": 248
        },
        {
          "output_type": "display_data",
          "data": {
            "image/png": "[encoded data removed]",
            "text/plain": [
              "<Figure size 432x288 with 1 Axes>"
            ]
          },
          "metadata": {
            "tags": [],
            "needs_background": "light"
          }
        }
      ]
    },
    {
      "cell_type": "code",
      "metadata": {
        "id": "a0aHa8qytLfk",
        "outputId": "5a33b831-d3f7-4a51-ee38-cde098fad171",
        "colab": {
          "base_uri": "https://localhost:8080/",
          "height": 282
        }
      },
      "source": [
        "plt.plot(test_data)"
      ],
      "execution_count": 194,
      "outputs": [
        {
          "output_type": "execute_result",
          "data": {
            "text/plain": [
              "[<matplotlib.lines.Line2D at 0x7f945fe78710>]"
            ]
          },
          "metadata": {
            "tags": []
          },
          "execution_count": 194
        },
        {
          "output_type": "display_data",
          "data": {
            "image/png": "[encoded data removed]",
            "text/plain": [
              "<Figure size 432x288 with 1 Axes>"
            ]
          },
          "metadata": {
            "tags": [],
            "needs_background": "light"
          }
        }
      ]
    },
    {
      "cell_type": "code",
      "metadata": {
        "id": "_xNqh4WvaFBt"
      },
      "source": [
        "import numpy\n",
        "# convert an array of values into a dataset matrix\n",
        "def create_dataset(dataset, time_step=1):\n",
        "\tdataX, dataY = [], []\n",
        "\tfor i in range(len(dataset)-time_step-1):\n",
        "\t\ta = dataset[i:(i+time_step), 0]   ###i=0, 0,1,2,3-----99   100 \n",
        "\t\tdataX.append(a)\n",
        "\t\tdataY.append(dataset[i + time_step, 0])\n",
        "\treturn numpy.array(dataX), numpy.array(dataY)"
      ],
      "execution_count": 249,
      "outputs": []
    },
    {
      "cell_type": "code",
      "metadata": {
        "id": "AxsSpsoWaKZ5"
      },
      "source": [
        "# reshape into X=t,t+1,t+2,t+3 and Y=t+4\n",
        "time_step = 100\n",
        "X_train, y_train = create_dataset(train_data, time_step)\n",
        "X_test, ytest = create_dataset(test_data, time_step)"
      ],
      "execution_count": 281,
      "outputs": []
    },
    {
      "cell_type": "code",
      "metadata": {
        "id": "GO-gMtmctVJl",
        "outputId": "7cba53a7-b846-4e2c-f773-c6acd7a36dbc",
        "colab": {
          "base_uri": "https://localhost:8080/"
        }
      },
      "source": [
        "X_train.shape"
      ],
      "execution_count": 205,
      "outputs": [
        {
          "output_type": "execute_result",
          "data": {
            "text/plain": [
              "(635, 100)"
            ]
          },
          "metadata": {
            "tags": []
          },
          "execution_count": 205
        }
      ]
    },
    {
      "cell_type": "code",
      "metadata": {
        "id": "ojQySFoTt03c"
      },
      "source": [
        "X_train[0:2,0:100]"
      ],
      "execution_count": null,
      "outputs": []
    },
    {
      "cell_type": "code",
      "metadata": {
        "id": "K3QAHYLlaRkl",
        "outputId": "e7bfa0e1-0145-4e39-8345-0351c4a3903e",
        "colab": {
          "base_uri": "https://localhost:8080/"
        }
      },
      "source": [
        "print(X_train.shape), print(y_train.shape)"
      ],
      "execution_count": 197,
      "outputs": [
        {
          "output_type": "stream",
          "text": [
            "(635, 100)\n",
            "(635,)\n"
          ],
          "name": "stdout"
        },
        {
          "output_type": "execute_result",
          "data": {
            "text/plain": [
              "(None, None)"
            ]
          },
          "metadata": {
            "tags": []
          },
          "execution_count": 197
        }
      ]
    },
    {
      "cell_type": "code",
      "metadata": {
        "id": "Tdz-BmyPcogX"
      },
      "source": [
        "training_size"
      ],
      "execution_count": null,
      "outputs": []
    },
    {
      "cell_type": "code",
      "metadata": {
        "id": "gWmJGZwpaaSX"
      },
      "source": [
        "X_train =X_train.reshape(X_train.shape[0],X_train.shape[1] , 1)\n",
        "X_test = X_test.reshape(X_test.shape[0],X_test.shape[1] , 1)"
      ],
      "execution_count": 282,
      "outputs": []
    },
    {
      "cell_type": "code",
      "metadata": {
        "id": "I8wlUj2ecxhn",
        "outputId": "91caa970-67ee-49f1-9ceb-b57dd7eb39d7",
        "colab": {
          "base_uri": "https://localhost:8080/"
        }
      },
      "source": [
        "type(X_train)"
      ],
      "execution_count": 216,
      "outputs": [
        {
          "output_type": "execute_result",
          "data": {
            "text/plain": [
              "numpy.ndarray"
            ]
          },
          "metadata": {
            "tags": []
          },
          "execution_count": 216
        }
      ]
    },
    {
      "cell_type": "code",
      "metadata": {
        "id": "lX57x04Bud-F",
        "outputId": "bba11ad6-f635-43dc-8b4d-8e1596930e14",
        "colab": {
          "base_uri": "https://localhost:8080/"
        }
      },
      "source": [
        "X_train.shape"
      ],
      "execution_count": 217,
      "outputs": [
        {
          "output_type": "execute_result",
          "data": {
            "text/plain": [
              "(635, 100, 1)"
            ]
          },
          "metadata": {
            "tags": []
          },
          "execution_count": 217
        }
      ]
    },
    {
      "cell_type": "code",
      "metadata": {
        "id": "raMgvtEYuiic"
      },
      "source": [
        "X_train[0:1,0:100,:]"
      ],
      "execution_count": null,
      "outputs": []
    },
    {
      "cell_type": "code",
      "metadata": {
        "id": "Eg7uj1glafMQ"
      },
      "source": [
        "from tensorflow.keras.models import Sequential\n",
        "from tensorflow.keras.layers import Dense\n",
        "from tensorflow.keras.layers import LSTM"
      ],
      "execution_count": 252,
      "outputs": []
    },
    {
      "cell_type": "code",
      "metadata": {
        "id": "puTWRziUakfd"
      },
      "source": [
        "model=Sequential()\n",
        "model.add(LSTM(100,return_sequences=True,input_shape=(100,1)))\n",
        "model.add(LSTM(100,return_sequences=True))\n",
        "model.add(LSTM(100,return_sequences=True))\n",
        "model.add(LSTM(100))\n",
        "model.add(Dense(1))\n",
        "model.compile(loss='mean_squared_error',optimizer='adam')"
      ],
      "execution_count": 283,
      "outputs": []
    },
    {
      "cell_type": "code",
      "metadata": {
        "id": "0d712kLSarLV",
        "outputId": "0f30f0c3-f29a-4f6e-87e6-26cc1ec72dc7",
        "colab": {
          "base_uri": "https://localhost:8080/"
        }
      },
      "source": [
        "model.summary()"
      ],
      "execution_count": 239,
      "outputs": [
        {
          "output_type": "stream",
          "text": [
            "Model: \"sequential_6\"\n",
            "_________________________________________________________________\n",
            "Layer (type)                 Output Shape              Param #   \n",
            "=================================================================\n",
            "lstm_19 (LSTM)               (None, 100, 50)           10400     \n",
            "_________________________________________________________________\n",
            "lstm_20 (LSTM)               (None, 100, 50)           20200     \n",
            "_________________________________________________________________\n",
            "lstm_21 (LSTM)               (None, 100, 50)           20200     \n",
            "_________________________________________________________________\n",
            "lstm_22 (LSTM)               (None, 50)                20200     \n",
            "_________________________________________________________________\n",
            "dense_6 (Dense)              (None, 1)                 51        \n",
            "=================================================================\n",
            "Total params: 71,051\n",
            "Trainable params: 71,051\n",
            "Non-trainable params: 0\n",
            "_________________________________________________________________\n"
          ],
          "name": "stdout"
        }
      ]
    },
    {
      "cell_type": "code",
      "metadata": {
        "id": "Mrh-MIJHay3A",
        "outputId": "d97196e4-e0c7-4d8d-b367-5bc13b1f6d7a",
        "colab": {
          "base_uri": "https://localhost:8080/"
        }
      },
      "source": [
        "model.fit(X_train,y_train,validation_data=(X_test,ytest),epochs=100,batch_size=64,verbose=1)"
      ],
      "execution_count": 284,
      "outputs": [
        {
          "output_type": "stream",
          "text": [
            "Epoch 1/100\n",
            "10/10 [==============================] - 5s 504ms/step - loss: 0.0203 - val_loss: 0.0013\n",
            "Epoch 2/100\n",
            "10/10 [==============================] - 4s 393ms/step - loss: 0.0147 - val_loss: 0.0085\n",
            "Epoch 3/100\n",
            "10/10 [==============================] - 4s 387ms/step - loss: 0.0146 - val_loss: 0.0051\n",
            "Epoch 4/100\n",
            "10/10 [==============================] - 4s 377ms/step - loss: 0.0143 - val_loss: 0.0049\n",
            "Epoch 5/100\n",
            "10/10 [==============================] - 4s 386ms/step - loss: 0.0142 - val_loss: 0.0042\n",
            "Epoch 6/100\n",
            "10/10 [==============================] - 4s 392ms/step - loss: 0.0141 - val_loss: 0.0018\n",
            "Epoch 7/100\n",
            "10/10 [==============================] - 4s 401ms/step - loss: 0.0140 - val_loss: 0.0035\n",
            "Epoch 8/100\n",
            "10/10 [==============================] - 4s 383ms/step - loss: 0.0138 - val_loss: 0.0021\n",
            "Epoch 9/100\n",
            "10/10 [==============================] - 4s 384ms/step - loss: 0.0139 - val_loss: 0.0023\n",
            "Epoch 10/100\n",
            "10/10 [==============================] - 4s 387ms/step - loss: 0.0138 - val_loss: 0.0018\n",
            "Epoch 11/100\n",
            "10/10 [==============================] - 4s 386ms/step - loss: 0.0138 - val_loss: 0.0043\n",
            "Epoch 12/100\n",
            "10/10 [==============================] - 4s 383ms/step - loss: 0.0141 - val_loss: 0.0030\n",
            "Epoch 13/100\n",
            "10/10 [==============================] - 4s 388ms/step - loss: 0.0137 - val_loss: 0.0018\n",
            "Epoch 14/100\n",
            "10/10 [==============================] - 4s 391ms/step - loss: 0.0141 - val_loss: 0.0042\n",
            "Epoch 15/100\n",
            "10/10 [==============================] - 4s 382ms/step - loss: 0.0139 - val_loss: 0.0029\n",
            "Epoch 16/100\n",
            "10/10 [==============================] - 4s 391ms/step - loss: 0.0142 - val_loss: 0.0014\n",
            "Epoch 17/100\n",
            "10/10 [==============================] - 4s 396ms/step - loss: 0.0141 - val_loss: 0.0025\n",
            "Epoch 18/100\n",
            "10/10 [==============================] - 4s 395ms/step - loss: 0.0138 - val_loss: 0.0029\n",
            "Epoch 19/100\n",
            "10/10 [==============================] - 4s 386ms/step - loss: 0.0136 - val_loss: 0.0015\n",
            "Epoch 20/100\n",
            "10/10 [==============================] - 4s 397ms/step - loss: 0.0139 - val_loss: 0.0059\n",
            "Epoch 21/100\n",
            "10/10 [==============================] - 4s 386ms/step - loss: 0.0138 - val_loss: 0.0019\n",
            "Epoch 22/100\n",
            "10/10 [==============================] - 4s 380ms/step - loss: 0.0136 - val_loss: 0.0021\n",
            "Epoch 23/100\n",
            "10/10 [==============================] - 4s 388ms/step - loss: 0.0138 - val_loss: 0.0027\n",
            "Epoch 24/100\n",
            "10/10 [==============================] - 4s 390ms/step - loss: 0.0136 - val_loss: 0.0016\n",
            "Epoch 25/100\n",
            "10/10 [==============================] - 4s 387ms/step - loss: 0.0136 - val_loss: 0.0023\n",
            "Epoch 26/100\n",
            "10/10 [==============================] - 4s 387ms/step - loss: 0.0135 - val_loss: 0.0020\n",
            "Epoch 27/100\n",
            "10/10 [==============================] - 4s 379ms/step - loss: 0.0136 - val_loss: 0.0015\n",
            "Epoch 28/100\n",
            "10/10 [==============================] - 4s 390ms/step - loss: 0.0136 - val_loss: 0.0023\n",
            "Epoch 29/100\n",
            "10/10 [==============================] - 4s 387ms/step - loss: 0.0137 - val_loss: 0.0026\n",
            "Epoch 30/100\n",
            "10/10 [==============================] - 4s 382ms/step - loss: 0.0141 - val_loss: 0.0022\n",
            "Epoch 31/100\n",
            "10/10 [==============================] - 4s 390ms/step - loss: 0.0139 - val_loss: 0.0040\n",
            "Epoch 32/100\n",
            "10/10 [==============================] - 4s 388ms/step - loss: 0.0142 - val_loss: 0.0018\n",
            "Epoch 33/100\n",
            "10/10 [==============================] - 6s 602ms/step - loss: 0.0136 - val_loss: 0.0015\n",
            "Epoch 34/100\n",
            "10/10 [==============================] - 4s 389ms/step - loss: 0.0135 - val_loss: 0.0017\n",
            "Epoch 35/100\n",
            "10/10 [==============================] - 4s 382ms/step - loss: 0.0135 - val_loss: 0.0019\n",
            "Epoch 36/100\n",
            "10/10 [==============================] - 4s 382ms/step - loss: 0.0135 - val_loss: 0.0019\n",
            "Epoch 37/100\n",
            "10/10 [==============================] - 4s 380ms/step - loss: 0.0135 - val_loss: 0.0025\n",
            "Epoch 38/100\n",
            "10/10 [==============================] - 4s 395ms/step - loss: 0.0135 - val_loss: 0.0015\n",
            "Epoch 39/100\n",
            "10/10 [==============================] - 4s 386ms/step - loss: 0.0136 - val_loss: 0.0022\n",
            "Epoch 40/100\n",
            "10/10 [==============================] - 4s 388ms/step - loss: 0.0136 - val_loss: 0.0015\n",
            "Epoch 41/100\n",
            "10/10 [==============================] - 4s 390ms/step - loss: 0.0136 - val_loss: 0.0025\n",
            "Epoch 42/100\n",
            "10/10 [==============================] - 4s 384ms/step - loss: 0.0136 - val_loss: 0.0013\n",
            "Epoch 43/100\n",
            "10/10 [==============================] - 4s 388ms/step - loss: 0.0136 - val_loss: 0.0017\n",
            "Epoch 44/100\n",
            "10/10 [==============================] - 4s 380ms/step - loss: 0.0136 - val_loss: 0.0022\n",
            "Epoch 45/100\n",
            "10/10 [==============================] - 4s 382ms/step - loss: 0.0135 - val_loss: 0.0013\n",
            "Epoch 46/100\n",
            "10/10 [==============================] - 4s 379ms/step - loss: 0.0135 - val_loss: 0.0019\n",
            "Epoch 47/100\n",
            "10/10 [==============================] - 4s 381ms/step - loss: 0.0135 - val_loss: 0.0023\n",
            "Epoch 48/100\n",
            "10/10 [==============================] - 4s 380ms/step - loss: 0.0136 - val_loss: 0.0015\n",
            "Epoch 49/100\n",
            "10/10 [==============================] - 4s 387ms/step - loss: 0.0135 - val_loss: 0.0019\n",
            "Epoch 50/100\n",
            "10/10 [==============================] - 4s 384ms/step - loss: 0.0137 - val_loss: 0.0027\n",
            "Epoch 51/100\n",
            "10/10 [==============================] - 4s 381ms/step - loss: 0.0137 - val_loss: 0.0011\n",
            "Epoch 52/100\n",
            "10/10 [==============================] - 4s 381ms/step - loss: 0.0136 - val_loss: 0.0032\n",
            "Epoch 53/100\n",
            "10/10 [==============================] - 4s 387ms/step - loss: 0.0134 - val_loss: 0.0012\n",
            "Epoch 54/100\n",
            "10/10 [==============================] - 4s 392ms/step - loss: 0.0135 - val_loss: 0.0017\n",
            "Epoch 55/100\n",
            "10/10 [==============================] - 4s 388ms/step - loss: 0.0134 - val_loss: 0.0014\n",
            "Epoch 56/100\n",
            "10/10 [==============================] - 4s 382ms/step - loss: 0.0134 - val_loss: 0.0019\n",
            "Epoch 57/100\n",
            "10/10 [==============================] - 4s 390ms/step - loss: 0.0134 - val_loss: 0.0014\n",
            "Epoch 58/100\n",
            "10/10 [==============================] - 4s 384ms/step - loss: 0.0136 - val_loss: 0.0020\n",
            "Epoch 59/100\n",
            "10/10 [==============================] - 4s 382ms/step - loss: 0.0134 - val_loss: 0.0014\n",
            "Epoch 60/100\n",
            "10/10 [==============================] - 4s 381ms/step - loss: 0.0135 - val_loss: 0.0017\n",
            "Epoch 61/100\n",
            "10/10 [==============================] - 4s 379ms/step - loss: 0.0137 - val_loss: 0.0027\n",
            "Epoch 62/100\n",
            "10/10 [==============================] - 4s 385ms/step - loss: 0.0135 - val_loss: 0.0016\n",
            "Epoch 63/100\n",
            "10/10 [==============================] - 4s 384ms/step - loss: 0.0135 - val_loss: 0.0022\n",
            "Epoch 64/100\n",
            "10/10 [==============================] - 4s 379ms/step - loss: 0.0135 - val_loss: 0.0016\n",
            "Epoch 65/100\n",
            "10/10 [==============================] - 4s 387ms/step - loss: 0.0135 - val_loss: 0.0023\n",
            "Epoch 66/100\n",
            "10/10 [==============================] - 4s 381ms/step - loss: 0.0135 - val_loss: 0.0012\n",
            "Epoch 67/100\n",
            "10/10 [==============================] - 4s 399ms/step - loss: 0.0135 - val_loss: 0.0025\n",
            "Epoch 68/100\n",
            "10/10 [==============================] - 4s 388ms/step - loss: 0.0135 - val_loss: 0.0013\n",
            "Epoch 69/100\n",
            "10/10 [==============================] - 4s 384ms/step - loss: 0.0136 - val_loss: 0.0031\n",
            "Epoch 70/100\n",
            "10/10 [==============================] - 4s 385ms/step - loss: 0.0135 - val_loss: 0.0017\n",
            "Epoch 71/100\n",
            "10/10 [==============================] - 4s 383ms/step - loss: 0.0134 - val_loss: 0.0018\n",
            "Epoch 72/100\n",
            "10/10 [==============================] - 4s 382ms/step - loss: 0.0135 - val_loss: 0.0018\n",
            "Epoch 73/100\n",
            "10/10 [==============================] - 4s 385ms/step - loss: 0.0134 - val_loss: 0.0020\n",
            "Epoch 74/100\n",
            "10/10 [==============================] - 4s 386ms/step - loss: 0.0135 - val_loss: 0.0018\n",
            "Epoch 75/100\n",
            "10/10 [==============================] - 4s 392ms/step - loss: 0.0134 - val_loss: 0.0015\n",
            "Epoch 76/100\n",
            "10/10 [==============================] - 4s 382ms/step - loss: 0.0134 - val_loss: 0.0022\n",
            "Epoch 77/100\n",
            "10/10 [==============================] - 4s 394ms/step - loss: 0.0135 - val_loss: 0.0013\n",
            "Epoch 78/100\n",
            "10/10 [==============================] - 4s 396ms/step - loss: 0.0134 - val_loss: 0.0024\n",
            "Epoch 79/100\n",
            "10/10 [==============================] - 4s 394ms/step - loss: 0.0134 - val_loss: 0.0012\n",
            "Epoch 80/100\n",
            "10/10 [==============================] - 4s 378ms/step - loss: 0.0135 - val_loss: 0.0017\n",
            "Epoch 81/100\n",
            "10/10 [==============================] - 4s 388ms/step - loss: 0.0133 - val_loss: 0.0016\n",
            "Epoch 82/100\n",
            "10/10 [==============================] - 4s 383ms/step - loss: 0.0137 - val_loss: 0.0017\n",
            "Epoch 83/100\n",
            "10/10 [==============================] - 4s 385ms/step - loss: 0.0136 - val_loss: 0.0024\n",
            "Epoch 84/100\n",
            "10/10 [==============================] - 4s 388ms/step - loss: 0.0136 - val_loss: 0.0015\n",
            "Epoch 85/100\n",
            "10/10 [==============================] - 4s 385ms/step - loss: 0.0137 - val_loss: 0.0028\n",
            "Epoch 86/100\n",
            "10/10 [==============================] - 4s 393ms/step - loss: 0.0135 - val_loss: 0.0018\n",
            "Epoch 87/100\n",
            "10/10 [==============================] - 4s 385ms/step - loss: 0.0134 - val_loss: 0.0012\n",
            "Epoch 88/100\n",
            "10/10 [==============================] - 4s 392ms/step - loss: 0.0135 - val_loss: 0.0027\n",
            "Epoch 89/100\n",
            "10/10 [==============================] - 4s 396ms/step - loss: 0.0134 - val_loss: 0.0014\n",
            "Epoch 90/100\n",
            "10/10 [==============================] - 4s 394ms/step - loss: 0.0134 - val_loss: 0.0020\n",
            "Epoch 91/100\n",
            "10/10 [==============================] - 4s 389ms/step - loss: 0.0134 - val_loss: 0.0016\n",
            "Epoch 92/100\n",
            "10/10 [==============================] - 4s 387ms/step - loss: 0.0134 - val_loss: 0.0016\n",
            "Epoch 93/100\n",
            "10/10 [==============================] - 4s 389ms/step - loss: 0.0137 - val_loss: 0.0025\n",
            "Epoch 94/100\n",
            "10/10 [==============================] - 4s 387ms/step - loss: 0.0135 - val_loss: 0.0011\n",
            "Epoch 95/100\n",
            "10/10 [==============================] - 4s 387ms/step - loss: 0.0133 - val_loss: 0.0016\n",
            "Epoch 96/100\n",
            "10/10 [==============================] - 4s 388ms/step - loss: 0.0133 - val_loss: 0.0018\n",
            "Epoch 97/100\n",
            "10/10 [==============================] - 4s 393ms/step - loss: 0.0134 - val_loss: 0.0015\n",
            "Epoch 98/100\n",
            "10/10 [==============================] - 4s 385ms/step - loss: 0.0135 - val_loss: 0.0017\n",
            "Epoch 99/100\n",
            "10/10 [==============================] - 4s 389ms/step - loss: 0.0134 - val_loss: 0.0016\n",
            "Epoch 100/100\n",
            "10/10 [==============================] - 4s 385ms/step - loss: 0.0134 - val_loss: 0.0012\n"
          ],
          "name": "stdout"
        },
        {
          "output_type": "execute_result",
          "data": {
            "text/plain": [
              "<tensorflow.python.keras.callbacks.History at 0x7f945c91f668>"
            ]
          },
          "metadata": {
            "tags": []
          },
          "execution_count": 284
        }
      ]
    },
    {
      "cell_type": "code",
      "metadata": {
        "id": "E-W5BV-KbDXw"
      },
      "source": [
        "train_predict=model.predict(X_train)\n",
        "test_predict=model.predict(X_test)"
      ],
      "execution_count": 286,
      "outputs": []
    },
    {
      "cell_type": "code",
      "metadata": {
        "id": "rjwfqoI8bt6u"
      },
      "source": [
        "train_predict=scaler.inverse_transform(train_predict)\n",
        "test_predict=scaler.inverse_transform(test_predict)"
      ],
      "execution_count": 287,
      "outputs": []
    },
    {
      "cell_type": "code",
      "metadata": {
        "id": "aj-LtZRlbNp9",
        "outputId": "2c80dc43-a330-4115-d31d-64b45e694e40",
        "colab": {
          "base_uri": "https://localhost:8080/",
          "height": 282
        }
      },
      "source": [
        "y_train=y_train.reshape(-1, 1) \n",
        "y_train=scaler.inverse_transform(y_train)\n",
        "new_df1 = pd.DataFrame(data=train_predict[0:])\n",
        "new_df2= pd.DataFrame(data=y_train)\n",
        "train_frames = pd.concat([new_df1, new_df2], axis=1)\n",
        "train_frames.columns = ['predicted', 'actual']\n",
        "train_frames[['predicted', 'actual']].plot(color=['green', 'brown'])\n"
      ],
      "execution_count": 288,
      "outputs": [
        {
          "output_type": "execute_result",
          "data": {
            "text/plain": [
              "<matplotlib.axes._subplots.AxesSubplot at 0x7f9456f3e0f0>"
            ]
          },
          "metadata": {
            "tags": []
          },
          "execution_count": 288
        },
        {
          "output_type": "display_data",
          "data": {
            "image/png": "[encoded data removed]",
            "text/plain": [
              "<Figure size 432x288 with 1 Axes>"
            ]
          },
          "metadata": {
            "tags": [],
            "needs_background": "light"
          }
        }
      ]
    },
    {
      "cell_type": "code",
      "metadata": {
        "id": "pVa4yNWjd869",
        "outputId": "dd4d1fe1-970a-4c44-f18c-2eaa41a164ec",
        "colab": {
          "base_uri": "https://localhost:8080/",
          "height": 286
        }
      },
      "source": [
        "ytest=ytest.reshape(-1, 1) \n",
        "ytest=scaler.inverse_transform(ytest)\n",
        "new_df3 = pd.DataFrame(data=test_predict[0:])\n",
        "new_df4= pd.DataFrame(data=ytest)\n",
        "test_frames = pd.concat([new_df3, new_df4], axis=1)\n",
        "test_frames.columns = ['predicted', 'actual']\n",
        "test_frames[['predicted', 'actual']].plot(color=['green', 'brown'])\n",
        "\n"
      ],
      "execution_count": 289,
      "outputs": [
        {
          "output_type": "execute_result",
          "data": {
            "text/plain": [
              "<matplotlib.axes._subplots.AxesSubplot at 0x7f9456f90518>"
            ]
          },
          "metadata": {
            "tags": []
          },
          "execution_count": 289
        },
        {
          "output_type": "display_data",
          "data": {
            "image/png": "[encoded data removed]",
            "text/plain": [
              "<Figure size 432x288 with 1 Axes>"
            ]
          },
          "metadata": {
            "tags": [],
            "needs_background": "light"
          }
        }
      ]
    },
    {
      "cell_type": "code",
      "metadata": {
        "id": "jolDLimty91Z"
      },
      "source": [
        "new_df4"
      ],
      "execution_count": null,
      "outputs": []
    },
    {
      "cell_type": "code",
      "metadata": {
        "id": "KcGx7_49zENn",
        "outputId": "265e370f-6fda-48ec-bcaf-4a35676dce5e",
        "colab": {
          "base_uri": "https://localhost:8080/"
        }
      },
      "source": [
        "sum(test_frames['predicted'])-sum(test_frames['actual'])"
      ],
      "execution_count": 290,
      "outputs": [
        {
          "output_type": "execute_result",
          "data": {
            "text/plain": [
              "-280.2557607421877"
            ]
          },
          "metadata": {
            "tags": []
          },
          "execution_count": 290
        }
      ]
    },
    {
      "cell_type": "code",
      "metadata": {
        "id": "E27pv24vPf5-",
        "outputId": "b19b6ebf-92bc-435a-98d7-64b562bfdda5",
        "colab": {
          "base_uri": "https://localhost:8080/"
        }
      },
      "source": [
        "### Test Data RMSE\n",
        "math.sqrt(mean_squared_error(ytest,test_predict))"
      ],
      "execution_count": 295,
      "outputs": [
        {
          "output_type": "execute_result",
          "data": {
            "text/plain": [
              "180.6510440216968"
            ]
          },
          "metadata": {
            "tags": []
          },
          "execution_count": 295
        }
      ]
    },
    {
      "cell_type": "code",
      "metadata": {
        "id": "gNr1pTdOAJdD"
      },
      "source": [
        "from numpy import array\n",
        "\n",
        "lst_output=[]\n",
        "n_steps=100\n",
        "i=0\n",
        "while(i<30):\n",
        "    \n",
        "    if(len(temp_input)>100):\n",
        "        #print(temp_input)\n",
        "        x_input=np.array(temp_input[1:])\n",
        "        print(\"{} day input {}\".format(i,x_input))\n",
        "        x_input=x_input.reshape(1,-1)\n",
        "        x_input = x_input.reshape((1, n_steps, 1))\n",
        "        #print(x_input)\n",
        "        yhat = model.predict(x_input, verbose=0)\n",
        "        print(\"{} day output {}\".format(i,yhat))\n",
        "        temp_input.extend(yhat[0].tolist())\n",
        "        temp_input=temp_input[1:]\n",
        "        #print(temp_input)\n",
        "        lst_output.extend(yhat.tolist())\n",
        "        i=i+1\n",
        "    else:\n",
        "        x_input = x_input.reshape((1, n_steps,1))\n",
        "        yhat = model.predict(x_input, verbose=0)\n",
        "        print(yhat[0])\n",
        "        temp_input.extend(yhat[0].tolist())\n",
        "        print(len(temp_input))\n",
        "        lst_output.extend(yhat.tolist())\n",
        "        i=i+1\n",
        "    \n",
        "\n",
        "print(lst_output)"
      ],
      "execution_count": null,
      "outputs": []
    },
    {
      "cell_type": "code",
      "metadata": {
        "id": "x0XYjPE-7_E4"
      },
      "source": [
        "day_new=np.arange(1,101)\n",
        "day_pred=np.arange(101,131)"
      ],
      "execution_count": 330,
      "outputs": []
    },
    {
      "cell_type": "code",
      "metadata": {
        "id": "9dWLaoss8JSn"
      },
      "source": [
        "from numpy import array\n",
        "\n",
        "lst_output=[]\n",
        "n_steps=100\n",
        "i=0\n",
        "while(i<30):\n",
        "    \n",
        "    if(len(temp_input)>100):\n",
        "        #print(temp_input)\n",
        "        x_input=np.array(temp_input[1:])\n",
        "        print(\"{} day input {}\".format(i,x_input))\n",
        "        x_input=x_input.reshape(1,-1)\n",
        "        x_input = x_input.reshape((1, n_steps, 1))\n",
        "        #print(x_input)\n",
        "        yhat = model.predict(x_input, verbose=0)\n",
        "        print(\"{} day output {}\".format(i,yhat))\n",
        "        temp_input.extend(yhat[0].tolist())\n",
        "        temp_input=temp_input[1:]\n",
        "        #print(temp_input)\n",
        "        lst_output.extend(yhat.tolist())\n",
        "        i=i+1\n",
        "    else:\n",
        "        x_input = x_input.reshape((1, n_steps,1))\n",
        "        yhat = model.predict(x_input, verbose=0)\n",
        "        print(yhat[0])\n",
        "        temp_input.extend(yhat[0].tolist())\n",
        "        print(len(temp_input))\n",
        "        lst_output.extend(yhat.tolist())\n",
        "        i=i+1\n",
        "    \n",
        "\n",
        "print(lst_output)"
      ],
      "execution_count": null,
      "outputs": []
    },
    {
      "cell_type": "code",
      "metadata": {
        "id": "n7wjMAwzAbhz",
        "outputId": "cc37ee31-825c-4e2b-cae1-011c77d4fe6a",
        "colab": {
          "base_uri": "https://localhost:8080/"
        }
      },
      "source": [
        "lst_output[:]"
      ],
      "execution_count": 336,
      "outputs": [
        {
          "output_type": "execute_result",
          "data": {
            "text/plain": [
              "[[0.12534020841121674],\n",
              " [0.1249040812253952],\n",
              " [0.12447022646665573],\n",
              " [0.12403914332389832],\n",
              " [0.12361135333776474],\n",
              " [0.1231871098279953],\n",
              " [0.12276660650968552],\n",
              " [0.12234976887702942],\n",
              " [0.1219366267323494],\n",
              " [0.1215268075466156],\n",
              " [0.12112001329660416],\n",
              " [0.12071599066257477],\n",
              " [0.12031432241201401],\n",
              " [0.11991457641124725],\n",
              " [0.11951643973588943],\n",
              " [0.11911946535110474],\n",
              " [0.11872339993715286],\n",
              " [0.11832785606384277],\n",
              " [0.11793269962072372],\n",
              " [0.11753764748573303],\n",
              " [0.11714266985654831],\n",
              " [0.11674761027097702],\n",
              " [0.1163523718714714],\n",
              " [0.11595701426267624],\n",
              " [0.1155615895986557],\n",
              " [0.115166075527668],\n",
              " [0.11477049440145493],\n",
              " [0.11437498778104782],\n",
              " [0.1139795333147049],\n",
              " [0.11358420550823212]]"
            ]
          },
          "metadata": {
            "tags": []
          },
          "execution_count": 336
        }
      ]
    },
    {
      "cell_type": "code",
      "metadata": {
        "id": "nvQzfjZvBL1k"
      },
      "source": [
        "from sklearn.preprocessing import MinMaxScaler\n",
        "scaler=MinMaxScaler(feature_range=(0,1))\n",
        "new_df1=scaler.fit_transform(np.array(new_df1).reshape(-1,1))"
      ],
      "execution_count": 342,
      "outputs": []
    },
    {
      "cell_type": "code",
      "metadata": {
        "id": "jQclS9Yr8AJe",
        "outputId": "b14863f7-4d45-4148-ad8a-dc672a68b955",
        "colab": {
          "base_uri": "https://localhost:8080/",
          "height": 513
        }
      },
      "source": [
        "\n",
        "plt.plot(day_new,scaler.inverse_transform(new_df1[535:]))\n",
        "plt.plot(day_pred,scaler.inverse_transform(lst_output))\n",
        "\n",
        "fig, ax = plt.subplots()\n",
        "ax.plot(day_new,scaler.inverse_transform(new_df1[535:]))\n",
        "ax.plot(day_pred,scaler.inverse_transform(lst_output))\n",
        "ax.ticklabel_format(style='plain')\n",
        "plt.show()\n",
        "\n",
        "#fig, ax = plt.subplots()\n",
        "#ax.plot(range(2003,2012,1),range(200300,201200,100))\n",
        "#ax.ticklabel_format(useOffset=False)\n",
        "#plt.show()"
      ],
      "execution_count": 343,
      "outputs": [
        {
          "output_type": "display_data",
          "data": {
            "image/png": "[encoded data removed]",
            "text/plain": [
              "<Figure size 432x288 with 1 Axes>"
            ]
          },
          "metadata": {
            "tags": [],
            "needs_background": "light"
          }
        },
        {
          "output_type": "display_data",
          "data": {
            "image/png": "[encoded data removed]",
            "text/plain": [
              "<Figure size 432x288 with 1 Axes>"
            ]
          },
          "metadata": {
            "tags": [],
            "needs_background": "light"
          }
        }
      ]
    }
  ]
}