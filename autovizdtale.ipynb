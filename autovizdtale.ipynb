{
  "nbformat": 4,
  "nbformat_minor": 0,
  "metadata": {
    "colab": {
      "name": "Welcome To Colaboratory",
      "provenance": [],
      "collapsed_sections": [],
      "toc_visible": true,
      "include_colab_link": true
    },
    "kernelspec": {
      "display_name": "Python 3",
      "name": "python3"
    }
  },
  "cells": [
    {
      "cell_type": "markdown",
      "metadata": {
        "id": "view-in-github",
        "colab_type": "text"
      },
      "source": [
        "<a href=\"https://colab.research.google.com/github/rizwannitk/machinelearning/blob/main/autovizdtale.ipynb\" target=\"_parent\"><img src=\"https://colab.research.google.com/assets/colab-badge.svg\" alt=\"Open In Colab\"/></a>"
      ]
    },
    {
      "cell_type": "code",
      "metadata": {
        "id": "WJQ7tY360c-s"
      },
      "source": [
        "\n",
        "!pip install autoviz"
      ],
      "execution_count": null,
      "outputs": []
    },
    {
      "cell_type": "code",
      "metadata": {
        "id": "CQBDZDju0pcK",
        "outputId": "b5e1a16a-b938-492b-be27-e2326300feab",
        "colab": {
          "base_uri": "https://localhost:8080/"
        }
      },
      "source": [
        "\n",
        "from autoviz.AutoViz_Class import AutoViz_Class\n",
        "\n",
        "AV = AutoViz_Class()"
      ],
      "execution_count": 2,
      "outputs": [
        {
          "output_type": "stream",
          "text": [
            "Imported AutoViz_Class version: 0.0.81. Call using:\n",
            "    from autoviz.AutoViz_Class import AutoViz_Class\n",
            "    AV = AutoViz_Class()\n",
            "    AV.AutoViz(filename, sep=',', depVar='', dfte=None, header=0, verbose=0,\n",
            "                            lowess=False,chart_format='svg',max_rows_analyzed=150000,max_cols_analyzed=30)\n",
            "Note: verbose=0 or 1 generates charts and displays them in your local Jupyter notebook.\n",
            "      verbose=2 saves plots in your local machine under AutoViz_Plots directory and does not display charts.\n"
          ],
          "name": "stdout"
        }
      ]
    },
    {
      "cell_type": "code",
      "metadata": {
        "id": "VkBG-lQ30rUV"
      },
      "source": [
        "filename = \"/content/sample_data/california_housing_test.csv\"\n",
        "sep = \",\"\n",
        "dft = AV.AutoViz(\n",
        "    filename,\n",
        "    sep=\",\",\n",
        "    depVar=\"\",\n",
        "    dfte=None,\n",
        "    header=0,\n",
        "    verbose=0,\n",
        "    lowess=False,\n",
        "    chart_format=\"svg\",\n",
        "    max_rows_analyzed=150000,\n",
        "    max_cols_analyzed=30,\n",
        ")"
      ],
      "execution_count": null,
      "outputs": []
    },
    {
      "cell_type": "code",
      "metadata": {
        "id": "WoZJcTdp8shc"
      },
      "source": [
        "pip install dtale"
      ],
      "execution_count": null,
      "outputs": []
    },
    {
      "cell_type": "code",
      "metadata": {
        "id": "Vcm-JOmG8oz7"
      },
      "source": [
        "import pandas as pd\n",
        "\n",
        "import dtale\n",
        "import dtale.app as dtale_app\n",
        "\n",
        "dtale_app.USE_COLAB = True\n",
        "\n"
      ],
      "execution_count": 6,
      "outputs": []
    },
    {
      "cell_type": "code",
      "metadata": {
        "id": "9M-yQQMsc957",
        "outputId": "30f1a6a7-812d-4fc8-fa9e-b42919293f28",
        "colab": {
          "base_uri": "https://localhost:8080/",
          "height": 35
        }
      },
      "source": [
        "dtale.show(pd.read_csv(\"/content/sample_data/california_housing_test.csv\"))"
      ],
      "execution_count": 7,
      "outputs": [
        {
          "output_type": "execute_result",
          "data": {
            "text/plain": [
              "https://o4d7lngfgbr-496ff2e9c6d22116-40000-colab.googleusercontent.com/dtale/main/1"
            ]
          },
          "metadata": {
            "tags": []
          },
          "execution_count": 7
        }
      ]
    },
    {
      "cell_type": "code",
      "metadata": {
        "id": "1jJ1F57r9UsO",
        "colab": {
          "base_uri": "https://localhost:8080/"
        },
        "outputId": "0f965232-3f72-46b8-e953-0826433e38c9"
      },
      "source": [
        "import pandas as pd\n",
        "\n",
        "import dtale\n",
        "import dtale.app as dtale_app\n",
        "\n",
        "dtale_app.USE_COLAB = True"
      ],
      "execution_count": null,
      "outputs": [
        {
          "output_type": "execute_result",
          "data": {
            "text/plain": [
              "http://9099ec4c6352:40000/dtale/main/1"
            ]
          },
          "metadata": {
            "tags": []
          },
          "execution_count": 9
        }
      ]
    },
    {
      "cell_type": "code",
      "metadata": {
        "id": "IKhwzyBL9_33",
        "colab": {
          "base_uri": "https://localhost:8080/"
        },
        "outputId": "af51f2af-33e0-49fc-affb-baf640463a02"
      },
      "source": [
        "dtale_app.USE_COLAB = True\n",
        ", host='localhost')"
      ],
      "execution_count": null,
      "outputs": [
        {
          "output_type": "execute_result",
          "data": {
            "text/plain": [
              "http://localhost:40000/dtale/main/2"
            ]
          },
          "metadata": {
            "tags": []
          },
          "execution_count": 23
        }
      ]
    },
    {
      "cell_type": "code",
      "metadata": {
        "id": "nlS_syhtA17K"
      },
      "source": [
        "import pandas as pd\n",
        "\n",
        "import dtale\n",
        "import dtale.app as dtale_app\n",
        "\n",
        "dtale_app.USE_COLAB = True"
      ],
      "execution_count": null,
      "outputs": []
    },
    {
      "cell_type": "code",
      "metadata": {
        "id": "4T7bimOrA49x"
      },
      "source": [
        "dtale_app.USE_COLAB = True\n"
      ],
      "execution_count": null,
      "outputs": []
    },
    {
      "cell_type": "code",
      "metadata": {
        "id": "h7Bs1jFgA-FR"
      },
      "source": [
        "dtale_app.USE_COLAB = True\n"
      ],
      "execution_count": null,
      "outputs": []
    },
    {
      "cell_type": "code",
      "metadata": {
        "id": "CTASodQWBFAv",
        "colab": {
          "base_uri": "https://localhost:8080/",
          "height": 35
        },
        "outputId": "ffbae65a-ba5a-435b-9db0-c5bc25dd1786"
      },
      "source": [
        "dtale.show(pd.read_csv(\"/content/sample_data/titanic.csv\"))"
      ],
      "execution_count": null,
      "outputs": [
        {
          "output_type": "execute_result",
          "data": {
            "text/plain": [
              "https://3vzgn2j7bbb-496ff2e9c6d22116-40000-colab.googleusercontent.com/dtale/main/3"
            ]
          },
          "metadata": {
            "tags": []
          },
          "execution_count": 26
        }
      ]
    }
  ]
}