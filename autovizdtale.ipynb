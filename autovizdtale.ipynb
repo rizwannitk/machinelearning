{
  "nbformat": 4,
  "nbformat_minor": 0,
  "metadata": {
    "colab": {
      "name": "Welcome To Colaboratory",
      "provenance": [],
      "collapsed_sections": [],
      "toc_visible": true,
      "include_colab_link": true
    },
    "kernelspec": {
      "display_name": "Python 3",
      "name": "python3"
    }
  },
  "cells": [
    {
      "cell_type": "markdown",
      "metadata": {
        "id": "view-in-github",
        "colab_type": "text"
      },
      "source": [
        "<a href=\"https://colab.research.google.com/github/rizwannitk/machinelearning/blob/main/autovizdtale.ipynb\" target=\"_parent\"><img src=\"https://colab.research.google.com/assets/colab-badge.svg\" alt=\"Open In Colab\"/></a>"
      ]
    },
    {
      "cell_type": "code",
      "metadata": {
        "id": "WJQ7tY360c-s"
      },
      "source": [
        "\n",
        "!pip install autoviz"
      ],
      "execution_count": null,
      "outputs": []
    },
    {
      "cell_type": "code",
      "metadata": {
        "id": "CQBDZDju0pcK"
      },
      "source": [
        "\n",
        "from autoviz.AutoViz_Class import AutoViz_Class\n",
        "\n",
        "AV = AutoViz_Class()"
      ],
      "execution_count": null,
      "outputs": []
    },
    {
      "cell_type": "code",
      "metadata": {
        "id": "VkBG-lQ30rUV"
      },
      "source": [
        "filename = \"/content/sample_data/titanic.csv\"\n",
        "sep = \",\"\n",
        "dft = AV.AutoViz(\n",
        "    filename,\n",
        "    sep=\",\",\n",
        "    depVar=\"\",\n",
        "    dfte=None,\n",
        "    header=0,\n",
        "    verbose=0,\n",
        "    lowess=False,\n",
        "    chart_format=\"svg\",\n",
        "    max_rows_analyzed=150000,\n",
        "    max_cols_analyzed=30,\n",
        ")"
      ],
      "execution_count": null,
      "outputs": []
    },
    {
      "cell_type": "code",
      "metadata": {
        "id": "WoZJcTdp8shc"
      },
      "source": [
        "pip install dtale"
      ],
      "execution_count": null,
      "outputs": []
    },
    {
      "cell_type": "code",
      "metadata": {
        "id": "Vcm-JOmG8oz7"
      },
      "source": [
        "import dtale\n",
        "import pandas as pd\n",
        "\n"
      ],
      "execution_count": 12,
      "outputs": []
    },
    {
      "cell_type": "code",
      "metadata": {
        "id": "ZxbJCH67-tAE",
        "outputId": "b16dbba3-93db-46dc-9763-75892e8e21f7",
        "colab": {
          "base_uri": "https://localhost:8080/"
        }
      },
      "source": [
        "dtale.get_instance(1)"
      ],
      "execution_count": 17,
      "outputs": [
        {
          "output_type": "execute_result",
          "data": {
            "text/plain": [
              "http://9099ec4c6352:40000/dtale/main/1"
            ]
          },
          "metadata": {
            "tags": []
          },
          "execution_count": 17
        }
      ]
    },
    {
      "cell_type": "code",
      "metadata": {
        "id": "ixLHoIwx-fI4",
        "outputId": "d58299d4-bc96-4268-f757-fb29985109af",
        "colab": {
          "base_uri": "https://localhost:8080/",
          "height": 166
        }
      },
      "source": [
        "dtale.get_instance(2).kill()"
      ],
      "execution_count": 21,
      "outputs": [
        {
          "output_type": "error",
          "ename": "AttributeError",
          "evalue": "ignored",
          "traceback": [
            "\u001b[0;31m---------------------------------------------------------------------------\u001b[0m",
            "\u001b[0;31mAttributeError\u001b[0m                            Traceback (most recent call last)",
            "\u001b[0;32m<ipython-input-21-02bb204390ce>\u001b[0m in \u001b[0;36m<module>\u001b[0;34m()\u001b[0m\n\u001b[0;32m----> 1\u001b[0;31m \u001b[0mdtale\u001b[0m\u001b[0;34m.\u001b[0m\u001b[0mget_instance\u001b[0m\u001b[0;34m(\u001b[0m\u001b[0;36m2\u001b[0m\u001b[0;34m)\u001b[0m\u001b[0;34m.\u001b[0m\u001b[0mkill\u001b[0m\u001b[0;34m(\u001b[0m\u001b[0;34m)\u001b[0m\u001b[0;34m\u001b[0m\u001b[0;34m\u001b[0m\u001b[0m\n\u001b[0m",
            "\u001b[0;31mAttributeError\u001b[0m: 'NoneType' object has no attribute 'kill'"
          ]
        }
      ]
    },
    {
      "cell_type": "code",
      "metadata": {
        "id": "vRjxocwF-YCC",
        "outputId": "b2c40dc4-6faf-43cd-a44d-a99aa1965928",
        "colab": {
          "base_uri": "https://localhost:8080/"
        }
      },
      "source": [
        "dtale.instances()"
      ],
      "execution_count": 14,
      "outputs": [
        {
          "output_type": "stream",
          "text": [
            "To gain access to an instance object simply pass the value from 'ID' to dtale.get_instance(ID)\n",
            "\n",
            "ID Name                                     URL\n",
            " 1       http://9099ec4c6352:40000/dtale/main/1\n",
            "         http://9099ec4c6352:40000/dtale/main/1\n",
            " 2       http://9099ec4c6352:40000/dtale/main/2\n",
            "         http://9099ec4c6352:40000/dtale/main/2\n",
            " 3       http://9099ec4c6352:40000/dtale/main/3\n",
            "         http://9099ec4c6352:40000/dtale/main/3\n"
          ],
          "name": "stdout"
        }
      ]
    },
    {
      "cell_type": "code",
      "metadata": {
        "id": "1jJ1F57r9UsO",
        "outputId": "0f965232-3f72-46b8-e953-0826433e38c9",
        "colab": {
          "base_uri": "https://localhost:8080/"
        }
      },
      "source": [
        "import pandas as pd\n",
        "\n",
        "import dtale\n",
        "import dtale.app as dtale_app\n",
        "\n",
        "dtale_app.USE_COLAB = True"
      ],
      "execution_count": 9,
      "outputs": [
        {
          "output_type": "execute_result",
          "data": {
            "text/plain": [
              "http://9099ec4c6352:40000/dtale/main/1"
            ]
          },
          "metadata": {
            "tags": []
          },
          "execution_count": 9
        }
      ]
    },
    {
      "cell_type": "code",
      "metadata": {
        "id": "IKhwzyBL9_33",
        "outputId": "af51f2af-33e0-49fc-affb-baf640463a02",
        "colab": {
          "base_uri": "https://localhost:8080/"
        }
      },
      "source": [
        "dtale_app.USE_COLAB = True\n",
        ", host='localhost')"
      ],
      "execution_count": 23,
      "outputs": [
        {
          "output_type": "execute_result",
          "data": {
            "text/plain": [
              "http://localhost:40000/dtale/main/2"
            ]
          },
          "metadata": {
            "tags": []
          },
          "execution_count": 23
        }
      ]
    },
    {
      "cell_type": "code",
      "metadata": {
        "id": "nlS_syhtA17K"
      },
      "source": [
        "import pandas as pd\n",
        "\n",
        "import dtale\n",
        "import dtale.app as dtale_app\n",
        "\n",
        "dtale_app.USE_COLAB = True"
      ],
      "execution_count": 25,
      "outputs": []
    },
    {
      "cell_type": "code",
      "metadata": {
        "id": "4T7bimOrA49x"
      },
      "source": [
        "dtale_app.USE_COLAB = True\n"
      ],
      "execution_count": null,
      "outputs": []
    },
    {
      "cell_type": "code",
      "metadata": {
        "id": "h7Bs1jFgA-FR"
      },
      "source": [
        "dtale_app.USE_COLAB = True\n"
      ],
      "execution_count": null,
      "outputs": []
    },
    {
      "cell_type": "code",
      "metadata": {
        "id": "CTASodQWBFAv",
        "outputId": "ffbae65a-ba5a-435b-9db0-c5bc25dd1786",
        "colab": {
          "base_uri": "https://localhost:8080/",
          "height": 35
        }
      },
      "source": [
        "dtale.show(pd.read_csv(\"/content/sample_data/titanic.csv\"))"
      ],
      "execution_count": 26,
      "outputs": [
        {
          "output_type": "execute_result",
          "data": {
            "text/plain": [
              "https://3vzgn2j7bbb-496ff2e9c6d22116-40000-colab.googleusercontent.com/dtale/main/3"
            ]
          },
          "metadata": {
            "tags": []
          },
          "execution_count": 26
        }
      ]
    }
  ]
}