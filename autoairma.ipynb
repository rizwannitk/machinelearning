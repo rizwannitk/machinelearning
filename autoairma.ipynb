{
  "nbformat": 4,
  "nbformat_minor": 0,
  "metadata": {
    "colab": {
      "name": "Welcome To Colaboratory",
      "provenance": [],
      "collapsed_sections": [],
      "toc_visible": true,
      "include_colab_link": true
    },
    "kernelspec": {
      "display_name": "Python 3",
      "name": "python3"
    }
  },
  "cells": [
    {
      "cell_type": "markdown",
      "metadata": {
        "id": "view-in-github",
        "colab_type": "text"
      },
      "source": [
        "<a href=\"https://colab.research.google.com/github/rizwannitk/machinelearning/blob/main/autoairma.ipynb\" target=\"_parent\"><img src=\"https://colab.research.google.com/assets/colab-badge.svg\" alt=\"Open In Colab\"/></a>"
      ]
    },
    {
      "cell_type": "markdown",
      "metadata": {
        "id": "VCifoLFpcp5R"
      },
      "source": [
        "Auto ARIMA full"
      ]
    },
    {
      "cell_type": "code",
      "metadata": {
        "id": "GPTQcGMectDI"
      },
      "source": [
        "import matplotlib as mpl\n",
        "import matplotlib.pyplot as plt\n",
        "import numpy as np\n",
        "import os\n",
        "from datetime import datetime\n",
        "import pandas as pd\n",
        "import plotly.express as px\n",
        "\n",
        "mpl.rcParams['figure.figsize'] = (10, 8)\n",
        "mpl.rcParams['axes.grid'] = False"
      ],
      "execution_count": 1,
      "outputs": []
    },
    {
      "cell_type": "code",
      "metadata": {
        "id": "C4x_1qX6c7uC"
      },
      "source": [
        "df = pd.read_csv('https://raw.githubusercontent.com/srivatsan88/YouTubeLI/master/dataset/nyc_energy_consumption.csv')"
      ],
      "execution_count": 2,
      "outputs": []
    },
    {
      "cell_type": "code",
      "metadata": {
        "id": "0fsUDxt0dBAK",
        "outputId": "c6e9cfcc-05ef-4c57-f663-5fbcc8e46e49",
        "colab": {
          "base_uri": "https://localhost:8080/",
          "height": 202
        }
      },
      "source": [
        "df.head()"
      ],
      "execution_count": 3,
      "outputs": [
        {
          "output_type": "execute_result",
          "data": {
            "text/html": [
              "<div>\n",
              "<style scoped>\n",
              "    .dataframe tbody tr th:only-of-type {\n",
              "        vertical-align: middle;\n",
              "    }\n",
              "\n",
              "    .dataframe tbody tr th {\n",
              "        vertical-align: top;\n",
              "    }\n",
              "\n",
              "    .dataframe thead th {\n",
              "        text-align: right;\n",
              "    }\n",
              "</style>\n",
              "<table border=\"1\" class=\"dataframe\">\n",
              "  <thead>\n",
              "    <tr style=\"text-align: right;\">\n",
              "      <th></th>\n",
              "      <th>timeStamp</th>\n",
              "      <th>demand</th>\n",
              "      <th>precip</th>\n",
              "      <th>temp</th>\n",
              "    </tr>\n",
              "  </thead>\n",
              "  <tbody>\n",
              "    <tr>\n",
              "      <th>0</th>\n",
              "      <td>2012-01-01 00:00:00</td>\n",
              "      <td>4937.5</td>\n",
              "      <td>0.0</td>\n",
              "      <td>46.13</td>\n",
              "    </tr>\n",
              "    <tr>\n",
              "      <th>1</th>\n",
              "      <td>2012-01-01 01:00:00</td>\n",
              "      <td>4752.1</td>\n",
              "      <td>0.0</td>\n",
              "      <td>45.89</td>\n",
              "    </tr>\n",
              "    <tr>\n",
              "      <th>2</th>\n",
              "      <td>2012-01-01 02:00:00</td>\n",
              "      <td>4542.6</td>\n",
              "      <td>0.0</td>\n",
              "      <td>45.04</td>\n",
              "    </tr>\n",
              "    <tr>\n",
              "      <th>3</th>\n",
              "      <td>2012-01-01 03:00:00</td>\n",
              "      <td>4357.7</td>\n",
              "      <td>0.0</td>\n",
              "      <td>45.03</td>\n",
              "    </tr>\n",
              "    <tr>\n",
              "      <th>4</th>\n",
              "      <td>2012-01-01 04:00:00</td>\n",
              "      <td>4275.5</td>\n",
              "      <td>0.0</td>\n",
              "      <td>42.61</td>\n",
              "    </tr>\n",
              "  </tbody>\n",
              "</table>\n",
              "</div>"
            ],
            "text/plain": [
              "             timeStamp  demand  precip   temp\n",
              "0  2012-01-01 00:00:00  4937.5     0.0  46.13\n",
              "1  2012-01-01 01:00:00  4752.1     0.0  45.89\n",
              "2  2012-01-01 02:00:00  4542.6     0.0  45.04\n",
              "3  2012-01-01 03:00:00  4357.7     0.0  45.03\n",
              "4  2012-01-01 04:00:00  4275.5     0.0  42.61"
            ]
          },
          "metadata": {
            "tags": []
          },
          "execution_count": 3
        }
      ]
    },
    {
      "cell_type": "code",
      "metadata": {
        "id": "7Iys23BmdDLr",
        "outputId": "c7651bba-b2af-427d-8348-f3bf907d4f1c",
        "colab": {
          "base_uri": "https://localhost:8080/"
        }
      },
      "source": [
        "df.info()"
      ],
      "execution_count": 6,
      "outputs": [
        {
          "output_type": "stream",
          "text": [
            "<class 'pandas.core.frame.DataFrame'>\n",
            "RangeIndex: 49205 entries, 0 to 49204\n",
            "Data columns (total 4 columns):\n",
            " #   Column     Non-Null Count  Dtype         \n",
            "---  ------     --------------  -----         \n",
            " 0   timeStamp  49205 non-null  datetime64[ns]\n",
            " 1   demand     49124 non-null  float64       \n",
            " 2   precip     48975 non-null  float64       \n",
            " 3   temp       49019 non-null  float64       \n",
            "dtypes: datetime64[ns](1), float64(3)\n",
            "memory usage: 1.5 MB\n"
          ],
          "name": "stdout"
        }
      ]
    },
    {
      "cell_type": "code",
      "metadata": {
        "id": "B-a2Q2qNdG3f"
      },
      "source": [
        "df[\"timeStamp\"]=pd.to_datetime(df[\"timeStamp\"])"
      ],
      "execution_count": 3,
      "outputs": []
    },
    {
      "cell_type": "code",
      "metadata": {
        "id": "Jhnzvr5cdWA0",
        "outputId": "9a1e8589-d06d-4515-fa89-340e9fa585b1",
        "colab": {
          "base_uri": "https://localhost:8080/"
        }
      },
      "source": [
        "df.isnull().sum()"
      ],
      "execution_count": 8,
      "outputs": [
        {
          "output_type": "execute_result",
          "data": {
            "text/plain": [
              "timeStamp      0\n",
              "demand        81\n",
              "precip       230\n",
              "temp         186\n",
              "dtype: int64"
            ]
          },
          "metadata": {
            "tags": []
          },
          "execution_count": 8
        }
      ]
    },
    {
      "cell_type": "code",
      "metadata": {
        "id": "TpCF5PBPdcvh",
        "outputId": "075a0891-5adc-4c35-e2b5-40bbe1f53c3b",
        "colab": {
          "base_uri": "https://localhost:8080/"
        }
      },
      "source": [
        "print (\"Rows     : \" ,df.shape[0])\n",
        "print (\"Columns  : \" ,df.shape[1])\n",
        "print (\"\\nFeatures : \\n\" ,df.columns.tolist())\n",
        "print (\"\\nMissing values :  \", df.isnull().any())\n",
        "print (\"\\nUnique values :  \\n\",df.nunique())"
      ],
      "execution_count": 9,
      "outputs": [
        {
          "output_type": "stream",
          "text": [
            "Rows     :  49205\n",
            "Columns  :  4\n",
            "\n",
            "Features : \n",
            " ['timeStamp', 'demand', 'precip', 'temp']\n",
            "\n",
            "Missing values :   timeStamp    False\n",
            "demand        True\n",
            "precip        True\n",
            "temp          True\n",
            "dtype: bool\n",
            "\n",
            "Unique values :  \n",
            " timeStamp    49205\n",
            "demand       40972\n",
            "precip        1004\n",
            "temp          7580\n",
            "dtype: int64\n"
          ],
          "name": "stdout"
        }
      ]
    },
    {
      "cell_type": "code",
      "metadata": {
        "id": "UZgU5Zhbdj9u"
      },
      "source": [
        "df[\"demand\"]=df[\"demand\"].fillna(method='ffill')"
      ],
      "execution_count": 4,
      "outputs": []
    },
    {
      "cell_type": "code",
      "metadata": {
        "id": "p3tQrTPneCIv"
      },
      "source": [
        "df[\"temp\"]=df[\"temp\"].fillna(method='ffill')"
      ],
      "execution_count": 5,
      "outputs": []
    },
    {
      "cell_type": "code",
      "metadata": {
        "id": "BrH7alkLeLvz"
      },
      "source": [
        "new_df=df.set_index(\"timeStamp\")"
      ],
      "execution_count": 6,
      "outputs": []
    },
    {
      "cell_type": "code",
      "metadata": {
        "id": "PIz1xP0FeXRk",
        "outputId": "07b8c985-5f23-4c4e-d4ff-1ee6f2fdb72d",
        "colab": {
          "base_uri": "https://localhost:8080/",
          "height": 339
        }
      },
      "source": [
        "new_df.plot(subplots=True)"
      ],
      "execution_count": 17,
      "outputs": [
        {
          "output_type": "execute_result",
          "data": {
            "text/plain": [
              "array([<matplotlib.axes._subplots.AxesSubplot object at 0x7f2b69465518>,\n",
              "       <matplotlib.axes._subplots.AxesSubplot object at 0x7f2b69415cc0>,\n",
              "       <matplotlib.axes._subplots.AxesSubplot object at 0x7f2b693c7cc0>],\n",
              "      dtype=object)"
            ]
          },
          "metadata": {
            "tags": []
          },
          "execution_count": 17
        },
        {
          "output_type": "display_data",
          "data": {
            "image/png": "[encoded data removed]",
            "text/plain": [
              "<Figure size 432x288 with 3 Axes>"
            ]
          },
          "metadata": {
            "tags": [],
            "needs_background": "light"
          }
        }
      ]
    },
    {
      "cell_type": "code",
      "metadata": {
        "id": "MZ0njcSaes_x",
        "outputId": "65b52d47-4c66-47fb-b8a3-8de6e4bf4792",
        "colab": {
          "base_uri": "https://localhost:8080/",
          "height": 339
        }
      },
      "source": [
        "new_df.resample('M').mean().plot(subplots=True)"
      ],
      "execution_count": 7,
      "outputs": [
        {
          "output_type": "execute_result",
          "data": {
            "text/plain": [
              "array([<matplotlib.axes._subplots.AxesSubplot object at 0x7f15d4b0d438>,\n",
              "       <matplotlib.axes._subplots.AxesSubplot object at 0x7f15d4a69710>,\n",
              "       <matplotlib.axes._subplots.AxesSubplot object at 0x7f15d4a21710>],\n",
              "      dtype=object)"
            ]
          },
          "metadata": {
            "tags": []
          },
          "execution_count": 7
        },
        {
          "output_type": "display_data",
          "data": {
            "image/png": "[encoded data removed]",
            "text/plain": [
              "<Figure size 432x288 with 3 Axes>"
            ]
          },
          "metadata": {
            "tags": [],
            "needs_background": "light"
          }
        }
      ]
    },
    {
      "cell_type": "code",
      "metadata": {
        "id": "xqxccjbgfFc4"
      },
      "source": [
        "\n",
        "ny_df_monthly=new_df.resample('M').mean()"
      ],
      "execution_count": 12,
      "outputs": []
    },
    {
      "cell_type": "code",
      "metadata": {
        "id": "-LaUNmPJfLDc",
        "outputId": "0e48f39d-5e4c-46d1-9c22-149681cd1889",
        "colab": {
          "base_uri": "https://localhost:8080/",
          "height": 233
        }
      },
      "source": [
        "ny_df_monthly.head()"
      ],
      "execution_count": 23,
      "outputs": [
        {
          "output_type": "execute_result",
          "data": {
            "text/html": [
              "<div>\n",
              "<style scoped>\n",
              "    .dataframe tbody tr th:only-of-type {\n",
              "        vertical-align: middle;\n",
              "    }\n",
              "\n",
              "    .dataframe tbody tr th {\n",
              "        vertical-align: top;\n",
              "    }\n",
              "\n",
              "    .dataframe thead th {\n",
              "        text-align: right;\n",
              "    }\n",
              "</style>\n",
              "<table border=\"1\" class=\"dataframe\">\n",
              "  <thead>\n",
              "    <tr style=\"text-align: right;\">\n",
              "      <th></th>\n",
              "      <th>demand</th>\n",
              "      <th>precip</th>\n",
              "      <th>temp</th>\n",
              "    </tr>\n",
              "    <tr>\n",
              "      <th>timeStamp</th>\n",
              "      <th></th>\n",
              "      <th></th>\n",
              "      <th></th>\n",
              "    </tr>\n",
              "  </thead>\n",
              "  <tbody>\n",
              "    <tr>\n",
              "      <th>2012-01-31</th>\n",
              "      <td>5757.495833</td>\n",
              "      <td>0.003116</td>\n",
              "      <td>37.174288</td>\n",
              "    </tr>\n",
              "    <tr>\n",
              "      <th>2012-02-29</th>\n",
              "      <td>5622.331609</td>\n",
              "      <td>0.001650</td>\n",
              "      <td>40.448046</td>\n",
              "    </tr>\n",
              "    <tr>\n",
              "      <th>2012-03-31</th>\n",
              "      <td>5479.919198</td>\n",
              "      <td>0.001179</td>\n",
              "      <td>49.607917</td>\n",
              "    </tr>\n",
              "    <tr>\n",
              "      <th>2012-04-30</th>\n",
              "      <td>5368.945833</td>\n",
              "      <td>0.003959</td>\n",
              "      <td>54.255903</td>\n",
              "    </tr>\n",
              "    <tr>\n",
              "      <th>2012-05-31</th>\n",
              "      <td>5867.896102</td>\n",
              "      <td>0.005064</td>\n",
              "      <td>64.188078</td>\n",
              "    </tr>\n",
              "  </tbody>\n",
              "</table>\n",
              "</div>"
            ],
            "text/plain": [
              "                 demand    precip       temp\n",
              "timeStamp                                   \n",
              "2012-01-31  5757.495833  0.003116  37.174288\n",
              "2012-02-29  5622.331609  0.001650  40.448046\n",
              "2012-03-31  5479.919198  0.001179  49.607917\n",
              "2012-04-30  5368.945833  0.003959  54.255903\n",
              "2012-05-31  5867.896102  0.005064  64.188078"
            ]
          },
          "metadata": {
            "tags": []
          },
          "execution_count": 23
        }
      ]
    },
    {
      "cell_type": "code",
      "metadata": {
        "id": "orAR5W-AfSm0"
      },
      "source": [
        "!pip install pmdarima"
      ],
      "execution_count": null,
      "outputs": []
    },
    {
      "cell_type": "code",
      "metadata": {
        "id": "0WsFuVLYfcib"
      },
      "source": [
        "import pmdarima as pm"
      ],
      "execution_count": 10,
      "outputs": []
    },
    {
      "cell_type": "code",
      "metadata": {
        "id": "dXb2Ap45fkoY",
        "outputId": "be7f1800-2109-4c69-f8ff-e8997d150106",
        "colab": {
          "base_uri": "https://localhost:8080/"
        }
      },
      "source": [
        "import pmdarima as pm\n",
        "\n",
        "model = pm.auto_arima(ny_df_monthly['demand'], \n",
        "                        m=12, seasonal=True,\n",
        "                      start_p=0, start_q=0, max_order=4, test='adf',error_action='ignore',  \n",
        "                           suppress_warnings=True,\n",
        "                      stepwise=True, trace=True)"
      ],
      "execution_count": 13,
      "outputs": [
        {
          "output_type": "stream",
          "text": [
            "Performing stepwise search to minimize aic\n",
            " ARIMA(0,0,0)(1,0,1)[12] intercept   : AIC=inf, Time=0.46 sec\n",
            " ARIMA(0,0,0)(0,0,0)[12] intercept   : AIC=1100.321, Time=0.01 sec\n",
            " ARIMA(1,0,0)(1,0,0)[12] intercept   : AIC=1023.743, Time=0.47 sec\n",
            " ARIMA(0,0,1)(0,0,1)[12] intercept   : AIC=inf, Time=0.19 sec\n",
            " ARIMA(0,0,0)(0,0,0)[12]             : AIC=1380.758, Time=0.01 sec\n",
            " ARIMA(1,0,0)(0,0,0)[12] intercept   : AIC=1065.516, Time=0.02 sec\n",
            " ARIMA(1,0,0)(2,0,0)[12] intercept   : AIC=1023.005, Time=1.27 sec\n",
            " ARIMA(1,0,0)(2,0,1)[12] intercept   : AIC=inf, Time=1.87 sec\n",
            " ARIMA(1,0,0)(1,0,1)[12] intercept   : AIC=inf, Time=0.53 sec\n",
            " ARIMA(0,0,0)(2,0,0)[12] intercept   : AIC=1097.636, Time=0.65 sec\n",
            " ARIMA(2,0,0)(2,0,0)[12] intercept   : AIC=1017.642, Time=1.55 sec\n",
            " ARIMA(2,0,0)(1,0,0)[12] intercept   : AIC=1014.058, Time=0.57 sec\n",
            " ARIMA(2,0,0)(0,0,0)[12] intercept   : AIC=1021.211, Time=0.10 sec\n",
            " ARIMA(2,0,0)(1,0,1)[12] intercept   : AIC=inf, Time=nan sec\n",
            " ARIMA(2,0,0)(0,0,1)[12] intercept   : AIC=997.347, Time=0.36 sec\n",
            " ARIMA(2,0,0)(0,0,2)[12] intercept   : AIC=993.144, Time=1.13 sec\n",
            " ARIMA(2,0,0)(1,0,2)[12] intercept   : AIC=995.136, Time=1.02 sec\n",
            " ARIMA(1,0,0)(0,0,2)[12] intercept   : AIC=inf, Time=0.81 sec\n",
            " ARIMA(3,0,0)(0,0,2)[12] intercept   : AIC=995.445, Time=1.04 sec\n",
            " ARIMA(2,0,1)(0,0,2)[12] intercept   : AIC=994.749, Time=1.19 sec\n",
            " ARIMA(1,0,1)(0,0,2)[12] intercept   : AIC=1000.737, Time=0.92 sec\n",
            " ARIMA(3,0,1)(0,0,2)[12] intercept   : AIC=1000.171, Time=1.35 sec\n",
            " ARIMA(2,0,0)(0,0,2)[12]             : AIC=inf, Time=0.77 sec\n",
            "\n",
            "Best model:  ARIMA(2,0,0)(0,0,2)[12] intercept\n",
            "Total fit time: 16.739 seconds\n"
          ],
          "name": "stdout"
        }
      ]
    },
    {
      "cell_type": "code",
      "metadata": {
        "id": "7zBrfbOAOZkh",
        "outputId": "240a2be4-cea1-4bf9-f2c9-8769746391e7",
        "colab": {
          "base_uri": "https://localhost:8080/",
          "height": 482
        }
      },
      "source": [
        "model.summary()"
      ],
      "execution_count": 16,
      "outputs": [
        {
          "output_type": "execute_result",
          "data": {
            "text/html": [
              "<table class=\"simpletable\">\n",
              "<caption>SARIMAX Results</caption>\n",
              "<tr>\n",
              "  <th>Dep. Variable:</th>                    <td>y</td>                  <th>  No. Observations:  </th>    <td>68</td>   \n",
              "</tr>\n",
              "<tr>\n",
              "  <th>Model:</th>           <td>SARIMAX(2, 0, 0)x(0, 0, [1, 2], 12)</td> <th>  Log Likelihood     </th> <td>-490.572</td>\n",
              "</tr>\n",
              "<tr>\n",
              "  <th>Date:</th>                     <td>Sat, 05 Dec 2020</td>           <th>  AIC                </th>  <td>993.144</td>\n",
              "</tr>\n",
              "<tr>\n",
              "  <th>Time:</th>                         <td>14:06:59</td>               <th>  BIC                </th> <td>1006.461</td>\n",
              "</tr>\n",
              "<tr>\n",
              "  <th>Sample:</th>                           <td>0</td>                  <th>  HQIC               </th>  <td>998.420</td>\n",
              "</tr>\n",
              "<tr>\n",
              "  <th></th>                                <td> - 68</td>                <th>                     </th>     <td> </td>   \n",
              "</tr>\n",
              "<tr>\n",
              "  <th>Covariance Type:</th>                 <td>opg</td>                 <th>                     </th>     <td> </td>   \n",
              "</tr>\n",
              "</table>\n",
              "<table class=\"simpletable\">\n",
              "<tr>\n",
              "      <td></td>         <th>coef</th>     <th>std err</th>      <th>z</th>      <th>P>|z|</th>  <th>[0.025</th>    <th>0.975]</th>  \n",
              "</tr>\n",
              "<tr>\n",
              "  <th>intercept</th> <td> 3721.6223</td> <td>  792.260</td> <td>    4.697</td> <td> 0.000</td> <td> 2168.822</td> <td> 5274.423</td>\n",
              "</tr>\n",
              "<tr>\n",
              "  <th>ar.L1</th>     <td>    0.8586</td> <td>    0.123</td> <td>    6.985</td> <td> 0.000</td> <td>    0.618</td> <td>    1.099</td>\n",
              "</tr>\n",
              "<tr>\n",
              "  <th>ar.L2</th>     <td>   -0.4748</td> <td>    0.142</td> <td>   -3.352</td> <td> 0.001</td> <td>   -0.752</td> <td>   -0.197</td>\n",
              "</tr>\n",
              "<tr>\n",
              "  <th>ma.S.L12</th>  <td>    0.8923</td> <td>    0.137</td> <td>    6.501</td> <td> 0.000</td> <td>    0.623</td> <td>    1.161</td>\n",
              "</tr>\n",
              "<tr>\n",
              "  <th>ma.S.L24</th>  <td>    0.4571</td> <td>    0.206</td> <td>    2.222</td> <td> 0.026</td> <td>    0.054</td> <td>    0.860</td>\n",
              "</tr>\n",
              "<tr>\n",
              "  <th>sigma2</th>    <td> 9.046e+04</td> <td> 1.58e+04</td> <td>    5.726</td> <td> 0.000</td> <td> 5.95e+04</td> <td> 1.21e+05</td>\n",
              "</tr>\n",
              "</table>\n",
              "<table class=\"simpletable\">\n",
              "<tr>\n",
              "  <th>Ljung-Box (L1) (Q):</th>     <td>0.02</td> <th>  Jarque-Bera (JB):  </th> <td>5.55</td>\n",
              "</tr>\n",
              "<tr>\n",
              "  <th>Prob(Q):</th>                <td>0.89</td> <th>  Prob(JB):          </th> <td>0.06</td>\n",
              "</tr>\n",
              "<tr>\n",
              "  <th>Heteroskedasticity (H):</th> <td>0.78</td> <th>  Skew:              </th> <td>0.52</td>\n",
              "</tr>\n",
              "<tr>\n",
              "  <th>Prob(H) (two-sided):</th>    <td>0.55</td> <th>  Kurtosis:          </th> <td>3.94</td>\n",
              "</tr>\n",
              "</table><br/><br/>Warnings:<br/>[1] Covariance matrix calculated using the outer product of gradients (complex-step)."
            ],
            "text/plain": [
              "<class 'statsmodels.iolib.summary.Summary'>\n",
              "\"\"\"\n",
              "                                        SARIMAX Results                                        \n",
              "===============================================================================================\n",
              "Dep. Variable:                                       y   No. Observations:                   68\n",
              "Model:             SARIMAX(2, 0, 0)x(0, 0, [1, 2], 12)   Log Likelihood                -490.572\n",
              "Date:                                 Sat, 05 Dec 2020   AIC                            993.144\n",
              "Time:                                         14:06:59   BIC                           1006.461\n",
              "Sample:                                              0   HQIC                           998.420\n",
              "                                                  - 68                                         \n",
              "Covariance Type:                                   opg                                         \n",
              "==============================================================================\n",
              "                 coef    std err          z      P>|z|      [0.025      0.975]\n",
              "------------------------------------------------------------------------------\n",
              "intercept   3721.6223    792.260      4.697      0.000    2168.822    5274.423\n",
              "ar.L1          0.8586      0.123      6.985      0.000       0.618       1.099\n",
              "ar.L2         -0.4748      0.142     -3.352      0.001      -0.752      -0.197\n",
              "ma.S.L12       0.8923      0.137      6.501      0.000       0.623       1.161\n",
              "ma.S.L24       0.4571      0.206      2.222      0.026       0.054       0.860\n",
              "sigma2      9.046e+04   1.58e+04      5.726      0.000    5.95e+04    1.21e+05\n",
              "===================================================================================\n",
              "Ljung-Box (L1) (Q):                   0.02   Jarque-Bera (JB):                 5.55\n",
              "Prob(Q):                              0.89   Prob(JB):                         0.06\n",
              "Heteroskedasticity (H):               0.78   Skew:                             0.52\n",
              "Prob(H) (two-sided):                  0.55   Kurtosis:                         3.94\n",
              "===================================================================================\n",
              "\n",
              "Warnings:\n",
              "[1] Covariance matrix calculated using the outer product of gradients (complex-step).\n",
              "\"\"\""
            ]
          },
          "metadata": {
            "tags": []
          },
          "execution_count": 16
        }
      ]
    },
    {
      "cell_type": "code",
      "metadata": {
        "id": "v9LJDsiYOckD",
        "outputId": "5b92e74e-95c0-4dd2-86c2-adc026c2ada7",
        "colab": {
          "base_uri": "https://localhost:8080/"
        }
      },
      "source": [
        "model"
      ],
      "execution_count": 15,
      "outputs": [
        {
          "output_type": "execute_result",
          "data": {
            "text/plain": [
              "ARIMA(maxiter=50, method='lbfgs', order=(2, 0, 0), out_of_sample_size=0,\n",
              "      scoring='mse', scoring_args={}, seasonal_order=(0, 0, 2, 12),\n",
              "      start_params=None, suppress_warnings=True, trend=None,\n",
              "      with_intercept=True)"
            ]
          },
          "metadata": {
            "tags": []
          },
          "execution_count": 15
        }
      ]
    },
    {
      "cell_type": "code",
      "metadata": {
        "id": "JVWEzlMNOzLA"
      },
      "source": [
        "train=ny_df_monthly[(ny_df_monthly.index.get_level_values(0) >= '2012-01-31') & (ny_df_monthly.index.get_level_values(0) <= '2017-04-30')]\n",
        "test=ny_df_monthly[(ny_df_monthly.index.get_level_values(0) > '2017-04-30')]"
      ],
      "execution_count": 17,
      "outputs": []
    },
    {
      "cell_type": "code",
      "metadata": {
        "id": "eqvMJdaFO2Qv",
        "outputId": "9508d2b9-2a54-463f-f3df-4c101551633d",
        "colab": {
          "base_uri": "https://localhost:8080/"
        }
      },
      "source": [
        "train.info()"
      ],
      "execution_count": 20,
      "outputs": [
        {
          "output_type": "stream",
          "text": [
            "<class 'pandas.core.frame.DataFrame'>\n",
            "DatetimeIndex: 64 entries, 2012-01-31 to 2017-04-30\n",
            "Freq: M\n",
            "Data columns (total 3 columns):\n",
            " #   Column  Non-Null Count  Dtype  \n",
            "---  ------  --------------  -----  \n",
            " 0   demand  64 non-null     float64\n",
            " 1   precip  64 non-null     float64\n",
            " 2   temp    64 non-null     float64\n",
            "dtypes: float64(3)\n",
            "memory usage: 2.0 KB\n"
          ],
          "name": "stdout"
        }
      ]
    },
    {
      "cell_type": "code",
      "metadata": {
        "id": "w_6DA8Y7PDhc",
        "outputId": "252c6285-fa95-42b1-c56c-a41aa72b9b15",
        "colab": {
          "base_uri": "https://localhost:8080/"
        }
      },
      "source": [
        "test.info()"
      ],
      "execution_count": 21,
      "outputs": [
        {
          "output_type": "stream",
          "text": [
            "<class 'pandas.core.frame.DataFrame'>\n",
            "DatetimeIndex: 4 entries, 2017-05-31 to 2017-08-31\n",
            "Freq: M\n",
            "Data columns (total 3 columns):\n",
            " #   Column  Non-Null Count  Dtype  \n",
            "---  ------  --------------  -----  \n",
            " 0   demand  4 non-null      float64\n",
            " 1   precip  4 non-null      float64\n",
            " 2   temp    4 non-null      float64\n",
            "dtypes: float64(3)\n",
            "memory usage: 128.0 bytes\n"
          ],
          "name": "stdout"
        }
      ]
    },
    {
      "cell_type": "code",
      "metadata": {
        "id": "Zca_XWBKPNbk",
        "outputId": "330ab790-8eb5-4f99-f798-8291a0563750",
        "colab": {
          "base_uri": "https://localhost:8080/"
        }
      },
      "source": [
        "model.fit(train['demand'])"
      ],
      "execution_count": 22,
      "outputs": [
        {
          "output_type": "execute_result",
          "data": {
            "text/plain": [
              "ARIMA(maxiter=50, method='lbfgs', order=(2, 0, 0), out_of_sample_size=0,\n",
              "      scoring='mse', scoring_args={}, seasonal_order=(0, 0, 2, 12),\n",
              "      start_params=None, suppress_warnings=True, trend=None,\n",
              "      with_intercept=True)"
            ]
          },
          "metadata": {
            "tags": []
          },
          "execution_count": 22
        }
      ]
    },
    {
      "cell_type": "code",
      "metadata": {
        "id": "LNeSBsWUPPTX"
      },
      "source": [
        "forecast=model.predict(n_periods=4, return_conf_int=True)"
      ],
      "execution_count": 23,
      "outputs": []
    },
    {
      "cell_type": "code",
      "metadata": {
        "id": "OCdu6s3tPamG",
        "outputId": "d0d3d29c-c6d4-4a65-c896-ca75cecdb65b",
        "colab": {
          "base_uri": "https://localhost:8080/"
        }
      },
      "source": [
        "type(forecast)"
      ],
      "execution_count": 25,
      "outputs": [
        {
          "output_type": "execute_result",
          "data": {
            "text/plain": [
              "tuple"
            ]
          },
          "metadata": {
            "tags": []
          },
          "execution_count": 25
        }
      ]
    },
    {
      "cell_type": "code",
      "metadata": {
        "id": "gBVAPW5NPeLx",
        "outputId": "7800976d-3d8a-4d70-bc4f-67f9b4ecaf74",
        "colab": {
          "base_uri": "https://localhost:8080/"
        }
      },
      "source": [
        "forecast"
      ],
      "execution_count": 26,
      "outputs": [
        {
          "output_type": "execute_result",
          "data": {
            "text/plain": [
              "(array([5320.8326828 , 6194.15054538, 7184.10821587, 7297.99968109]),\n",
              " array([[4724.37015394, 5917.29521165],\n",
              "        [5391.43559771, 6996.86549305],\n",
              "        [6358.62006843, 8009.59636331],\n",
              "        [6467.74944477, 8128.24991741]]))"
            ]
          },
          "metadata": {
            "tags": []
          },
          "execution_count": 26
        }
      ]
    },
    {
      "cell_type": "code",
      "metadata": {
        "id": "9fatDHnxPnIi"
      },
      "source": [
        "forecast_df = pd.DataFrame(forecast[0],index = test.index,columns=['Prediction'])"
      ],
      "execution_count": 27,
      "outputs": []
    },
    {
      "cell_type": "code",
      "metadata": {
        "id": "pQnkAFRdPwa6",
        "outputId": "36799092-2023-4147-9c99-d66423601a37",
        "colab": {
          "base_uri": "https://localhost:8080/",
          "height": 202
        }
      },
      "source": [
        "forecast_df"
      ],
      "execution_count": 28,
      "outputs": [
        {
          "output_type": "execute_result",
          "data": {
            "text/html": [
              "<div>\n",
              "<style scoped>\n",
              "    .dataframe tbody tr th:only-of-type {\n",
              "        vertical-align: middle;\n",
              "    }\n",
              "\n",
              "    .dataframe tbody tr th {\n",
              "        vertical-align: top;\n",
              "    }\n",
              "\n",
              "    .dataframe thead th {\n",
              "        text-align: right;\n",
              "    }\n",
              "</style>\n",
              "<table border=\"1\" class=\"dataframe\">\n",
              "  <thead>\n",
              "    <tr style=\"text-align: right;\">\n",
              "      <th></th>\n",
              "      <th>Prediction</th>\n",
              "    </tr>\n",
              "    <tr>\n",
              "      <th>timeStamp</th>\n",
              "      <th></th>\n",
              "    </tr>\n",
              "  </thead>\n",
              "  <tbody>\n",
              "    <tr>\n",
              "      <th>2017-05-31</th>\n",
              "      <td>5320.832683</td>\n",
              "    </tr>\n",
              "    <tr>\n",
              "      <th>2017-06-30</th>\n",
              "      <td>6194.150545</td>\n",
              "    </tr>\n",
              "    <tr>\n",
              "      <th>2017-07-31</th>\n",
              "      <td>7184.108216</td>\n",
              "    </tr>\n",
              "    <tr>\n",
              "      <th>2017-08-31</th>\n",
              "      <td>7297.999681</td>\n",
              "    </tr>\n",
              "  </tbody>\n",
              "</table>\n",
              "</div>"
            ],
            "text/plain": [
              "             Prediction\n",
              "timeStamp              \n",
              "2017-05-31  5320.832683\n",
              "2017-06-30  6194.150545\n",
              "2017-07-31  7184.108216\n",
              "2017-08-31  7297.999681"
            ]
          },
          "metadata": {
            "tags": []
          },
          "execution_count": 28
        }
      ]
    },
    {
      "cell_type": "code",
      "metadata": {
        "id": "g-cSWxVBP05p",
        "outputId": "321e9998-2a50-4c85-c3f9-d44ed8911d68",
        "colab": {
          "base_uri": "https://localhost:8080/",
          "height": 297
        }
      },
      "source": [
        "pd.concat([ny_df_monthly[\"demand\"],forecast_df[\"Prediction\"]],axis=\"columns\").plot()"
      ],
      "execution_count": 32,
      "outputs": [
        {
          "output_type": "execute_result",
          "data": {
            "text/plain": [
              "<matplotlib.axes._subplots.AxesSubplot at 0x7f15b169f080>"
            ]
          },
          "metadata": {
            "tags": []
          },
          "execution_count": 32
        },
        {
          "output_type": "display_data",
          "data": {
            "image/png": "[encoded data removed]",
            "text/plain": [
              "<Figure size 432x288 with 1 Axes>"
            ]
          },
          "metadata": {
            "tags": [],
            "needs_background": "light"
          }
        }
      ]
    },
    {
      "cell_type": "code",
      "metadata": {
        "id": "K3XD_xZxQU8U"
      },
      "source": [
        "forecast1=model.predict(n_periods=8, return_conf_int=True)"
      ],
      "execution_count": 33,
      "outputs": []
    },
    {
      "cell_type": "markdown",
      "metadata": {
        "id": "35ndvQzcP0pt"
      },
      "source": [
        ""
      ]
    },
    {
      "cell_type": "code",
      "metadata": {
        "id": "AUatszNrQtTR"
      },
      "source": [
        "forecast_range=pd.date_range(start='2017-05-31', periods=8,freq='M')"
      ],
      "execution_count": 35,
      "outputs": []
    },
    {
      "cell_type": "code",
      "metadata": {
        "id": "L56Zw4vzQpqG"
      },
      "source": [
        "forecast1_df = pd.DataFrame(forecast1[0],index =forecast_range,columns=['Prediction'])"
      ],
      "execution_count": 36,
      "outputs": []
    },
    {
      "cell_type": "code",
      "metadata": {
        "id": "kFmAzgRpQXhy",
        "outputId": "2d11091d-5a75-493e-e2f2-6ccc6c6648c1",
        "colab": {
          "base_uri": "https://localhost:8080/",
          "height": 297
        }
      },
      "source": [
        "pd.concat([ny_df_monthly['demand'],forecast1_df],axis=1).plot()"
      ],
      "execution_count": 38,
      "outputs": [
        {
          "output_type": "execute_result",
          "data": {
            "text/plain": [
              "<matplotlib.axes._subplots.AxesSubplot at 0x7f15b16394a8>"
            ]
          },
          "metadata": {
            "tags": []
          },
          "execution_count": 38
        },
        {
          "output_type": "display_data",
          "data": {
            "image/png": "[encoded data removed]",
            "text/plain": [
              "<Figure size 432x288 with 1 Axes>"
            ]
          },
          "metadata": {
            "tags": [],
            "needs_background": "light"
          }
        }
      ]
    },
    {
      "cell_type": "code",
      "metadata": {
        "id": "0JfUxcY8Q__C"
      },
      "source": [
        "lower=pd.Series(forecast1[1][:, 0], index =forecast_range)\n",
        "upper=pd.Series(forecast1[1][:, 1], index =forecast_range)"
      ],
      "execution_count": 39,
      "outputs": []
    },
    {
      "cell_type": "code",
      "metadata": {
        "id": "-ctUoU0GRCDV",
        "outputId": "c3b7b9da-2c66-4d3d-8d35-812ed7c08b56",
        "colab": {
          "base_uri": "https://localhost:8080/",
          "height": 283
        }
      },
      "source": [
        "plt.plot(ny_df_monthly['demand'])\n",
        "plt.plot(forecast1_df, color='darkgreen')\n",
        "plt.fill_between(forecast_range, \n",
        "                 lower, \n",
        "                 upper, \n",
        "                 color='k', alpha=.15)"
      ],
      "execution_count": 40,
      "outputs": [
        {
          "output_type": "execute_result",
          "data": {
            "text/plain": [
              "<matplotlib.collections.PolyCollection at 0x7f15b15183c8>"
            ]
          },
          "metadata": {
            "tags": []
          },
          "execution_count": 40
        },
        {
          "output_type": "display_data",
          "data": {
            "image/png": "[encoded data removed]",
            "text/plain": [
              "<Figure size 432x288 with 1 Axes>"
            ]
          },
          "metadata": {
            "tags": [],
            "needs_background": "light"
          }
        }
      ]
    }
  ]
}