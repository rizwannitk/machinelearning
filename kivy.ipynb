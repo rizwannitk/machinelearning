{
  "nbformat": 4,
  "nbformat_minor": 0,
  "metadata": {
    "colab": {
      "name": "Welcome To Colaboratory",
      "provenance": [],
      "collapsed_sections": [],
      "toc_visible": true,
      "include_colab_link": true
    },
    "kernelspec": {
      "display_name": "Python 3",
      "name": "python3"
    }
  },
  "cells": [
    {
      "cell_type": "markdown",
      "metadata": {
        "id": "view-in-github",
        "colab_type": "text"
      },
      "source": [
        "<a href=\"https://colab.research.google.com/github/rizwannitk/machinelearning/blob/main/kivy.ipynb\" target=\"_parent\"><img src=\"https://colab.research.google.com/assets/colab-badge.svg\" alt=\"Open In Colab\"/></a>"
      ]
    },
    {
      "cell_type": "markdown",
      "metadata": {
        "id": "6keQKw9N5awN"
      },
      "source": [
        ""
      ]
    },
    {
      "cell_type": "markdown",
      "metadata": {
        "id": "MI8cT8Qg5cIT"
      },
      "source": [
        "# to  test Kivy"
      ]
    },
    {
      "cell_type": "markdown",
      "metadata": {
        "id": "t5FchznL6JuG"
      },
      "source": [
        "taken from below\r\n",
        "https://stackoverflow.com/questions/56054637/install-kivy-dependencies-on-google-colab"
      ]
    },
    {
      "cell_type": "code",
      "metadata": {
        "colab": {
          "base_uri": "https://localhost:8080/"
        },
        "id": "877pnf9F5giS",
        "outputId": "65cf739b-410e-4d67-e5b6-3960ebb2b80b"
      },
      "source": [
        "!lsb_release -a"
      ],
      "execution_count": 1,
      "outputs": [
        {
          "output_type": "stream",
          "text": [
            "No LSB modules are available.\n",
            "Distributor ID:\tUbuntu\n",
            "Description:\tUbuntu 18.04.5 LTS\n",
            "Release:\t18.04\n",
            "Codename:\tbionic\n"
          ],
          "name": "stdout"
        }
      ]
    },
    {
      "cell_type": "code",
      "metadata": {
        "id": "3KxEkcL258C_",
        "outputId": "a645fae8-5594-4316-a684-f3e3b84e4f5c",
        "colab": {
          "base_uri": "https://localhost:8080/"
        }
      },
      "source": [
        "!sudo apt-get install -y \\\r\n",
        "    python3-pip \\\r\n",
        "    build-essential \\\r\n",
        "    git \\\r\n",
        "    python3 \\\r\n",
        "    python3-dev \\\r\n",
        "    ffmpeg \\\r\n",
        "    libsdl2-dev \\\r\n",
        "    libsdl2-image-dev \\\r\n",
        "    libsdl2-mixer-dev \\\r\n",
        "    libsdl2-ttf-dev \\\r\n",
        "    libportmidi-dev \\\r\n",
        "    libswscale-dev \\\r\n",
        "    libavformat-dev \\\r\n",
        "    libavcodec-dev \\\r\n",
        "    zlib1g-dev"
      ],
      "execution_count": 1,
      "outputs": [
        {
          "output_type": "stream",
          "text": [
            "Reading package lists... Done\n",
            "Building dependency tree       \n",
            "Reading state information... Done\n",
            "build-essential is already the newest version (12.4ubuntu1).\n",
            "zlib1g-dev is already the newest version (1:1.2.11.dfsg-0ubuntu2).\n",
            "libportmidi-dev is already the newest version (1:217-6).\n",
            "libsdl2-image-dev is already the newest version (2.0.3+dfsg1-1).\n",
            "libsdl2-mixer-dev is already the newest version (2.0.2+dfsg1-2).\n",
            "libsdl2-ttf-dev is already the newest version (2.0.14+dfsg1-2).\n",
            "git is already the newest version (1:2.17.1-1ubuntu0.7).\n",
            "python3 is already the newest version (3.6.7-1~18.04).\n",
            "python3-dev is already the newest version (3.6.7-1~18.04).\n",
            "ffmpeg is already the newest version (7:3.4.8-0ubuntu0.2).\n",
            "libavcodec-dev is already the newest version (7:3.4.8-0ubuntu0.2).\n",
            "libavformat-dev is already the newest version (7:3.4.8-0ubuntu0.2).\n",
            "libsdl2-dev is already the newest version (2.0.8+dfsg1-1ubuntu1.18.04.4).\n",
            "libswscale-dev is already the newest version (7:3.4.8-0ubuntu0.2).\n",
            "python3-pip is already the newest version (9.0.1-2.3~ubuntu1.18.04.4).\n",
            "0 upgraded, 0 newly installed, 0 to remove and 15 not upgraded.\n"
          ],
          "name": "stdout"
        }
      ]
    },
    {
      "cell_type": "code",
      "metadata": {
        "id": "OR9-rJ-96Pd_",
        "outputId": "c7972fce-19f3-4859-cac0-0fa9b6d857f7",
        "colab": {
          "base_uri": "https://localhost:8080/"
        }
      },
      "source": [
        "!sudo apt-get install -y \\\r\n",
        "    libgstreamer1.0 \\\r\n",
        "    gstreamer1.0-plugins-base \\\r\n",
        "    gstreamer1.0-plugins-good"
      ],
      "execution_count": 2,
      "outputs": [
        {
          "output_type": "stream",
          "text": [
            "Reading package lists... Done\n",
            "Building dependency tree       \n",
            "Reading state information... Done\n",
            "Note, selecting 'libgstreamer1.0-dev' for regex 'libgstreamer1.0'\n",
            "Note, selecting 'libgstreamer1.0-0-dbg' for regex 'libgstreamer1.0'\n",
            "Note, selecting 'libgstreamer1.0-0' for regex 'libgstreamer1.0'\n",
            "gstreamer1.0-plugins-base is already the newest version (1.14.5-0ubuntu1~18.04.1).\n",
            "gstreamer1.0-plugins-good is already the newest version (1.14.5-0ubuntu1~18.04.1).\n",
            "libgstreamer1.0-0 is already the newest version (1.14.5-0ubuntu1~18.04.1).\n",
            "libgstreamer1.0-0-dbg is already the newest version (1.14.5-0ubuntu1~18.04.1).\n",
            "libgstreamer1.0-dev is already the newest version (1.14.5-0ubuntu1~18.04.1).\n",
            "0 upgraded, 0 newly installed, 0 to remove and 15 not upgraded.\n"
          ],
          "name": "stdout"
        }
      ]
    },
    {
      "cell_type": "code",
      "metadata": {
        "id": "ziG2xSW56YkG"
      },
      "source": [
        "! pip install kivy"
      ],
      "execution_count": null,
      "outputs": []
    },
    {
      "cell_type": "code",
      "metadata": {
        "id": "kkyFHMal9yxH",
        "outputId": "277c628c-172f-4e0d-badd-2b8653266228",
        "colab": {
          "base_uri": "https://localhost:8080/"
        }
      },
      "source": [
        "import kivy\r\n",
        "kivy.require('1.0.6') # replace with your current kivy version !\r\n",
        "\r\n",
        "from kivy.app import App\r\n",
        "from kivy.uix.label import Label\r\n",
        "\r\n",
        "\r\n",
        "class MyApp(App):\r\n",
        "\r\n",
        "    def build(self):\r\n",
        "        return Label(text='Hello world')\r\n",
        "\r\n",
        "\r\n",
        "if __name__ == '__main__':\r\n",
        "    MyApp().run()"
      ],
      "execution_count": null,
      "outputs": [
        {
          "output_type": "stream",
          "text": [
            "[INFO   ] [Logger      ] Record log in /root/.kivy/logs/kivy_20-12-26_8.txt\n",
            "[INFO   ] [Kivy        ] v2.0.0\n",
            "[INFO   ] [Kivy        ] Installed at \"/usr/local/lib/python3.6/dist-packages/kivy/__init__.py\"\n",
            "[INFO   ] [Python      ] v3.6.9 (default, Oct  8 2020, 12:12:24) \n",
            "[GCC 8.4.0]\n",
            "[INFO   ] [Python      ] Interpreter at \"/usr/bin/python3\"\n",
            "[INFO   ] [Factory     ] 186 symbols loaded\n",
            "[INFO   ] [Image       ] Providers: img_tex, img_dds, img_sdl2, img_pil (img_ffpyplayer ignored)\n",
            "[INFO   ] [Text        ] Provider: sdl2\n",
            "[INFO   ] [Window      ] Provider: sdl2\n",
            "[INFO   ] [Window      ] Provider: x11(['window_sdl2'] ignored)\n"
          ],
          "name": "stderr"
        }
      ]
    }
  ]
}