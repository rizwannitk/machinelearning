{
  "nbformat": 4,
  "nbformat_minor": 0,
  "metadata": {
    "colab": {
      "name": "Welcome To Colaboratory",
      "provenance": [],
      "collapsed_sections": []
    },
    "kernelspec": {
      "display_name": "Python 3",
      "name": "python3"
    },
    "widgets": {
      "application/vnd.jupyter.widget-state+json": {
        "cae013ace72249baae6cc830ea92c8a1": {
          "model_module": "@jupyter-widgets/controls",
          "model_name": "ButtonModel",
          "state": {
            "_view_name": "ButtonView",
            "style": "IPY_MODEL_64c19f50fb614cbabdb3c59da683e6ff",
            "_dom_classes": [],
            "description": "Toggle Pandas/Lux",
            "_model_name": "ButtonModel",
            "button_style": "",
            "_view_module": "@jupyter-widgets/controls",
            "_model_module_version": "1.5.0",
            "tooltip": "",
            "_view_count": null,
            "disabled": false,
            "_view_module_version": "1.5.0",
            "layout": "IPY_MODEL_06c6cb9ea8484bd6852cc80a7d958f23",
            "_model_module": "@jupyter-widgets/controls",
            "icon": ""
          }
        },
        "64c19f50fb614cbabdb3c59da683e6ff": {
          "model_module": "@jupyter-widgets/controls",
          "model_name": "ButtonStyleModel",
          "state": {
            "_view_name": "StyleView",
            "_model_name": "ButtonStyleModel",
            "_view_module": "@jupyter-widgets/base",
            "_model_module_version": "1.5.0",
            "_view_count": null,
            "button_color": null,
            "font_weight": "",
            "_view_module_version": "1.2.0",
            "_model_module": "@jupyter-widgets/controls"
          }
        },
        "06c6cb9ea8484bd6852cc80a7d958f23": {
          "model_module": "@jupyter-widgets/base",
          "model_name": "LayoutModel",
          "state": {
            "_view_name": "LayoutView",
            "grid_template_rows": null,
            "right": null,
            "justify_content": null,
            "_view_module": "@jupyter-widgets/base",
            "overflow": null,
            "_model_module_version": "1.2.0",
            "_view_count": null,
            "flex_flow": null,
            "width": "140px",
            "min_width": null,
            "border": null,
            "align_items": null,
            "bottom": null,
            "_model_module": "@jupyter-widgets/base",
            "top": "5px",
            "grid_column": null,
            "overflow_y": null,
            "overflow_x": null,
            "grid_auto_flow": null,
            "grid_area": null,
            "grid_template_columns": null,
            "flex": null,
            "_model_name": "LayoutModel",
            "justify_items": null,
            "grid_row": null,
            "max_height": null,
            "align_content": null,
            "visibility": null,
            "align_self": null,
            "height": null,
            "min_height": null,
            "padding": null,
            "grid_auto_rows": null,
            "grid_gap": null,
            "max_width": null,
            "order": null,
            "_view_module_version": "1.2.0",
            "grid_template_areas": null,
            "object_position": null,
            "object_fit": null,
            "grid_auto_columns": null,
            "margin": null,
            "display": null,
            "left": null
          }
        },
        "25d4be29b29b40b0b454697695b7910b": {
          "model_module": "@jupyter-widgets/output",
          "model_name": "OutputModel",
          "state": {
            "_view_name": "OutputView",
            "msg_id": "",
            "_dom_classes": [],
            "_model_name": "OutputModel",
            "outputs": [
              {
                "output_type": "display_data",
                "metadata": {
                  "tags": []
                },
                "application/vnd.jupyter.widget-view+json": {
                  "model_id": "c8ff5b51a7e24cba81f0e86f35b333f3",
                  "version_minor": 0,
                  "version_major": 2
                },
                "text/plain": "LuxWidget(message='<ul><li>Large dataframe detected: Lux is only visualizing a random sample of 11249 rows.</l…"
              }
            ],
            "_view_module": "@jupyter-widgets/output",
            "_model_module_version": "1.0.0",
            "_view_count": null,
            "_view_module_version": "1.0.0",
            "layout": "IPY_MODEL_427c3ac5e43e49bb9354aa9a49c820fc",
            "_model_module": "@jupyter-widgets/output"
          }
        },
        "427c3ac5e43e49bb9354aa9a49c820fc": {
          "model_module": "@jupyter-widgets/base",
          "model_name": "LayoutModel",
          "state": {
            "_view_name": "LayoutView",
            "grid_template_rows": null,
            "right": null,
            "justify_content": null,
            "_view_module": "@jupyter-widgets/base",
            "overflow": null,
            "_model_module_version": "1.2.0",
            "_view_count": null,
            "flex_flow": null,
            "width": null,
            "min_width": null,
            "border": null,
            "align_items": null,
            "bottom": null,
            "_model_module": "@jupyter-widgets/base",
            "top": null,
            "grid_column": null,
            "overflow_y": null,
            "overflow_x": null,
            "grid_auto_flow": null,
            "grid_area": null,
            "grid_template_columns": null,
            "flex": null,
            "_model_name": "LayoutModel",
            "justify_items": null,
            "grid_row": null,
            "max_height": null,
            "align_content": null,
            "visibility": null,
            "align_self": null,
            "height": null,
            "min_height": null,
            "padding": null,
            "grid_auto_rows": null,
            "grid_gap": null,
            "max_width": null,
            "order": null,
            "_view_module_version": "1.2.0",
            "grid_template_areas": null,
            "object_position": null,
            "object_fit": null,
            "grid_auto_columns": null,
            "margin": null,
            "display": null,
            "left": null
          }
        },
        "c8ff5b51a7e24cba81f0e86f35b333f3": {
          "model_module": "luxwidget",
          "model_name": "LuxModel",
          "state": {
            "_view_name": "LuxWidgetView",
            "_dom_classes": [],
            "_selectedVisIdxs": {},
            "_model_name": "LuxModel",
            "data": [],
            "selectedIntentIndex": {},
            "_view_module": "luxwidget",
            "_model_module_version": "0.1.1",
            "_view_count": null,
            "deletedIndices": {},
            "_view_module_version": "0.1.1",
            "intent": "",
            "recommendations": [
              {
                "action": "Correlation",
                "vspec": [
                  {
                    "selection": {
                      "selector002": {
                        "bind": "scales",
                        "type": "interval",
                        "encodings": [
                          "x",
                          "y"
                        ]
                      }
                    },
                    "encoding": {
                      "opacity": {
                        "field": "count",
                        "scale": {
                          "type": "log"
                        },
                        "type": "quantitative",
                        "legend": null
                      },
                      "x": {
                        "bin": {
                          "binned": true
                        },
                        "field": "xBinStart",
                        "type": "quantitative",
                        "axis": {
                          "title": "satisfaction_level"
                        }
                      },
                      "x2": {
                        "field": "xBinEnd"
                      },
                      "y2": {
                        "field": "yBinEnd"
                      },
                      "y": {
                        "bin": {
                          "binned": true
                        },
                        "field": "yBinStart",
                        "type": "quantitative",
                        "axis": {
                          "title": "average_montly_hours"
                        }
                      }
                    },
                    "config": {
                      "scale": {
                        "minOpacity": 0.1,
                        "maxOpacity": 1
                      },
                      "title": {
                        "fontWeight": 500,
                        "font": "Helvetica Neue",
                        "fontSize": 13
                      },
                      "mark": {
                        "tooltip": {
                          "content": "encoding"
                        }
                      },
                      "view": {
                        "continuousWidth": 400,
                        "continuousHeight": 300
                      },
                      "legend": {
                        "labelFont": "Helvetica Neue",
                        "labelFontSize": 9,
                        "titleFont": "Helvetica Neue",
                        "labelFontWeight": 400,
                        "titleFontSize": 10,
                        "titleFontWeight": 500
                      },
                      "axis": {
                        "labelFont": "Helvetica Neue",
                        "labelFontSize": 9,
                        "labelColor": "#505050",
                        "titleFont": "Helvetica Neue",
                        "labelFontWeight": 400,
                        "titleFontSize": 11,
                        "titleFontWeight": 500
                      }
                    },
                    "height": 150,
                    "width": 160,
                    "datasets": {
                      "data-912b9d1ec0c2b362f880ff53875edfdb": [
                        {
                          "count": 1,
                          "xBinStart": 0.0891,
                          "yBinEnd": 138.8,
                          "xBinEnd": 0.113,
                          "yBinStart": 133.45
                        },
                        {
                          "count": 1,
                          "xBinStart": 0.0891,
                          "yBinEnd": 144.15,
                          "xBinEnd": 0.113,
                          "yBinStart": 138.8
                        },
                        {
                          "count": 1,
                          "xBinStart": 0.0891,
                          "yBinEnd": 219.05,
                          "xBinEnd": 0.113,
                          "yBinStart": 213.7
                        },
                        {
                          "count": 32,
                          "xBinStart": 0.0891,
                          "yBinEnd": 245.8,
                          "xBinEnd": 0.113,
                          "yBinStart": 240.45
                        },
                        {
                          "count": 51,
                          "xBinStart": 0.0891,
                          "yBinEnd": 251.15,
                          "xBinEnd": 0.113,
                          "yBinStart": 245.8
                        },
                        {
                          "count": 58,
                          "xBinStart": 0.0891,
                          "yBinEnd": 256.5,
                          "xBinEnd": 0.113,
                          "yBinStart": 251.15
                        },
                        {
                          "count": 39,
                          "xBinStart": 0.0891,
                          "yBinEnd": 261.85,
                          "xBinEnd": 0.113,
                          "yBinStart": 256.5
                        },
                        {
                          "count": 56,
                          "xBinStart": 0.0891,
                          "yBinEnd": 267.2,
                          "xBinEnd": 0.113,
                          "yBinStart": 261.85
                        },
                        {
                          "count": 52,
                          "xBinStart": 0.0891,
                          "yBinEnd": 272.55,
                          "xBinEnd": 0.113,
                          "yBinStart": 267.2
                        },
                        {
                          "count": 36,
                          "xBinStart": 0.0891,
                          "yBinEnd": 277.9,
                          "xBinEnd": 0.113,
                          "yBinStart": 272.55
                        },
                        {
                          "count": 67,
                          "xBinStart": 0.0891,
                          "yBinEnd": 283.25,
                          "xBinEnd": 0.113,
                          "yBinStart": 277.9
                        },
                        {
                          "count": 56,
                          "xBinStart": 0.0891,
                          "yBinEnd": 288.6,
                          "xBinEnd": 0.113,
                          "yBinStart": 283.25
                        },
                        {
                          "count": 51,
                          "xBinStart": 0.0891,
                          "yBinEnd": 293.95,
                          "xBinEnd": 0.113,
                          "yBinStart": 288.6
                        },
                        {
                          "count": 42,
                          "xBinStart": 0.0891,
                          "yBinEnd": 299.3,
                          "xBinEnd": 0.113,
                          "yBinStart": 293.95
                        },
                        {
                          "count": 39,
                          "xBinStart": 0.0891,
                          "yBinEnd": 304.65,
                          "xBinEnd": 0.113,
                          "yBinStart": 299.3
                        },
                        {
                          "count": 81,
                          "xBinStart": 0.0891,
                          "yBinEnd": 310,
                          "xBinEnd": 0.113,
                          "yBinStart": 304.65
                        },
                        {
                          "count": 1,
                          "xBinStart": 0.113,
                          "yBinEnd": 112.05,
                          "xBinEnd": 0.136,
                          "yBinStart": 106.7
                        },
                        {
                          "count": 1,
                          "xBinStart": 0.113,
                          "yBinEnd": 133.45,
                          "xBinEnd": 0.136,
                          "yBinStart": 128.1
                        },
                        {
                          "count": 2,
                          "xBinStart": 0.113,
                          "yBinEnd": 138.8,
                          "xBinEnd": 0.136,
                          "yBinStart": 133.45
                        },
                        {
                          "count": 1,
                          "xBinStart": 0.113,
                          "yBinEnd": 149.5,
                          "xBinEnd": 0.136,
                          "yBinStart": 144.15
                        },
                        {
                          "count": 3,
                          "xBinStart": 0.113,
                          "yBinEnd": 154.85,
                          "xBinEnd": 0.136,
                          "yBinStart": 149.5
                        },
                        {
                          "count": 3,
                          "xBinStart": 0.113,
                          "yBinEnd": 160.2,
                          "xBinEnd": 0.136,
                          "yBinStart": 154.85
                        },
                        {
                          "count": 5,
                          "xBinStart": 0.113,
                          "yBinEnd": 165.55,
                          "xBinEnd": 0.136,
                          "yBinStart": 160.2
                        },
                        {
                          "count": 1,
                          "xBinStart": 0.113,
                          "yBinEnd": 170.9,
                          "xBinEnd": 0.136,
                          "yBinStart": 165.55
                        },
                        {
                          "count": 3,
                          "xBinStart": 0.113,
                          "yBinEnd": 176.25,
                          "xBinEnd": 0.136,
                          "yBinStart": 170.9
                        },
                        {
                          "count": 1,
                          "xBinStart": 0.113,
                          "yBinEnd": 181.6,
                          "xBinEnd": 0.136,
                          "yBinStart": 176.25
                        },
                        {
                          "count": 3,
                          "xBinStart": 0.113,
                          "yBinEnd": 192.3,
                          "xBinEnd": 0.136,
                          "yBinStart": 186.95
                        },
                        {
                          "count": 2,
                          "xBinStart": 0.113,
                          "yBinEnd": 197.65,
                          "xBinEnd": 0.136,
                          "yBinStart": 192.3
                        },
                        {
                          "count": 5,
                          "xBinStart": 0.113,
                          "yBinEnd": 203,
                          "xBinEnd": 0.136,
                          "yBinStart": 197.65
                        },
                        {
                          "count": 1,
                          "xBinStart": 0.113,
                          "yBinEnd": 208.35,
                          "xBinEnd": 0.136,
                          "yBinStart": 203
                        },
                        {
                          "count": 2,
                          "xBinStart": 0.113,
                          "yBinEnd": 213.7,
                          "xBinEnd": 0.136,
                          "yBinStart": 208.35
                        },
                        {
                          "count": 4,
                          "xBinStart": 0.113,
                          "yBinEnd": 219.05,
                          "xBinEnd": 0.136,
                          "yBinStart": 213.7
                        },
                        {
                          "count": 2,
                          "xBinStart": 0.113,
                          "yBinEnd": 229.75,
                          "xBinEnd": 0.136,
                          "yBinStart": 224.4
                        },
                        {
                          "count": 2,
                          "xBinStart": 0.113,
                          "yBinEnd": 235.1,
                          "xBinEnd": 0.136,
                          "yBinStart": 229.75
                        },
                        {
                          "count": 1,
                          "xBinStart": 0.113,
                          "yBinEnd": 240.45,
                          "xBinEnd": 0.136,
                          "yBinStart": 235.1
                        },
                        {
                          "count": 2,
                          "xBinStart": 0.113,
                          "yBinEnd": 245.8,
                          "xBinEnd": 0.136,
                          "yBinStart": 240.45
                        },
                        {
                          "count": 1,
                          "xBinStart": 0.113,
                          "yBinEnd": 251.15,
                          "xBinEnd": 0.136,
                          "yBinStart": 245.8
                        },
                        {
                          "count": 1,
                          "xBinStart": 0.113,
                          "yBinEnd": 256.5,
                          "xBinEnd": 0.136,
                          "yBinStart": 251.15
                        },
                        {
                          "count": 5,
                          "xBinStart": 0.113,
                          "yBinEnd": 261.85,
                          "xBinEnd": 0.136,
                          "yBinStart": 256.5
                        },
                        {
                          "count": 3,
                          "xBinStart": 0.113,
                          "yBinEnd": 267.2,
                          "xBinEnd": 0.136,
                          "yBinStart": 261.85
                        },
                        {
                          "count": 2,
                          "xBinStart": 0.113,
                          "yBinEnd": 272.55,
                          "xBinEnd": 0.136,
                          "yBinStart": 267.2
                        },
                        {
                          "count": 2,
                          "xBinStart": 0.113,
                          "yBinEnd": 277.9,
                          "xBinEnd": 0.136,
                          "yBinStart": 272.55
                        },
                        {
                          "count": 3,
                          "xBinStart": 0.113,
                          "yBinEnd": 283.25,
                          "xBinEnd": 0.136,
                          "yBinStart": 277.9
                        },
                        {
                          "count": 2,
                          "xBinStart": 0.113,
                          "yBinEnd": 288.6,
                          "xBinEnd": 0.136,
                          "yBinStart": 283.25
                        },
                        {
                          "count": 4,
                          "xBinStart": 0.136,
                          "yBinEnd": 101.35,
                          "xBinEnd": 0.158,
                          "yBinStart": 95.786
                        },
                        {
                          "count": 1,
                          "xBinStart": 0.136,
                          "yBinEnd": 112.05,
                          "xBinEnd": 0.158,
                          "yBinStart": 106.7
                        },
                        {
                          "count": 4,
                          "xBinStart": 0.136,
                          "yBinEnd": 117.4,
                          "xBinEnd": 0.158,
                          "yBinStart": 112.05
                        },
                        {
                          "count": 2,
                          "xBinStart": 0.136,
                          "yBinEnd": 122.75,
                          "xBinEnd": 0.158,
                          "yBinStart": 117.4
                        },
                        {
                          "count": 1,
                          "xBinStart": 0.136,
                          "yBinEnd": 138.8,
                          "xBinEnd": 0.158,
                          "yBinStart": 133.45
                        },
                        {
                          "count": 6,
                          "xBinStart": 0.136,
                          "yBinEnd": 144.15,
                          "xBinEnd": 0.158,
                          "yBinStart": 138.8
                        },
                        {
                          "count": 1,
                          "xBinStart": 0.136,
                          "yBinEnd": 149.5,
                          "xBinEnd": 0.158,
                          "yBinStart": 144.15
                        },
                        {
                          "count": 2,
                          "xBinStart": 0.136,
                          "yBinEnd": 154.85,
                          "xBinEnd": 0.158,
                          "yBinStart": 149.5
                        },
                        {
                          "count": 8,
                          "xBinStart": 0.136,
                          "yBinEnd": 160.2,
                          "xBinEnd": 0.158,
                          "yBinStart": 154.85
                        },
                        {
                          "count": 2,
                          "xBinStart": 0.136,
                          "yBinEnd": 165.55,
                          "xBinEnd": 0.158,
                          "yBinStart": 160.2
                        },
                        {
                          "count": 2,
                          "xBinStart": 0.136,
                          "yBinEnd": 170.9,
                          "xBinEnd": 0.158,
                          "yBinStart": 165.55
                        },
                        {
                          "count": 8,
                          "xBinStart": 0.136,
                          "yBinEnd": 176.25,
                          "xBinEnd": 0.158,
                          "yBinStart": 170.9
                        },
                        {
                          "count": 4,
                          "xBinStart": 0.136,
                          "yBinEnd": 181.6,
                          "xBinEnd": 0.158,
                          "yBinStart": 176.25
                        },
                        {
                          "count": 1,
                          "xBinStart": 0.136,
                          "yBinEnd": 192.3,
                          "xBinEnd": 0.158,
                          "yBinStart": 186.95
                        },
                        {
                          "count": 2,
                          "xBinStart": 0.136,
                          "yBinEnd": 197.65,
                          "xBinEnd": 0.158,
                          "yBinStart": 192.3
                        },
                        {
                          "count": 4,
                          "xBinStart": 0.136,
                          "yBinEnd": 203,
                          "xBinEnd": 0.158,
                          "yBinStart": 197.65
                        },
                        {
                          "count": 6,
                          "xBinStart": 0.136,
                          "yBinEnd": 208.35,
                          "xBinEnd": 0.158,
                          "yBinStart": 203
                        },
                        {
                          "count": 4,
                          "xBinStart": 0.136,
                          "yBinEnd": 213.7,
                          "xBinEnd": 0.158,
                          "yBinStart": 208.35
                        },
                        {
                          "count": 7,
                          "xBinStart": 0.136,
                          "yBinEnd": 219.05,
                          "xBinEnd": 0.158,
                          "yBinStart": 213.7
                        },
                        {
                          "count": 1,
                          "xBinStart": 0.136,
                          "yBinEnd": 224.4,
                          "xBinEnd": 0.158,
                          "yBinStart": 219.05
                        },
                        {
                          "count": 2,
                          "xBinStart": 0.136,
                          "yBinEnd": 229.75,
                          "xBinEnd": 0.158,
                          "yBinStart": 224.4
                        },
                        {
                          "count": 2,
                          "xBinStart": 0.136,
                          "yBinEnd": 235.1,
                          "xBinEnd": 0.158,
                          "yBinStart": 229.75
                        },
                        {
                          "count": 3,
                          "xBinStart": 0.136,
                          "yBinEnd": 240.45,
                          "xBinEnd": 0.158,
                          "yBinStart": 235.1
                        },
                        {
                          "count": 1,
                          "xBinStart": 0.136,
                          "yBinEnd": 245.8,
                          "xBinEnd": 0.158,
                          "yBinStart": 240.45
                        },
                        {
                          "count": 5,
                          "xBinStart": 0.136,
                          "yBinEnd": 251.15,
                          "xBinEnd": 0.158,
                          "yBinStart": 245.8
                        },
                        {
                          "count": 5,
                          "xBinStart": 0.136,
                          "yBinEnd": 256.5,
                          "xBinEnd": 0.158,
                          "yBinStart": 251.15
                        },
                        {
                          "count": 7,
                          "xBinStart": 0.136,
                          "yBinEnd": 261.85,
                          "xBinEnd": 0.158,
                          "yBinStart": 256.5
                        },
                        {
                          "count": 2,
                          "xBinStart": 0.136,
                          "yBinEnd": 267.2,
                          "xBinEnd": 0.158,
                          "yBinStart": 261.85
                        },
                        {
                          "count": 1,
                          "xBinStart": 0.136,
                          "yBinEnd": 272.55,
                          "xBinEnd": 0.158,
                          "yBinStart": 267.2
                        },
                        {
                          "count": 10,
                          "xBinStart": 0.136,
                          "yBinEnd": 277.9,
                          "xBinEnd": 0.158,
                          "yBinStart": 272.55
                        },
                        {
                          "count": 5,
                          "xBinStart": 0.136,
                          "yBinEnd": 283.25,
                          "xBinEnd": 0.158,
                          "yBinStart": 277.9
                        },
                        {
                          "count": 1,
                          "xBinStart": 0.136,
                          "yBinEnd": 288.6,
                          "xBinEnd": 0.158,
                          "yBinStart": 283.25
                        },
                        {
                          "count": 1,
                          "xBinStart": 0.136,
                          "yBinEnd": 293.95,
                          "xBinEnd": 0.158,
                          "yBinStart": 288.6
                        },
                        {
                          "count": 2,
                          "xBinStart": 0.158,
                          "yBinEnd": 101.35,
                          "xBinEnd": 0.181,
                          "yBinStart": 95.786
                        },
                        {
                          "count": 1,
                          "xBinStart": 0.158,
                          "yBinEnd": 112.05,
                          "xBinEnd": 0.181,
                          "yBinStart": 106.7
                        },
                        {
                          "count": 2,
                          "xBinStart": 0.158,
                          "yBinEnd": 117.4,
                          "xBinEnd": 0.181,
                          "yBinStart": 112.05
                        },
                        {
                          "count": 1,
                          "xBinStart": 0.158,
                          "yBinEnd": 122.75,
                          "xBinEnd": 0.181,
                          "yBinStart": 117.4
                        },
                        {
                          "count": 1,
                          "xBinStart": 0.158,
                          "yBinEnd": 128.1,
                          "xBinEnd": 0.181,
                          "yBinStart": 122.75
                        },
                        {
                          "count": 1,
                          "xBinStart": 0.158,
                          "yBinEnd": 133.45,
                          "xBinEnd": 0.181,
                          "yBinStart": 128.1
                        },
                        {
                          "count": 2,
                          "xBinStart": 0.158,
                          "yBinEnd": 138.8,
                          "xBinEnd": 0.181,
                          "yBinStart": 133.45
                        },
                        {
                          "count": 6,
                          "xBinStart": 0.158,
                          "yBinEnd": 144.15,
                          "xBinEnd": 0.181,
                          "yBinStart": 138.8
                        },
                        {
                          "count": 6,
                          "xBinStart": 0.158,
                          "yBinEnd": 149.5,
                          "xBinEnd": 0.181,
                          "yBinStart": 144.15
                        },
                        {
                          "count": 6,
                          "xBinStart": 0.158,
                          "yBinEnd": 154.85,
                          "xBinEnd": 0.181,
                          "yBinStart": 149.5
                        },
                        {
                          "count": 4,
                          "xBinStart": 0.158,
                          "yBinEnd": 160.2,
                          "xBinEnd": 0.181,
                          "yBinStart": 154.85
                        },
                        {
                          "count": 4,
                          "xBinStart": 0.158,
                          "yBinEnd": 165.55,
                          "xBinEnd": 0.181,
                          "yBinStart": 160.2
                        },
                        {
                          "count": 3,
                          "xBinStart": 0.158,
                          "yBinEnd": 170.9,
                          "xBinEnd": 0.181,
                          "yBinStart": 165.55
                        },
                        {
                          "count": 11,
                          "xBinStart": 0.158,
                          "yBinEnd": 176.25,
                          "xBinEnd": 0.181,
                          "yBinStart": 170.9
                        },
                        {
                          "count": 2,
                          "xBinStart": 0.158,
                          "yBinEnd": 181.6,
                          "xBinEnd": 0.181,
                          "yBinStart": 176.25
                        },
                        {
                          "count": 4,
                          "xBinStart": 0.158,
                          "yBinEnd": 186.95,
                          "xBinEnd": 0.181,
                          "yBinStart": 181.6
                        },
                        {
                          "count": 6,
                          "xBinStart": 0.158,
                          "yBinEnd": 192.3,
                          "xBinEnd": 0.181,
                          "yBinStart": 186.95
                        },
                        {
                          "count": 8,
                          "xBinStart": 0.158,
                          "yBinEnd": 197.65,
                          "xBinEnd": 0.181,
                          "yBinStart": 192.3
                        },
                        {
                          "count": 5,
                          "xBinStart": 0.158,
                          "yBinEnd": 203,
                          "xBinEnd": 0.181,
                          "yBinStart": 197.65
                        },
                        {
                          "count": 5,
                          "xBinStart": 0.158,
                          "yBinEnd": 208.35,
                          "xBinEnd": 0.181,
                          "yBinStart": 203
                        },
                        {
                          "count": 8,
                          "xBinStart": 0.158,
                          "yBinEnd": 213.7,
                          "xBinEnd": 0.181,
                          "yBinStart": 208.35
                        },
                        {
                          "count": 9,
                          "xBinStart": 0.158,
                          "yBinEnd": 219.05,
                          "xBinEnd": 0.181,
                          "yBinStart": 213.7
                        },
                        {
                          "count": 6,
                          "xBinStart": 0.158,
                          "yBinEnd": 224.4,
                          "xBinEnd": 0.181,
                          "yBinStart": 219.05
                        },
                        {
                          "count": 3,
                          "xBinStart": 0.158,
                          "yBinEnd": 229.75,
                          "xBinEnd": 0.181,
                          "yBinStart": 224.4
                        },
                        {
                          "count": 7,
                          "xBinStart": 0.158,
                          "yBinEnd": 235.1,
                          "xBinEnd": 0.181,
                          "yBinStart": 229.75
                        },
                        {
                          "count": 8,
                          "xBinStart": 0.158,
                          "yBinEnd": 240.45,
                          "xBinEnd": 0.181,
                          "yBinStart": 235.1
                        },
                        {
                          "count": 3,
                          "xBinStart": 0.158,
                          "yBinEnd": 245.8,
                          "xBinEnd": 0.181,
                          "yBinStart": 240.45
                        },
                        {
                          "count": 7,
                          "xBinStart": 0.158,
                          "yBinEnd": 251.15,
                          "xBinEnd": 0.181,
                          "yBinStart": 245.8
                        },
                        {
                          "count": 8,
                          "xBinStart": 0.158,
                          "yBinEnd": 261.85,
                          "xBinEnd": 0.181,
                          "yBinStart": 256.5
                        },
                        {
                          "count": 4,
                          "xBinStart": 0.158,
                          "yBinEnd": 267.2,
                          "xBinEnd": 0.181,
                          "yBinStart": 261.85
                        },
                        {
                          "count": 3,
                          "xBinStart": 0.158,
                          "yBinEnd": 272.55,
                          "xBinEnd": 0.181,
                          "yBinStart": 267.2
                        },
                        {
                          "count": 2,
                          "xBinStart": 0.158,
                          "yBinEnd": 277.9,
                          "xBinEnd": 0.181,
                          "yBinStart": 272.55
                        },
                        {
                          "count": 6,
                          "xBinStart": 0.158,
                          "yBinEnd": 283.25,
                          "xBinEnd": 0.181,
                          "yBinStart": 277.9
                        },
                        {
                          "count": 7,
                          "xBinStart": 0.158,
                          "yBinEnd": 288.6,
                          "xBinEnd": 0.181,
                          "yBinStart": 283.25
                        },
                        {
                          "count": 3,
                          "xBinStart": 0.181,
                          "yBinEnd": 106.7,
                          "xBinEnd": 0.204,
                          "yBinStart": 101.35
                        },
                        {
                          "count": 2,
                          "xBinStart": 0.181,
                          "yBinEnd": 112.05,
                          "xBinEnd": 0.204,
                          "yBinStart": 106.7
                        },
                        {
                          "count": 2,
                          "xBinStart": 0.181,
                          "yBinEnd": 117.4,
                          "xBinEnd": 0.204,
                          "yBinStart": 112.05
                        },
                        {
                          "count": 3,
                          "xBinStart": 0.181,
                          "yBinEnd": 128.1,
                          "xBinEnd": 0.204,
                          "yBinStart": 122.75
                        },
                        {
                          "count": 2,
                          "xBinStart": 0.181,
                          "yBinEnd": 138.8,
                          "xBinEnd": 0.204,
                          "yBinStart": 133.45
                        },
                        {
                          "count": 4,
                          "xBinStart": 0.181,
                          "yBinEnd": 144.15,
                          "xBinEnd": 0.204,
                          "yBinStart": 138.8
                        },
                        {
                          "count": 6,
                          "xBinStart": 0.181,
                          "yBinEnd": 149.5,
                          "xBinEnd": 0.204,
                          "yBinStart": 144.15
                        },
                        {
                          "count": 1,
                          "xBinStart": 0.181,
                          "yBinEnd": 154.85,
                          "xBinEnd": 0.204,
                          "yBinStart": 149.5
                        },
                        {
                          "count": 4,
                          "xBinStart": 0.181,
                          "yBinEnd": 160.2,
                          "xBinEnd": 0.204,
                          "yBinStart": 154.85
                        },
                        {
                          "count": 2,
                          "xBinStart": 0.181,
                          "yBinEnd": 165.55,
                          "xBinEnd": 0.204,
                          "yBinStart": 160.2
                        },
                        {
                          "count": 6,
                          "xBinStart": 0.181,
                          "yBinEnd": 170.9,
                          "xBinEnd": 0.204,
                          "yBinStart": 165.55
                        },
                        {
                          "count": 4,
                          "xBinStart": 0.181,
                          "yBinEnd": 176.25,
                          "xBinEnd": 0.204,
                          "yBinStart": 170.9
                        },
                        {
                          "count": 4,
                          "xBinStart": 0.181,
                          "yBinEnd": 181.6,
                          "xBinEnd": 0.204,
                          "yBinStart": 176.25
                        },
                        {
                          "count": 1,
                          "xBinStart": 0.181,
                          "yBinEnd": 186.95,
                          "xBinEnd": 0.204,
                          "yBinStart": 181.6
                        },
                        {
                          "count": 14,
                          "xBinStart": 0.181,
                          "yBinEnd": 192.3,
                          "xBinEnd": 0.204,
                          "yBinStart": 186.95
                        },
                        {
                          "count": 4,
                          "xBinStart": 0.181,
                          "yBinEnd": 197.65,
                          "xBinEnd": 0.204,
                          "yBinStart": 192.3
                        },
                        {
                          "count": 5,
                          "xBinStart": 0.181,
                          "yBinEnd": 203,
                          "xBinEnd": 0.204,
                          "yBinStart": 197.65
                        },
                        {
                          "count": 1,
                          "xBinStart": 0.181,
                          "yBinEnd": 208.35,
                          "xBinEnd": 0.204,
                          "yBinStart": 203
                        },
                        {
                          "count": 3,
                          "xBinStart": 0.181,
                          "yBinEnd": 213.7,
                          "xBinEnd": 0.204,
                          "yBinStart": 208.35
                        },
                        {
                          "count": 2,
                          "xBinStart": 0.181,
                          "yBinEnd": 219.05,
                          "xBinEnd": 0.204,
                          "yBinStart": 213.7
                        },
                        {
                          "count": 3,
                          "xBinStart": 0.181,
                          "yBinEnd": 224.4,
                          "xBinEnd": 0.204,
                          "yBinStart": 219.05
                        },
                        {
                          "count": 6,
                          "xBinStart": 0.181,
                          "yBinEnd": 229.75,
                          "xBinEnd": 0.204,
                          "yBinStart": 224.4
                        },
                        {
                          "count": 2,
                          "xBinStart": 0.181,
                          "yBinEnd": 235.1,
                          "xBinEnd": 0.204,
                          "yBinStart": 229.75
                        },
                        {
                          "count": 2,
                          "xBinStart": 0.181,
                          "yBinEnd": 240.45,
                          "xBinEnd": 0.204,
                          "yBinStart": 235.1
                        },
                        {
                          "count": 3,
                          "xBinStart": 0.181,
                          "yBinEnd": 245.8,
                          "xBinEnd": 0.204,
                          "yBinStart": 240.45
                        },
                        {
                          "count": 5,
                          "xBinStart": 0.181,
                          "yBinEnd": 251.15,
                          "xBinEnd": 0.204,
                          "yBinStart": 245.8
                        },
                        {
                          "count": 2,
                          "xBinStart": 0.181,
                          "yBinEnd": 256.5,
                          "xBinEnd": 0.204,
                          "yBinStart": 251.15
                        },
                        {
                          "count": 1,
                          "xBinStart": 0.181,
                          "yBinEnd": 261.85,
                          "xBinEnd": 0.204,
                          "yBinStart": 256.5
                        },
                        {
                          "count": 6,
                          "xBinStart": 0.181,
                          "yBinEnd": 272.55,
                          "xBinEnd": 0.204,
                          "yBinStart": 267.2
                        },
                        {
                          "count": 4,
                          "xBinStart": 0.181,
                          "yBinEnd": 283.25,
                          "xBinEnd": 0.204,
                          "yBinStart": 277.9
                        },
                        {
                          "count": 1,
                          "xBinStart": 0.204,
                          "yBinEnd": 106.7,
                          "xBinEnd": 0.226,
                          "yBinStart": 101.35
                        },
                        {
                          "count": 1,
                          "xBinStart": 0.204,
                          "yBinEnd": 112.05,
                          "xBinEnd": 0.226,
                          "yBinStart": 106.7
                        },
                        {
                          "count": 1,
                          "xBinStart": 0.204,
                          "yBinEnd": 122.75,
                          "xBinEnd": 0.226,
                          "yBinStart": 117.4
                        },
                        {
                          "count": 5,
                          "xBinStart": 0.204,
                          "yBinEnd": 133.45,
                          "xBinEnd": 0.226,
                          "yBinStart": 128.1
                        },
                        {
                          "count": 5,
                          "xBinStart": 0.204,
                          "yBinEnd": 144.15,
                          "xBinEnd": 0.226,
                          "yBinStart": 138.8
                        },
                        {
                          "count": 4,
                          "xBinStart": 0.204,
                          "yBinEnd": 149.5,
                          "xBinEnd": 0.226,
                          "yBinStart": 144.15
                        },
                        {
                          "count": 3,
                          "xBinStart": 0.204,
                          "yBinEnd": 154.85,
                          "xBinEnd": 0.226,
                          "yBinStart": 149.5
                        },
                        {
                          "count": 2,
                          "xBinStart": 0.204,
                          "yBinEnd": 160.2,
                          "xBinEnd": 0.226,
                          "yBinStart": 154.85
                        },
                        {
                          "count": 4,
                          "xBinStart": 0.204,
                          "yBinEnd": 165.55,
                          "xBinEnd": 0.226,
                          "yBinStart": 160.2
                        },
                        {
                          "count": 3,
                          "xBinStart": 0.204,
                          "yBinEnd": 170.9,
                          "xBinEnd": 0.226,
                          "yBinStart": 165.55
                        },
                        {
                          "count": 6,
                          "xBinStart": 0.204,
                          "yBinEnd": 176.25,
                          "xBinEnd": 0.226,
                          "yBinStart": 170.9
                        },
                        {
                          "count": 3,
                          "xBinStart": 0.204,
                          "yBinEnd": 181.6,
                          "xBinEnd": 0.226,
                          "yBinStart": 176.25
                        },
                        {
                          "count": 2,
                          "xBinStart": 0.204,
                          "yBinEnd": 186.95,
                          "xBinEnd": 0.226,
                          "yBinStart": 181.6
                        },
                        {
                          "count": 2,
                          "xBinStart": 0.204,
                          "yBinEnd": 192.3,
                          "xBinEnd": 0.226,
                          "yBinStart": 186.95
                        },
                        {
                          "count": 4,
                          "xBinStart": 0.204,
                          "yBinEnd": 197.65,
                          "xBinEnd": 0.226,
                          "yBinStart": 192.3
                        },
                        {
                          "count": 1,
                          "xBinStart": 0.204,
                          "yBinEnd": 203,
                          "xBinEnd": 0.226,
                          "yBinStart": 197.65
                        },
                        {
                          "count": 3,
                          "xBinStart": 0.204,
                          "yBinEnd": 208.35,
                          "xBinEnd": 0.226,
                          "yBinStart": 203
                        },
                        {
                          "count": 3,
                          "xBinStart": 0.204,
                          "yBinEnd": 213.7,
                          "xBinEnd": 0.226,
                          "yBinStart": 208.35
                        },
                        {
                          "count": 4,
                          "xBinStart": 0.204,
                          "yBinEnd": 219.05,
                          "xBinEnd": 0.226,
                          "yBinStart": 213.7
                        },
                        {
                          "count": 4,
                          "xBinStart": 0.204,
                          "yBinEnd": 224.4,
                          "xBinEnd": 0.226,
                          "yBinStart": 219.05
                        },
                        {
                          "count": 1,
                          "xBinStart": 0.204,
                          "yBinEnd": 229.75,
                          "xBinEnd": 0.226,
                          "yBinStart": 224.4
                        },
                        {
                          "count": 4,
                          "xBinStart": 0.204,
                          "yBinEnd": 240.45,
                          "xBinEnd": 0.226,
                          "yBinStart": 235.1
                        },
                        {
                          "count": 4,
                          "xBinStart": 0.204,
                          "yBinEnd": 245.8,
                          "xBinEnd": 0.226,
                          "yBinStart": 240.45
                        },
                        {
                          "count": 3,
                          "xBinStart": 0.204,
                          "yBinEnd": 251.15,
                          "xBinEnd": 0.226,
                          "yBinStart": 245.8
                        },
                        {
                          "count": 2,
                          "xBinStart": 0.204,
                          "yBinEnd": 256.5,
                          "xBinEnd": 0.226,
                          "yBinStart": 251.15
                        },
                        {
                          "count": 2,
                          "xBinStart": 0.204,
                          "yBinEnd": 261.85,
                          "xBinEnd": 0.226,
                          "yBinStart": 256.5
                        },
                        {
                          "count": 3,
                          "xBinStart": 0.204,
                          "yBinEnd": 267.2,
                          "xBinEnd": 0.226,
                          "yBinStart": 261.85
                        },
                        {
                          "count": 4,
                          "xBinStart": 0.204,
                          "yBinEnd": 272.55,
                          "xBinEnd": 0.226,
                          "yBinStart": 267.2
                        },
                        {
                          "count": 2,
                          "xBinStart": 0.204,
                          "yBinEnd": 277.9,
                          "xBinEnd": 0.226,
                          "yBinStart": 272.55
                        },
                        {
                          "count": 1,
                          "xBinStart": 0.204,
                          "yBinEnd": 283.25,
                          "xBinEnd": 0.226,
                          "yBinStart": 277.9
                        },
                        {
                          "count": 4,
                          "xBinStart": 0.204,
                          "yBinEnd": 288.6,
                          "xBinEnd": 0.226,
                          "yBinStart": 283.25
                        },
                        {
                          "count": 1,
                          "xBinStart": 0.204,
                          "yBinEnd": 293.95,
                          "xBinEnd": 0.226,
                          "yBinStart": 288.6
                        },
                        {
                          "count": 1,
                          "xBinStart": 0.226,
                          "yBinEnd": 101.35,
                          "xBinEnd": 0.249,
                          "yBinStart": 95.786
                        },
                        {
                          "count": 1,
                          "xBinStart": 0.226,
                          "yBinEnd": 106.7,
                          "xBinEnd": 0.249,
                          "yBinStart": 101.35
                        },
                        {
                          "count": 2,
                          "xBinStart": 0.226,
                          "yBinEnd": 112.05,
                          "xBinEnd": 0.249,
                          "yBinStart": 106.7
                        },
                        {
                          "count": 1,
                          "xBinStart": 0.226,
                          "yBinEnd": 122.75,
                          "xBinEnd": 0.249,
                          "yBinStart": 117.4
                        },
                        {
                          "count": 3,
                          "xBinStart": 0.226,
                          "yBinEnd": 128.1,
                          "xBinEnd": 0.249,
                          "yBinStart": 122.75
                        },
                        {
                          "count": 1,
                          "xBinStart": 0.226,
                          "yBinEnd": 133.45,
                          "xBinEnd": 0.249,
                          "yBinStart": 128.1
                        },
                        {
                          "count": 6,
                          "xBinStart": 0.226,
                          "yBinEnd": 144.15,
                          "xBinEnd": 0.249,
                          "yBinStart": 138.8
                        },
                        {
                          "count": 3,
                          "xBinStart": 0.226,
                          "yBinEnd": 149.5,
                          "xBinEnd": 0.249,
                          "yBinStart": 144.15
                        },
                        {
                          "count": 3,
                          "xBinStart": 0.226,
                          "yBinEnd": 154.85,
                          "xBinEnd": 0.249,
                          "yBinStart": 149.5
                        },
                        {
                          "count": 3,
                          "xBinStart": 0.226,
                          "yBinEnd": 160.2,
                          "xBinEnd": 0.249,
                          "yBinStart": 154.85
                        },
                        {
                          "count": 3,
                          "xBinStart": 0.226,
                          "yBinEnd": 165.55,
                          "xBinEnd": 0.249,
                          "yBinStart": 160.2
                        },
                        {
                          "count": 3,
                          "xBinStart": 0.226,
                          "yBinEnd": 170.9,
                          "xBinEnd": 0.249,
                          "yBinStart": 165.55
                        },
                        {
                          "count": 4,
                          "xBinStart": 0.226,
                          "yBinEnd": 176.25,
                          "xBinEnd": 0.249,
                          "yBinStart": 170.9
                        },
                        {
                          "count": 1,
                          "xBinStart": 0.226,
                          "yBinEnd": 181.6,
                          "xBinEnd": 0.249,
                          "yBinStart": 176.25
                        },
                        {
                          "count": 1,
                          "xBinStart": 0.226,
                          "yBinEnd": 186.95,
                          "xBinEnd": 0.249,
                          "yBinStart": 181.6
                        },
                        {
                          "count": 2,
                          "xBinStart": 0.226,
                          "yBinEnd": 192.3,
                          "xBinEnd": 0.249,
                          "yBinStart": 186.95
                        },
                        {
                          "count": 5,
                          "xBinStart": 0.226,
                          "yBinEnd": 197.65,
                          "xBinEnd": 0.249,
                          "yBinStart": 192.3
                        },
                        {
                          "count": 6,
                          "xBinStart": 0.226,
                          "yBinEnd": 203,
                          "xBinEnd": 0.249,
                          "yBinStart": 197.65
                        },
                        {
                          "count": 3,
                          "xBinStart": 0.226,
                          "yBinEnd": 208.35,
                          "xBinEnd": 0.249,
                          "yBinStart": 203
                        },
                        {
                          "count": 5,
                          "xBinStart": 0.226,
                          "yBinEnd": 213.7,
                          "xBinEnd": 0.249,
                          "yBinStart": 208.35
                        },
                        {
                          "count": 2,
                          "xBinStart": 0.226,
                          "yBinEnd": 219.05,
                          "xBinEnd": 0.249,
                          "yBinStart": 213.7
                        },
                        {
                          "count": 4,
                          "xBinStart": 0.226,
                          "yBinEnd": 224.4,
                          "xBinEnd": 0.249,
                          "yBinStart": 219.05
                        },
                        {
                          "count": 5,
                          "xBinStart": 0.226,
                          "yBinEnd": 229.75,
                          "xBinEnd": 0.249,
                          "yBinStart": 224.4
                        },
                        {
                          "count": 5,
                          "xBinStart": 0.226,
                          "yBinEnd": 235.1,
                          "xBinEnd": 0.249,
                          "yBinStart": 229.75
                        },
                        {
                          "count": 3,
                          "xBinStart": 0.226,
                          "yBinEnd": 240.45,
                          "xBinEnd": 0.249,
                          "yBinStart": 235.1
                        },
                        {
                          "count": 3,
                          "xBinStart": 0.226,
                          "yBinEnd": 245.8,
                          "xBinEnd": 0.249,
                          "yBinStart": 240.45
                        },
                        {
                          "count": 2,
                          "xBinStart": 0.226,
                          "yBinEnd": 251.15,
                          "xBinEnd": 0.249,
                          "yBinStart": 245.8
                        },
                        {
                          "count": 1,
                          "xBinStart": 0.226,
                          "yBinEnd": 261.85,
                          "xBinEnd": 0.249,
                          "yBinStart": 256.5
                        },
                        {
                          "count": 2,
                          "xBinStart": 0.226,
                          "yBinEnd": 267.2,
                          "xBinEnd": 0.249,
                          "yBinStart": 261.85
                        },
                        {
                          "count": 2,
                          "xBinStart": 0.226,
                          "yBinEnd": 272.55,
                          "xBinEnd": 0.249,
                          "yBinStart": 267.2
                        },
                        {
                          "count": 3,
                          "xBinStart": 0.226,
                          "yBinEnd": 277.9,
                          "xBinEnd": 0.249,
                          "yBinStart": 272.55
                        },
                        {
                          "count": 2,
                          "xBinStart": 0.226,
                          "yBinEnd": 283.25,
                          "xBinEnd": 0.249,
                          "yBinStart": 277.9
                        },
                        {
                          "count": 1,
                          "xBinStart": 0.249,
                          "yBinEnd": 101.35,
                          "xBinEnd": 0.272,
                          "yBinStart": 95.786
                        },
                        {
                          "count": 2,
                          "xBinStart": 0.249,
                          "yBinEnd": 112.05,
                          "xBinEnd": 0.272,
                          "yBinStart": 106.7
                        },
                        {
                          "count": 1,
                          "xBinStart": 0.249,
                          "yBinEnd": 128.1,
                          "xBinEnd": 0.272,
                          "yBinStart": 122.75
                        },
                        {
                          "count": 1,
                          "xBinStart": 0.249,
                          "yBinEnd": 133.45,
                          "xBinEnd": 0.272,
                          "yBinStart": 128.1
                        },
                        {
                          "count": 1,
                          "xBinStart": 0.249,
                          "yBinEnd": 138.8,
                          "xBinEnd": 0.272,
                          "yBinStart": 133.45
                        },
                        {
                          "count": 2,
                          "xBinStart": 0.249,
                          "yBinEnd": 144.15,
                          "xBinEnd": 0.272,
                          "yBinStart": 138.8
                        },
                        {
                          "count": 2,
                          "xBinStart": 0.249,
                          "yBinEnd": 154.85,
                          "xBinEnd": 0.272,
                          "yBinStart": 149.5
                        },
                        {
                          "count": 2,
                          "xBinStart": 0.249,
                          "yBinEnd": 160.2,
                          "xBinEnd": 0.272,
                          "yBinStart": 154.85
                        },
                        {
                          "count": 1,
                          "xBinStart": 0.249,
                          "yBinEnd": 165.55,
                          "xBinEnd": 0.272,
                          "yBinStart": 160.2
                        },
                        {
                          "count": 2,
                          "xBinStart": 0.249,
                          "yBinEnd": 170.9,
                          "xBinEnd": 0.272,
                          "yBinStart": 165.55
                        },
                        {
                          "count": 2,
                          "xBinStart": 0.249,
                          "yBinEnd": 176.25,
                          "xBinEnd": 0.272,
                          "yBinStart": 170.9
                        },
                        {
                          "count": 2,
                          "xBinStart": 0.249,
                          "yBinEnd": 181.6,
                          "xBinEnd": 0.272,
                          "yBinStart": 176.25
                        },
                        {
                          "count": 5,
                          "xBinStart": 0.249,
                          "yBinEnd": 186.95,
                          "xBinEnd": 0.272,
                          "yBinStart": 181.6
                        },
                        {
                          "count": 3,
                          "xBinStart": 0.249,
                          "yBinEnd": 192.3,
                          "xBinEnd": 0.272,
                          "yBinStart": 186.95
                        },
                        {
                          "count": 2,
                          "xBinStart": 0.249,
                          "yBinEnd": 197.65,
                          "xBinEnd": 0.272,
                          "yBinStart": 192.3
                        },
                        {
                          "count": 1,
                          "xBinStart": 0.249,
                          "yBinEnd": 203,
                          "xBinEnd": 0.272,
                          "yBinStart": 197.65
                        },
                        {
                          "count": 1,
                          "xBinStart": 0.249,
                          "yBinEnd": 208.35,
                          "xBinEnd": 0.272,
                          "yBinStart": 203
                        },
                        {
                          "count": 1,
                          "xBinStart": 0.249,
                          "yBinEnd": 213.7,
                          "xBinEnd": 0.272,
                          "yBinStart": 208.35
                        },
                        {
                          "count": 6,
                          "xBinStart": 0.249,
                          "yBinEnd": 219.05,
                          "xBinEnd": 0.272,
                          "yBinStart": 213.7
                        },
                        {
                          "count": 2,
                          "xBinStart": 0.249,
                          "yBinEnd": 224.4,
                          "xBinEnd": 0.272,
                          "yBinStart": 219.05
                        },
                        {
                          "count": 5,
                          "xBinStart": 0.249,
                          "yBinEnd": 229.75,
                          "xBinEnd": 0.272,
                          "yBinStart": 224.4
                        },
                        {
                          "count": 1,
                          "xBinStart": 0.249,
                          "yBinEnd": 235.1,
                          "xBinEnd": 0.272,
                          "yBinStart": 229.75
                        },
                        {
                          "count": 3,
                          "xBinStart": 0.249,
                          "yBinEnd": 240.45,
                          "xBinEnd": 0.272,
                          "yBinStart": 235.1
                        },
                        {
                          "count": 4,
                          "xBinStart": 0.249,
                          "yBinEnd": 245.8,
                          "xBinEnd": 0.272,
                          "yBinStart": 240.45
                        },
                        {
                          "count": 1,
                          "xBinStart": 0.249,
                          "yBinEnd": 256.5,
                          "xBinEnd": 0.272,
                          "yBinStart": 251.15
                        },
                        {
                          "count": 1,
                          "xBinStart": 0.249,
                          "yBinEnd": 261.85,
                          "xBinEnd": 0.272,
                          "yBinStart": 256.5
                        },
                        {
                          "count": 4,
                          "xBinStart": 0.249,
                          "yBinEnd": 267.2,
                          "xBinEnd": 0.272,
                          "yBinStart": 261.85
                        },
                        {
                          "count": 2,
                          "xBinStart": 0.249,
                          "yBinEnd": 272.55,
                          "xBinEnd": 0.272,
                          "yBinStart": 267.2
                        },
                        {
                          "count": 2,
                          "xBinStart": 0.249,
                          "yBinEnd": 277.9,
                          "xBinEnd": 0.272,
                          "yBinStart": 272.55
                        },
                        {
                          "count": 6,
                          "xBinStart": 0.249,
                          "yBinEnd": 283.25,
                          "xBinEnd": 0.272,
                          "yBinStart": 277.9
                        },
                        {
                          "count": 2,
                          "xBinStart": 0.249,
                          "yBinEnd": 288.6,
                          "xBinEnd": 0.272,
                          "yBinStart": 283.25
                        },
                        {
                          "count": 2,
                          "xBinStart": 0.249,
                          "yBinEnd": 304.65,
                          "xBinEnd": 0.272,
                          "yBinStart": 299.3
                        },
                        {
                          "count": 2,
                          "xBinStart": 0.272,
                          "yBinEnd": 101.35,
                          "xBinEnd": 0.295,
                          "yBinStart": 95.786
                        },
                        {
                          "count": 3,
                          "xBinStart": 0.272,
                          "yBinEnd": 106.7,
                          "xBinEnd": 0.295,
                          "yBinStart": 101.35
                        },
                        {
                          "count": 1,
                          "xBinStart": 0.272,
                          "yBinEnd": 112.05,
                          "xBinEnd": 0.295,
                          "yBinStart": 106.7
                        },
                        {
                          "count": 2,
                          "xBinStart": 0.272,
                          "yBinEnd": 117.4,
                          "xBinEnd": 0.295,
                          "yBinStart": 112.05
                        },
                        {
                          "count": 2,
                          "xBinStart": 0.272,
                          "yBinEnd": 128.1,
                          "xBinEnd": 0.295,
                          "yBinStart": 122.75
                        },
                        {
                          "count": 1,
                          "xBinStart": 0.272,
                          "yBinEnd": 138.8,
                          "xBinEnd": 0.295,
                          "yBinStart": 133.45
                        },
                        {
                          "count": 2,
                          "xBinStart": 0.272,
                          "yBinEnd": 144.15,
                          "xBinEnd": 0.295,
                          "yBinStart": 138.8
                        },
                        {
                          "count": 1,
                          "xBinStart": 0.272,
                          "yBinEnd": 149.5,
                          "xBinEnd": 0.295,
                          "yBinStart": 144.15
                        },
                        {
                          "count": 3,
                          "xBinStart": 0.272,
                          "yBinEnd": 154.85,
                          "xBinEnd": 0.295,
                          "yBinStart": 149.5
                        },
                        {
                          "count": 2,
                          "xBinStart": 0.272,
                          "yBinEnd": 165.55,
                          "xBinEnd": 0.295,
                          "yBinStart": 160.2
                        },
                        {
                          "count": 1,
                          "xBinStart": 0.272,
                          "yBinEnd": 170.9,
                          "xBinEnd": 0.295,
                          "yBinStart": 165.55
                        },
                        {
                          "count": 2,
                          "xBinStart": 0.272,
                          "yBinEnd": 186.95,
                          "xBinEnd": 0.295,
                          "yBinStart": 181.6
                        },
                        {
                          "count": 4,
                          "xBinStart": 0.272,
                          "yBinEnd": 192.3,
                          "xBinEnd": 0.295,
                          "yBinStart": 186.95
                        },
                        {
                          "count": 1,
                          "xBinStart": 0.272,
                          "yBinEnd": 203,
                          "xBinEnd": 0.295,
                          "yBinStart": 197.65
                        },
                        {
                          "count": 1,
                          "xBinStart": 0.272,
                          "yBinEnd": 208.35,
                          "xBinEnd": 0.295,
                          "yBinStart": 203
                        },
                        {
                          "count": 2,
                          "xBinStart": 0.272,
                          "yBinEnd": 213.7,
                          "xBinEnd": 0.295,
                          "yBinStart": 208.35
                        },
                        {
                          "count": 2,
                          "xBinStart": 0.272,
                          "yBinEnd": 219.05,
                          "xBinEnd": 0.295,
                          "yBinStart": 213.7
                        },
                        {
                          "count": 1,
                          "xBinStart": 0.272,
                          "yBinEnd": 224.4,
                          "xBinEnd": 0.295,
                          "yBinStart": 219.05
                        },
                        {
                          "count": 1,
                          "xBinStart": 0.272,
                          "yBinEnd": 235.1,
                          "xBinEnd": 0.295,
                          "yBinStart": 229.75
                        },
                        {
                          "count": 3,
                          "xBinStart": 0.272,
                          "yBinEnd": 251.15,
                          "xBinEnd": 0.295,
                          "yBinStart": 245.8
                        },
                        {
                          "count": 2,
                          "xBinStart": 0.272,
                          "yBinEnd": 256.5,
                          "xBinEnd": 0.295,
                          "yBinStart": 251.15
                        },
                        {
                          "count": 1,
                          "xBinStart": 0.272,
                          "yBinEnd": 261.85,
                          "xBinEnd": 0.295,
                          "yBinStart": 256.5
                        },
                        {
                          "count": 2,
                          "xBinStart": 0.272,
                          "yBinEnd": 272.55,
                          "xBinEnd": 0.295,
                          "yBinStart": 267.2
                        },
                        {
                          "count": 2,
                          "xBinStart": 0.272,
                          "yBinEnd": 277.9,
                          "xBinEnd": 0.295,
                          "yBinStart": 272.55
                        },
                        {
                          "count": 3,
                          "xBinStart": 0.272,
                          "yBinEnd": 283.25,
                          "xBinEnd": 0.295,
                          "yBinStart": 277.9
                        },
                        {
                          "count": 2,
                          "xBinStart": 0.295,
                          "yBinEnd": 101.35,
                          "xBinEnd": 0.318,
                          "yBinStart": 95.786
                        },
                        {
                          "count": 3,
                          "xBinStart": 0.295,
                          "yBinEnd": 106.7,
                          "xBinEnd": 0.318,
                          "yBinStart": 101.35
                        },
                        {
                          "count": 1,
                          "xBinStart": 0.295,
                          "yBinEnd": 112.05,
                          "xBinEnd": 0.318,
                          "yBinStart": 106.7
                        },
                        {
                          "count": 3,
                          "xBinStart": 0.295,
                          "yBinEnd": 122.75,
                          "xBinEnd": 0.318,
                          "yBinStart": 117.4
                        },
                        {
                          "count": 2,
                          "xBinStart": 0.295,
                          "yBinEnd": 128.1,
                          "xBinEnd": 0.318,
                          "yBinStart": 122.75
                        },
                        {
                          "count": 8,
                          "xBinStart": 0.295,
                          "yBinEnd": 133.45,
                          "xBinEnd": 0.318,
                          "yBinStart": 128.1
                        },
                        {
                          "count": 5,
                          "xBinStart": 0.295,
                          "yBinEnd": 138.8,
                          "xBinEnd": 0.318,
                          "yBinStart": 133.45
                        },
                        {
                          "count": 1,
                          "xBinStart": 0.295,
                          "yBinEnd": 144.15,
                          "xBinEnd": 0.318,
                          "yBinStart": 138.8
                        },
                        {
                          "count": 5,
                          "xBinStart": 0.295,
                          "yBinEnd": 149.5,
                          "xBinEnd": 0.318,
                          "yBinStart": 144.15
                        },
                        {
                          "count": 3,
                          "xBinStart": 0.295,
                          "yBinEnd": 160.2,
                          "xBinEnd": 0.318,
                          "yBinStart": 154.85
                        },
                        {
                          "count": 1,
                          "xBinStart": 0.295,
                          "yBinEnd": 170.9,
                          "xBinEnd": 0.318,
                          "yBinStart": 165.55
                        },
                        {
                          "count": 4,
                          "xBinStart": 0.295,
                          "yBinEnd": 176.25,
                          "xBinEnd": 0.318,
                          "yBinStart": 170.9
                        },
                        {
                          "count": 3,
                          "xBinStart": 0.295,
                          "yBinEnd": 181.6,
                          "xBinEnd": 0.318,
                          "yBinStart": 176.25
                        },
                        {
                          "count": 2,
                          "xBinStart": 0.295,
                          "yBinEnd": 186.95,
                          "xBinEnd": 0.318,
                          "yBinStart": 181.6
                        },
                        {
                          "count": 2,
                          "xBinStart": 0.295,
                          "yBinEnd": 192.3,
                          "xBinEnd": 0.318,
                          "yBinStart": 186.95
                        },
                        {
                          "count": 2,
                          "xBinStart": 0.295,
                          "yBinEnd": 197.65,
                          "xBinEnd": 0.318,
                          "yBinStart": 192.3
                        },
                        {
                          "count": 3,
                          "xBinStart": 0.295,
                          "yBinEnd": 203,
                          "xBinEnd": 0.318,
                          "yBinStart": 197.65
                        },
                        {
                          "count": 2,
                          "xBinStart": 0.295,
                          "yBinEnd": 208.35,
                          "xBinEnd": 0.318,
                          "yBinStart": 203
                        },
                        {
                          "count": 1,
                          "xBinStart": 0.295,
                          "yBinEnd": 213.7,
                          "xBinEnd": 0.318,
                          "yBinStart": 208.35
                        },
                        {
                          "count": 1,
                          "xBinStart": 0.295,
                          "yBinEnd": 219.05,
                          "xBinEnd": 0.318,
                          "yBinStart": 213.7
                        },
                        {
                          "count": 1,
                          "xBinStart": 0.295,
                          "yBinEnd": 224.4,
                          "xBinEnd": 0.318,
                          "yBinStart": 219.05
                        },
                        {
                          "count": 2,
                          "xBinStart": 0.295,
                          "yBinEnd": 229.75,
                          "xBinEnd": 0.318,
                          "yBinStart": 224.4
                        },
                        {
                          "count": 3,
                          "xBinStart": 0.295,
                          "yBinEnd": 235.1,
                          "xBinEnd": 0.318,
                          "yBinStart": 229.75
                        },
                        {
                          "count": 4,
                          "xBinStart": 0.295,
                          "yBinEnd": 240.45,
                          "xBinEnd": 0.318,
                          "yBinStart": 235.1
                        },
                        {
                          "count": 1,
                          "xBinStart": 0.295,
                          "yBinEnd": 245.8,
                          "xBinEnd": 0.318,
                          "yBinStart": 240.45
                        },
                        {
                          "count": 1,
                          "xBinStart": 0.295,
                          "yBinEnd": 251.15,
                          "xBinEnd": 0.318,
                          "yBinStart": 245.8
                        },
                        {
                          "count": 2,
                          "xBinStart": 0.295,
                          "yBinEnd": 261.85,
                          "xBinEnd": 0.318,
                          "yBinStart": 256.5
                        },
                        {
                          "count": 4,
                          "xBinStart": 0.295,
                          "yBinEnd": 267.2,
                          "xBinEnd": 0.318,
                          "yBinStart": 261.85
                        },
                        {
                          "count": 1,
                          "xBinStart": 0.295,
                          "yBinEnd": 277.9,
                          "xBinEnd": 0.318,
                          "yBinStart": 272.55
                        },
                        {
                          "count": 2,
                          "xBinStart": 0.295,
                          "yBinEnd": 283.25,
                          "xBinEnd": 0.318,
                          "yBinStart": 277.9
                        },
                        {
                          "count": 1,
                          "xBinStart": 0.295,
                          "yBinEnd": 310,
                          "xBinEnd": 0.318,
                          "yBinStart": 304.65
                        },
                        {
                          "count": 4,
                          "xBinStart": 0.318,
                          "yBinEnd": 101.35,
                          "xBinEnd": 0.34,
                          "yBinStart": 95.786
                        },
                        {
                          "count": 1,
                          "xBinStart": 0.318,
                          "yBinEnd": 106.7,
                          "xBinEnd": 0.34,
                          "yBinStart": 101.35
                        },
                        {
                          "count": 2,
                          "xBinStart": 0.318,
                          "yBinEnd": 112.05,
                          "xBinEnd": 0.34,
                          "yBinStart": 106.7
                        },
                        {
                          "count": 7,
                          "xBinStart": 0.318,
                          "yBinEnd": 117.4,
                          "xBinEnd": 0.34,
                          "yBinStart": 112.05
                        },
                        {
                          "count": 2,
                          "xBinStart": 0.318,
                          "yBinEnd": 122.75,
                          "xBinEnd": 0.34,
                          "yBinStart": 117.4
                        },
                        {
                          "count": 2,
                          "xBinStart": 0.318,
                          "yBinEnd": 128.1,
                          "xBinEnd": 0.34,
                          "yBinStart": 122.75
                        },
                        {
                          "count": 4,
                          "xBinStart": 0.318,
                          "yBinEnd": 133.45,
                          "xBinEnd": 0.34,
                          "yBinStart": 128.1
                        },
                        {
                          "count": 6,
                          "xBinStart": 0.318,
                          "yBinEnd": 138.8,
                          "xBinEnd": 0.34,
                          "yBinStart": 133.45
                        },
                        {
                          "count": 6,
                          "xBinStart": 0.318,
                          "yBinEnd": 144.15,
                          "xBinEnd": 0.34,
                          "yBinStart": 138.8
                        },
                        {
                          "count": 1,
                          "xBinStart": 0.318,
                          "yBinEnd": 149.5,
                          "xBinEnd": 0.34,
                          "yBinStart": 144.15
                        },
                        {
                          "count": 3,
                          "xBinStart": 0.318,
                          "yBinEnd": 154.85,
                          "xBinEnd": 0.34,
                          "yBinStart": 149.5
                        },
                        {
                          "count": 7,
                          "xBinStart": 0.318,
                          "yBinEnd": 160.2,
                          "xBinEnd": 0.34,
                          "yBinStart": 154.85
                        },
                        {
                          "count": 3,
                          "xBinStart": 0.318,
                          "yBinEnd": 165.55,
                          "xBinEnd": 0.34,
                          "yBinStart": 160.2
                        },
                        {
                          "count": 3,
                          "xBinStart": 0.318,
                          "yBinEnd": 170.9,
                          "xBinEnd": 0.34,
                          "yBinStart": 165.55
                        },
                        {
                          "count": 7,
                          "xBinStart": 0.318,
                          "yBinEnd": 176.25,
                          "xBinEnd": 0.34,
                          "yBinStart": 170.9
                        },
                        {
                          "count": 3,
                          "xBinStart": 0.318,
                          "yBinEnd": 181.6,
                          "xBinEnd": 0.34,
                          "yBinStart": 176.25
                        },
                        {
                          "count": 5,
                          "xBinStart": 0.318,
                          "yBinEnd": 186.95,
                          "xBinEnd": 0.34,
                          "yBinStart": 181.6
                        },
                        {
                          "count": 3,
                          "xBinStart": 0.318,
                          "yBinEnd": 192.3,
                          "xBinEnd": 0.34,
                          "yBinStart": 186.95
                        },
                        {
                          "count": 3,
                          "xBinStart": 0.318,
                          "yBinEnd": 197.65,
                          "xBinEnd": 0.34,
                          "yBinStart": 192.3
                        },
                        {
                          "count": 2,
                          "xBinStart": 0.318,
                          "yBinEnd": 203,
                          "xBinEnd": 0.34,
                          "yBinStart": 197.65
                        },
                        {
                          "count": 1,
                          "xBinStart": 0.318,
                          "yBinEnd": 208.35,
                          "xBinEnd": 0.34,
                          "yBinStart": 203
                        },
                        {
                          "count": 2,
                          "xBinStart": 0.318,
                          "yBinEnd": 213.7,
                          "xBinEnd": 0.34,
                          "yBinStart": 208.35
                        },
                        {
                          "count": 6,
                          "xBinStart": 0.318,
                          "yBinEnd": 219.05,
                          "xBinEnd": 0.34,
                          "yBinStart": 213.7
                        },
                        {
                          "count": 1,
                          "xBinStart": 0.318,
                          "yBinEnd": 224.4,
                          "xBinEnd": 0.34,
                          "yBinStart": 219.05
                        },
                        {
                          "count": 3,
                          "xBinStart": 0.318,
                          "yBinEnd": 240.45,
                          "xBinEnd": 0.34,
                          "yBinStart": 235.1
                        },
                        {
                          "count": 1,
                          "xBinStart": 0.318,
                          "yBinEnd": 245.8,
                          "xBinEnd": 0.34,
                          "yBinStart": 240.45
                        },
                        {
                          "count": 3,
                          "xBinStart": 0.318,
                          "yBinEnd": 251.15,
                          "xBinEnd": 0.34,
                          "yBinStart": 245.8
                        },
                        {
                          "count": 1,
                          "xBinStart": 0.318,
                          "yBinEnd": 256.5,
                          "xBinEnd": 0.34,
                          "yBinStart": 251.15
                        },
                        {
                          "count": 3,
                          "xBinStart": 0.318,
                          "yBinEnd": 261.85,
                          "xBinEnd": 0.34,
                          "yBinStart": 256.5
                        },
                        {
                          "count": 5,
                          "xBinStart": 0.318,
                          "yBinEnd": 267.2,
                          "xBinEnd": 0.34,
                          "yBinStart": 261.85
                        },
                        {
                          "count": 1,
                          "xBinStart": 0.318,
                          "yBinEnd": 272.55,
                          "xBinEnd": 0.34,
                          "yBinStart": 267.2
                        },
                        {
                          "count": 2,
                          "xBinStart": 0.318,
                          "yBinEnd": 277.9,
                          "xBinEnd": 0.34,
                          "yBinStart": 272.55
                        },
                        {
                          "count": 3,
                          "xBinStart": 0.318,
                          "yBinEnd": 283.25,
                          "xBinEnd": 0.34,
                          "yBinStart": 277.9
                        },
                        {
                          "count": 1,
                          "xBinStart": 0.318,
                          "yBinEnd": 288.6,
                          "xBinEnd": 0.34,
                          "yBinStart": 283.25
                        },
                        {
                          "count": 3,
                          "xBinStart": 0.34,
                          "yBinEnd": 101.35,
                          "xBinEnd": 0.363,
                          "yBinStart": 95.786
                        },
                        {
                          "count": 2,
                          "xBinStart": 0.34,
                          "yBinEnd": 106.7,
                          "xBinEnd": 0.363,
                          "yBinStart": 101.35
                        },
                        {
                          "count": 3,
                          "xBinStart": 0.34,
                          "yBinEnd": 112.05,
                          "xBinEnd": 0.363,
                          "yBinStart": 106.7
                        },
                        {
                          "count": 2,
                          "xBinStart": 0.34,
                          "yBinEnd": 117.4,
                          "xBinEnd": 0.363,
                          "yBinStart": 112.05
                        },
                        {
                          "count": 1,
                          "xBinStart": 0.34,
                          "yBinEnd": 122.75,
                          "xBinEnd": 0.363,
                          "yBinStart": 117.4
                        },
                        {
                          "count": 4,
                          "xBinStart": 0.34,
                          "yBinEnd": 128.1,
                          "xBinEnd": 0.363,
                          "yBinStart": 122.75
                        },
                        {
                          "count": 19,
                          "xBinStart": 0.34,
                          "yBinEnd": 133.45,
                          "xBinEnd": 0.363,
                          "yBinStart": 128.1
                        },
                        {
                          "count": 16,
                          "xBinStart": 0.34,
                          "yBinEnd": 138.8,
                          "xBinEnd": 0.363,
                          "yBinStart": 133.45
                        },
                        {
                          "count": 10,
                          "xBinStart": 0.34,
                          "yBinEnd": 144.15,
                          "xBinEnd": 0.363,
                          "yBinStart": 138.8
                        },
                        {
                          "count": 12,
                          "xBinStart": 0.34,
                          "yBinEnd": 149.5,
                          "xBinEnd": 0.363,
                          "yBinStart": 144.15
                        },
                        {
                          "count": 10,
                          "xBinStart": 0.34,
                          "yBinEnd": 154.85,
                          "xBinEnd": 0.363,
                          "yBinStart": 149.5
                        },
                        {
                          "count": 20,
                          "xBinStart": 0.34,
                          "yBinEnd": 160.2,
                          "xBinEnd": 0.363,
                          "yBinStart": 154.85
                        },
                        {
                          "count": 3,
                          "xBinStart": 0.34,
                          "yBinEnd": 170.9,
                          "xBinEnd": 0.363,
                          "yBinStart": 165.55
                        },
                        {
                          "count": 1,
                          "xBinStart": 0.34,
                          "yBinEnd": 176.25,
                          "xBinEnd": 0.363,
                          "yBinStart": 170.9
                        },
                        {
                          "count": 2,
                          "xBinStart": 0.34,
                          "yBinEnd": 186.95,
                          "xBinEnd": 0.363,
                          "yBinStart": 181.6
                        },
                        {
                          "count": 2,
                          "xBinStart": 0.34,
                          "yBinEnd": 192.3,
                          "xBinEnd": 0.363,
                          "yBinStart": 186.95
                        },
                        {
                          "count": 1,
                          "xBinStart": 0.34,
                          "yBinEnd": 197.65,
                          "xBinEnd": 0.363,
                          "yBinStart": 192.3
                        },
                        {
                          "count": 1,
                          "xBinStart": 0.34,
                          "yBinEnd": 203,
                          "xBinEnd": 0.363,
                          "yBinStart": 197.65
                        },
                        {
                          "count": 3,
                          "xBinStart": 0.34,
                          "yBinEnd": 208.35,
                          "xBinEnd": 0.363,
                          "yBinStart": 203
                        },
                        {
                          "count": 1,
                          "xBinStart": 0.34,
                          "yBinEnd": 219.05,
                          "xBinEnd": 0.363,
                          "yBinStart": 213.7
                        },
                        {
                          "count": 2,
                          "xBinStart": 0.34,
                          "yBinEnd": 229.75,
                          "xBinEnd": 0.363,
                          "yBinStart": 224.4
                        },
                        {
                          "count": 3,
                          "xBinStart": 0.34,
                          "yBinEnd": 240.45,
                          "xBinEnd": 0.363,
                          "yBinStart": 235.1
                        },
                        {
                          "count": 3,
                          "xBinStart": 0.34,
                          "yBinEnd": 245.8,
                          "xBinEnd": 0.363,
                          "yBinStart": 240.45
                        },
                        {
                          "count": 2,
                          "xBinStart": 0.34,
                          "yBinEnd": 256.5,
                          "xBinEnd": 0.363,
                          "yBinStart": 251.15
                        },
                        {
                          "count": 3,
                          "xBinStart": 0.34,
                          "yBinEnd": 277.9,
                          "xBinEnd": 0.363,
                          "yBinStart": 272.55
                        },
                        {
                          "count": 4,
                          "xBinStart": 0.34,
                          "yBinEnd": 283.25,
                          "xBinEnd": 0.363,
                          "yBinStart": 277.9
                        },
                        {
                          "count": 1,
                          "xBinStart": 0.34,
                          "yBinEnd": 310,
                          "xBinEnd": 0.363,
                          "yBinStart": 304.65
                        },
                        {
                          "count": 2,
                          "xBinStart": 0.363,
                          "yBinEnd": 101.35,
                          "xBinEnd": 0.386,
                          "yBinStart": 95.786
                        },
                        {
                          "count": 2,
                          "xBinStart": 0.363,
                          "yBinEnd": 112.05,
                          "xBinEnd": 0.386,
                          "yBinStart": 106.7
                        },
                        {
                          "count": 4,
                          "xBinStart": 0.363,
                          "yBinEnd": 117.4,
                          "xBinEnd": 0.386,
                          "yBinStart": 112.05
                        },
                        {
                          "count": 2,
                          "xBinStart": 0.363,
                          "yBinEnd": 122.75,
                          "xBinEnd": 0.386,
                          "yBinStart": 117.4
                        },
                        {
                          "count": 21,
                          "xBinStart": 0.363,
                          "yBinEnd": 128.1,
                          "xBinEnd": 0.386,
                          "yBinStart": 122.75
                        },
                        {
                          "count": 30,
                          "xBinStart": 0.363,
                          "yBinEnd": 133.45,
                          "xBinEnd": 0.386,
                          "yBinStart": 128.1
                        },
                        {
                          "count": 26,
                          "xBinStart": 0.363,
                          "yBinEnd": 138.8,
                          "xBinEnd": 0.386,
                          "yBinStart": 133.45
                        },
                        {
                          "count": 41,
                          "xBinStart": 0.363,
                          "yBinEnd": 144.15,
                          "xBinEnd": 0.386,
                          "yBinStart": 138.8
                        },
                        {
                          "count": 41,
                          "xBinStart": 0.363,
                          "yBinEnd": 149.5,
                          "xBinEnd": 0.386,
                          "yBinStart": 144.15
                        },
                        {
                          "count": 50,
                          "xBinStart": 0.363,
                          "yBinEnd": 154.85,
                          "xBinEnd": 0.386,
                          "yBinStart": 149.5
                        },
                        {
                          "count": 68,
                          "xBinStart": 0.363,
                          "yBinEnd": 160.2,
                          "xBinEnd": 0.386,
                          "yBinStart": 154.85
                        },
                        {
                          "count": 5,
                          "xBinStart": 0.363,
                          "yBinEnd": 165.55,
                          "xBinEnd": 0.386,
                          "yBinStart": 160.2
                        },
                        {
                          "count": 6,
                          "xBinStart": 0.363,
                          "yBinEnd": 170.9,
                          "xBinEnd": 0.386,
                          "yBinStart": 165.55
                        },
                        {
                          "count": 4,
                          "xBinStart": 0.363,
                          "yBinEnd": 176.25,
                          "xBinEnd": 0.386,
                          "yBinStart": 170.9
                        },
                        {
                          "count": 1,
                          "xBinStart": 0.363,
                          "yBinEnd": 181.6,
                          "xBinEnd": 0.386,
                          "yBinStart": 176.25
                        },
                        {
                          "count": 4,
                          "xBinStart": 0.363,
                          "yBinEnd": 186.95,
                          "xBinEnd": 0.386,
                          "yBinStart": 181.6
                        },
                        {
                          "count": 4,
                          "xBinStart": 0.363,
                          "yBinEnd": 192.3,
                          "xBinEnd": 0.386,
                          "yBinStart": 186.95
                        },
                        {
                          "count": 4,
                          "xBinStart": 0.363,
                          "yBinEnd": 197.65,
                          "xBinEnd": 0.386,
                          "yBinStart": 192.3
                        },
                        {
                          "count": 4,
                          "xBinStart": 0.363,
                          "yBinEnd": 213.7,
                          "xBinEnd": 0.386,
                          "yBinStart": 208.35
                        },
                        {
                          "count": 1,
                          "xBinStart": 0.363,
                          "yBinEnd": 219.05,
                          "xBinEnd": 0.386,
                          "yBinStart": 213.7
                        },
                        {
                          "count": 1,
                          "xBinStart": 0.363,
                          "yBinEnd": 229.75,
                          "xBinEnd": 0.386,
                          "yBinStart": 224.4
                        },
                        {
                          "count": 1,
                          "xBinStart": 0.363,
                          "yBinEnd": 240.45,
                          "xBinEnd": 0.386,
                          "yBinStart": 235.1
                        },
                        {
                          "count": 1,
                          "xBinStart": 0.363,
                          "yBinEnd": 256.5,
                          "xBinEnd": 0.386,
                          "yBinStart": 251.15
                        },
                        {
                          "count": 2,
                          "xBinStart": 0.363,
                          "yBinEnd": 261.85,
                          "xBinEnd": 0.386,
                          "yBinStart": 256.5
                        },
                        {
                          "count": 1,
                          "xBinStart": 0.363,
                          "yBinEnd": 267.2,
                          "xBinEnd": 0.386,
                          "yBinStart": 261.85
                        },
                        {
                          "count": 1,
                          "xBinStart": 0.363,
                          "yBinEnd": 277.9,
                          "xBinEnd": 0.386,
                          "yBinStart": 272.55
                        },
                        {
                          "count": 1,
                          "xBinStart": 0.363,
                          "yBinEnd": 288.6,
                          "xBinEnd": 0.386,
                          "yBinStart": 283.25
                        },
                        {
                          "count": 1,
                          "xBinStart": 0.386,
                          "yBinEnd": 101.35,
                          "xBinEnd": 0.408,
                          "yBinStart": 95.786
                        },
                        {
                          "count": 1,
                          "xBinStart": 0.386,
                          "yBinEnd": 106.7,
                          "xBinEnd": 0.408,
                          "yBinStart": 101.35
                        },
                        {
                          "count": 1,
                          "xBinStart": 0.386,
                          "yBinEnd": 112.05,
                          "xBinEnd": 0.408,
                          "yBinStart": 106.7
                        },
                        {
                          "count": 2,
                          "xBinStart": 0.386,
                          "yBinEnd": 117.4,
                          "xBinEnd": 0.408,
                          "yBinStart": 112.05
                        },
                        {
                          "count": 35,
                          "xBinStart": 0.386,
                          "yBinEnd": 128.1,
                          "xBinEnd": 0.408,
                          "yBinStart": 122.75
                        },
                        {
                          "count": 26,
                          "xBinStart": 0.386,
                          "yBinEnd": 133.45,
                          "xBinEnd": 0.408,
                          "yBinStart": 128.1
                        },
                        {
                          "count": 32,
                          "xBinStart": 0.386,
                          "yBinEnd": 138.8,
                          "xBinEnd": 0.408,
                          "yBinStart": 133.45
                        },
                        {
                          "count": 42,
                          "xBinStart": 0.386,
                          "yBinEnd": 144.15,
                          "xBinEnd": 0.408,
                          "yBinStart": 138.8
                        },
                        {
                          "count": 36,
                          "xBinStart": 0.386,
                          "yBinEnd": 149.5,
                          "xBinEnd": 0.408,
                          "yBinStart": 144.15
                        },
                        {
                          "count": 24,
                          "xBinStart": 0.386,
                          "yBinEnd": 154.85,
                          "xBinEnd": 0.408,
                          "yBinStart": 149.5
                        },
                        {
                          "count": 46,
                          "xBinStart": 0.386,
                          "yBinEnd": 160.2,
                          "xBinEnd": 0.408,
                          "yBinStart": 154.85
                        },
                        {
                          "count": 3,
                          "xBinStart": 0.386,
                          "yBinEnd": 165.55,
                          "xBinEnd": 0.408,
                          "yBinStart": 160.2
                        },
                        {
                          "count": 3,
                          "xBinStart": 0.386,
                          "yBinEnd": 170.9,
                          "xBinEnd": 0.408,
                          "yBinStart": 165.55
                        },
                        {
                          "count": 4,
                          "xBinStart": 0.386,
                          "yBinEnd": 176.25,
                          "xBinEnd": 0.408,
                          "yBinStart": 170.9
                        },
                        {
                          "count": 1,
                          "xBinStart": 0.386,
                          "yBinEnd": 181.6,
                          "xBinEnd": 0.408,
                          "yBinStart": 176.25
                        },
                        {
                          "count": 2,
                          "xBinStart": 0.386,
                          "yBinEnd": 186.95,
                          "xBinEnd": 0.408,
                          "yBinStart": 181.6
                        },
                        {
                          "count": 2,
                          "xBinStart": 0.386,
                          "yBinEnd": 192.3,
                          "xBinEnd": 0.408,
                          "yBinStart": 186.95
                        },
                        {
                          "count": 1,
                          "xBinStart": 0.386,
                          "yBinEnd": 203,
                          "xBinEnd": 0.408,
                          "yBinStart": 197.65
                        },
                        {
                          "count": 2,
                          "xBinStart": 0.386,
                          "yBinEnd": 208.35,
                          "xBinEnd": 0.408,
                          "yBinStart": 203
                        },
                        {
                          "count": 2,
                          "xBinStart": 0.386,
                          "yBinEnd": 213.7,
                          "xBinEnd": 0.408,
                          "yBinStart": 208.35
                        },
                        {
                          "count": 1,
                          "xBinStart": 0.386,
                          "yBinEnd": 229.75,
                          "xBinEnd": 0.408,
                          "yBinStart": 224.4
                        },
                        {
                          "count": 2,
                          "xBinStart": 0.386,
                          "yBinEnd": 235.1,
                          "xBinEnd": 0.408,
                          "yBinStart": 229.75
                        },
                        {
                          "count": 1,
                          "xBinStart": 0.386,
                          "yBinEnd": 251.15,
                          "xBinEnd": 0.408,
                          "yBinStart": 245.8
                        },
                        {
                          "count": 1,
                          "xBinStart": 0.386,
                          "yBinEnd": 256.5,
                          "xBinEnd": 0.408,
                          "yBinStart": 251.15
                        },
                        {
                          "count": 1,
                          "xBinStart": 0.386,
                          "yBinEnd": 267.2,
                          "xBinEnd": 0.408,
                          "yBinStart": 261.85
                        },
                        {
                          "count": 4,
                          "xBinStart": 0.386,
                          "yBinEnd": 283.25,
                          "xBinEnd": 0.408,
                          "yBinStart": 277.9
                        },
                        {
                          "count": 1,
                          "xBinStart": 0.386,
                          "yBinEnd": 288.6,
                          "xBinEnd": 0.408,
                          "yBinStart": 283.25
                        },
                        {
                          "count": 2,
                          "xBinStart": 0.386,
                          "yBinEnd": 299.3,
                          "xBinEnd": 0.408,
                          "yBinStart": 293.95
                        },
                        {
                          "count": 2,
                          "xBinStart": 0.408,
                          "yBinEnd": 106.7,
                          "xBinEnd": 0.431,
                          "yBinStart": 101.35
                        },
                        {
                          "count": 5,
                          "xBinStart": 0.408,
                          "yBinEnd": 112.05,
                          "xBinEnd": 0.431,
                          "yBinStart": 106.7
                        },
                        {
                          "count": 3,
                          "xBinStart": 0.408,
                          "yBinEnd": 117.4,
                          "xBinEnd": 0.431,
                          "yBinStart": 112.05
                        },
                        {
                          "count": 4,
                          "xBinStart": 0.408,
                          "yBinEnd": 122.75,
                          "xBinEnd": 0.431,
                          "yBinStart": 117.4
                        },
                        {
                          "count": 18,
                          "xBinStart": 0.408,
                          "yBinEnd": 128.1,
                          "xBinEnd": 0.431,
                          "yBinStart": 122.75
                        },
                        {
                          "count": 41,
                          "xBinStart": 0.408,
                          "yBinEnd": 133.45,
                          "xBinEnd": 0.431,
                          "yBinStart": 128.1
                        },
                        {
                          "count": 55,
                          "xBinStart": 0.408,
                          "yBinEnd": 138.8,
                          "xBinEnd": 0.431,
                          "yBinStart": 133.45
                        },
                        {
                          "count": 52,
                          "xBinStart": 0.408,
                          "yBinEnd": 144.15,
                          "xBinEnd": 0.431,
                          "yBinStart": 138.8
                        },
                        {
                          "count": 47,
                          "xBinStart": 0.408,
                          "yBinEnd": 149.5,
                          "xBinEnd": 0.431,
                          "yBinStart": 144.15
                        },
                        {
                          "count": 54,
                          "xBinStart": 0.408,
                          "yBinEnd": 154.85,
                          "xBinEnd": 0.431,
                          "yBinStart": 149.5
                        },
                        {
                          "count": 65,
                          "xBinStart": 0.408,
                          "yBinEnd": 160.2,
                          "xBinEnd": 0.431,
                          "yBinStart": 154.85
                        },
                        {
                          "count": 3,
                          "xBinStart": 0.408,
                          "yBinEnd": 165.55,
                          "xBinEnd": 0.431,
                          "yBinStart": 160.2
                        },
                        {
                          "count": 3,
                          "xBinStart": 0.408,
                          "yBinEnd": 170.9,
                          "xBinEnd": 0.431,
                          "yBinStart": 165.55
                        },
                        {
                          "count": 6,
                          "xBinStart": 0.408,
                          "yBinEnd": 176.25,
                          "xBinEnd": 0.431,
                          "yBinStart": 170.9
                        },
                        {
                          "count": 3,
                          "xBinStart": 0.408,
                          "yBinEnd": 181.6,
                          "xBinEnd": 0.431,
                          "yBinStart": 176.25
                        },
                        {
                          "count": 7,
                          "xBinStart": 0.408,
                          "yBinEnd": 186.95,
                          "xBinEnd": 0.431,
                          "yBinStart": 181.6
                        },
                        {
                          "count": 9,
                          "xBinStart": 0.408,
                          "yBinEnd": 192.3,
                          "xBinEnd": 0.431,
                          "yBinStart": 186.95
                        },
                        {
                          "count": 4,
                          "xBinStart": 0.408,
                          "yBinEnd": 197.65,
                          "xBinEnd": 0.431,
                          "yBinStart": 192.3
                        },
                        {
                          "count": 6,
                          "xBinStart": 0.408,
                          "yBinEnd": 203,
                          "xBinEnd": 0.431,
                          "yBinStart": 197.65
                        },
                        {
                          "count": 1,
                          "xBinStart": 0.408,
                          "yBinEnd": 208.35,
                          "xBinEnd": 0.431,
                          "yBinStart": 203
                        },
                        {
                          "count": 4,
                          "xBinStart": 0.408,
                          "yBinEnd": 219.05,
                          "xBinEnd": 0.431,
                          "yBinStart": 213.7
                        },
                        {
                          "count": 3,
                          "xBinStart": 0.408,
                          "yBinEnd": 224.4,
                          "xBinEnd": 0.431,
                          "yBinStart": 219.05
                        },
                        {
                          "count": 3,
                          "xBinStart": 0.408,
                          "yBinEnd": 229.75,
                          "xBinEnd": 0.431,
                          "yBinStart": 224.4
                        },
                        {
                          "count": 1,
                          "xBinStart": 0.408,
                          "yBinEnd": 235.1,
                          "xBinEnd": 0.431,
                          "yBinStart": 229.75
                        },
                        {
                          "count": 4,
                          "xBinStart": 0.408,
                          "yBinEnd": 240.45,
                          "xBinEnd": 0.431,
                          "yBinStart": 235.1
                        },
                        {
                          "count": 1,
                          "xBinStart": 0.408,
                          "yBinEnd": 251.15,
                          "xBinEnd": 0.431,
                          "yBinStart": 245.8
                        },
                        {
                          "count": 1,
                          "xBinStart": 0.408,
                          "yBinEnd": 256.5,
                          "xBinEnd": 0.431,
                          "yBinStart": 251.15
                        },
                        {
                          "count": 4,
                          "xBinStart": 0.408,
                          "yBinEnd": 261.85,
                          "xBinEnd": 0.431,
                          "yBinStart": 256.5
                        },
                        {
                          "count": 1,
                          "xBinStart": 0.408,
                          "yBinEnd": 267.2,
                          "xBinEnd": 0.431,
                          "yBinStart": 261.85
                        },
                        {
                          "count": 2,
                          "xBinStart": 0.408,
                          "yBinEnd": 272.55,
                          "xBinEnd": 0.431,
                          "yBinStart": 267.2
                        },
                        {
                          "count": 2,
                          "xBinStart": 0.408,
                          "yBinEnd": 277.9,
                          "xBinEnd": 0.431,
                          "yBinStart": 272.55
                        },
                        {
                          "count": 3,
                          "xBinStart": 0.408,
                          "yBinEnd": 283.25,
                          "xBinEnd": 0.431,
                          "yBinStart": 277.9
                        },
                        {
                          "count": 3,
                          "xBinStart": 0.408,
                          "yBinEnd": 288.6,
                          "xBinEnd": 0.431,
                          "yBinStart": 283.25
                        },
                        {
                          "count": 1,
                          "xBinStart": 0.408,
                          "yBinEnd": 304.65,
                          "xBinEnd": 0.431,
                          "yBinStart": 299.3
                        },
                        {
                          "count": 1,
                          "xBinStart": 0.431,
                          "yBinEnd": 101.35,
                          "xBinEnd": 0.454,
                          "yBinStart": 95.786
                        },
                        {
                          "count": 1,
                          "xBinStart": 0.431,
                          "yBinEnd": 106.7,
                          "xBinEnd": 0.454,
                          "yBinStart": 101.35
                        },
                        {
                          "count": 2,
                          "xBinStart": 0.431,
                          "yBinEnd": 112.05,
                          "xBinEnd": 0.454,
                          "yBinStart": 106.7
                        },
                        {
                          "count": 3,
                          "xBinStart": 0.431,
                          "yBinEnd": 117.4,
                          "xBinEnd": 0.454,
                          "yBinStart": 112.05
                        },
                        {
                          "count": 4,
                          "xBinStart": 0.431,
                          "yBinEnd": 122.75,
                          "xBinEnd": 0.454,
                          "yBinStart": 117.4
                        },
                        {
                          "count": 24,
                          "xBinStart": 0.431,
                          "yBinEnd": 128.1,
                          "xBinEnd": 0.454,
                          "yBinStart": 122.75
                        },
                        {
                          "count": 31,
                          "xBinStart": 0.431,
                          "yBinEnd": 133.45,
                          "xBinEnd": 0.454,
                          "yBinStart": 128.1
                        },
                        {
                          "count": 38,
                          "xBinStart": 0.431,
                          "yBinEnd": 138.8,
                          "xBinEnd": 0.454,
                          "yBinStart": 133.45
                        },
                        {
                          "count": 37,
                          "xBinStart": 0.431,
                          "yBinEnd": 144.15,
                          "xBinEnd": 0.454,
                          "yBinStart": 138.8
                        },
                        {
                          "count": 52,
                          "xBinStart": 0.431,
                          "yBinEnd": 149.5,
                          "xBinEnd": 0.454,
                          "yBinStart": 144.15
                        },
                        {
                          "count": 33,
                          "xBinStart": 0.431,
                          "yBinEnd": 154.85,
                          "xBinEnd": 0.454,
                          "yBinStart": 149.5
                        },
                        {
                          "count": 42,
                          "xBinStart": 0.431,
                          "yBinEnd": 160.2,
                          "xBinEnd": 0.454,
                          "yBinStart": 154.85
                        },
                        {
                          "count": 4,
                          "xBinStart": 0.431,
                          "yBinEnd": 165.55,
                          "xBinEnd": 0.454,
                          "yBinStart": 160.2
                        },
                        {
                          "count": 4,
                          "xBinStart": 0.431,
                          "yBinEnd": 170.9,
                          "xBinEnd": 0.454,
                          "yBinStart": 165.55
                        },
                        {
                          "count": 5,
                          "xBinStart": 0.431,
                          "yBinEnd": 176.25,
                          "xBinEnd": 0.454,
                          "yBinStart": 170.9
                        },
                        {
                          "count": 4,
                          "xBinStart": 0.431,
                          "yBinEnd": 181.6,
                          "xBinEnd": 0.454,
                          "yBinStart": 176.25
                        },
                        {
                          "count": 1,
                          "xBinStart": 0.431,
                          "yBinEnd": 186.95,
                          "xBinEnd": 0.454,
                          "yBinStart": 181.6
                        },
                        {
                          "count": 3,
                          "xBinStart": 0.431,
                          "yBinEnd": 197.65,
                          "xBinEnd": 0.454,
                          "yBinStart": 192.3
                        },
                        {
                          "count": 2,
                          "xBinStart": 0.431,
                          "yBinEnd": 203,
                          "xBinEnd": 0.454,
                          "yBinStart": 197.65
                        },
                        {
                          "count": 2,
                          "xBinStart": 0.431,
                          "yBinEnd": 208.35,
                          "xBinEnd": 0.454,
                          "yBinStart": 203
                        },
                        {
                          "count": 2,
                          "xBinStart": 0.431,
                          "yBinEnd": 213.7,
                          "xBinEnd": 0.454,
                          "yBinStart": 208.35
                        },
                        {
                          "count": 3,
                          "xBinStart": 0.431,
                          "yBinEnd": 219.05,
                          "xBinEnd": 0.454,
                          "yBinStart": 213.7
                        },
                        {
                          "count": 2,
                          "xBinStart": 0.431,
                          "yBinEnd": 229.75,
                          "xBinEnd": 0.454,
                          "yBinStart": 224.4
                        },
                        {
                          "count": 1,
                          "xBinStart": 0.431,
                          "yBinEnd": 235.1,
                          "xBinEnd": 0.454,
                          "yBinStart": 229.75
                        },
                        {
                          "count": 2,
                          "xBinStart": 0.431,
                          "yBinEnd": 240.45,
                          "xBinEnd": 0.454,
                          "yBinStart": 235.1
                        },
                        {
                          "count": 3,
                          "xBinStart": 0.431,
                          "yBinEnd": 251.15,
                          "xBinEnd": 0.454,
                          "yBinStart": 245.8
                        },
                        {
                          "count": 2,
                          "xBinStart": 0.431,
                          "yBinEnd": 256.5,
                          "xBinEnd": 0.454,
                          "yBinStart": 251.15
                        },
                        {
                          "count": 6,
                          "xBinStart": 0.431,
                          "yBinEnd": 272.55,
                          "xBinEnd": 0.454,
                          "yBinStart": 267.2
                        },
                        {
                          "count": 1,
                          "xBinStart": 0.431,
                          "yBinEnd": 277.9,
                          "xBinEnd": 0.454,
                          "yBinStart": 272.55
                        },
                        {
                          "count": 1,
                          "xBinStart": 0.431,
                          "yBinEnd": 288.6,
                          "xBinEnd": 0.454,
                          "yBinStart": 283.25
                        },
                        {
                          "count": 1,
                          "xBinStart": 0.454,
                          "yBinEnd": 101.35,
                          "xBinEnd": 0.477,
                          "yBinStart": 95.786
                        },
                        {
                          "count": 2,
                          "xBinStart": 0.454,
                          "yBinEnd": 112.05,
                          "xBinEnd": 0.477,
                          "yBinStart": 106.7
                        },
                        {
                          "count": 3,
                          "xBinStart": 0.454,
                          "yBinEnd": 122.75,
                          "xBinEnd": 0.477,
                          "yBinStart": 117.4
                        },
                        {
                          "count": 1,
                          "xBinStart": 0.454,
                          "yBinEnd": 128.1,
                          "xBinEnd": 0.477,
                          "yBinStart": 122.75
                        },
                        {
                          "count": 7,
                          "xBinStart": 0.454,
                          "yBinEnd": 133.45,
                          "xBinEnd": 0.477,
                          "yBinStart": 128.1
                        },
                        {
                          "count": 7,
                          "xBinStart": 0.454,
                          "yBinEnd": 138.8,
                          "xBinEnd": 0.477,
                          "yBinStart": 133.45
                        },
                        {
                          "count": 17,
                          "xBinStart": 0.454,
                          "yBinEnd": 144.15,
                          "xBinEnd": 0.477,
                          "yBinStart": 138.8
                        },
                        {
                          "count": 6,
                          "xBinStart": 0.454,
                          "yBinEnd": 149.5,
                          "xBinEnd": 0.477,
                          "yBinStart": 144.15
                        },
                        {
                          "count": 13,
                          "xBinStart": 0.454,
                          "yBinEnd": 154.85,
                          "xBinEnd": 0.477,
                          "yBinStart": 149.5
                        },
                        {
                          "count": 7,
                          "xBinStart": 0.454,
                          "yBinEnd": 160.2,
                          "xBinEnd": 0.477,
                          "yBinStart": 154.85
                        },
                        {
                          "count": 4,
                          "xBinStart": 0.454,
                          "yBinEnd": 165.55,
                          "xBinEnd": 0.477,
                          "yBinStart": 160.2
                        },
                        {
                          "count": 2,
                          "xBinStart": 0.454,
                          "yBinEnd": 170.9,
                          "xBinEnd": 0.477,
                          "yBinStart": 165.55
                        },
                        {
                          "count": 5,
                          "xBinStart": 0.454,
                          "yBinEnd": 176.25,
                          "xBinEnd": 0.477,
                          "yBinStart": 170.9
                        },
                        {
                          "count": 2,
                          "xBinStart": 0.454,
                          "yBinEnd": 181.6,
                          "xBinEnd": 0.477,
                          "yBinStart": 176.25
                        },
                        {
                          "count": 1,
                          "xBinStart": 0.454,
                          "yBinEnd": 186.95,
                          "xBinEnd": 0.477,
                          "yBinStart": 181.6
                        },
                        {
                          "count": 4,
                          "xBinStart": 0.454,
                          "yBinEnd": 192.3,
                          "xBinEnd": 0.477,
                          "yBinStart": 186.95
                        },
                        {
                          "count": 1,
                          "xBinStart": 0.454,
                          "yBinEnd": 208.35,
                          "xBinEnd": 0.477,
                          "yBinStart": 203
                        },
                        {
                          "count": 2,
                          "xBinStart": 0.454,
                          "yBinEnd": 213.7,
                          "xBinEnd": 0.477,
                          "yBinStart": 208.35
                        },
                        {
                          "count": 1,
                          "xBinStart": 0.454,
                          "yBinEnd": 224.4,
                          "xBinEnd": 0.477,
                          "yBinStart": 219.05
                        },
                        {
                          "count": 3,
                          "xBinStart": 0.454,
                          "yBinEnd": 229.75,
                          "xBinEnd": 0.477,
                          "yBinStart": 224.4
                        },
                        {
                          "count": 1,
                          "xBinStart": 0.454,
                          "yBinEnd": 245.8,
                          "xBinEnd": 0.477,
                          "yBinStart": 240.45
                        },
                        {
                          "count": 2,
                          "xBinStart": 0.454,
                          "yBinEnd": 251.15,
                          "xBinEnd": 0.477,
                          "yBinStart": 245.8
                        },
                        {
                          "count": 5,
                          "xBinStart": 0.454,
                          "yBinEnd": 256.5,
                          "xBinEnd": 0.477,
                          "yBinStart": 251.15
                        },
                        {
                          "count": 1,
                          "xBinStart": 0.454,
                          "yBinEnd": 261.85,
                          "xBinEnd": 0.477,
                          "yBinStart": 256.5
                        },
                        {
                          "count": 1,
                          "xBinStart": 0.454,
                          "yBinEnd": 267.2,
                          "xBinEnd": 0.477,
                          "yBinStart": 261.85
                        },
                        {
                          "count": 2,
                          "xBinStart": 0.454,
                          "yBinEnd": 277.9,
                          "xBinEnd": 0.477,
                          "yBinStart": 272.55
                        },
                        {
                          "count": 2,
                          "xBinStart": 0.454,
                          "yBinEnd": 288.6,
                          "xBinEnd": 0.477,
                          "yBinStart": 283.25
                        },
                        {
                          "count": 1,
                          "xBinStart": 0.477,
                          "yBinEnd": 101.35,
                          "xBinEnd": 0.499,
                          "yBinStart": 95.786
                        },
                        {
                          "count": 4,
                          "xBinStart": 0.477,
                          "yBinEnd": 106.7,
                          "xBinEnd": 0.499,
                          "yBinStart": 101.35
                        },
                        {
                          "count": 4,
                          "xBinStart": 0.477,
                          "yBinEnd": 117.4,
                          "xBinEnd": 0.499,
                          "yBinStart": 112.05
                        },
                        {
                          "count": 2,
                          "xBinStart": 0.477,
                          "yBinEnd": 122.75,
                          "xBinEnd": 0.499,
                          "yBinStart": 117.4
                        },
                        {
                          "count": 3,
                          "xBinStart": 0.477,
                          "yBinEnd": 128.1,
                          "xBinEnd": 0.499,
                          "yBinStart": 122.75
                        },
                        {
                          "count": 4,
                          "xBinStart": 0.477,
                          "yBinEnd": 133.45,
                          "xBinEnd": 0.499,
                          "yBinStart": 128.1
                        },
                        {
                          "count": 8,
                          "xBinStart": 0.477,
                          "yBinEnd": 138.8,
                          "xBinEnd": 0.499,
                          "yBinStart": 133.45
                        },
                        {
                          "count": 14,
                          "xBinStart": 0.477,
                          "yBinEnd": 144.15,
                          "xBinEnd": 0.499,
                          "yBinStart": 138.8
                        },
                        {
                          "count": 12,
                          "xBinStart": 0.477,
                          "yBinEnd": 149.5,
                          "xBinEnd": 0.499,
                          "yBinStart": 144.15
                        },
                        {
                          "count": 5,
                          "xBinStart": 0.477,
                          "yBinEnd": 154.85,
                          "xBinEnd": 0.499,
                          "yBinStart": 149.5
                        },
                        {
                          "count": 7,
                          "xBinStart": 0.477,
                          "yBinEnd": 160.2,
                          "xBinEnd": 0.499,
                          "yBinStart": 154.85
                        },
                        {
                          "count": 8,
                          "xBinStart": 0.477,
                          "yBinEnd": 165.55,
                          "xBinEnd": 0.499,
                          "yBinStart": 160.2
                        },
                        {
                          "count": 4,
                          "xBinStart": 0.477,
                          "yBinEnd": 170.9,
                          "xBinEnd": 0.499,
                          "yBinStart": 165.55
                        },
                        {
                          "count": 8,
                          "xBinStart": 0.477,
                          "yBinEnd": 176.25,
                          "xBinEnd": 0.499,
                          "yBinStart": 170.9
                        },
                        {
                          "count": 8,
                          "xBinStart": 0.477,
                          "yBinEnd": 181.6,
                          "xBinEnd": 0.499,
                          "yBinStart": 176.25
                        },
                        {
                          "count": 13,
                          "xBinStart": 0.477,
                          "yBinEnd": 186.95,
                          "xBinEnd": 0.499,
                          "yBinStart": 181.6
                        },
                        {
                          "count": 13,
                          "xBinStart": 0.477,
                          "yBinEnd": 192.3,
                          "xBinEnd": 0.499,
                          "yBinStart": 186.95
                        },
                        {
                          "count": 9,
                          "xBinStart": 0.477,
                          "yBinEnd": 197.65,
                          "xBinEnd": 0.499,
                          "yBinStart": 192.3
                        },
                        {
                          "count": 17,
                          "xBinStart": 0.477,
                          "yBinEnd": 203,
                          "xBinEnd": 0.499,
                          "yBinStart": 197.65
                        },
                        {
                          "count": 2,
                          "xBinStart": 0.477,
                          "yBinEnd": 208.35,
                          "xBinEnd": 0.499,
                          "yBinStart": 203
                        },
                        {
                          "count": 12,
                          "xBinStart": 0.477,
                          "yBinEnd": 213.7,
                          "xBinEnd": 0.499,
                          "yBinStart": 208.35
                        },
                        {
                          "count": 6,
                          "xBinStart": 0.477,
                          "yBinEnd": 219.05,
                          "xBinEnd": 0.499,
                          "yBinStart": 213.7
                        },
                        {
                          "count": 10,
                          "xBinStart": 0.477,
                          "yBinEnd": 224.4,
                          "xBinEnd": 0.499,
                          "yBinStart": 219.05
                        },
                        {
                          "count": 10,
                          "xBinStart": 0.477,
                          "yBinEnd": 229.75,
                          "xBinEnd": 0.499,
                          "yBinStart": 224.4
                        },
                        {
                          "count": 9,
                          "xBinStart": 0.477,
                          "yBinEnd": 235.1,
                          "xBinEnd": 0.499,
                          "yBinStart": 229.75
                        },
                        {
                          "count": 8,
                          "xBinStart": 0.477,
                          "yBinEnd": 240.45,
                          "xBinEnd": 0.499,
                          "yBinStart": 235.1
                        },
                        {
                          "count": 7,
                          "xBinStart": 0.477,
                          "yBinEnd": 245.8,
                          "xBinEnd": 0.499,
                          "yBinStart": 240.45
                        },
                        {
                          "count": 13,
                          "xBinStart": 0.477,
                          "yBinEnd": 251.15,
                          "xBinEnd": 0.499,
                          "yBinStart": 245.8
                        },
                        {
                          "count": 6,
                          "xBinStart": 0.477,
                          "yBinEnd": 256.5,
                          "xBinEnd": 0.499,
                          "yBinStart": 251.15
                        },
                        {
                          "count": 7,
                          "xBinStart": 0.477,
                          "yBinEnd": 261.85,
                          "xBinEnd": 0.499,
                          "yBinStart": 256.5
                        },
                        {
                          "count": 10,
                          "xBinStart": 0.477,
                          "yBinEnd": 267.2,
                          "xBinEnd": 0.499,
                          "yBinStart": 261.85
                        },
                        {
                          "count": 6,
                          "xBinStart": 0.477,
                          "yBinEnd": 272.55,
                          "xBinEnd": 0.499,
                          "yBinStart": 267.2
                        },
                        {
                          "count": 7,
                          "xBinStart": 0.477,
                          "yBinEnd": 277.9,
                          "xBinEnd": 0.499,
                          "yBinStart": 272.55
                        },
                        {
                          "count": 2,
                          "xBinStart": 0.477,
                          "yBinEnd": 283.25,
                          "xBinEnd": 0.499,
                          "yBinStart": 277.9
                        },
                        {
                          "count": 2,
                          "xBinStart": 0.477,
                          "yBinEnd": 288.6,
                          "xBinEnd": 0.499,
                          "yBinStart": 283.25
                        },
                        {
                          "count": 4,
                          "xBinStart": 0.499,
                          "yBinEnd": 101.35,
                          "xBinEnd": 0.522,
                          "yBinStart": 95.786
                        },
                        {
                          "count": 8,
                          "xBinStart": 0.499,
                          "yBinEnd": 106.7,
                          "xBinEnd": 0.522,
                          "yBinStart": 101.35
                        },
                        {
                          "count": 4,
                          "xBinStart": 0.499,
                          "yBinEnd": 112.05,
                          "xBinEnd": 0.522,
                          "yBinStart": 106.7
                        },
                        {
                          "count": 2,
                          "xBinStart": 0.499,
                          "yBinEnd": 122.75,
                          "xBinEnd": 0.522,
                          "yBinStart": 117.4
                        },
                        {
                          "count": 1,
                          "xBinStart": 0.499,
                          "yBinEnd": 128.1,
                          "xBinEnd": 0.522,
                          "yBinStart": 122.75
                        },
                        {
                          "count": 11,
                          "xBinStart": 0.499,
                          "yBinEnd": 133.45,
                          "xBinEnd": 0.522,
                          "yBinStart": 128.1
                        },
                        {
                          "count": 21,
                          "xBinStart": 0.499,
                          "yBinEnd": 138.8,
                          "xBinEnd": 0.522,
                          "yBinStart": 133.45
                        },
                        {
                          "count": 14,
                          "xBinStart": 0.499,
                          "yBinEnd": 144.15,
                          "xBinEnd": 0.522,
                          "yBinStart": 138.8
                        },
                        {
                          "count": 11,
                          "xBinStart": 0.499,
                          "yBinEnd": 149.5,
                          "xBinEnd": 0.522,
                          "yBinStart": 144.15
                        },
                        {
                          "count": 16,
                          "xBinStart": 0.499,
                          "yBinEnd": 154.85,
                          "xBinEnd": 0.522,
                          "yBinStart": 149.5
                        },
                        {
                          "count": 10,
                          "xBinStart": 0.499,
                          "yBinEnd": 160.2,
                          "xBinEnd": 0.522,
                          "yBinStart": 154.85
                        },
                        {
                          "count": 16,
                          "xBinStart": 0.499,
                          "yBinEnd": 165.55,
                          "xBinEnd": 0.522,
                          "yBinStart": 160.2
                        },
                        {
                          "count": 23,
                          "xBinStart": 0.499,
                          "yBinEnd": 170.9,
                          "xBinEnd": 0.522,
                          "yBinStart": 165.55
                        },
                        {
                          "count": 24,
                          "xBinStart": 0.499,
                          "yBinEnd": 176.25,
                          "xBinEnd": 0.522,
                          "yBinStart": 170.9
                        },
                        {
                          "count": 17,
                          "xBinStart": 0.499,
                          "yBinEnd": 181.6,
                          "xBinEnd": 0.522,
                          "yBinStart": 176.25
                        },
                        {
                          "count": 21,
                          "xBinStart": 0.499,
                          "yBinEnd": 186.95,
                          "xBinEnd": 0.522,
                          "yBinStart": 181.6
                        },
                        {
                          "count": 14,
                          "xBinStart": 0.499,
                          "yBinEnd": 192.3,
                          "xBinEnd": 0.522,
                          "yBinStart": 186.95
                        },
                        {
                          "count": 7,
                          "xBinStart": 0.499,
                          "yBinEnd": 197.65,
                          "xBinEnd": 0.522,
                          "yBinStart": 192.3
                        },
                        {
                          "count": 19,
                          "xBinStart": 0.499,
                          "yBinEnd": 203,
                          "xBinEnd": 0.522,
                          "yBinStart": 197.65
                        },
                        {
                          "count": 19,
                          "xBinStart": 0.499,
                          "yBinEnd": 208.35,
                          "xBinEnd": 0.522,
                          "yBinStart": 203
                        },
                        {
                          "count": 11,
                          "xBinStart": 0.499,
                          "yBinEnd": 213.7,
                          "xBinEnd": 0.522,
                          "yBinStart": 208.35
                        },
                        {
                          "count": 14,
                          "xBinStart": 0.499,
                          "yBinEnd": 219.05,
                          "xBinEnd": 0.522,
                          "yBinStart": 213.7
                        },
                        {
                          "count": 16,
                          "xBinStart": 0.499,
                          "yBinEnd": 224.4,
                          "xBinEnd": 0.522,
                          "yBinStart": 219.05
                        },
                        {
                          "count": 13,
                          "xBinStart": 0.499,
                          "yBinEnd": 229.75,
                          "xBinEnd": 0.522,
                          "yBinStart": 224.4
                        },
                        {
                          "count": 17,
                          "xBinStart": 0.499,
                          "yBinEnd": 235.1,
                          "xBinEnd": 0.522,
                          "yBinStart": 229.75
                        },
                        {
                          "count": 10,
                          "xBinStart": 0.499,
                          "yBinEnd": 240.45,
                          "xBinEnd": 0.522,
                          "yBinStart": 235.1
                        },
                        {
                          "count": 13,
                          "xBinStart": 0.499,
                          "yBinEnd": 245.8,
                          "xBinEnd": 0.522,
                          "yBinStart": 240.45
                        },
                        {
                          "count": 14,
                          "xBinStart": 0.499,
                          "yBinEnd": 251.15,
                          "xBinEnd": 0.522,
                          "yBinStart": 245.8
                        },
                        {
                          "count": 13,
                          "xBinStart": 0.499,
                          "yBinEnd": 256.5,
                          "xBinEnd": 0.522,
                          "yBinStart": 251.15
                        },
                        {
                          "count": 22,
                          "xBinStart": 0.499,
                          "yBinEnd": 261.85,
                          "xBinEnd": 0.522,
                          "yBinStart": 256.5
                        },
                        {
                          "count": 19,
                          "xBinStart": 0.499,
                          "yBinEnd": 267.2,
                          "xBinEnd": 0.522,
                          "yBinStart": 261.85
                        },
                        {
                          "count": 15,
                          "xBinStart": 0.499,
                          "yBinEnd": 272.55,
                          "xBinEnd": 0.522,
                          "yBinStart": 267.2
                        },
                        {
                          "count": 6,
                          "xBinStart": 0.499,
                          "yBinEnd": 277.9,
                          "xBinEnd": 0.522,
                          "yBinStart": 272.55
                        },
                        {
                          "count": 2,
                          "xBinStart": 0.499,
                          "yBinEnd": 283.25,
                          "xBinEnd": 0.522,
                          "yBinStart": 277.9
                        },
                        {
                          "count": 5,
                          "xBinStart": 0.499,
                          "yBinEnd": 288.6,
                          "xBinEnd": 0.522,
                          "yBinStart": 283.25
                        },
                        {
                          "count": 3,
                          "xBinStart": 0.522,
                          "yBinEnd": 101.35,
                          "xBinEnd": 0.545,
                          "yBinStart": 95.786
                        },
                        {
                          "count": 1,
                          "xBinStart": 0.522,
                          "yBinEnd": 106.7,
                          "xBinEnd": 0.545,
                          "yBinStart": 101.35
                        },
                        {
                          "count": 1,
                          "xBinStart": 0.522,
                          "yBinEnd": 117.4,
                          "xBinEnd": 0.545,
                          "yBinStart": 112.05
                        },
                        {
                          "count": 1,
                          "xBinStart": 0.522,
                          "yBinEnd": 122.75,
                          "xBinEnd": 0.545,
                          "yBinStart": 117.4
                        },
                        {
                          "count": 5,
                          "xBinStart": 0.522,
                          "yBinEnd": 128.1,
                          "xBinEnd": 0.545,
                          "yBinStart": 122.75
                        },
                        {
                          "count": 4,
                          "xBinStart": 0.522,
                          "yBinEnd": 133.45,
                          "xBinEnd": 0.545,
                          "yBinStart": 128.1
                        },
                        {
                          "count": 6,
                          "xBinStart": 0.522,
                          "yBinEnd": 138.8,
                          "xBinEnd": 0.545,
                          "yBinStart": 133.45
                        },
                        {
                          "count": 10,
                          "xBinStart": 0.522,
                          "yBinEnd": 144.15,
                          "xBinEnd": 0.545,
                          "yBinStart": 138.8
                        },
                        {
                          "count": 11,
                          "xBinStart": 0.522,
                          "yBinEnd": 149.5,
                          "xBinEnd": 0.545,
                          "yBinStart": 144.15
                        },
                        {
                          "count": 7,
                          "xBinStart": 0.522,
                          "yBinEnd": 154.85,
                          "xBinEnd": 0.545,
                          "yBinStart": 149.5
                        },
                        {
                          "count": 18,
                          "xBinStart": 0.522,
                          "yBinEnd": 160.2,
                          "xBinEnd": 0.545,
                          "yBinStart": 154.85
                        },
                        {
                          "count": 12,
                          "xBinStart": 0.522,
                          "yBinEnd": 165.55,
                          "xBinEnd": 0.545,
                          "yBinStart": 160.2
                        },
                        {
                          "count": 12,
                          "xBinStart": 0.522,
                          "yBinEnd": 170.9,
                          "xBinEnd": 0.545,
                          "yBinStart": 165.55
                        },
                        {
                          "count": 16,
                          "xBinStart": 0.522,
                          "yBinEnd": 176.25,
                          "xBinEnd": 0.545,
                          "yBinStart": 170.9
                        },
                        {
                          "count": 7,
                          "xBinStart": 0.522,
                          "yBinEnd": 181.6,
                          "xBinEnd": 0.545,
                          "yBinStart": 176.25
                        },
                        {
                          "count": 10,
                          "xBinStart": 0.522,
                          "yBinEnd": 186.95,
                          "xBinEnd": 0.545,
                          "yBinStart": 181.6
                        },
                        {
                          "count": 11,
                          "xBinStart": 0.522,
                          "yBinEnd": 192.3,
                          "xBinEnd": 0.545,
                          "yBinStart": 186.95
                        },
                        {
                          "count": 4,
                          "xBinStart": 0.522,
                          "yBinEnd": 197.65,
                          "xBinEnd": 0.545,
                          "yBinStart": 192.3
                        },
                        {
                          "count": 10,
                          "xBinStart": 0.522,
                          "yBinEnd": 203,
                          "xBinEnd": 0.545,
                          "yBinStart": 197.65
                        },
                        {
                          "count": 10,
                          "xBinStart": 0.522,
                          "yBinEnd": 208.35,
                          "xBinEnd": 0.545,
                          "yBinStart": 203
                        },
                        {
                          "count": 4,
                          "xBinStart": 0.522,
                          "yBinEnd": 213.7,
                          "xBinEnd": 0.545,
                          "yBinStart": 208.35
                        },
                        {
                          "count": 7,
                          "xBinStart": 0.522,
                          "yBinEnd": 219.05,
                          "xBinEnd": 0.545,
                          "yBinStart": 213.7
                        },
                        {
                          "count": 11,
                          "xBinStart": 0.522,
                          "yBinEnd": 224.4,
                          "xBinEnd": 0.545,
                          "yBinStart": 219.05
                        },
                        {
                          "count": 9,
                          "xBinStart": 0.522,
                          "yBinEnd": 229.75,
                          "xBinEnd": 0.545,
                          "yBinStart": 224.4
                        },
                        {
                          "count": 4,
                          "xBinStart": 0.522,
                          "yBinEnd": 235.1,
                          "xBinEnd": 0.545,
                          "yBinStart": 229.75
                        },
                        {
                          "count": 6,
                          "xBinStart": 0.522,
                          "yBinEnd": 240.45,
                          "xBinEnd": 0.545,
                          "yBinStart": 235.1
                        },
                        {
                          "count": 6,
                          "xBinStart": 0.522,
                          "yBinEnd": 245.8,
                          "xBinEnd": 0.545,
                          "yBinStart": 240.45
                        },
                        {
                          "count": 16,
                          "xBinStart": 0.522,
                          "yBinEnd": 251.15,
                          "xBinEnd": 0.545,
                          "yBinStart": 245.8
                        },
                        {
                          "count": 7,
                          "xBinStart": 0.522,
                          "yBinEnd": 256.5,
                          "xBinEnd": 0.545,
                          "yBinStart": 251.15
                        },
                        {
                          "count": 13,
                          "xBinStart": 0.522,
                          "yBinEnd": 261.85,
                          "xBinEnd": 0.545,
                          "yBinStart": 256.5
                        },
                        {
                          "count": 8,
                          "xBinStart": 0.522,
                          "yBinEnd": 267.2,
                          "xBinEnd": 0.545,
                          "yBinStart": 261.85
                        },
                        {
                          "count": 5,
                          "xBinStart": 0.522,
                          "yBinEnd": 272.55,
                          "xBinEnd": 0.545,
                          "yBinStart": 267.2
                        },
                        {
                          "count": 5,
                          "xBinStart": 0.522,
                          "yBinEnd": 277.9,
                          "xBinEnd": 0.545,
                          "yBinStart": 272.55
                        },
                        {
                          "count": 6,
                          "xBinStart": 0.522,
                          "yBinEnd": 283.25,
                          "xBinEnd": 0.545,
                          "yBinStart": 277.9
                        },
                        {
                          "count": 1,
                          "xBinStart": 0.522,
                          "yBinEnd": 299.3,
                          "xBinEnd": 0.545,
                          "yBinStart": 293.95
                        },
                        {
                          "count": 1,
                          "xBinStart": 0.545,
                          "yBinEnd": 101.35,
                          "xBinEnd": 0.568,
                          "yBinStart": 95.786
                        },
                        {
                          "count": 2,
                          "xBinStart": 0.545,
                          "yBinEnd": 106.7,
                          "xBinEnd": 0.568,
                          "yBinStart": 101.35
                        },
                        {
                          "count": 4,
                          "xBinStart": 0.545,
                          "yBinEnd": 112.05,
                          "xBinEnd": 0.568,
                          "yBinStart": 106.7
                        },
                        {
                          "count": 2,
                          "xBinStart": 0.545,
                          "yBinEnd": 117.4,
                          "xBinEnd": 0.568,
                          "yBinStart": 112.05
                        },
                        {
                          "count": 1,
                          "xBinStart": 0.545,
                          "yBinEnd": 122.75,
                          "xBinEnd": 0.568,
                          "yBinStart": 117.4
                        },
                        {
                          "count": 1,
                          "xBinStart": 0.545,
                          "yBinEnd": 128.1,
                          "xBinEnd": 0.568,
                          "yBinStart": 122.75
                        },
                        {
                          "count": 1,
                          "xBinStart": 0.545,
                          "yBinEnd": 133.45,
                          "xBinEnd": 0.568,
                          "yBinStart": 128.1
                        },
                        {
                          "count": 9,
                          "xBinStart": 0.545,
                          "yBinEnd": 138.8,
                          "xBinEnd": 0.568,
                          "yBinStart": 133.45
                        },
                        {
                          "count": 11,
                          "xBinStart": 0.545,
                          "yBinEnd": 144.15,
                          "xBinEnd": 0.568,
                          "yBinStart": 138.8
                        },
                        {
                          "count": 8,
                          "xBinStart": 0.545,
                          "yBinEnd": 149.5,
                          "xBinEnd": 0.568,
                          "yBinStart": 144.15
                        },
                        {
                          "count": 12,
                          "xBinStart": 0.545,
                          "yBinEnd": 154.85,
                          "xBinEnd": 0.568,
                          "yBinStart": 149.5
                        },
                        {
                          "count": 10,
                          "xBinStart": 0.545,
                          "yBinEnd": 160.2,
                          "xBinEnd": 0.568,
                          "yBinStart": 154.85
                        },
                        {
                          "count": 9,
                          "xBinStart": 0.545,
                          "yBinEnd": 165.55,
                          "xBinEnd": 0.568,
                          "yBinStart": 160.2
                        },
                        {
                          "count": 7,
                          "xBinStart": 0.545,
                          "yBinEnd": 170.9,
                          "xBinEnd": 0.568,
                          "yBinStart": 165.55
                        },
                        {
                          "count": 8,
                          "xBinStart": 0.545,
                          "yBinEnd": 176.25,
                          "xBinEnd": 0.568,
                          "yBinStart": 170.9
                        },
                        {
                          "count": 12,
                          "xBinStart": 0.545,
                          "yBinEnd": 181.6,
                          "xBinEnd": 0.568,
                          "yBinStart": 176.25
                        },
                        {
                          "count": 5,
                          "xBinStart": 0.545,
                          "yBinEnd": 186.95,
                          "xBinEnd": 0.568,
                          "yBinStart": 181.6
                        },
                        {
                          "count": 11,
                          "xBinStart": 0.545,
                          "yBinEnd": 192.3,
                          "xBinEnd": 0.568,
                          "yBinStart": 186.95
                        },
                        {
                          "count": 12,
                          "xBinStart": 0.545,
                          "yBinEnd": 197.65,
                          "xBinEnd": 0.568,
                          "yBinStart": 192.3
                        },
                        {
                          "count": 13,
                          "xBinStart": 0.545,
                          "yBinEnd": 203,
                          "xBinEnd": 0.568,
                          "yBinStart": 197.65
                        },
                        {
                          "count": 10,
                          "xBinStart": 0.545,
                          "yBinEnd": 208.35,
                          "xBinEnd": 0.568,
                          "yBinStart": 203
                        },
                        {
                          "count": 8,
                          "xBinStart": 0.545,
                          "yBinEnd": 213.7,
                          "xBinEnd": 0.568,
                          "yBinStart": 208.35
                        },
                        {
                          "count": 8,
                          "xBinStart": 0.545,
                          "yBinEnd": 219.05,
                          "xBinEnd": 0.568,
                          "yBinStart": 213.7
                        },
                        {
                          "count": 14,
                          "xBinStart": 0.545,
                          "yBinEnd": 224.4,
                          "xBinEnd": 0.568,
                          "yBinStart": 219.05
                        },
                        {
                          "count": 8,
                          "xBinStart": 0.545,
                          "yBinEnd": 229.75,
                          "xBinEnd": 0.568,
                          "yBinStart": 224.4
                        },
                        {
                          "count": 13,
                          "xBinStart": 0.545,
                          "yBinEnd": 235.1,
                          "xBinEnd": 0.568,
                          "yBinStart": 229.75
                        },
                        {
                          "count": 16,
                          "xBinStart": 0.545,
                          "yBinEnd": 240.45,
                          "xBinEnd": 0.568,
                          "yBinStart": 235.1
                        },
                        {
                          "count": 8,
                          "xBinStart": 0.545,
                          "yBinEnd": 245.8,
                          "xBinEnd": 0.568,
                          "yBinStart": 240.45
                        },
                        {
                          "count": 7,
                          "xBinStart": 0.545,
                          "yBinEnd": 251.15,
                          "xBinEnd": 0.568,
                          "yBinStart": 245.8
                        },
                        {
                          "count": 9,
                          "xBinStart": 0.545,
                          "yBinEnd": 256.5,
                          "xBinEnd": 0.568,
                          "yBinStart": 251.15
                        },
                        {
                          "count": 9,
                          "xBinStart": 0.545,
                          "yBinEnd": 261.85,
                          "xBinEnd": 0.568,
                          "yBinStart": 256.5
                        },
                        {
                          "count": 12,
                          "xBinStart": 0.545,
                          "yBinEnd": 267.2,
                          "xBinEnd": 0.568,
                          "yBinStart": 261.85
                        },
                        {
                          "count": 12,
                          "xBinStart": 0.545,
                          "yBinEnd": 272.55,
                          "xBinEnd": 0.568,
                          "yBinStart": 267.2
                        },
                        {
                          "count": 6,
                          "xBinStart": 0.545,
                          "yBinEnd": 277.9,
                          "xBinEnd": 0.568,
                          "yBinStart": 272.55
                        },
                        {
                          "count": 1,
                          "xBinStart": 0.545,
                          "yBinEnd": 283.25,
                          "xBinEnd": 0.568,
                          "yBinStart": 277.9
                        },
                        {
                          "count": 3,
                          "xBinStart": 0.545,
                          "yBinEnd": 299.3,
                          "xBinEnd": 0.568,
                          "yBinStart": 293.95
                        },
                        {
                          "count": 3,
                          "xBinStart": 0.568,
                          "yBinEnd": 101.35,
                          "xBinEnd": 0.59,
                          "yBinStart": 95.786
                        },
                        {
                          "count": 3,
                          "xBinStart": 0.568,
                          "yBinEnd": 106.7,
                          "xBinEnd": 0.59,
                          "yBinStart": 101.35
                        },
                        {
                          "count": 6,
                          "xBinStart": 0.568,
                          "yBinEnd": 112.05,
                          "xBinEnd": 0.59,
                          "yBinStart": 106.7
                        },
                        {
                          "count": 3,
                          "xBinStart": 0.568,
                          "yBinEnd": 117.4,
                          "xBinEnd": 0.59,
                          "yBinStart": 112.05
                        },
                        {
                          "count": 1,
                          "xBinStart": 0.568,
                          "yBinEnd": 122.75,
                          "xBinEnd": 0.59,
                          "yBinStart": 117.4
                        },
                        {
                          "count": 7,
                          "xBinStart": 0.568,
                          "yBinEnd": 128.1,
                          "xBinEnd": 0.59,
                          "yBinStart": 122.75
                        },
                        {
                          "count": 7,
                          "xBinStart": 0.568,
                          "yBinEnd": 133.45,
                          "xBinEnd": 0.59,
                          "yBinStart": 128.1
                        },
                        {
                          "count": 10,
                          "xBinStart": 0.568,
                          "yBinEnd": 138.8,
                          "xBinEnd": 0.59,
                          "yBinStart": 133.45
                        },
                        {
                          "count": 23,
                          "xBinStart": 0.568,
                          "yBinEnd": 144.15,
                          "xBinEnd": 0.59,
                          "yBinStart": 138.8
                        },
                        {
                          "count": 15,
                          "xBinStart": 0.568,
                          "yBinEnd": 149.5,
                          "xBinEnd": 0.59,
                          "yBinStart": 144.15
                        },
                        {
                          "count": 13,
                          "xBinStart": 0.568,
                          "yBinEnd": 154.85,
                          "xBinEnd": 0.59,
                          "yBinStart": 149.5
                        },
                        {
                          "count": 24,
                          "xBinStart": 0.568,
                          "yBinEnd": 160.2,
                          "xBinEnd": 0.59,
                          "yBinStart": 154.85
                        },
                        {
                          "count": 16,
                          "xBinStart": 0.568,
                          "yBinEnd": 165.55,
                          "xBinEnd": 0.59,
                          "yBinStart": 160.2
                        },
                        {
                          "count": 13,
                          "xBinStart": 0.568,
                          "yBinEnd": 170.9,
                          "xBinEnd": 0.59,
                          "yBinStart": 165.55
                        },
                        {
                          "count": 25,
                          "xBinStart": 0.568,
                          "yBinEnd": 176.25,
                          "xBinEnd": 0.59,
                          "yBinStart": 170.9
                        },
                        {
                          "count": 14,
                          "xBinStart": 0.568,
                          "yBinEnd": 181.6,
                          "xBinEnd": 0.59,
                          "yBinStart": 176.25
                        },
                        {
                          "count": 13,
                          "xBinStart": 0.568,
                          "yBinEnd": 186.95,
                          "xBinEnd": 0.59,
                          "yBinStart": 181.6
                        },
                        {
                          "count": 19,
                          "xBinStart": 0.568,
                          "yBinEnd": 192.3,
                          "xBinEnd": 0.59,
                          "yBinStart": 186.95
                        },
                        {
                          "count": 19,
                          "xBinStart": 0.568,
                          "yBinEnd": 197.65,
                          "xBinEnd": 0.59,
                          "yBinStart": 192.3
                        },
                        {
                          "count": 19,
                          "xBinStart": 0.568,
                          "yBinEnd": 203,
                          "xBinEnd": 0.59,
                          "yBinStart": 197.65
                        },
                        {
                          "count": 20,
                          "xBinStart": 0.568,
                          "yBinEnd": 208.35,
                          "xBinEnd": 0.59,
                          "yBinStart": 203
                        },
                        {
                          "count": 13,
                          "xBinStart": 0.568,
                          "yBinEnd": 213.7,
                          "xBinEnd": 0.59,
                          "yBinStart": 208.35
                        },
                        {
                          "count": 17,
                          "xBinStart": 0.568,
                          "yBinEnd": 219.05,
                          "xBinEnd": 0.59,
                          "yBinStart": 213.7
                        },
                        {
                          "count": 15,
                          "xBinStart": 0.568,
                          "yBinEnd": 224.4,
                          "xBinEnd": 0.59,
                          "yBinStart": 219.05
                        },
                        {
                          "count": 8,
                          "xBinStart": 0.568,
                          "yBinEnd": 229.75,
                          "xBinEnd": 0.59,
                          "yBinStart": 224.4
                        },
                        {
                          "count": 18,
                          "xBinStart": 0.568,
                          "yBinEnd": 235.1,
                          "xBinEnd": 0.59,
                          "yBinStart": 229.75
                        },
                        {
                          "count": 8,
                          "xBinStart": 0.568,
                          "yBinEnd": 240.45,
                          "xBinEnd": 0.59,
                          "yBinStart": 235.1
                        },
                        {
                          "count": 10,
                          "xBinStart": 0.568,
                          "yBinEnd": 245.8,
                          "xBinEnd": 0.59,
                          "yBinStart": 240.45
                        },
                        {
                          "count": 16,
                          "xBinStart": 0.568,
                          "yBinEnd": 251.15,
                          "xBinEnd": 0.59,
                          "yBinStart": 245.8
                        },
                        {
                          "count": 11,
                          "xBinStart": 0.568,
                          "yBinEnd": 256.5,
                          "xBinEnd": 0.59,
                          "yBinStart": 251.15
                        },
                        {
                          "count": 14,
                          "xBinStart": 0.568,
                          "yBinEnd": 261.85,
                          "xBinEnd": 0.59,
                          "yBinStart": 256.5
                        },
                        {
                          "count": 15,
                          "xBinStart": 0.568,
                          "yBinEnd": 267.2,
                          "xBinEnd": 0.59,
                          "yBinStart": 261.85
                        },
                        {
                          "count": 18,
                          "xBinStart": 0.568,
                          "yBinEnd": 272.55,
                          "xBinEnd": 0.59,
                          "yBinStart": 267.2
                        },
                        {
                          "count": 11,
                          "xBinStart": 0.568,
                          "yBinEnd": 277.9,
                          "xBinEnd": 0.59,
                          "yBinStart": 272.55
                        },
                        {
                          "count": 2,
                          "xBinStart": 0.568,
                          "yBinEnd": 288.6,
                          "xBinEnd": 0.59,
                          "yBinStart": 283.25
                        },
                        {
                          "count": 3,
                          "xBinStart": 0.59,
                          "yBinEnd": 101.35,
                          "xBinEnd": 0.613,
                          "yBinStart": 95.786
                        },
                        {
                          "count": 10,
                          "xBinStart": 0.59,
                          "yBinEnd": 106.7,
                          "xBinEnd": 0.613,
                          "yBinStart": 101.35
                        },
                        {
                          "count": 2,
                          "xBinStart": 0.59,
                          "yBinEnd": 112.05,
                          "xBinEnd": 0.613,
                          "yBinStart": 106.7
                        },
                        {
                          "count": 1,
                          "xBinStart": 0.59,
                          "yBinEnd": 117.4,
                          "xBinEnd": 0.613,
                          "yBinStart": 112.05
                        },
                        {
                          "count": 1,
                          "xBinStart": 0.59,
                          "yBinEnd": 122.75,
                          "xBinEnd": 0.613,
                          "yBinStart": 117.4
                        },
                        {
                          "count": 1,
                          "xBinStart": 0.59,
                          "yBinEnd": 128.1,
                          "xBinEnd": 0.613,
                          "yBinStart": 122.75
                        },
                        {
                          "count": 4,
                          "xBinStart": 0.59,
                          "yBinEnd": 133.45,
                          "xBinEnd": 0.613,
                          "yBinStart": 128.1
                        },
                        {
                          "count": 12,
                          "xBinStart": 0.59,
                          "yBinEnd": 138.8,
                          "xBinEnd": 0.613,
                          "yBinStart": 133.45
                        },
                        {
                          "count": 13,
                          "xBinStart": 0.59,
                          "yBinEnd": 144.15,
                          "xBinEnd": 0.613,
                          "yBinStart": 138.8
                        },
                        {
                          "count": 14,
                          "xBinStart": 0.59,
                          "yBinEnd": 149.5,
                          "xBinEnd": 0.613,
                          "yBinStart": 144.15
                        },
                        {
                          "count": 8,
                          "xBinStart": 0.59,
                          "yBinEnd": 154.85,
                          "xBinEnd": 0.613,
                          "yBinStart": 149.5
                        },
                        {
                          "count": 11,
                          "xBinStart": 0.59,
                          "yBinEnd": 160.2,
                          "xBinEnd": 0.613,
                          "yBinStart": 154.85
                        },
                        {
                          "count": 10,
                          "xBinStart": 0.59,
                          "yBinEnd": 165.55,
                          "xBinEnd": 0.613,
                          "yBinStart": 160.2
                        },
                        {
                          "count": 4,
                          "xBinStart": 0.59,
                          "yBinEnd": 170.9,
                          "xBinEnd": 0.613,
                          "yBinStart": 165.55
                        },
                        {
                          "count": 11,
                          "xBinStart": 0.59,
                          "yBinEnd": 176.25,
                          "xBinEnd": 0.613,
                          "yBinStart": 170.9
                        },
                        {
                          "count": 5,
                          "xBinStart": 0.59,
                          "yBinEnd": 181.6,
                          "xBinEnd": 0.613,
                          "yBinStart": 176.25
                        },
                        {
                          "count": 10,
                          "xBinStart": 0.59,
                          "yBinEnd": 186.95,
                          "xBinEnd": 0.613,
                          "yBinStart": 181.6
                        },
                        {
                          "count": 10,
                          "xBinStart": 0.59,
                          "yBinEnd": 192.3,
                          "xBinEnd": 0.613,
                          "yBinStart": 186.95
                        },
                        {
                          "count": 9,
                          "xBinStart": 0.59,
                          "yBinEnd": 197.65,
                          "xBinEnd": 0.613,
                          "yBinStart": 192.3
                        },
                        {
                          "count": 13,
                          "xBinStart": 0.59,
                          "yBinEnd": 203,
                          "xBinEnd": 0.613,
                          "yBinStart": 197.65
                        },
                        {
                          "count": 4,
                          "xBinStart": 0.59,
                          "yBinEnd": 208.35,
                          "xBinEnd": 0.613,
                          "yBinStart": 203
                        },
                        {
                          "count": 8,
                          "xBinStart": 0.59,
                          "yBinEnd": 213.7,
                          "xBinEnd": 0.613,
                          "yBinStart": 208.35
                        },
                        {
                          "count": 10,
                          "xBinStart": 0.59,
                          "yBinEnd": 219.05,
                          "xBinEnd": 0.613,
                          "yBinStart": 213.7
                        },
                        {
                          "count": 12,
                          "xBinStart": 0.59,
                          "yBinEnd": 224.4,
                          "xBinEnd": 0.613,
                          "yBinStart": 219.05
                        },
                        {
                          "count": 9,
                          "xBinStart": 0.59,
                          "yBinEnd": 229.75,
                          "xBinEnd": 0.613,
                          "yBinStart": 224.4
                        },
                        {
                          "count": 10,
                          "xBinStart": 0.59,
                          "yBinEnd": 235.1,
                          "xBinEnd": 0.613,
                          "yBinStart": 229.75
                        },
                        {
                          "count": 13,
                          "xBinStart": 0.59,
                          "yBinEnd": 240.45,
                          "xBinEnd": 0.613,
                          "yBinStart": 235.1
                        },
                        {
                          "count": 16,
                          "xBinStart": 0.59,
                          "yBinEnd": 245.8,
                          "xBinEnd": 0.613,
                          "yBinStart": 240.45
                        },
                        {
                          "count": 10,
                          "xBinStart": 0.59,
                          "yBinEnd": 251.15,
                          "xBinEnd": 0.613,
                          "yBinStart": 245.8
                        },
                        {
                          "count": 10,
                          "xBinStart": 0.59,
                          "yBinEnd": 256.5,
                          "xBinEnd": 0.613,
                          "yBinStart": 251.15
                        },
                        {
                          "count": 10,
                          "xBinStart": 0.59,
                          "yBinEnd": 261.85,
                          "xBinEnd": 0.613,
                          "yBinStart": 256.5
                        },
                        {
                          "count": 14,
                          "xBinStart": 0.59,
                          "yBinEnd": 267.2,
                          "xBinEnd": 0.613,
                          "yBinStart": 261.85
                        },
                        {
                          "count": 12,
                          "xBinStart": 0.59,
                          "yBinEnd": 272.55,
                          "xBinEnd": 0.613,
                          "yBinStart": 267.2
                        },
                        {
                          "count": 6,
                          "xBinStart": 0.59,
                          "yBinEnd": 277.9,
                          "xBinEnd": 0.613,
                          "yBinStart": 272.55
                        },
                        {
                          "count": 1,
                          "xBinStart": 0.59,
                          "yBinEnd": 288.6,
                          "xBinEnd": 0.613,
                          "yBinStart": 283.25
                        },
                        {
                          "count": 1,
                          "xBinStart": 0.613,
                          "yBinEnd": 101.35,
                          "xBinEnd": 0.636,
                          "yBinStart": 95.786
                        },
                        {
                          "count": 1,
                          "xBinStart": 0.613,
                          "yBinEnd": 106.7,
                          "xBinEnd": 0.636,
                          "yBinStart": 101.35
                        },
                        {
                          "count": 1,
                          "xBinStart": 0.613,
                          "yBinEnd": 112.05,
                          "xBinEnd": 0.636,
                          "yBinStart": 106.7
                        },
                        {
                          "count": 5,
                          "xBinStart": 0.613,
                          "yBinEnd": 128.1,
                          "xBinEnd": 0.636,
                          "yBinStart": 122.75
                        },
                        {
                          "count": 3,
                          "xBinStart": 0.613,
                          "yBinEnd": 133.45,
                          "xBinEnd": 0.636,
                          "yBinStart": 128.1
                        },
                        {
                          "count": 7,
                          "xBinStart": 0.613,
                          "yBinEnd": 138.8,
                          "xBinEnd": 0.636,
                          "yBinStart": 133.45
                        },
                        {
                          "count": 13,
                          "xBinStart": 0.613,
                          "yBinEnd": 144.15,
                          "xBinEnd": 0.636,
                          "yBinStart": 138.8
                        },
                        {
                          "count": 16,
                          "xBinStart": 0.613,
                          "yBinEnd": 149.5,
                          "xBinEnd": 0.636,
                          "yBinStart": 144.15
                        },
                        {
                          "count": 11,
                          "xBinStart": 0.613,
                          "yBinEnd": 154.85,
                          "xBinEnd": 0.636,
                          "yBinStart": 149.5
                        },
                        {
                          "count": 16,
                          "xBinStart": 0.613,
                          "yBinEnd": 160.2,
                          "xBinEnd": 0.636,
                          "yBinStart": 154.85
                        },
                        {
                          "count": 11,
                          "xBinStart": 0.613,
                          "yBinEnd": 165.55,
                          "xBinEnd": 0.636,
                          "yBinStart": 160.2
                        },
                        {
                          "count": 8,
                          "xBinStart": 0.613,
                          "yBinEnd": 170.9,
                          "xBinEnd": 0.636,
                          "yBinStart": 165.55
                        },
                        {
                          "count": 17,
                          "xBinStart": 0.613,
                          "yBinEnd": 176.25,
                          "xBinEnd": 0.636,
                          "yBinStart": 170.9
                        },
                        {
                          "count": 20,
                          "xBinStart": 0.613,
                          "yBinEnd": 181.6,
                          "xBinEnd": 0.636,
                          "yBinStart": 176.25
                        },
                        {
                          "count": 7,
                          "xBinStart": 0.613,
                          "yBinEnd": 186.95,
                          "xBinEnd": 0.636,
                          "yBinStart": 181.6
                        },
                        {
                          "count": 14,
                          "xBinStart": 0.613,
                          "yBinEnd": 192.3,
                          "xBinEnd": 0.636,
                          "yBinStart": 186.95
                        },
                        {
                          "count": 3,
                          "xBinStart": 0.613,
                          "yBinEnd": 197.65,
                          "xBinEnd": 0.636,
                          "yBinStart": 192.3
                        },
                        {
                          "count": 9,
                          "xBinStart": 0.613,
                          "yBinEnd": 203,
                          "xBinEnd": 0.636,
                          "yBinStart": 197.65
                        },
                        {
                          "count": 8,
                          "xBinStart": 0.613,
                          "yBinEnd": 208.35,
                          "xBinEnd": 0.636,
                          "yBinStart": 203
                        },
                        {
                          "count": 5,
                          "xBinStart": 0.613,
                          "yBinEnd": 213.7,
                          "xBinEnd": 0.636,
                          "yBinStart": 208.35
                        },
                        {
                          "count": 10,
                          "xBinStart": 0.613,
                          "yBinEnd": 219.05,
                          "xBinEnd": 0.636,
                          "yBinStart": 213.7
                        },
                        {
                          "count": 4,
                          "xBinStart": 0.613,
                          "yBinEnd": 224.4,
                          "xBinEnd": 0.636,
                          "yBinStart": 219.05
                        },
                        {
                          "count": 10,
                          "xBinStart": 0.613,
                          "yBinEnd": 229.75,
                          "xBinEnd": 0.636,
                          "yBinStart": 224.4
                        },
                        {
                          "count": 8,
                          "xBinStart": 0.613,
                          "yBinEnd": 235.1,
                          "xBinEnd": 0.636,
                          "yBinStart": 229.75
                        },
                        {
                          "count": 7,
                          "xBinStart": 0.613,
                          "yBinEnd": 240.45,
                          "xBinEnd": 0.636,
                          "yBinStart": 235.1
                        },
                        {
                          "count": 16,
                          "xBinStart": 0.613,
                          "yBinEnd": 245.8,
                          "xBinEnd": 0.636,
                          "yBinStart": 240.45
                        },
                        {
                          "count": 9,
                          "xBinStart": 0.613,
                          "yBinEnd": 251.15,
                          "xBinEnd": 0.636,
                          "yBinStart": 245.8
                        },
                        {
                          "count": 12,
                          "xBinStart": 0.613,
                          "yBinEnd": 256.5,
                          "xBinEnd": 0.636,
                          "yBinStart": 251.15
                        },
                        {
                          "count": 9,
                          "xBinStart": 0.613,
                          "yBinEnd": 261.85,
                          "xBinEnd": 0.636,
                          "yBinStart": 256.5
                        },
                        {
                          "count": 8,
                          "xBinStart": 0.613,
                          "yBinEnd": 267.2,
                          "xBinEnd": 0.636,
                          "yBinStart": 261.85
                        },
                        {
                          "count": 14,
                          "xBinStart": 0.613,
                          "yBinEnd": 272.55,
                          "xBinEnd": 0.636,
                          "yBinStart": 267.2
                        },
                        {
                          "count": 5,
                          "xBinStart": 0.613,
                          "yBinEnd": 277.9,
                          "xBinEnd": 0.636,
                          "yBinStart": 272.55
                        },
                        {
                          "count": 1,
                          "xBinStart": 0.613,
                          "yBinEnd": 288.6,
                          "xBinEnd": 0.636,
                          "yBinStart": 283.25
                        },
                        {
                          "count": 2,
                          "xBinStart": 0.636,
                          "yBinEnd": 101.35,
                          "xBinEnd": 0.659,
                          "yBinStart": 95.786
                        },
                        {
                          "count": 1,
                          "xBinStart": 0.636,
                          "yBinEnd": 106.7,
                          "xBinEnd": 0.659,
                          "yBinStart": 101.35
                        },
                        {
                          "count": 1,
                          "xBinStart": 0.636,
                          "yBinEnd": 112.05,
                          "xBinEnd": 0.659,
                          "yBinStart": 106.7
                        },
                        {
                          "count": 4,
                          "xBinStart": 0.636,
                          "yBinEnd": 117.4,
                          "xBinEnd": 0.659,
                          "yBinStart": 112.05
                        },
                        {
                          "count": 2,
                          "xBinStart": 0.636,
                          "yBinEnd": 122.75,
                          "xBinEnd": 0.659,
                          "yBinStart": 117.4
                        },
                        {
                          "count": 3,
                          "xBinStart": 0.636,
                          "yBinEnd": 128.1,
                          "xBinEnd": 0.659,
                          "yBinStart": 122.75
                        },
                        {
                          "count": 4,
                          "xBinStart": 0.636,
                          "yBinEnd": 133.45,
                          "xBinEnd": 0.659,
                          "yBinStart": 128.1
                        },
                        {
                          "count": 6,
                          "xBinStart": 0.636,
                          "yBinEnd": 138.8,
                          "xBinEnd": 0.659,
                          "yBinStart": 133.45
                        },
                        {
                          "count": 16,
                          "xBinStart": 0.636,
                          "yBinEnd": 144.15,
                          "xBinEnd": 0.659,
                          "yBinStart": 138.8
                        },
                        {
                          "count": 11,
                          "xBinStart": 0.636,
                          "yBinEnd": 149.5,
                          "xBinEnd": 0.659,
                          "yBinStart": 144.15
                        },
                        {
                          "count": 10,
                          "xBinStart": 0.636,
                          "yBinEnd": 154.85,
                          "xBinEnd": 0.659,
                          "yBinStart": 149.5
                        },
                        {
                          "count": 12,
                          "xBinStart": 0.636,
                          "yBinEnd": 160.2,
                          "xBinEnd": 0.659,
                          "yBinStart": 154.85
                        },
                        {
                          "count": 6,
                          "xBinStart": 0.636,
                          "yBinEnd": 165.55,
                          "xBinEnd": 0.659,
                          "yBinStart": 160.2
                        },
                        {
                          "count": 15,
                          "xBinStart": 0.636,
                          "yBinEnd": 170.9,
                          "xBinEnd": 0.659,
                          "yBinStart": 165.55
                        },
                        {
                          "count": 12,
                          "xBinStart": 0.636,
                          "yBinEnd": 176.25,
                          "xBinEnd": 0.659,
                          "yBinStart": 170.9
                        },
                        {
                          "count": 12,
                          "xBinStart": 0.636,
                          "yBinEnd": 181.6,
                          "xBinEnd": 0.659,
                          "yBinStart": 176.25
                        },
                        {
                          "count": 7,
                          "xBinStart": 0.636,
                          "yBinEnd": 186.95,
                          "xBinEnd": 0.659,
                          "yBinStart": 181.6
                        },
                        {
                          "count": 9,
                          "xBinStart": 0.636,
                          "yBinEnd": 192.3,
                          "xBinEnd": 0.659,
                          "yBinStart": 186.95
                        },
                        {
                          "count": 4,
                          "xBinStart": 0.636,
                          "yBinEnd": 197.65,
                          "xBinEnd": 0.659,
                          "yBinStart": 192.3
                        },
                        {
                          "count": 13,
                          "xBinStart": 0.636,
                          "yBinEnd": 203,
                          "xBinEnd": 0.659,
                          "yBinStart": 197.65
                        },
                        {
                          "count": 10,
                          "xBinStart": 0.636,
                          "yBinEnd": 208.35,
                          "xBinEnd": 0.659,
                          "yBinStart": 203
                        },
                        {
                          "count": 6,
                          "xBinStart": 0.636,
                          "yBinEnd": 213.7,
                          "xBinEnd": 0.659,
                          "yBinStart": 208.35
                        },
                        {
                          "count": 14,
                          "xBinStart": 0.636,
                          "yBinEnd": 219.05,
                          "xBinEnd": 0.659,
                          "yBinStart": 213.7
                        },
                        {
                          "count": 14,
                          "xBinStart": 0.636,
                          "yBinEnd": 224.4,
                          "xBinEnd": 0.659,
                          "yBinStart": 219.05
                        },
                        {
                          "count": 7,
                          "xBinStart": 0.636,
                          "yBinEnd": 229.75,
                          "xBinEnd": 0.659,
                          "yBinStart": 224.4
                        },
                        {
                          "count": 11,
                          "xBinStart": 0.636,
                          "yBinEnd": 235.1,
                          "xBinEnd": 0.659,
                          "yBinStart": 229.75
                        },
                        {
                          "count": 13,
                          "xBinStart": 0.636,
                          "yBinEnd": 240.45,
                          "xBinEnd": 0.659,
                          "yBinStart": 235.1
                        },
                        {
                          "count": 9,
                          "xBinStart": 0.636,
                          "yBinEnd": 245.8,
                          "xBinEnd": 0.659,
                          "yBinStart": 240.45
                        },
                        {
                          "count": 15,
                          "xBinStart": 0.636,
                          "yBinEnd": 251.15,
                          "xBinEnd": 0.659,
                          "yBinStart": 245.8
                        },
                        {
                          "count": 11,
                          "xBinStart": 0.636,
                          "yBinEnd": 256.5,
                          "xBinEnd": 0.659,
                          "yBinStart": 251.15
                        },
                        {
                          "count": 7,
                          "xBinStart": 0.636,
                          "yBinEnd": 261.85,
                          "xBinEnd": 0.659,
                          "yBinStart": 256.5
                        },
                        {
                          "count": 17,
                          "xBinStart": 0.636,
                          "yBinEnd": 267.2,
                          "xBinEnd": 0.659,
                          "yBinStart": 261.85
                        },
                        {
                          "count": 11,
                          "xBinStart": 0.636,
                          "yBinEnd": 272.55,
                          "xBinEnd": 0.659,
                          "yBinStart": 267.2
                        },
                        {
                          "count": 2,
                          "xBinStart": 0.636,
                          "yBinEnd": 277.9,
                          "xBinEnd": 0.659,
                          "yBinStart": 272.55
                        },
                        {
                          "count": 2,
                          "xBinStart": 0.636,
                          "yBinEnd": 283.25,
                          "xBinEnd": 0.659,
                          "yBinStart": 277.9
                        },
                        {
                          "count": 1,
                          "xBinStart": 0.659,
                          "yBinEnd": 101.35,
                          "xBinEnd": 0.682,
                          "yBinStart": 95.786
                        },
                        {
                          "count": 6,
                          "xBinStart": 0.659,
                          "yBinEnd": 106.7,
                          "xBinEnd": 0.682,
                          "yBinStart": 101.35
                        },
                        {
                          "count": 2,
                          "xBinStart": 0.659,
                          "yBinEnd": 112.05,
                          "xBinEnd": 0.682,
                          "yBinStart": 106.7
                        },
                        {
                          "count": 1,
                          "xBinStart": 0.659,
                          "yBinEnd": 117.4,
                          "xBinEnd": 0.682,
                          "yBinStart": 112.05
                        },
                        {
                          "count": 1,
                          "xBinStart": 0.659,
                          "yBinEnd": 128.1,
                          "xBinEnd": 0.682,
                          "yBinStart": 122.75
                        },
                        {
                          "count": 4,
                          "xBinStart": 0.659,
                          "yBinEnd": 133.45,
                          "xBinEnd": 0.682,
                          "yBinStart": 128.1
                        },
                        {
                          "count": 14,
                          "xBinStart": 0.659,
                          "yBinEnd": 138.8,
                          "xBinEnd": 0.682,
                          "yBinStart": 133.45
                        },
                        {
                          "count": 15,
                          "xBinStart": 0.659,
                          "yBinEnd": 144.15,
                          "xBinEnd": 0.682,
                          "yBinStart": 138.8
                        },
                        {
                          "count": 17,
                          "xBinStart": 0.659,
                          "yBinEnd": 149.5,
                          "xBinEnd": 0.682,
                          "yBinStart": 144.15
                        },
                        {
                          "count": 10,
                          "xBinStart": 0.659,
                          "yBinEnd": 154.85,
                          "xBinEnd": 0.682,
                          "yBinStart": 149.5
                        },
                        {
                          "count": 20,
                          "xBinStart": 0.659,
                          "yBinEnd": 160.2,
                          "xBinEnd": 0.682,
                          "yBinStart": 154.85
                        },
                        {
                          "count": 18,
                          "xBinStart": 0.659,
                          "yBinEnd": 165.55,
                          "xBinEnd": 0.682,
                          "yBinStart": 160.2
                        },
                        {
                          "count": 17,
                          "xBinStart": 0.659,
                          "yBinEnd": 170.9,
                          "xBinEnd": 0.682,
                          "yBinStart": 165.55
                        },
                        {
                          "count": 21,
                          "xBinStart": 0.659,
                          "yBinEnd": 176.25,
                          "xBinEnd": 0.682,
                          "yBinStart": 170.9
                        },
                        {
                          "count": 15,
                          "xBinStart": 0.659,
                          "yBinEnd": 181.6,
                          "xBinEnd": 0.682,
                          "yBinStart": 176.25
                        },
                        {
                          "count": 20,
                          "xBinStart": 0.659,
                          "yBinEnd": 186.95,
                          "xBinEnd": 0.682,
                          "yBinStart": 181.6
                        },
                        {
                          "count": 22,
                          "xBinStart": 0.659,
                          "yBinEnd": 192.3,
                          "xBinEnd": 0.682,
                          "yBinStart": 186.95
                        },
                        {
                          "count": 11,
                          "xBinStart": 0.659,
                          "yBinEnd": 197.65,
                          "xBinEnd": 0.682,
                          "yBinStart": 192.3
                        },
                        {
                          "count": 19,
                          "xBinStart": 0.659,
                          "yBinEnd": 203,
                          "xBinEnd": 0.682,
                          "yBinStart": 197.65
                        },
                        {
                          "count": 16,
                          "xBinStart": 0.659,
                          "yBinEnd": 208.35,
                          "xBinEnd": 0.682,
                          "yBinStart": 203
                        },
                        {
                          "count": 11,
                          "xBinStart": 0.659,
                          "yBinEnd": 213.7,
                          "xBinEnd": 0.682,
                          "yBinStart": 208.35
                        },
                        {
                          "count": 9,
                          "xBinStart": 0.659,
                          "yBinEnd": 219.05,
                          "xBinEnd": 0.682,
                          "yBinStart": 213.7
                        },
                        {
                          "count": 8,
                          "xBinStart": 0.659,
                          "yBinEnd": 224.4,
                          "xBinEnd": 0.682,
                          "yBinStart": 219.05
                        },
                        {
                          "count": 19,
                          "xBinStart": 0.659,
                          "yBinEnd": 229.75,
                          "xBinEnd": 0.682,
                          "yBinStart": 224.4
                        },
                        {
                          "count": 13,
                          "xBinStart": 0.659,
                          "yBinEnd": 235.1,
                          "xBinEnd": 0.682,
                          "yBinStart": 229.75
                        },
                        {
                          "count": 10,
                          "xBinStart": 0.659,
                          "yBinEnd": 240.45,
                          "xBinEnd": 0.682,
                          "yBinStart": 235.1
                        },
                        {
                          "count": 16,
                          "xBinStart": 0.659,
                          "yBinEnd": 245.8,
                          "xBinEnd": 0.682,
                          "yBinStart": 240.45
                        },
                        {
                          "count": 15,
                          "xBinStart": 0.659,
                          "yBinEnd": 251.15,
                          "xBinEnd": 0.682,
                          "yBinStart": 245.8
                        },
                        {
                          "count": 20,
                          "xBinStart": 0.659,
                          "yBinEnd": 256.5,
                          "xBinEnd": 0.682,
                          "yBinStart": 251.15
                        },
                        {
                          "count": 15,
                          "xBinStart": 0.659,
                          "yBinEnd": 261.85,
                          "xBinEnd": 0.682,
                          "yBinStart": 256.5
                        },
                        {
                          "count": 17,
                          "xBinStart": 0.659,
                          "yBinEnd": 267.2,
                          "xBinEnd": 0.682,
                          "yBinStart": 261.85
                        },
                        {
                          "count": 14,
                          "xBinStart": 0.659,
                          "yBinEnd": 272.55,
                          "xBinEnd": 0.682,
                          "yBinStart": 267.2
                        },
                        {
                          "count": 6,
                          "xBinStart": 0.659,
                          "yBinEnd": 277.9,
                          "xBinEnd": 0.682,
                          "yBinStart": 272.55
                        },
                        {
                          "count": 2,
                          "xBinStart": 0.659,
                          "yBinEnd": 283.25,
                          "xBinEnd": 0.682,
                          "yBinStart": 277.9
                        },
                        {
                          "count": 1,
                          "xBinStart": 0.682,
                          "yBinEnd": 101.35,
                          "xBinEnd": 0.704,
                          "yBinStart": 95.786
                        },
                        {
                          "count": 4,
                          "xBinStart": 0.682,
                          "yBinEnd": 106.7,
                          "xBinEnd": 0.704,
                          "yBinStart": 101.35
                        },
                        {
                          "count": 2,
                          "xBinStart": 0.682,
                          "yBinEnd": 112.05,
                          "xBinEnd": 0.704,
                          "yBinStart": 106.7
                        },
                        {
                          "count": 4,
                          "xBinStart": 0.682,
                          "yBinEnd": 117.4,
                          "xBinEnd": 0.704,
                          "yBinStart": 112.05
                        },
                        {
                          "count": 2,
                          "xBinStart": 0.682,
                          "yBinEnd": 128.1,
                          "xBinEnd": 0.704,
                          "yBinStart": 122.75
                        },
                        {
                          "count": 4,
                          "xBinStart": 0.682,
                          "yBinEnd": 133.45,
                          "xBinEnd": 0.704,
                          "yBinStart": 128.1
                        },
                        {
                          "count": 8,
                          "xBinStart": 0.682,
                          "yBinEnd": 138.8,
                          "xBinEnd": 0.704,
                          "yBinStart": 133.45
                        },
                        {
                          "count": 7,
                          "xBinStart": 0.682,
                          "yBinEnd": 144.15,
                          "xBinEnd": 0.704,
                          "yBinStart": 138.8
                        },
                        {
                          "count": 6,
                          "xBinStart": 0.682,
                          "yBinEnd": 149.5,
                          "xBinEnd": 0.704,
                          "yBinStart": 144.15
                        },
                        {
                          "count": 17,
                          "xBinStart": 0.682,
                          "yBinEnd": 154.85,
                          "xBinEnd": 0.704,
                          "yBinStart": 149.5
                        },
                        {
                          "count": 19,
                          "xBinStart": 0.682,
                          "yBinEnd": 160.2,
                          "xBinEnd": 0.704,
                          "yBinStart": 154.85
                        },
                        {
                          "count": 10,
                          "xBinStart": 0.682,
                          "yBinEnd": 165.55,
                          "xBinEnd": 0.704,
                          "yBinStart": 160.2
                        },
                        {
                          "count": 11,
                          "xBinStart": 0.682,
                          "yBinEnd": 170.9,
                          "xBinEnd": 0.704,
                          "yBinStart": 165.55
                        },
                        {
                          "count": 11,
                          "xBinStart": 0.682,
                          "yBinEnd": 176.25,
                          "xBinEnd": 0.704,
                          "yBinStart": 170.9
                        },
                        {
                          "count": 17,
                          "xBinStart": 0.682,
                          "yBinEnd": 181.6,
                          "xBinEnd": 0.704,
                          "yBinStart": 176.25
                        },
                        {
                          "count": 18,
                          "xBinStart": 0.682,
                          "yBinEnd": 186.95,
                          "xBinEnd": 0.704,
                          "yBinStart": 181.6
                        },
                        {
                          "count": 7,
                          "xBinStart": 0.682,
                          "yBinEnd": 192.3,
                          "xBinEnd": 0.704,
                          "yBinStart": 186.95
                        },
                        {
                          "count": 6,
                          "xBinStart": 0.682,
                          "yBinEnd": 197.65,
                          "xBinEnd": 0.704,
                          "yBinStart": 192.3
                        },
                        {
                          "count": 10,
                          "xBinStart": 0.682,
                          "yBinEnd": 203,
                          "xBinEnd": 0.704,
                          "yBinStart": 197.65
                        },
                        {
                          "count": 10,
                          "xBinStart": 0.682,
                          "yBinEnd": 208.35,
                          "xBinEnd": 0.704,
                          "yBinStart": 203
                        },
                        {
                          "count": 5,
                          "xBinStart": 0.682,
                          "yBinEnd": 213.7,
                          "xBinEnd": 0.704,
                          "yBinStart": 208.35
                        },
                        {
                          "count": 15,
                          "xBinStart": 0.682,
                          "yBinEnd": 219.05,
                          "xBinEnd": 0.704,
                          "yBinStart": 213.7
                        },
                        {
                          "count": 9,
                          "xBinStart": 0.682,
                          "yBinEnd": 224.4,
                          "xBinEnd": 0.704,
                          "yBinStart": 219.05
                        },
                        {
                          "count": 17,
                          "xBinStart": 0.682,
                          "yBinEnd": 229.75,
                          "xBinEnd": 0.704,
                          "yBinStart": 224.4
                        },
                        {
                          "count": 16,
                          "xBinStart": 0.682,
                          "yBinEnd": 235.1,
                          "xBinEnd": 0.704,
                          "yBinStart": 229.75
                        },
                        {
                          "count": 12,
                          "xBinStart": 0.682,
                          "yBinEnd": 240.45,
                          "xBinEnd": 0.704,
                          "yBinStart": 235.1
                        },
                        {
                          "count": 10,
                          "xBinStart": 0.682,
                          "yBinEnd": 245.8,
                          "xBinEnd": 0.704,
                          "yBinStart": 240.45
                        },
                        {
                          "count": 8,
                          "xBinStart": 0.682,
                          "yBinEnd": 251.15,
                          "xBinEnd": 0.704,
                          "yBinStart": 245.8
                        },
                        {
                          "count": 14,
                          "xBinStart": 0.682,
                          "yBinEnd": 256.5,
                          "xBinEnd": 0.704,
                          "yBinStart": 251.15
                        },
                        {
                          "count": 15,
                          "xBinStart": 0.682,
                          "yBinEnd": 261.85,
                          "xBinEnd": 0.704,
                          "yBinStart": 256.5
                        },
                        {
                          "count": 17,
                          "xBinStart": 0.682,
                          "yBinEnd": 267.2,
                          "xBinEnd": 0.704,
                          "yBinStart": 261.85
                        },
                        {
                          "count": 5,
                          "xBinStart": 0.682,
                          "yBinEnd": 272.55,
                          "xBinEnd": 0.704,
                          "yBinStart": 267.2
                        },
                        {
                          "count": 4,
                          "xBinStart": 0.682,
                          "yBinEnd": 277.9,
                          "xBinEnd": 0.704,
                          "yBinStart": 272.55
                        },
                        {
                          "count": 1,
                          "xBinStart": 0.682,
                          "yBinEnd": 288.6,
                          "xBinEnd": 0.704,
                          "yBinStart": 283.25
                        },
                        {
                          "count": 1,
                          "xBinStart": 0.704,
                          "yBinEnd": 101.35,
                          "xBinEnd": 0.727,
                          "yBinStart": 95.786
                        },
                        {
                          "count": 1,
                          "xBinStart": 0.704,
                          "yBinEnd": 112.05,
                          "xBinEnd": 0.727,
                          "yBinStart": 106.7
                        },
                        {
                          "count": 1,
                          "xBinStart": 0.704,
                          "yBinEnd": 117.4,
                          "xBinEnd": 0.727,
                          "yBinStart": 112.05
                        },
                        {
                          "count": 4,
                          "xBinStart": 0.704,
                          "yBinEnd": 133.45,
                          "xBinEnd": 0.727,
                          "yBinStart": 128.1
                        },
                        {
                          "count": 8,
                          "xBinStart": 0.704,
                          "yBinEnd": 138.8,
                          "xBinEnd": 0.727,
                          "yBinStart": 133.45
                        },
                        {
                          "count": 15,
                          "xBinStart": 0.704,
                          "yBinEnd": 144.15,
                          "xBinEnd": 0.727,
                          "yBinStart": 138.8
                        },
                        {
                          "count": 12,
                          "xBinStart": 0.704,
                          "yBinEnd": 149.5,
                          "xBinEnd": 0.727,
                          "yBinStart": 144.15
                        },
                        {
                          "count": 8,
                          "xBinStart": 0.704,
                          "yBinEnd": 154.85,
                          "xBinEnd": 0.727,
                          "yBinStart": 149.5
                        },
                        {
                          "count": 10,
                          "xBinStart": 0.704,
                          "yBinEnd": 160.2,
                          "xBinEnd": 0.727,
                          "yBinStart": 154.85
                        },
                        {
                          "count": 9,
                          "xBinStart": 0.704,
                          "yBinEnd": 165.55,
                          "xBinEnd": 0.727,
                          "yBinStart": 160.2
                        },
                        {
                          "count": 6,
                          "xBinStart": 0.704,
                          "yBinEnd": 170.9,
                          "xBinEnd": 0.727,
                          "yBinStart": 165.55
                        },
                        {
                          "count": 13,
                          "xBinStart": 0.704,
                          "yBinEnd": 176.25,
                          "xBinEnd": 0.727,
                          "yBinStart": 170.9
                        },
                        {
                          "count": 11,
                          "xBinStart": 0.704,
                          "yBinEnd": 181.6,
                          "xBinEnd": 0.727,
                          "yBinStart": 176.25
                        },
                        {
                          "count": 7,
                          "xBinStart": 0.704,
                          "yBinEnd": 186.95,
                          "xBinEnd": 0.727,
                          "yBinStart": 181.6
                        },
                        {
                          "count": 13,
                          "xBinStart": 0.704,
                          "yBinEnd": 192.3,
                          "xBinEnd": 0.727,
                          "yBinStart": 186.95
                        },
                        {
                          "count": 9,
                          "xBinStart": 0.704,
                          "yBinEnd": 197.65,
                          "xBinEnd": 0.727,
                          "yBinStart": 192.3
                        },
                        {
                          "count": 19,
                          "xBinStart": 0.704,
                          "yBinEnd": 203,
                          "xBinEnd": 0.727,
                          "yBinStart": 197.65
                        },
                        {
                          "count": 11,
                          "xBinStart": 0.704,
                          "yBinEnd": 208.35,
                          "xBinEnd": 0.727,
                          "yBinStart": 203
                        },
                        {
                          "count": 6,
                          "xBinStart": 0.704,
                          "yBinEnd": 213.7,
                          "xBinEnd": 0.727,
                          "yBinStart": 208.35
                        },
                        {
                          "count": 9,
                          "xBinStart": 0.704,
                          "yBinEnd": 219.05,
                          "xBinEnd": 0.727,
                          "yBinStart": 213.7
                        },
                        {
                          "count": 17,
                          "xBinStart": 0.704,
                          "yBinEnd": 224.4,
                          "xBinEnd": 0.727,
                          "yBinStart": 219.05
                        },
                        {
                          "count": 7,
                          "xBinStart": 0.704,
                          "yBinEnd": 229.75,
                          "xBinEnd": 0.727,
                          "yBinStart": 224.4
                        },
                        {
                          "count": 8,
                          "xBinStart": 0.704,
                          "yBinEnd": 235.1,
                          "xBinEnd": 0.727,
                          "yBinStart": 229.75
                        },
                        {
                          "count": 16,
                          "xBinStart": 0.704,
                          "yBinEnd": 240.45,
                          "xBinEnd": 0.727,
                          "yBinStart": 235.1
                        },
                        {
                          "count": 13,
                          "xBinStart": 0.704,
                          "yBinEnd": 245.8,
                          "xBinEnd": 0.727,
                          "yBinStart": 240.45
                        },
                        {
                          "count": 13,
                          "xBinStart": 0.704,
                          "yBinEnd": 251.15,
                          "xBinEnd": 0.727,
                          "yBinStart": 245.8
                        },
                        {
                          "count": 9,
                          "xBinStart": 0.704,
                          "yBinEnd": 256.5,
                          "xBinEnd": 0.727,
                          "yBinStart": 251.15
                        },
                        {
                          "count": 13,
                          "xBinStart": 0.704,
                          "yBinEnd": 261.85,
                          "xBinEnd": 0.727,
                          "yBinStart": 256.5
                        },
                        {
                          "count": 12,
                          "xBinStart": 0.704,
                          "yBinEnd": 267.2,
                          "xBinEnd": 0.727,
                          "yBinStart": 261.85
                        },
                        {
                          "count": 10,
                          "xBinStart": 0.704,
                          "yBinEnd": 272.55,
                          "xBinEnd": 0.727,
                          "yBinStart": 267.2
                        },
                        {
                          "count": 3,
                          "xBinStart": 0.704,
                          "yBinEnd": 277.9,
                          "xBinEnd": 0.727,
                          "yBinStart": 272.55
                        },
                        {
                          "count": 1,
                          "xBinStart": 0.704,
                          "yBinEnd": 283.25,
                          "xBinEnd": 0.727,
                          "yBinStart": 277.9
                        },
                        {
                          "count": 3,
                          "xBinStart": 0.704,
                          "yBinEnd": 288.6,
                          "xBinEnd": 0.727,
                          "yBinStart": 283.25
                        },
                        {
                          "count": 1,
                          "xBinStart": 0.704,
                          "yBinEnd": 304.65,
                          "xBinEnd": 0.727,
                          "yBinStart": 299.3
                        },
                        {
                          "count": 1,
                          "xBinStart": 0.727,
                          "yBinEnd": 101.35,
                          "xBinEnd": 0.75,
                          "yBinStart": 95.786
                        },
                        {
                          "count": 3,
                          "xBinStart": 0.727,
                          "yBinEnd": 106.7,
                          "xBinEnd": 0.75,
                          "yBinStart": 101.35
                        },
                        {
                          "count": 1,
                          "xBinStart": 0.727,
                          "yBinEnd": 112.05,
                          "xBinEnd": 0.75,
                          "yBinStart": 106.7
                        },
                        {
                          "count": 2,
                          "xBinStart": 0.727,
                          "yBinEnd": 117.4,
                          "xBinEnd": 0.75,
                          "yBinStart": 112.05
                        },
                        {
                          "count": 4,
                          "xBinStart": 0.727,
                          "yBinEnd": 122.75,
                          "xBinEnd": 0.75,
                          "yBinStart": 117.4
                        },
                        {
                          "count": 2,
                          "xBinStart": 0.727,
                          "yBinEnd": 128.1,
                          "xBinEnd": 0.75,
                          "yBinStart": 122.75
                        },
                        {
                          "count": 7,
                          "xBinStart": 0.727,
                          "yBinEnd": 133.45,
                          "xBinEnd": 0.75,
                          "yBinStart": 128.1
                        },
                        {
                          "count": 11,
                          "xBinStart": 0.727,
                          "yBinEnd": 138.8,
                          "xBinEnd": 0.75,
                          "yBinStart": 133.45
                        },
                        {
                          "count": 10,
                          "xBinStart": 0.727,
                          "yBinEnd": 144.15,
                          "xBinEnd": 0.75,
                          "yBinStart": 138.8
                        },
                        {
                          "count": 14,
                          "xBinStart": 0.727,
                          "yBinEnd": 149.5,
                          "xBinEnd": 0.75,
                          "yBinStart": 144.15
                        },
                        {
                          "count": 9,
                          "xBinStart": 0.727,
                          "yBinEnd": 154.85,
                          "xBinEnd": 0.75,
                          "yBinStart": 149.5
                        },
                        {
                          "count": 17,
                          "xBinStart": 0.727,
                          "yBinEnd": 160.2,
                          "xBinEnd": 0.75,
                          "yBinStart": 154.85
                        },
                        {
                          "count": 10,
                          "xBinStart": 0.727,
                          "yBinEnd": 165.55,
                          "xBinEnd": 0.75,
                          "yBinStart": 160.2
                        },
                        {
                          "count": 15,
                          "xBinStart": 0.727,
                          "yBinEnd": 170.9,
                          "xBinEnd": 0.75,
                          "yBinStart": 165.55
                        },
                        {
                          "count": 14,
                          "xBinStart": 0.727,
                          "yBinEnd": 176.25,
                          "xBinEnd": 0.75,
                          "yBinStart": 170.9
                        },
                        {
                          "count": 10,
                          "xBinStart": 0.727,
                          "yBinEnd": 181.6,
                          "xBinEnd": 0.75,
                          "yBinStart": 176.25
                        },
                        {
                          "count": 5,
                          "xBinStart": 0.727,
                          "yBinEnd": 186.95,
                          "xBinEnd": 0.75,
                          "yBinStart": 181.6
                        },
                        {
                          "count": 10,
                          "xBinStart": 0.727,
                          "yBinEnd": 192.3,
                          "xBinEnd": 0.75,
                          "yBinStart": 186.95
                        },
                        {
                          "count": 10,
                          "xBinStart": 0.727,
                          "yBinEnd": 197.65,
                          "xBinEnd": 0.75,
                          "yBinStart": 192.3
                        },
                        {
                          "count": 11,
                          "xBinStart": 0.727,
                          "yBinEnd": 203,
                          "xBinEnd": 0.75,
                          "yBinStart": 197.65
                        },
                        {
                          "count": 10,
                          "xBinStart": 0.727,
                          "yBinEnd": 208.35,
                          "xBinEnd": 0.75,
                          "yBinStart": 203
                        },
                        {
                          "count": 9,
                          "xBinStart": 0.727,
                          "yBinEnd": 213.7,
                          "xBinEnd": 0.75,
                          "yBinStart": 208.35
                        },
                        {
                          "count": 18,
                          "xBinStart": 0.727,
                          "yBinEnd": 219.05,
                          "xBinEnd": 0.75,
                          "yBinStart": 213.7
                        },
                        {
                          "count": 11,
                          "xBinStart": 0.727,
                          "yBinEnd": 224.4,
                          "xBinEnd": 0.75,
                          "yBinStart": 219.05
                        },
                        {
                          "count": 11,
                          "xBinStart": 0.727,
                          "yBinEnd": 229.75,
                          "xBinEnd": 0.75,
                          "yBinStart": 224.4
                        },
                        {
                          "count": 28,
                          "xBinStart": 0.727,
                          "yBinEnd": 235.1,
                          "xBinEnd": 0.75,
                          "yBinStart": 229.75
                        },
                        {
                          "count": 10,
                          "xBinStart": 0.727,
                          "yBinEnd": 240.45,
                          "xBinEnd": 0.75,
                          "yBinStart": 235.1
                        },
                        {
                          "count": 25,
                          "xBinStart": 0.727,
                          "yBinEnd": 245.8,
                          "xBinEnd": 0.75,
                          "yBinStart": 240.45
                        },
                        {
                          "count": 17,
                          "xBinStart": 0.727,
                          "yBinEnd": 251.15,
                          "xBinEnd": 0.75,
                          "yBinStart": 245.8
                        },
                        {
                          "count": 13,
                          "xBinStart": 0.727,
                          "yBinEnd": 256.5,
                          "xBinEnd": 0.75,
                          "yBinStart": 251.15
                        },
                        {
                          "count": 17,
                          "xBinStart": 0.727,
                          "yBinEnd": 261.85,
                          "xBinEnd": 0.75,
                          "yBinStart": 256.5
                        },
                        {
                          "count": 20,
                          "xBinStart": 0.727,
                          "yBinEnd": 267.2,
                          "xBinEnd": 0.75,
                          "yBinStart": 261.85
                        },
                        {
                          "count": 6,
                          "xBinStart": 0.727,
                          "yBinEnd": 272.55,
                          "xBinEnd": 0.75,
                          "yBinStart": 267.2
                        },
                        {
                          "count": 16,
                          "xBinStart": 0.727,
                          "yBinEnd": 277.9,
                          "xBinEnd": 0.75,
                          "yBinStart": 272.55
                        },
                        {
                          "count": 1,
                          "xBinStart": 0.727,
                          "yBinEnd": 283.25,
                          "xBinEnd": 0.75,
                          "yBinStart": 277.9
                        },
                        {
                          "count": 4,
                          "xBinStart": 0.75,
                          "yBinEnd": 101.35,
                          "xBinEnd": 0.772,
                          "yBinStart": 95.786
                        },
                        {
                          "count": 1,
                          "xBinStart": 0.75,
                          "yBinEnd": 112.05,
                          "xBinEnd": 0.772,
                          "yBinStart": 106.7
                        },
                        {
                          "count": 2,
                          "xBinStart": 0.75,
                          "yBinEnd": 117.4,
                          "xBinEnd": 0.772,
                          "yBinStart": 112.05
                        },
                        {
                          "count": 2,
                          "xBinStart": 0.75,
                          "yBinEnd": 122.75,
                          "xBinEnd": 0.772,
                          "yBinStart": 117.4
                        },
                        {
                          "count": 1,
                          "xBinStart": 0.75,
                          "yBinEnd": 128.1,
                          "xBinEnd": 0.772,
                          "yBinStart": 122.75
                        },
                        {
                          "count": 4,
                          "xBinStart": 0.75,
                          "yBinEnd": 133.45,
                          "xBinEnd": 0.772,
                          "yBinStart": 128.1
                        },
                        {
                          "count": 16,
                          "xBinStart": 0.75,
                          "yBinEnd": 138.8,
                          "xBinEnd": 0.772,
                          "yBinStart": 133.45
                        },
                        {
                          "count": 15,
                          "xBinStart": 0.75,
                          "yBinEnd": 144.15,
                          "xBinEnd": 0.772,
                          "yBinStart": 138.8
                        },
                        {
                          "count": 16,
                          "xBinStart": 0.75,
                          "yBinEnd": 149.5,
                          "xBinEnd": 0.772,
                          "yBinStart": 144.15
                        },
                        {
                          "count": 12,
                          "xBinStart": 0.75,
                          "yBinEnd": 154.85,
                          "xBinEnd": 0.772,
                          "yBinStart": 149.5
                        },
                        {
                          "count": 13,
                          "xBinStart": 0.75,
                          "yBinEnd": 160.2,
                          "xBinEnd": 0.772,
                          "yBinStart": 154.85
                        },
                        {
                          "count": 19,
                          "xBinStart": 0.75,
                          "yBinEnd": 165.55,
                          "xBinEnd": 0.772,
                          "yBinStart": 160.2
                        },
                        {
                          "count": 10,
                          "xBinStart": 0.75,
                          "yBinEnd": 170.9,
                          "xBinEnd": 0.772,
                          "yBinStart": 165.55
                        },
                        {
                          "count": 15,
                          "xBinStart": 0.75,
                          "yBinEnd": 176.25,
                          "xBinEnd": 0.772,
                          "yBinStart": 170.9
                        },
                        {
                          "count": 11,
                          "xBinStart": 0.75,
                          "yBinEnd": 181.6,
                          "xBinEnd": 0.772,
                          "yBinStart": 176.25
                        },
                        {
                          "count": 11,
                          "xBinStart": 0.75,
                          "yBinEnd": 186.95,
                          "xBinEnd": 0.772,
                          "yBinStart": 181.6
                        },
                        {
                          "count": 28,
                          "xBinStart": 0.75,
                          "yBinEnd": 192.3,
                          "xBinEnd": 0.772,
                          "yBinStart": 186.95
                        },
                        {
                          "count": 13,
                          "xBinStart": 0.75,
                          "yBinEnd": 197.65,
                          "xBinEnd": 0.772,
                          "yBinStart": 192.3
                        },
                        {
                          "count": 13,
                          "xBinStart": 0.75,
                          "yBinEnd": 203,
                          "xBinEnd": 0.772,
                          "yBinStart": 197.65
                        },
                        {
                          "count": 16,
                          "xBinStart": 0.75,
                          "yBinEnd": 208.35,
                          "xBinEnd": 0.772,
                          "yBinStart": 203
                        },
                        {
                          "count": 6,
                          "xBinStart": 0.75,
                          "yBinEnd": 213.7,
                          "xBinEnd": 0.772,
                          "yBinStart": 208.35
                        },
                        {
                          "count": 30,
                          "xBinStart": 0.75,
                          "yBinEnd": 219.05,
                          "xBinEnd": 0.772,
                          "yBinStart": 213.7
                        },
                        {
                          "count": 27,
                          "xBinStart": 0.75,
                          "yBinEnd": 224.4,
                          "xBinEnd": 0.772,
                          "yBinStart": 219.05
                        },
                        {
                          "count": 29,
                          "xBinStart": 0.75,
                          "yBinEnd": 229.75,
                          "xBinEnd": 0.772,
                          "yBinStart": 224.4
                        },
                        {
                          "count": 20,
                          "xBinStart": 0.75,
                          "yBinEnd": 235.1,
                          "xBinEnd": 0.772,
                          "yBinStart": 229.75
                        },
                        {
                          "count": 27,
                          "xBinStart": 0.75,
                          "yBinEnd": 240.45,
                          "xBinEnd": 0.772,
                          "yBinStart": 235.1
                        },
                        {
                          "count": 26,
                          "xBinStart": 0.75,
                          "yBinEnd": 245.8,
                          "xBinEnd": 0.772,
                          "yBinStart": 240.45
                        },
                        {
                          "count": 22,
                          "xBinStart": 0.75,
                          "yBinEnd": 251.15,
                          "xBinEnd": 0.772,
                          "yBinStart": 245.8
                        },
                        {
                          "count": 24,
                          "xBinStart": 0.75,
                          "yBinEnd": 256.5,
                          "xBinEnd": 0.772,
                          "yBinStart": 251.15
                        },
                        {
                          "count": 16,
                          "xBinStart": 0.75,
                          "yBinEnd": 261.85,
                          "xBinEnd": 0.772,
                          "yBinStart": 256.5
                        },
                        {
                          "count": 28,
                          "xBinStart": 0.75,
                          "yBinEnd": 267.2,
                          "xBinEnd": 0.772,
                          "yBinStart": 261.85
                        },
                        {
                          "count": 21,
                          "xBinStart": 0.75,
                          "yBinEnd": 272.55,
                          "xBinEnd": 0.772,
                          "yBinStart": 267.2
                        },
                        {
                          "count": 10,
                          "xBinStart": 0.75,
                          "yBinEnd": 277.9,
                          "xBinEnd": 0.772,
                          "yBinStart": 272.55
                        },
                        {
                          "count": 4,
                          "xBinStart": 0.75,
                          "yBinEnd": 283.25,
                          "xBinEnd": 0.772,
                          "yBinStart": 277.9
                        },
                        {
                          "count": 5,
                          "xBinStart": 0.75,
                          "yBinEnd": 288.6,
                          "xBinEnd": 0.772,
                          "yBinStart": 283.25
                        },
                        {
                          "count": 1,
                          "xBinStart": 0.75,
                          "yBinEnd": 293.95,
                          "xBinEnd": 0.772,
                          "yBinStart": 288.6
                        },
                        {
                          "count": 5,
                          "xBinStart": 0.772,
                          "yBinEnd": 101.35,
                          "xBinEnd": 0.795,
                          "yBinStart": 95.786
                        },
                        {
                          "count": 2,
                          "xBinStart": 0.772,
                          "yBinEnd": 106.7,
                          "xBinEnd": 0.795,
                          "yBinStart": 101.35
                        },
                        {
                          "count": 2,
                          "xBinStart": 0.772,
                          "yBinEnd": 112.05,
                          "xBinEnd": 0.795,
                          "yBinStart": 106.7
                        },
                        {
                          "count": 3,
                          "xBinStart": 0.772,
                          "yBinEnd": 117.4,
                          "xBinEnd": 0.795,
                          "yBinStart": 112.05
                        },
                        {
                          "count": 3,
                          "xBinStart": 0.772,
                          "yBinEnd": 128.1,
                          "xBinEnd": 0.795,
                          "yBinStart": 122.75
                        },
                        {
                          "count": 3,
                          "xBinStart": 0.772,
                          "yBinEnd": 133.45,
                          "xBinEnd": 0.795,
                          "yBinStart": 128.1
                        },
                        {
                          "count": 7,
                          "xBinStart": 0.772,
                          "yBinEnd": 138.8,
                          "xBinEnd": 0.795,
                          "yBinStart": 133.45
                        },
                        {
                          "count": 13,
                          "xBinStart": 0.772,
                          "yBinEnd": 144.15,
                          "xBinEnd": 0.795,
                          "yBinStart": 138.8
                        },
                        {
                          "count": 9,
                          "xBinStart": 0.772,
                          "yBinEnd": 149.5,
                          "xBinEnd": 0.795,
                          "yBinStart": 144.15
                        },
                        {
                          "count": 8,
                          "xBinStart": 0.772,
                          "yBinEnd": 154.85,
                          "xBinEnd": 0.795,
                          "yBinStart": 149.5
                        },
                        {
                          "count": 20,
                          "xBinStart": 0.772,
                          "yBinEnd": 160.2,
                          "xBinEnd": 0.795,
                          "yBinStart": 154.85
                        },
                        {
                          "count": 6,
                          "xBinStart": 0.772,
                          "yBinEnd": 165.55,
                          "xBinEnd": 0.795,
                          "yBinStart": 160.2
                        },
                        {
                          "count": 13,
                          "xBinStart": 0.772,
                          "yBinEnd": 170.9,
                          "xBinEnd": 0.795,
                          "yBinStart": 165.55
                        },
                        {
                          "count": 12,
                          "xBinStart": 0.772,
                          "yBinEnd": 176.25,
                          "xBinEnd": 0.795,
                          "yBinStart": 170.9
                        },
                        {
                          "count": 8,
                          "xBinStart": 0.772,
                          "yBinEnd": 181.6,
                          "xBinEnd": 0.795,
                          "yBinStart": 176.25
                        },
                        {
                          "count": 4,
                          "xBinStart": 0.772,
                          "yBinEnd": 186.95,
                          "xBinEnd": 0.795,
                          "yBinStart": 181.6
                        },
                        {
                          "count": 13,
                          "xBinStart": 0.772,
                          "yBinEnd": 192.3,
                          "xBinEnd": 0.795,
                          "yBinStart": 186.95
                        },
                        {
                          "count": 10,
                          "xBinStart": 0.772,
                          "yBinEnd": 197.65,
                          "xBinEnd": 0.795,
                          "yBinStart": 192.3
                        },
                        {
                          "count": 10,
                          "xBinStart": 0.772,
                          "yBinEnd": 203,
                          "xBinEnd": 0.795,
                          "yBinStart": 197.65
                        },
                        {
                          "count": 12,
                          "xBinStart": 0.772,
                          "yBinEnd": 208.35,
                          "xBinEnd": 0.795,
                          "yBinStart": 203
                        },
                        {
                          "count": 9,
                          "xBinStart": 0.772,
                          "yBinEnd": 213.7,
                          "xBinEnd": 0.795,
                          "yBinStart": 208.35
                        },
                        {
                          "count": 11,
                          "xBinStart": 0.772,
                          "yBinEnd": 219.05,
                          "xBinEnd": 0.795,
                          "yBinStart": 213.7
                        },
                        {
                          "count": 12,
                          "xBinStart": 0.772,
                          "yBinEnd": 224.4,
                          "xBinEnd": 0.795,
                          "yBinStart": 219.05
                        },
                        {
                          "count": 11,
                          "xBinStart": 0.772,
                          "yBinEnd": 229.75,
                          "xBinEnd": 0.795,
                          "yBinStart": 224.4
                        },
                        {
                          "count": 11,
                          "xBinStart": 0.772,
                          "yBinEnd": 235.1,
                          "xBinEnd": 0.795,
                          "yBinStart": 229.75
                        },
                        {
                          "count": 21,
                          "xBinStart": 0.772,
                          "yBinEnd": 240.45,
                          "xBinEnd": 0.795,
                          "yBinStart": 235.1
                        },
                        {
                          "count": 9,
                          "xBinStart": 0.772,
                          "yBinEnd": 245.8,
                          "xBinEnd": 0.795,
                          "yBinStart": 240.45
                        },
                        {
                          "count": 13,
                          "xBinStart": 0.772,
                          "yBinEnd": 251.15,
                          "xBinEnd": 0.795,
                          "yBinStart": 245.8
                        },
                        {
                          "count": 21,
                          "xBinStart": 0.772,
                          "yBinEnd": 256.5,
                          "xBinEnd": 0.795,
                          "yBinStart": 251.15
                        },
                        {
                          "count": 15,
                          "xBinStart": 0.772,
                          "yBinEnd": 261.85,
                          "xBinEnd": 0.795,
                          "yBinStart": 256.5
                        },
                        {
                          "count": 9,
                          "xBinStart": 0.772,
                          "yBinEnd": 267.2,
                          "xBinEnd": 0.795,
                          "yBinStart": 261.85
                        },
                        {
                          "count": 14,
                          "xBinStart": 0.772,
                          "yBinEnd": 272.55,
                          "xBinEnd": 0.795,
                          "yBinStart": 267.2
                        },
                        {
                          "count": 9,
                          "xBinStart": 0.772,
                          "yBinEnd": 277.9,
                          "xBinEnd": 0.795,
                          "yBinStart": 272.55
                        },
                        {
                          "count": 1,
                          "xBinStart": 0.772,
                          "yBinEnd": 283.25,
                          "xBinEnd": 0.795,
                          "yBinStart": 277.9
                        },
                        {
                          "count": 2,
                          "xBinStart": 0.772,
                          "yBinEnd": 288.6,
                          "xBinEnd": 0.795,
                          "yBinStart": 283.25
                        },
                        {
                          "count": 3,
                          "xBinStart": 0.772,
                          "yBinEnd": 299.3,
                          "xBinEnd": 0.795,
                          "yBinStart": 293.95
                        },
                        {
                          "count": 2,
                          "xBinStart": 0.795,
                          "yBinEnd": 101.35,
                          "xBinEnd": 0.818,
                          "yBinStart": 95.786
                        },
                        {
                          "count": 1,
                          "xBinStart": 0.795,
                          "yBinEnd": 106.7,
                          "xBinEnd": 0.818,
                          "yBinStart": 101.35
                        },
                        {
                          "count": 3,
                          "xBinStart": 0.795,
                          "yBinEnd": 112.05,
                          "xBinEnd": 0.818,
                          "yBinStart": 106.7
                        },
                        {
                          "count": 3,
                          "xBinStart": 0.795,
                          "yBinEnd": 128.1,
                          "xBinEnd": 0.818,
                          "yBinStart": 122.75
                        },
                        {
                          "count": 6,
                          "xBinStart": 0.795,
                          "yBinEnd": 133.45,
                          "xBinEnd": 0.818,
                          "yBinStart": 128.1
                        },
                        {
                          "count": 11,
                          "xBinStart": 0.795,
                          "yBinEnd": 138.8,
                          "xBinEnd": 0.818,
                          "yBinStart": 133.45
                        },
                        {
                          "count": 9,
                          "xBinStart": 0.795,
                          "yBinEnd": 144.15,
                          "xBinEnd": 0.818,
                          "yBinStart": 138.8
                        },
                        {
                          "count": 5,
                          "xBinStart": 0.795,
                          "yBinEnd": 149.5,
                          "xBinEnd": 0.818,
                          "yBinStart": 144.15
                        },
                        {
                          "count": 6,
                          "xBinStart": 0.795,
                          "yBinEnd": 154.85,
                          "xBinEnd": 0.818,
                          "yBinStart": 149.5
                        },
                        {
                          "count": 12,
                          "xBinStart": 0.795,
                          "yBinEnd": 160.2,
                          "xBinEnd": 0.818,
                          "yBinStart": 154.85
                        },
                        {
                          "count": 15,
                          "xBinStart": 0.795,
                          "yBinEnd": 165.55,
                          "xBinEnd": 0.818,
                          "yBinStart": 160.2
                        },
                        {
                          "count": 6,
                          "xBinStart": 0.795,
                          "yBinEnd": 170.9,
                          "xBinEnd": 0.818,
                          "yBinStart": 165.55
                        },
                        {
                          "count": 9,
                          "xBinStart": 0.795,
                          "yBinEnd": 176.25,
                          "xBinEnd": 0.818,
                          "yBinStart": 170.9
                        },
                        {
                          "count": 13,
                          "xBinStart": 0.795,
                          "yBinEnd": 181.6,
                          "xBinEnd": 0.818,
                          "yBinStart": 176.25
                        },
                        {
                          "count": 3,
                          "xBinStart": 0.795,
                          "yBinEnd": 186.95,
                          "xBinEnd": 0.818,
                          "yBinStart": 181.6
                        },
                        {
                          "count": 7,
                          "xBinStart": 0.795,
                          "yBinEnd": 192.3,
                          "xBinEnd": 0.818,
                          "yBinStart": 186.95
                        },
                        {
                          "count": 9,
                          "xBinStart": 0.795,
                          "yBinEnd": 197.65,
                          "xBinEnd": 0.818,
                          "yBinStart": 192.3
                        },
                        {
                          "count": 15,
                          "xBinStart": 0.795,
                          "yBinEnd": 203,
                          "xBinEnd": 0.818,
                          "yBinStart": 197.65
                        },
                        {
                          "count": 8,
                          "xBinStart": 0.795,
                          "yBinEnd": 208.35,
                          "xBinEnd": 0.818,
                          "yBinStart": 203
                        },
                        {
                          "count": 18,
                          "xBinStart": 0.795,
                          "yBinEnd": 213.7,
                          "xBinEnd": 0.818,
                          "yBinStart": 208.35
                        },
                        {
                          "count": 17,
                          "xBinStart": 0.795,
                          "yBinEnd": 219.05,
                          "xBinEnd": 0.818,
                          "yBinStart": 213.7
                        },
                        {
                          "count": 12,
                          "xBinStart": 0.795,
                          "yBinEnd": 224.4,
                          "xBinEnd": 0.818,
                          "yBinStart": 219.05
                        },
                        {
                          "count": 16,
                          "xBinStart": 0.795,
                          "yBinEnd": 229.75,
                          "xBinEnd": 0.818,
                          "yBinStart": 224.4
                        },
                        {
                          "count": 9,
                          "xBinStart": 0.795,
                          "yBinEnd": 235.1,
                          "xBinEnd": 0.818,
                          "yBinStart": 229.75
                        },
                        {
                          "count": 18,
                          "xBinStart": 0.795,
                          "yBinEnd": 240.45,
                          "xBinEnd": 0.818,
                          "yBinStart": 235.1
                        },
                        {
                          "count": 16,
                          "xBinStart": 0.795,
                          "yBinEnd": 245.8,
                          "xBinEnd": 0.818,
                          "yBinStart": 240.45
                        },
                        {
                          "count": 17,
                          "xBinStart": 0.795,
                          "yBinEnd": 251.15,
                          "xBinEnd": 0.818,
                          "yBinStart": 245.8
                        },
                        {
                          "count": 15,
                          "xBinStart": 0.795,
                          "yBinEnd": 256.5,
                          "xBinEnd": 0.818,
                          "yBinStart": 251.15
                        },
                        {
                          "count": 17,
                          "xBinStart": 0.795,
                          "yBinEnd": 261.85,
                          "xBinEnd": 0.818,
                          "yBinStart": 256.5
                        },
                        {
                          "count": 11,
                          "xBinStart": 0.795,
                          "yBinEnd": 267.2,
                          "xBinEnd": 0.818,
                          "yBinStart": 261.85
                        },
                        {
                          "count": 21,
                          "xBinStart": 0.795,
                          "yBinEnd": 272.55,
                          "xBinEnd": 0.818,
                          "yBinStart": 267.2
                        },
                        {
                          "count": 3,
                          "xBinStart": 0.795,
                          "yBinEnd": 277.9,
                          "xBinEnd": 0.818,
                          "yBinStart": 272.55
                        },
                        {
                          "count": 1,
                          "xBinStart": 0.795,
                          "yBinEnd": 288.6,
                          "xBinEnd": 0.818,
                          "yBinStart": 283.25
                        },
                        {
                          "count": 4,
                          "xBinStart": 0.818,
                          "yBinEnd": 101.35,
                          "xBinEnd": 0.841,
                          "yBinStart": 95.786
                        },
                        {
                          "count": 1,
                          "xBinStart": 0.818,
                          "yBinEnd": 106.7,
                          "xBinEnd": 0.841,
                          "yBinStart": 101.35
                        },
                        {
                          "count": 1,
                          "xBinStart": 0.818,
                          "yBinEnd": 112.05,
                          "xBinEnd": 0.841,
                          "yBinStart": 106.7
                        },
                        {
                          "count": 2,
                          "xBinStart": 0.818,
                          "yBinEnd": 117.4,
                          "xBinEnd": 0.841,
                          "yBinStart": 112.05
                        },
                        {
                          "count": 3,
                          "xBinStart": 0.818,
                          "yBinEnd": 122.75,
                          "xBinEnd": 0.841,
                          "yBinStart": 117.4
                        },
                        {
                          "count": 1,
                          "xBinStart": 0.818,
                          "yBinEnd": 128.1,
                          "xBinEnd": 0.841,
                          "yBinStart": 122.75
                        },
                        {
                          "count": 5,
                          "xBinStart": 0.818,
                          "yBinEnd": 133.45,
                          "xBinEnd": 0.841,
                          "yBinStart": 128.1
                        },
                        {
                          "count": 9,
                          "xBinStart": 0.818,
                          "yBinEnd": 138.8,
                          "xBinEnd": 0.841,
                          "yBinStart": 133.45
                        },
                        {
                          "count": 10,
                          "xBinStart": 0.818,
                          "yBinEnd": 144.15,
                          "xBinEnd": 0.841,
                          "yBinStart": 138.8
                        },
                        {
                          "count": 16,
                          "xBinStart": 0.818,
                          "yBinEnd": 149.5,
                          "xBinEnd": 0.841,
                          "yBinStart": 144.15
                        },
                        {
                          "count": 14,
                          "xBinStart": 0.818,
                          "yBinEnd": 154.85,
                          "xBinEnd": 0.841,
                          "yBinStart": 149.5
                        },
                        {
                          "count": 24,
                          "xBinStart": 0.818,
                          "yBinEnd": 160.2,
                          "xBinEnd": 0.841,
                          "yBinStart": 154.85
                        },
                        {
                          "count": 16,
                          "xBinStart": 0.818,
                          "yBinEnd": 165.55,
                          "xBinEnd": 0.841,
                          "yBinStart": 160.2
                        },
                        {
                          "count": 9,
                          "xBinStart": 0.818,
                          "yBinEnd": 170.9,
                          "xBinEnd": 0.841,
                          "yBinStart": 165.55
                        },
                        {
                          "count": 11,
                          "xBinStart": 0.818,
                          "yBinEnd": 176.25,
                          "xBinEnd": 0.841,
                          "yBinStart": 170.9
                        },
                        {
                          "count": 15,
                          "xBinStart": 0.818,
                          "yBinEnd": 181.6,
                          "xBinEnd": 0.841,
                          "yBinStart": 176.25
                        },
                        {
                          "count": 17,
                          "xBinStart": 0.818,
                          "yBinEnd": 186.95,
                          "xBinEnd": 0.841,
                          "yBinStart": 181.6
                        },
                        {
                          "count": 11,
                          "xBinStart": 0.818,
                          "yBinEnd": 192.3,
                          "xBinEnd": 0.841,
                          "yBinStart": 186.95
                        },
                        {
                          "count": 15,
                          "xBinStart": 0.818,
                          "yBinEnd": 197.65,
                          "xBinEnd": 0.841,
                          "yBinStart": 192.3
                        },
                        {
                          "count": 16,
                          "xBinStart": 0.818,
                          "yBinEnd": 203,
                          "xBinEnd": 0.841,
                          "yBinStart": 197.65
                        },
                        {
                          "count": 13,
                          "xBinStart": 0.818,
                          "yBinEnd": 208.35,
                          "xBinEnd": 0.841,
                          "yBinStart": 203
                        },
                        {
                          "count": 16,
                          "xBinStart": 0.818,
                          "yBinEnd": 213.7,
                          "xBinEnd": 0.841,
                          "yBinStart": 208.35
                        },
                        {
                          "count": 24,
                          "xBinStart": 0.818,
                          "yBinEnd": 219.05,
                          "xBinEnd": 0.841,
                          "yBinStart": 213.7
                        },
                        {
                          "count": 25,
                          "xBinStart": 0.818,
                          "yBinEnd": 224.4,
                          "xBinEnd": 0.841,
                          "yBinStart": 219.05
                        },
                        {
                          "count": 23,
                          "xBinStart": 0.818,
                          "yBinEnd": 229.75,
                          "xBinEnd": 0.841,
                          "yBinStart": 224.4
                        },
                        {
                          "count": 37,
                          "xBinStart": 0.818,
                          "yBinEnd": 235.1,
                          "xBinEnd": 0.841,
                          "yBinStart": 229.75
                        },
                        {
                          "count": 26,
                          "xBinStart": 0.818,
                          "yBinEnd": 240.45,
                          "xBinEnd": 0.841,
                          "yBinStart": 235.1
                        },
                        {
                          "count": 27,
                          "xBinStart": 0.818,
                          "yBinEnd": 245.8,
                          "xBinEnd": 0.841,
                          "yBinStart": 240.45
                        },
                        {
                          "count": 43,
                          "xBinStart": 0.818,
                          "yBinEnd": 251.15,
                          "xBinEnd": 0.841,
                          "yBinStart": 245.8
                        },
                        {
                          "count": 17,
                          "xBinStart": 0.818,
                          "yBinEnd": 256.5,
                          "xBinEnd": 0.841,
                          "yBinStart": 251.15
                        },
                        {
                          "count": 26,
                          "xBinStart": 0.818,
                          "yBinEnd": 261.85,
                          "xBinEnd": 0.841,
                          "yBinStart": 256.5
                        },
                        {
                          "count": 37,
                          "xBinStart": 0.818,
                          "yBinEnd": 267.2,
                          "xBinEnd": 0.841,
                          "yBinStart": 261.85
                        },
                        {
                          "count": 20,
                          "xBinStart": 0.818,
                          "yBinEnd": 272.55,
                          "xBinEnd": 0.841,
                          "yBinStart": 267.2
                        },
                        {
                          "count": 14,
                          "xBinStart": 0.818,
                          "yBinEnd": 277.9,
                          "xBinEnd": 0.841,
                          "yBinStart": 272.55
                        },
                        {
                          "count": 2,
                          "xBinStart": 0.818,
                          "yBinEnd": 288.6,
                          "xBinEnd": 0.841,
                          "yBinStart": 283.25
                        },
                        {
                          "count": 3,
                          "xBinStart": 0.841,
                          "yBinEnd": 106.7,
                          "xBinEnd": 0.863,
                          "yBinStart": 101.35
                        },
                        {
                          "count": 1,
                          "xBinStart": 0.841,
                          "yBinEnd": 128.1,
                          "xBinEnd": 0.863,
                          "yBinStart": 122.75
                        },
                        {
                          "count": 8,
                          "xBinStart": 0.841,
                          "yBinEnd": 138.8,
                          "xBinEnd": 0.863,
                          "yBinStart": 133.45
                        },
                        {
                          "count": 5,
                          "xBinStart": 0.841,
                          "yBinEnd": 144.15,
                          "xBinEnd": 0.863,
                          "yBinStart": 138.8
                        },
                        {
                          "count": 8,
                          "xBinStart": 0.841,
                          "yBinEnd": 149.5,
                          "xBinEnd": 0.863,
                          "yBinStart": 144.15
                        },
                        {
                          "count": 18,
                          "xBinStart": 0.841,
                          "yBinEnd": 154.85,
                          "xBinEnd": 0.863,
                          "yBinStart": 149.5
                        },
                        {
                          "count": 16,
                          "xBinStart": 0.841,
                          "yBinEnd": 160.2,
                          "xBinEnd": 0.863,
                          "yBinStart": 154.85
                        },
                        {
                          "count": 11,
                          "xBinStart": 0.841,
                          "yBinEnd": 165.55,
                          "xBinEnd": 0.863,
                          "yBinStart": 160.2
                        },
                        {
                          "count": 7,
                          "xBinStart": 0.841,
                          "yBinEnd": 170.9,
                          "xBinEnd": 0.863,
                          "yBinStart": 165.55
                        },
                        {
                          "count": 8,
                          "xBinStart": 0.841,
                          "yBinEnd": 176.25,
                          "xBinEnd": 0.863,
                          "yBinStart": 170.9
                        },
                        {
                          "count": 11,
                          "xBinStart": 0.841,
                          "yBinEnd": 181.6,
                          "xBinEnd": 0.863,
                          "yBinStart": 176.25
                        },
                        {
                          "count": 10,
                          "xBinStart": 0.841,
                          "yBinEnd": 186.95,
                          "xBinEnd": 0.863,
                          "yBinStart": 181.6
                        },
                        {
                          "count": 8,
                          "xBinStart": 0.841,
                          "yBinEnd": 192.3,
                          "xBinEnd": 0.863,
                          "yBinStart": 186.95
                        },
                        {
                          "count": 11,
                          "xBinStart": 0.841,
                          "yBinEnd": 197.65,
                          "xBinEnd": 0.863,
                          "yBinStart": 192.3
                        },
                        {
                          "count": 7,
                          "xBinStart": 0.841,
                          "yBinEnd": 203,
                          "xBinEnd": 0.863,
                          "yBinStart": 197.65
                        },
                        {
                          "count": 7,
                          "xBinStart": 0.841,
                          "yBinEnd": 208.35,
                          "xBinEnd": 0.863,
                          "yBinStart": 203
                        },
                        {
                          "count": 5,
                          "xBinStart": 0.841,
                          "yBinEnd": 213.7,
                          "xBinEnd": 0.863,
                          "yBinStart": 208.35
                        },
                        {
                          "count": 12,
                          "xBinStart": 0.841,
                          "yBinEnd": 219.05,
                          "xBinEnd": 0.863,
                          "yBinStart": 213.7
                        },
                        {
                          "count": 11,
                          "xBinStart": 0.841,
                          "yBinEnd": 224.4,
                          "xBinEnd": 0.863,
                          "yBinStart": 219.05
                        },
                        {
                          "count": 12,
                          "xBinStart": 0.841,
                          "yBinEnd": 229.75,
                          "xBinEnd": 0.863,
                          "yBinStart": 224.4
                        },
                        {
                          "count": 19,
                          "xBinStart": 0.841,
                          "yBinEnd": 235.1,
                          "xBinEnd": 0.863,
                          "yBinStart": 229.75
                        },
                        {
                          "count": 9,
                          "xBinStart": 0.841,
                          "yBinEnd": 240.45,
                          "xBinEnd": 0.863,
                          "yBinStart": 235.1
                        },
                        {
                          "count": 16,
                          "xBinStart": 0.841,
                          "yBinEnd": 245.8,
                          "xBinEnd": 0.863,
                          "yBinStart": 240.45
                        },
                        {
                          "count": 20,
                          "xBinStart": 0.841,
                          "yBinEnd": 251.15,
                          "xBinEnd": 0.863,
                          "yBinStart": 245.8
                        },
                        {
                          "count": 15,
                          "xBinStart": 0.841,
                          "yBinEnd": 256.5,
                          "xBinEnd": 0.863,
                          "yBinStart": 251.15
                        },
                        {
                          "count": 14,
                          "xBinStart": 0.841,
                          "yBinEnd": 261.85,
                          "xBinEnd": 0.863,
                          "yBinStart": 256.5
                        },
                        {
                          "count": 15,
                          "xBinStart": 0.841,
                          "yBinEnd": 267.2,
                          "xBinEnd": 0.863,
                          "yBinStart": 261.85
                        },
                        {
                          "count": 13,
                          "xBinStart": 0.841,
                          "yBinEnd": 272.55,
                          "xBinEnd": 0.863,
                          "yBinStart": 267.2
                        },
                        {
                          "count": 10,
                          "xBinStart": 0.841,
                          "yBinEnd": 277.9,
                          "xBinEnd": 0.863,
                          "yBinStart": 272.55
                        },
                        {
                          "count": 2,
                          "xBinStart": 0.841,
                          "yBinEnd": 283.25,
                          "xBinEnd": 0.863,
                          "yBinStart": 277.9
                        },
                        {
                          "count": 1,
                          "xBinStart": 0.863,
                          "yBinEnd": 122.75,
                          "xBinEnd": 0.886,
                          "yBinStart": 117.4
                        },
                        {
                          "count": 2,
                          "xBinStart": 0.863,
                          "yBinEnd": 128.1,
                          "xBinEnd": 0.886,
                          "yBinStart": 122.75
                        },
                        {
                          "count": 3,
                          "xBinStart": 0.863,
                          "yBinEnd": 133.45,
                          "xBinEnd": 0.886,
                          "yBinStart": 128.1
                        },
                        {
                          "count": 2,
                          "xBinStart": 0.863,
                          "yBinEnd": 138.8,
                          "xBinEnd": 0.886,
                          "yBinStart": 133.45
                        },
                        {
                          "count": 15,
                          "xBinStart": 0.863,
                          "yBinEnd": 144.15,
                          "xBinEnd": 0.886,
                          "yBinStart": 138.8
                        },
                        {
                          "count": 9,
                          "xBinStart": 0.863,
                          "yBinEnd": 149.5,
                          "xBinEnd": 0.886,
                          "yBinStart": 144.15
                        },
                        {
                          "count": 8,
                          "xBinStart": 0.863,
                          "yBinEnd": 154.85,
                          "xBinEnd": 0.886,
                          "yBinStart": 149.5
                        },
                        {
                          "count": 10,
                          "xBinStart": 0.863,
                          "yBinEnd": 160.2,
                          "xBinEnd": 0.886,
                          "yBinStart": 154.85
                        },
                        {
                          "count": 9,
                          "xBinStart": 0.863,
                          "yBinEnd": 165.55,
                          "xBinEnd": 0.886,
                          "yBinStart": 160.2
                        },
                        {
                          "count": 7,
                          "xBinStart": 0.863,
                          "yBinEnd": 170.9,
                          "xBinEnd": 0.886,
                          "yBinStart": 165.55
                        },
                        {
                          "count": 10,
                          "xBinStart": 0.863,
                          "yBinEnd": 176.25,
                          "xBinEnd": 0.886,
                          "yBinStart": 170.9
                        },
                        {
                          "count": 9,
                          "xBinStart": 0.863,
                          "yBinEnd": 181.6,
                          "xBinEnd": 0.886,
                          "yBinStart": 176.25
                        },
                        {
                          "count": 9,
                          "xBinStart": 0.863,
                          "yBinEnd": 186.95,
                          "xBinEnd": 0.886,
                          "yBinStart": 181.6
                        },
                        {
                          "count": 9,
                          "xBinStart": 0.863,
                          "yBinEnd": 192.3,
                          "xBinEnd": 0.886,
                          "yBinStart": 186.95
                        },
                        {
                          "count": 6,
                          "xBinStart": 0.863,
                          "yBinEnd": 197.65,
                          "xBinEnd": 0.886,
                          "yBinStart": 192.3
                        },
                        {
                          "count": 7,
                          "xBinStart": 0.863,
                          "yBinEnd": 203,
                          "xBinEnd": 0.886,
                          "yBinStart": 197.65
                        },
                        {
                          "count": 6,
                          "xBinStart": 0.863,
                          "yBinEnd": 208.35,
                          "xBinEnd": 0.886,
                          "yBinStart": 203
                        },
                        {
                          "count": 5,
                          "xBinStart": 0.863,
                          "yBinEnd": 213.7,
                          "xBinEnd": 0.886,
                          "yBinStart": 208.35
                        },
                        {
                          "count": 22,
                          "xBinStart": 0.863,
                          "yBinEnd": 219.05,
                          "xBinEnd": 0.886,
                          "yBinStart": 213.7
                        },
                        {
                          "count": 11,
                          "xBinStart": 0.863,
                          "yBinEnd": 224.4,
                          "xBinEnd": 0.886,
                          "yBinStart": 219.05
                        },
                        {
                          "count": 16,
                          "xBinStart": 0.863,
                          "yBinEnd": 229.75,
                          "xBinEnd": 0.886,
                          "yBinStart": 224.4
                        },
                        {
                          "count": 13,
                          "xBinStart": 0.863,
                          "yBinEnd": 235.1,
                          "xBinEnd": 0.886,
                          "yBinStart": 229.75
                        },
                        {
                          "count": 7,
                          "xBinStart": 0.863,
                          "yBinEnd": 240.45,
                          "xBinEnd": 0.886,
                          "yBinStart": 235.1
                        },
                        {
                          "count": 13,
                          "xBinStart": 0.863,
                          "yBinEnd": 245.8,
                          "xBinEnd": 0.886,
                          "yBinStart": 240.45
                        },
                        {
                          "count": 14,
                          "xBinStart": 0.863,
                          "yBinEnd": 251.15,
                          "xBinEnd": 0.886,
                          "yBinStart": 245.8
                        },
                        {
                          "count": 13,
                          "xBinStart": 0.863,
                          "yBinEnd": 256.5,
                          "xBinEnd": 0.886,
                          "yBinStart": 251.15
                        },
                        {
                          "count": 17,
                          "xBinStart": 0.863,
                          "yBinEnd": 261.85,
                          "xBinEnd": 0.886,
                          "yBinStart": 256.5
                        },
                        {
                          "count": 21,
                          "xBinStart": 0.863,
                          "yBinEnd": 267.2,
                          "xBinEnd": 0.886,
                          "yBinStart": 261.85
                        },
                        {
                          "count": 10,
                          "xBinStart": 0.863,
                          "yBinEnd": 272.55,
                          "xBinEnd": 0.886,
                          "yBinStart": 267.2
                        },
                        {
                          "count": 10,
                          "xBinStart": 0.863,
                          "yBinEnd": 277.9,
                          "xBinEnd": 0.886,
                          "yBinStart": 272.55
                        },
                        {
                          "count": 1,
                          "xBinStart": 0.863,
                          "yBinEnd": 283.25,
                          "xBinEnd": 0.886,
                          "yBinStart": 277.9
                        },
                        {
                          "count": 1,
                          "xBinStart": 0.863,
                          "yBinEnd": 304.65,
                          "xBinEnd": 0.886,
                          "yBinStart": 299.3
                        },
                        {
                          "count": 1,
                          "xBinStart": 0.863,
                          "yBinEnd": 310,
                          "xBinEnd": 0.886,
                          "yBinStart": 304.65
                        },
                        {
                          "count": 2,
                          "xBinStart": 0.886,
                          "yBinEnd": 112.05,
                          "xBinEnd": 0.909,
                          "yBinStart": 106.7
                        },
                        {
                          "count": 1,
                          "xBinStart": 0.886,
                          "yBinEnd": 117.4,
                          "xBinEnd": 0.909,
                          "yBinStart": 112.05
                        },
                        {
                          "count": 1,
                          "xBinStart": 0.886,
                          "yBinEnd": 122.75,
                          "xBinEnd": 0.909,
                          "yBinStart": 117.4
                        },
                        {
                          "count": 3,
                          "xBinStart": 0.886,
                          "yBinEnd": 133.45,
                          "xBinEnd": 0.909,
                          "yBinStart": 128.1
                        },
                        {
                          "count": 8,
                          "xBinStart": 0.886,
                          "yBinEnd": 138.8,
                          "xBinEnd": 0.909,
                          "yBinStart": 133.45
                        },
                        {
                          "count": 8,
                          "xBinStart": 0.886,
                          "yBinEnd": 144.15,
                          "xBinEnd": 0.909,
                          "yBinStart": 138.8
                        },
                        {
                          "count": 6,
                          "xBinStart": 0.886,
                          "yBinEnd": 149.5,
                          "xBinEnd": 0.909,
                          "yBinStart": 144.15
                        },
                        {
                          "count": 12,
                          "xBinStart": 0.886,
                          "yBinEnd": 154.85,
                          "xBinEnd": 0.909,
                          "yBinStart": 149.5
                        },
                        {
                          "count": 9,
                          "xBinStart": 0.886,
                          "yBinEnd": 160.2,
                          "xBinEnd": 0.909,
                          "yBinStart": 154.85
                        },
                        {
                          "count": 10,
                          "xBinStart": 0.886,
                          "yBinEnd": 165.55,
                          "xBinEnd": 0.909,
                          "yBinStart": 160.2
                        },
                        {
                          "count": 9,
                          "xBinStart": 0.886,
                          "yBinEnd": 170.9,
                          "xBinEnd": 0.909,
                          "yBinStart": 165.55
                        },
                        {
                          "count": 15,
                          "xBinStart": 0.886,
                          "yBinEnd": 176.25,
                          "xBinEnd": 0.909,
                          "yBinStart": 170.9
                        },
                        {
                          "count": 8,
                          "xBinStart": 0.886,
                          "yBinEnd": 181.6,
                          "xBinEnd": 0.909,
                          "yBinStart": 176.25
                        },
                        {
                          "count": 11,
                          "xBinStart": 0.886,
                          "yBinEnd": 186.95,
                          "xBinEnd": 0.909,
                          "yBinStart": 181.6
                        },
                        {
                          "count": 7,
                          "xBinStart": 0.886,
                          "yBinEnd": 192.3,
                          "xBinEnd": 0.909,
                          "yBinStart": 186.95
                        },
                        {
                          "count": 9,
                          "xBinStart": 0.886,
                          "yBinEnd": 197.65,
                          "xBinEnd": 0.909,
                          "yBinStart": 192.3
                        },
                        {
                          "count": 7,
                          "xBinStart": 0.886,
                          "yBinEnd": 203,
                          "xBinEnd": 0.909,
                          "yBinStart": 197.65
                        },
                        {
                          "count": 12,
                          "xBinStart": 0.886,
                          "yBinEnd": 208.35,
                          "xBinEnd": 0.909,
                          "yBinStart": 203
                        },
                        {
                          "count": 8,
                          "xBinStart": 0.886,
                          "yBinEnd": 213.7,
                          "xBinEnd": 0.909,
                          "yBinStart": 208.35
                        },
                        {
                          "count": 10,
                          "xBinStart": 0.886,
                          "yBinEnd": 219.05,
                          "xBinEnd": 0.909,
                          "yBinStart": 213.7
                        },
                        {
                          "count": 20,
                          "xBinStart": 0.886,
                          "yBinEnd": 224.4,
                          "xBinEnd": 0.909,
                          "yBinStart": 219.05
                        },
                        {
                          "count": 11,
                          "xBinStart": 0.886,
                          "yBinEnd": 229.75,
                          "xBinEnd": 0.909,
                          "yBinStart": 224.4
                        },
                        {
                          "count": 13,
                          "xBinStart": 0.886,
                          "yBinEnd": 235.1,
                          "xBinEnd": 0.909,
                          "yBinStart": 229.75
                        },
                        {
                          "count": 14,
                          "xBinStart": 0.886,
                          "yBinEnd": 240.45,
                          "xBinEnd": 0.909,
                          "yBinStart": 235.1
                        },
                        {
                          "count": 22,
                          "xBinStart": 0.886,
                          "yBinEnd": 245.8,
                          "xBinEnd": 0.909,
                          "yBinStart": 240.45
                        },
                        {
                          "count": 13,
                          "xBinStart": 0.886,
                          "yBinEnd": 251.15,
                          "xBinEnd": 0.909,
                          "yBinStart": 245.8
                        },
                        {
                          "count": 22,
                          "xBinStart": 0.886,
                          "yBinEnd": 256.5,
                          "xBinEnd": 0.909,
                          "yBinStart": 251.15
                        },
                        {
                          "count": 29,
                          "xBinStart": 0.886,
                          "yBinEnd": 261.85,
                          "xBinEnd": 0.909,
                          "yBinStart": 256.5
                        },
                        {
                          "count": 12,
                          "xBinStart": 0.886,
                          "yBinEnd": 267.2,
                          "xBinEnd": 0.909,
                          "yBinStart": 261.85
                        },
                        {
                          "count": 13,
                          "xBinStart": 0.886,
                          "yBinEnd": 272.55,
                          "xBinEnd": 0.909,
                          "yBinStart": 267.2
                        },
                        {
                          "count": 18,
                          "xBinStart": 0.886,
                          "yBinEnd": 277.9,
                          "xBinEnd": 0.909,
                          "yBinStart": 272.55
                        },
                        {
                          "count": 2,
                          "xBinStart": 0.886,
                          "yBinEnd": 283.25,
                          "xBinEnd": 0.909,
                          "yBinStart": 277.9
                        },
                        {
                          "count": 1,
                          "xBinStart": 0.909,
                          "yBinEnd": 101.35,
                          "xBinEnd": 0.932,
                          "yBinStart": 95.786
                        },
                        {
                          "count": 2,
                          "xBinStart": 0.909,
                          "yBinEnd": 106.7,
                          "xBinEnd": 0.932,
                          "yBinStart": 101.35
                        },
                        {
                          "count": 3,
                          "xBinStart": 0.909,
                          "yBinEnd": 112.05,
                          "xBinEnd": 0.932,
                          "yBinStart": 106.7
                        },
                        {
                          "count": 3,
                          "xBinStart": 0.909,
                          "yBinEnd": 117.4,
                          "xBinEnd": 0.932,
                          "yBinStart": 112.05
                        },
                        {
                          "count": 2,
                          "xBinStart": 0.909,
                          "yBinEnd": 128.1,
                          "xBinEnd": 0.932,
                          "yBinStart": 122.75
                        },
                        {
                          "count": 7,
                          "xBinStart": 0.909,
                          "yBinEnd": 133.45,
                          "xBinEnd": 0.932,
                          "yBinStart": 128.1
                        },
                        {
                          "count": 16,
                          "xBinStart": 0.909,
                          "yBinEnd": 138.8,
                          "xBinEnd": 0.932,
                          "yBinStart": 133.45
                        },
                        {
                          "count": 19,
                          "xBinStart": 0.909,
                          "yBinEnd": 144.15,
                          "xBinEnd": 0.932,
                          "yBinStart": 138.8
                        },
                        {
                          "count": 14,
                          "xBinStart": 0.909,
                          "yBinEnd": 149.5,
                          "xBinEnd": 0.932,
                          "yBinStart": 144.15
                        },
                        {
                          "count": 9,
                          "xBinStart": 0.909,
                          "yBinEnd": 154.85,
                          "xBinEnd": 0.932,
                          "yBinStart": 149.5
                        },
                        {
                          "count": 20,
                          "xBinStart": 0.909,
                          "yBinEnd": 160.2,
                          "xBinEnd": 0.932,
                          "yBinStart": 154.85
                        },
                        {
                          "count": 7,
                          "xBinStart": 0.909,
                          "yBinEnd": 165.55,
                          "xBinEnd": 0.932,
                          "yBinStart": 160.2
                        },
                        {
                          "count": 20,
                          "xBinStart": 0.909,
                          "yBinEnd": 170.9,
                          "xBinEnd": 0.932,
                          "yBinStart": 165.55
                        },
                        {
                          "count": 18,
                          "xBinStart": 0.909,
                          "yBinEnd": 176.25,
                          "xBinEnd": 0.932,
                          "yBinStart": 170.9
                        },
                        {
                          "count": 16,
                          "xBinStart": 0.909,
                          "yBinEnd": 181.6,
                          "xBinEnd": 0.932,
                          "yBinStart": 176.25
                        },
                        {
                          "count": 10,
                          "xBinStart": 0.909,
                          "yBinEnd": 186.95,
                          "xBinEnd": 0.932,
                          "yBinStart": 181.6
                        },
                        {
                          "count": 18,
                          "xBinStart": 0.909,
                          "yBinEnd": 192.3,
                          "xBinEnd": 0.932,
                          "yBinStart": 186.95
                        },
                        {
                          "count": 13,
                          "xBinStart": 0.909,
                          "yBinEnd": 197.65,
                          "xBinEnd": 0.932,
                          "yBinStart": 192.3
                        },
                        {
                          "count": 16,
                          "xBinStart": 0.909,
                          "yBinEnd": 203,
                          "xBinEnd": 0.932,
                          "yBinStart": 197.65
                        },
                        {
                          "count": 12,
                          "xBinStart": 0.909,
                          "yBinEnd": 208.35,
                          "xBinEnd": 0.932,
                          "yBinStart": 203
                        },
                        {
                          "count": 20,
                          "xBinStart": 0.909,
                          "yBinEnd": 213.7,
                          "xBinEnd": 0.932,
                          "yBinStart": 208.35
                        },
                        {
                          "count": 16,
                          "xBinStart": 0.909,
                          "yBinEnd": 219.05,
                          "xBinEnd": 0.932,
                          "yBinStart": 213.7
                        },
                        {
                          "count": 14,
                          "xBinStart": 0.909,
                          "yBinEnd": 224.4,
                          "xBinEnd": 0.932,
                          "yBinStart": 219.05
                        },
                        {
                          "count": 9,
                          "xBinStart": 0.909,
                          "yBinEnd": 229.75,
                          "xBinEnd": 0.932,
                          "yBinStart": 224.4
                        },
                        {
                          "count": 18,
                          "xBinStart": 0.909,
                          "yBinEnd": 235.1,
                          "xBinEnd": 0.932,
                          "yBinStart": 229.75
                        },
                        {
                          "count": 20,
                          "xBinStart": 0.909,
                          "yBinEnd": 240.45,
                          "xBinEnd": 0.932,
                          "yBinStart": 235.1
                        },
                        {
                          "count": 25,
                          "xBinStart": 0.909,
                          "yBinEnd": 245.8,
                          "xBinEnd": 0.932,
                          "yBinStart": 240.45
                        },
                        {
                          "count": 19,
                          "xBinStart": 0.909,
                          "yBinEnd": 251.15,
                          "xBinEnd": 0.932,
                          "yBinStart": 245.8
                        },
                        {
                          "count": 19,
                          "xBinStart": 0.909,
                          "yBinEnd": 256.5,
                          "xBinEnd": 0.932,
                          "yBinStart": 251.15
                        },
                        {
                          "count": 27,
                          "xBinStart": 0.909,
                          "yBinEnd": 261.85,
                          "xBinEnd": 0.932,
                          "yBinStart": 256.5
                        },
                        {
                          "count": 18,
                          "xBinStart": 0.909,
                          "yBinEnd": 267.2,
                          "xBinEnd": 0.932,
                          "yBinStart": 261.85
                        },
                        {
                          "count": 11,
                          "xBinStart": 0.909,
                          "yBinEnd": 272.55,
                          "xBinEnd": 0.932,
                          "yBinStart": 267.2
                        },
                        {
                          "count": 7,
                          "xBinStart": 0.909,
                          "yBinEnd": 277.9,
                          "xBinEnd": 0.932,
                          "yBinStart": 272.55
                        },
                        {
                          "count": 3,
                          "xBinStart": 0.909,
                          "yBinEnd": 283.25,
                          "xBinEnd": 0.932,
                          "yBinStart": 277.9
                        },
                        {
                          "count": 1,
                          "xBinStart": 0.909,
                          "yBinEnd": 310,
                          "xBinEnd": 0.932,
                          "yBinStart": 304.65
                        },
                        {
                          "count": 1,
                          "xBinStart": 0.932,
                          "yBinEnd": 112.05,
                          "xBinEnd": 0.954,
                          "yBinStart": 106.7
                        },
                        {
                          "count": 2,
                          "xBinStart": 0.932,
                          "yBinEnd": 122.75,
                          "xBinEnd": 0.954,
                          "yBinStart": 117.4
                        },
                        {
                          "count": 5,
                          "xBinStart": 0.932,
                          "yBinEnd": 133.45,
                          "xBinEnd": 0.954,
                          "yBinStart": 128.1
                        },
                        {
                          "count": 5,
                          "xBinStart": 0.932,
                          "yBinEnd": 138.8,
                          "xBinEnd": 0.954,
                          "yBinStart": 133.45
                        },
                        {
                          "count": 11,
                          "xBinStart": 0.932,
                          "yBinEnd": 144.15,
                          "xBinEnd": 0.954,
                          "yBinStart": 138.8
                        },
                        {
                          "count": 5,
                          "xBinStart": 0.932,
                          "yBinEnd": 149.5,
                          "xBinEnd": 0.954,
                          "yBinStart": 144.15
                        },
                        {
                          "count": 14,
                          "xBinStart": 0.932,
                          "yBinEnd": 154.85,
                          "xBinEnd": 0.954,
                          "yBinStart": 149.5
                        },
                        {
                          "count": 8,
                          "xBinStart": 0.932,
                          "yBinEnd": 160.2,
                          "xBinEnd": 0.954,
                          "yBinStart": 154.85
                        },
                        {
                          "count": 6,
                          "xBinStart": 0.932,
                          "yBinEnd": 165.55,
                          "xBinEnd": 0.954,
                          "yBinStart": 160.2
                        },
                        {
                          "count": 6,
                          "xBinStart": 0.932,
                          "yBinEnd": 170.9,
                          "xBinEnd": 0.954,
                          "yBinStart": 165.55
                        },
                        {
                          "count": 6,
                          "xBinStart": 0.932,
                          "yBinEnd": 176.25,
                          "xBinEnd": 0.954,
                          "yBinStart": 170.9
                        },
                        {
                          "count": 2,
                          "xBinStart": 0.932,
                          "yBinEnd": 181.6,
                          "xBinEnd": 0.954,
                          "yBinStart": 176.25
                        },
                        {
                          "count": 12,
                          "xBinStart": 0.932,
                          "yBinEnd": 186.95,
                          "xBinEnd": 0.954,
                          "yBinStart": 181.6
                        },
                        {
                          "count": 13,
                          "xBinStart": 0.932,
                          "yBinEnd": 192.3,
                          "xBinEnd": 0.954,
                          "yBinStart": 186.95
                        },
                        {
                          "count": 6,
                          "xBinStart": 0.932,
                          "yBinEnd": 197.65,
                          "xBinEnd": 0.954,
                          "yBinStart": 192.3
                        },
                        {
                          "count": 10,
                          "xBinStart": 0.932,
                          "yBinEnd": 203,
                          "xBinEnd": 0.954,
                          "yBinStart": 197.65
                        },
                        {
                          "count": 7,
                          "xBinStart": 0.932,
                          "yBinEnd": 208.35,
                          "xBinEnd": 0.954,
                          "yBinStart": 203
                        },
                        {
                          "count": 6,
                          "xBinStart": 0.932,
                          "yBinEnd": 213.7,
                          "xBinEnd": 0.954,
                          "yBinStart": 208.35
                        },
                        {
                          "count": 11,
                          "xBinStart": 0.932,
                          "yBinEnd": 219.05,
                          "xBinEnd": 0.954,
                          "yBinStart": 213.7
                        },
                        {
                          "count": 16,
                          "xBinStart": 0.932,
                          "yBinEnd": 224.4,
                          "xBinEnd": 0.954,
                          "yBinStart": 219.05
                        },
                        {
                          "count": 12,
                          "xBinStart": 0.932,
                          "yBinEnd": 229.75,
                          "xBinEnd": 0.954,
                          "yBinStart": 224.4
                        },
                        {
                          "count": 11,
                          "xBinStart": 0.932,
                          "yBinEnd": 235.1,
                          "xBinEnd": 0.954,
                          "yBinStart": 229.75
                        },
                        {
                          "count": 14,
                          "xBinStart": 0.932,
                          "yBinEnd": 240.45,
                          "xBinEnd": 0.954,
                          "yBinStart": 235.1
                        },
                        {
                          "count": 8,
                          "xBinStart": 0.932,
                          "yBinEnd": 245.8,
                          "xBinEnd": 0.954,
                          "yBinStart": 240.45
                        },
                        {
                          "count": 11,
                          "xBinStart": 0.932,
                          "yBinEnd": 251.15,
                          "xBinEnd": 0.954,
                          "yBinStart": 245.8
                        },
                        {
                          "count": 6,
                          "xBinStart": 0.932,
                          "yBinEnd": 256.5,
                          "xBinEnd": 0.954,
                          "yBinStart": 251.15
                        },
                        {
                          "count": 14,
                          "xBinStart": 0.932,
                          "yBinEnd": 261.85,
                          "xBinEnd": 0.954,
                          "yBinStart": 256.5
                        },
                        {
                          "count": 12,
                          "xBinStart": 0.932,
                          "yBinEnd": 267.2,
                          "xBinEnd": 0.954,
                          "yBinStart": 261.85
                        },
                        {
                          "count": 9,
                          "xBinStart": 0.932,
                          "yBinEnd": 272.55,
                          "xBinEnd": 0.954,
                          "yBinStart": 267.2
                        },
                        {
                          "count": 6,
                          "xBinStart": 0.932,
                          "yBinEnd": 277.9,
                          "xBinEnd": 0.954,
                          "yBinStart": 272.55
                        },
                        {
                          "count": 2,
                          "xBinStart": 0.932,
                          "yBinEnd": 283.25,
                          "xBinEnd": 0.954,
                          "yBinStart": 277.9
                        },
                        {
                          "count": 1,
                          "xBinStart": 0.954,
                          "yBinEnd": 101.35,
                          "xBinEnd": 0.977,
                          "yBinStart": 95.786
                        },
                        {
                          "count": 1,
                          "xBinStart": 0.954,
                          "yBinEnd": 106.7,
                          "xBinEnd": 0.977,
                          "yBinStart": 101.35
                        },
                        {
                          "count": 3,
                          "xBinStart": 0.954,
                          "yBinEnd": 112.05,
                          "xBinEnd": 0.977,
                          "yBinStart": 106.7
                        },
                        {
                          "count": 2,
                          "xBinStart": 0.954,
                          "yBinEnd": 122.75,
                          "xBinEnd": 0.977,
                          "yBinStart": 117.4
                        },
                        {
                          "count": 1,
                          "xBinStart": 0.954,
                          "yBinEnd": 128.1,
                          "xBinEnd": 0.977,
                          "yBinStart": 122.75
                        },
                        {
                          "count": 5,
                          "xBinStart": 0.954,
                          "yBinEnd": 133.45,
                          "xBinEnd": 0.977,
                          "yBinStart": 128.1
                        },
                        {
                          "count": 17,
                          "xBinStart": 0.954,
                          "yBinEnd": 138.8,
                          "xBinEnd": 0.977,
                          "yBinStart": 133.45
                        },
                        {
                          "count": 5,
                          "xBinStart": 0.954,
                          "yBinEnd": 144.15,
                          "xBinEnd": 0.977,
                          "yBinStart": 138.8
                        },
                        {
                          "count": 7,
                          "xBinStart": 0.954,
                          "yBinEnd": 149.5,
                          "xBinEnd": 0.977,
                          "yBinStart": 144.15
                        },
                        {
                          "count": 14,
                          "xBinStart": 0.954,
                          "yBinEnd": 154.85,
                          "xBinEnd": 0.977,
                          "yBinStart": 149.5
                        },
                        {
                          "count": 15,
                          "xBinStart": 0.954,
                          "yBinEnd": 160.2,
                          "xBinEnd": 0.977,
                          "yBinStart": 154.85
                        },
                        {
                          "count": 16,
                          "xBinStart": 0.954,
                          "yBinEnd": 165.55,
                          "xBinEnd": 0.977,
                          "yBinStart": 160.2
                        },
                        {
                          "count": 16,
                          "xBinStart": 0.954,
                          "yBinEnd": 170.9,
                          "xBinEnd": 0.977,
                          "yBinStart": 165.55
                        },
                        {
                          "count": 9,
                          "xBinStart": 0.954,
                          "yBinEnd": 176.25,
                          "xBinEnd": 0.977,
                          "yBinStart": 170.9
                        },
                        {
                          "count": 7,
                          "xBinStart": 0.954,
                          "yBinEnd": 181.6,
                          "xBinEnd": 0.977,
                          "yBinStart": 176.25
                        },
                        {
                          "count": 11,
                          "xBinStart": 0.954,
                          "yBinEnd": 186.95,
                          "xBinEnd": 0.977,
                          "yBinStart": 181.6
                        },
                        {
                          "count": 6,
                          "xBinStart": 0.954,
                          "yBinEnd": 192.3,
                          "xBinEnd": 0.977,
                          "yBinStart": 186.95
                        },
                        {
                          "count": 15,
                          "xBinStart": 0.954,
                          "yBinEnd": 197.65,
                          "xBinEnd": 0.977,
                          "yBinStart": 192.3
                        },
                        {
                          "count": 14,
                          "xBinStart": 0.954,
                          "yBinEnd": 203,
                          "xBinEnd": 0.977,
                          "yBinStart": 197.65
                        },
                        {
                          "count": 9,
                          "xBinStart": 0.954,
                          "yBinEnd": 208.35,
                          "xBinEnd": 0.977,
                          "yBinStart": 203
                        },
                        {
                          "count": 13,
                          "xBinStart": 0.954,
                          "yBinEnd": 213.7,
                          "xBinEnd": 0.977,
                          "yBinStart": 208.35
                        },
                        {
                          "count": 12,
                          "xBinStart": 0.954,
                          "yBinEnd": 219.05,
                          "xBinEnd": 0.977,
                          "yBinStart": 213.7
                        },
                        {
                          "count": 6,
                          "xBinStart": 0.954,
                          "yBinEnd": 224.4,
                          "xBinEnd": 0.977,
                          "yBinStart": 219.05
                        },
                        {
                          "count": 9,
                          "xBinStart": 0.954,
                          "yBinEnd": 229.75,
                          "xBinEnd": 0.977,
                          "yBinStart": 224.4
                        },
                        {
                          "count": 14,
                          "xBinStart": 0.954,
                          "yBinEnd": 235.1,
                          "xBinEnd": 0.977,
                          "yBinStart": 229.75
                        },
                        {
                          "count": 7,
                          "xBinStart": 0.954,
                          "yBinEnd": 240.45,
                          "xBinEnd": 0.977,
                          "yBinStart": 235.1
                        },
                        {
                          "count": 7,
                          "xBinStart": 0.954,
                          "yBinEnd": 245.8,
                          "xBinEnd": 0.977,
                          "yBinStart": 240.45
                        },
                        {
                          "count": 11,
                          "xBinStart": 0.954,
                          "yBinEnd": 251.15,
                          "xBinEnd": 0.977,
                          "yBinStart": 245.8
                        },
                        {
                          "count": 8,
                          "xBinStart": 0.954,
                          "yBinEnd": 256.5,
                          "xBinEnd": 0.977,
                          "yBinStart": 251.15
                        },
                        {
                          "count": 13,
                          "xBinStart": 0.954,
                          "yBinEnd": 261.85,
                          "xBinEnd": 0.977,
                          "yBinStart": 256.5
                        },
                        {
                          "count": 10,
                          "xBinStart": 0.954,
                          "yBinEnd": 267.2,
                          "xBinEnd": 0.977,
                          "yBinStart": 261.85
                        },
                        {
                          "count": 11,
                          "xBinStart": 0.954,
                          "yBinEnd": 272.55,
                          "xBinEnd": 0.977,
                          "yBinStart": 267.2
                        },
                        {
                          "count": 2,
                          "xBinStart": 0.954,
                          "yBinEnd": 277.9,
                          "xBinEnd": 0.977,
                          "yBinStart": 272.55
                        },
                        {
                          "count": 1,
                          "xBinStart": 0.954,
                          "yBinEnd": 288.6,
                          "xBinEnd": 0.977,
                          "yBinStart": 283.25
                        },
                        {
                          "count": 1,
                          "xBinStart": 0.977,
                          "yBinEnd": 101.35,
                          "xBinEnd": 1,
                          "yBinStart": 95.786
                        },
                        {
                          "count": 5,
                          "xBinStart": 0.977,
                          "yBinEnd": 106.7,
                          "xBinEnd": 1,
                          "yBinStart": 101.35
                        },
                        {
                          "count": 1,
                          "xBinStart": 0.977,
                          "yBinEnd": 112.05,
                          "xBinEnd": 1,
                          "yBinStart": 106.7
                        },
                        {
                          "count": 1,
                          "xBinStart": 0.977,
                          "yBinEnd": 122.75,
                          "xBinEnd": 1,
                          "yBinStart": 117.4
                        },
                        {
                          "count": 1,
                          "xBinStart": 0.977,
                          "yBinEnd": 128.1,
                          "xBinEnd": 1,
                          "yBinStart": 122.75
                        },
                        {
                          "count": 6,
                          "xBinStart": 0.977,
                          "yBinEnd": 133.45,
                          "xBinEnd": 1,
                          "yBinStart": 128.1
                        },
                        {
                          "count": 6,
                          "xBinStart": 0.977,
                          "yBinEnd": 138.8,
                          "xBinEnd": 1,
                          "yBinStart": 133.45
                        },
                        {
                          "count": 20,
                          "xBinStart": 0.977,
                          "yBinEnd": 144.15,
                          "xBinEnd": 1,
                          "yBinStart": 138.8
                        },
                        {
                          "count": 3,
                          "xBinStart": 0.977,
                          "yBinEnd": 149.5,
                          "xBinEnd": 1,
                          "yBinStart": 144.15
                        },
                        {
                          "count": 19,
                          "xBinStart": 0.977,
                          "yBinEnd": 154.85,
                          "xBinEnd": 1,
                          "yBinStart": 149.5
                        },
                        {
                          "count": 10,
                          "xBinStart": 0.977,
                          "yBinEnd": 160.2,
                          "xBinEnd": 1,
                          "yBinStart": 154.85
                        },
                        {
                          "count": 8,
                          "xBinStart": 0.977,
                          "yBinEnd": 165.55,
                          "xBinEnd": 1,
                          "yBinStart": 160.2
                        },
                        {
                          "count": 20,
                          "xBinStart": 0.977,
                          "yBinEnd": 170.9,
                          "xBinEnd": 1,
                          "yBinStart": 165.55
                        },
                        {
                          "count": 12,
                          "xBinStart": 0.977,
                          "yBinEnd": 176.25,
                          "xBinEnd": 1,
                          "yBinStart": 170.9
                        },
                        {
                          "count": 17,
                          "xBinStart": 0.977,
                          "yBinEnd": 181.6,
                          "xBinEnd": 1,
                          "yBinStart": 176.25
                        },
                        {
                          "count": 22,
                          "xBinStart": 0.977,
                          "yBinEnd": 186.95,
                          "xBinEnd": 1,
                          "yBinStart": 181.6
                        },
                        {
                          "count": 25,
                          "xBinStart": 0.977,
                          "yBinEnd": 192.3,
                          "xBinEnd": 1,
                          "yBinStart": 186.95
                        },
                        {
                          "count": 12,
                          "xBinStart": 0.977,
                          "yBinEnd": 197.65,
                          "xBinEnd": 1,
                          "yBinStart": 192.3
                        },
                        {
                          "count": 20,
                          "xBinStart": 0.977,
                          "yBinEnd": 203,
                          "xBinEnd": 1,
                          "yBinStart": 197.65
                        },
                        {
                          "count": 7,
                          "xBinStart": 0.977,
                          "yBinEnd": 208.35,
                          "xBinEnd": 1,
                          "yBinStart": 203
                        },
                        {
                          "count": 14,
                          "xBinStart": 0.977,
                          "yBinEnd": 213.7,
                          "xBinEnd": 1,
                          "yBinStart": 208.35
                        },
                        {
                          "count": 10,
                          "xBinStart": 0.977,
                          "yBinEnd": 219.05,
                          "xBinEnd": 1,
                          "yBinStart": 213.7
                        },
                        {
                          "count": 10,
                          "xBinStart": 0.977,
                          "yBinEnd": 224.4,
                          "xBinEnd": 1,
                          "yBinStart": 219.05
                        },
                        {
                          "count": 10,
                          "xBinStart": 0.977,
                          "yBinEnd": 229.75,
                          "xBinEnd": 1,
                          "yBinStart": 224.4
                        },
                        {
                          "count": 10,
                          "xBinStart": 0.977,
                          "yBinEnd": 235.1,
                          "xBinEnd": 1,
                          "yBinStart": 229.75
                        },
                        {
                          "count": 9,
                          "xBinStart": 0.977,
                          "yBinEnd": 240.45,
                          "xBinEnd": 1,
                          "yBinStart": 235.1
                        },
                        {
                          "count": 8,
                          "xBinStart": 0.977,
                          "yBinEnd": 245.8,
                          "xBinEnd": 1,
                          "yBinStart": 240.45
                        },
                        {
                          "count": 9,
                          "xBinStart": 0.977,
                          "yBinEnd": 251.15,
                          "xBinEnd": 1,
                          "yBinStart": 245.8
                        },
                        {
                          "count": 16,
                          "xBinStart": 0.977,
                          "yBinEnd": 256.5,
                          "xBinEnd": 1,
                          "yBinStart": 251.15
                        },
                        {
                          "count": 14,
                          "xBinStart": 0.977,
                          "yBinEnd": 261.85,
                          "xBinEnd": 1,
                          "yBinStart": 256.5
                        },
                        {
                          "count": 15,
                          "xBinStart": 0.977,
                          "yBinEnd": 267.2,
                          "xBinEnd": 1,
                          "yBinStart": 261.85
                        },
                        {
                          "count": 6,
                          "xBinStart": 0.977,
                          "yBinEnd": 272.55,
                          "xBinEnd": 1,
                          "yBinStart": 267.2
                        },
                        {
                          "count": 4,
                          "xBinStart": 0.977,
                          "yBinEnd": 277.9,
                          "xBinEnd": 1,
                          "yBinStart": 272.55
                        },
                        {
                          "count": 1,
                          "xBinStart": 0.977,
                          "yBinEnd": 283.25,
                          "xBinEnd": 1,
                          "yBinStart": 277.9
                        },
                        {
                          "count": 1,
                          "xBinStart": 0.977,
                          "yBinEnd": 288.6,
                          "xBinEnd": 1,
                          "yBinStart": 283.25
                        }
                      ]
                    },
                    "$schema": "https://vega.github.io/schema/vega-lite/v4.8.1.json",
                    "mark": "rect",
                    "data": {
                      "name": "data-912b9d1ec0c2b362f880ff53875edfdb"
                    }
                  }
                ],
                "description": "Show relationships between two <p class='highlight-descriptor'>quantitative</p> attributes."
              },
              {
                "action": "Distribution",
                "vspec": [
                  {
                    "datasets": {
                      "data-5c3a0e3922b6f9c5528e36f6486513e4": [
                        {
                          "Number of Records": 275,
                          "average_montly_hours": 106.7
                        },
                        {
                          "Number of Records": 912,
                          "average_montly_hours": 128.10000000000002
                        },
                        {
                          "Number of Records": 2081,
                          "average_montly_hours": 149.5
                        },
                        {
                          "Number of Records": 1285,
                          "average_montly_hours": 170.89999999999998
                        },
                        {
                          "Number of Records": 1215,
                          "average_montly_hours": 192.3
                        },
                        {
                          "Number of Records": 1283,
                          "average_montly_hours": 213.7
                        },
                        {
                          "Number of Records": 1407,
                          "average_montly_hours": 235.09999999999997
                        },
                        {
                          "Number of Records": 1702,
                          "average_montly_hours": 256.5
                        },
                        {
                          "Number of Records": 855,
                          "average_montly_hours": 277.9
                        },
                        {
                          "Number of Records": 234,
                          "average_montly_hours": 299.3
                        }
                      ]
                    },
                    "encoding": {
                      "y": {
                        "field": "Number of Records",
                        "type": "quantitative"
                      },
                      "x": {
                        "bin": {
                          "binned": true
                        },
                        "scale": {
                          "domain": [
                            96,
                            310
                          ]
                        },
                        "title": "average_montly_hours (binned)",
                        "field": "average_montly_hours",
                        "type": "quantitative",
                        "axis": {
                          "labelOverlap": true
                        }
                      }
                    },
                    "config": {
                      "title": {
                        "fontWeight": 500,
                        "font": "Helvetica Neue",
                        "fontSize": 13
                      },
                      "axis": {
                        "labelFont": "Helvetica Neue",
                        "labelFontSize": 9,
                        "labelColor": "#505050",
                        "titleFont": "Helvetica Neue",
                        "labelFontWeight": 400,
                        "titleFontSize": 11,
                        "titleFontWeight": 500
                      },
                      "legend": {
                        "labelFont": "Helvetica Neue",
                        "labelFontSize": 9,
                        "titleFont": "Helvetica Neue",
                        "labelFontWeight": 400,
                        "titleFontSize": 10,
                        "titleFontWeight": 500
                      },
                      "view": {
                        "continuousWidth": 400,
                        "continuousHeight": 300
                      }
                    },
                    "height": 150,
                    "width": 160,
                    "$schema": "https://vega.github.io/schema/vega-lite/v4.8.1.json",
                    "mark": {
                      "type": "bar",
                      "size": 10.8
                    },
                    "data": {
                      "name": "data-5c3a0e3922b6f9c5528e36f6486513e4"
                    }
                  },
                  {
                    "datasets": {
                      "data-9d857548a7a6fada6cede1b41a22d0e7": [
                        {
                          "satisfaction_level": 0.1355,
                          "Number of Records": 1003
                        },
                        {
                          "satisfaction_level": 0.2265,
                          "Number of Records": 363
                        },
                        {
                          "satisfaction_level": 0.3175,
                          "Number of Records": 364
                        },
                        {
                          "satisfaction_level": 0.4085,
                          "Number of Records": 1344
                        },
                        {
                          "satisfaction_level": 0.49949999999999994,
                          "Number of Records": 1083
                        },
                        {
                          "satisfaction_level": 0.5905,
                          "Number of Records": 1318
                        },
                        {
                          "satisfaction_level": 0.6815,
                          "Number of Records": 1345
                        },
                        {
                          "satisfaction_level": 0.7725,
                          "Number of Records": 1564
                        },
                        {
                          "satisfaction_level": 0.8634999999999999,
                          "Number of Records": 1504
                        },
                        {
                          "satisfaction_level": 0.9544999999999999,
                          "Number of Records": 1361
                        }
                      ]
                    },
                    "encoding": {
                      "y": {
                        "field": "Number of Records",
                        "type": "quantitative"
                      },
                      "x": {
                        "bin": {
                          "binned": true
                        },
                        "scale": {
                          "domain": [
                            0.09,
                            1
                          ]
                        },
                        "title": "satisfaction_level (binned)",
                        "field": "satisfaction_level",
                        "type": "quantitative",
                        "axis": {
                          "labelOverlap": true
                        }
                      }
                    },
                    "config": {
                      "title": {
                        "fontWeight": 500,
                        "font": "Helvetica Neue",
                        "fontSize": 13
                      },
                      "axis": {
                        "labelFont": "Helvetica Neue",
                        "labelFontSize": 9,
                        "labelColor": "#505050",
                        "titleFont": "Helvetica Neue",
                        "labelFontWeight": 400,
                        "titleFontSize": 11,
                        "titleFontWeight": 500
                      },
                      "legend": {
                        "labelFont": "Helvetica Neue",
                        "labelFontSize": 9,
                        "titleFont": "Helvetica Neue",
                        "labelFontWeight": 400,
                        "titleFontSize": 10,
                        "titleFontWeight": 500
                      },
                      "view": {
                        "continuousWidth": 400,
                        "continuousHeight": 300
                      }
                    },
                    "height": 150,
                    "width": 160,
                    "$schema": "https://vega.github.io/schema/vega-lite/v4.8.1.json",
                    "mark": {
                      "type": "bar",
                      "size": 10.799999999999999
                    },
                    "data": {
                      "name": "data-9d857548a7a6fada6cede1b41a22d0e7"
                    }
                  }
                ],
                "description": "Show univariate histograms of <p class='highlight-descriptor'>quantitative</p>  attributes."
              },
              {
                "action": "Occurrence",
                "vspec": [
                  {
                    "datasets": {
                      "data-8a7f14e9eb01704842b0c05f09449484": [
                        {
                          "promotion_last_5years": 0,
                          "Record": 11014
                        },
                        {
                          "promotion_last_5years": 1,
                          "Record": 235
                        }
                      ]
                    },
                    "encoding": {
                      "y": {
                        "field": "promotion_last_5years",
                        "type": "nominal",
                        "axis": {
                          "labelOverlap": true
                        }
                      },
                      "x": {
                        "field": "Record",
                        "type": "quantitative",
                        "title": "Number of Records"
                      }
                    },
                    "config": {
                      "mark": {
                        "tooltip": {
                          "content": "encoding"
                        }
                      },
                      "axis": {
                        "labelFont": "Helvetica Neue",
                        "labelFontSize": 9,
                        "labelColor": "#505050",
                        "titleFont": "Helvetica Neue",
                        "labelFontWeight": 400,
                        "titleFontSize": 11,
                        "titleFontWeight": 500
                      },
                      "title": {
                        "fontWeight": 500,
                        "font": "Helvetica Neue",
                        "fontSize": 13
                      },
                      "legend": {
                        "labelFont": "Helvetica Neue",
                        "labelFontSize": 9,
                        "titleFont": "Helvetica Neue",
                        "labelFontWeight": 400,
                        "titleFontSize": 10,
                        "titleFontWeight": 500
                      },
                      "view": {
                        "continuousWidth": 400,
                        "continuousHeight": 300
                      }
                    },
                    "height": 150,
                    "width": 160,
                    "$schema": "https://vega.github.io/schema/vega-lite/v4.8.1.json",
                    "mark": "bar",
                    "data": {
                      "name": "data-8a7f14e9eb01704842b0c05f09449484"
                    }
                  },
                  {
                    "datasets": {
                      "data-ce8f335c505dece6fd003c219819c851": [
                        {
                          "Record": 6425,
                          "salary_medium": 0
                        },
                        {
                          "Record": 4824,
                          "salary_medium": 1
                        }
                      ]
                    },
                    "encoding": {
                      "y": {
                        "field": "salary_medium",
                        "type": "nominal",
                        "axis": {
                          "labelOverlap": true
                        }
                      },
                      "x": {
                        "field": "Record",
                        "type": "quantitative",
                        "title": "Number of Records"
                      }
                    },
                    "config": {
                      "mark": {
                        "tooltip": {
                          "content": "encoding"
                        }
                      },
                      "axis": {
                        "labelFont": "Helvetica Neue",
                        "labelFontSize": 9,
                        "labelColor": "#505050",
                        "titleFont": "Helvetica Neue",
                        "labelFontWeight": 400,
                        "titleFontSize": 11,
                        "titleFontWeight": 500
                      },
                      "title": {
                        "fontWeight": 500,
                        "font": "Helvetica Neue",
                        "fontSize": 13
                      },
                      "legend": {
                        "labelFont": "Helvetica Neue",
                        "labelFontSize": 9,
                        "titleFont": "Helvetica Neue",
                        "labelFontWeight": 400,
                        "titleFontSize": 10,
                        "titleFontWeight": 500
                      },
                      "view": {
                        "continuousWidth": 400,
                        "continuousHeight": 300
                      }
                    },
                    "height": 150,
                    "width": 160,
                    "$schema": "https://vega.github.io/schema/vega-lite/v4.8.1.json",
                    "mark": "bar",
                    "data": {
                      "name": "data-ce8f335c505dece6fd003c219819c851"
                    }
                  },
                  {
                    "datasets": {
                      "data-22e5de58c2366944615911dedbcc5c99": [
                        {
                          "Record": 5744,
                          "salary_low": 0
                        },
                        {
                          "Record": 5505,
                          "salary_low": 1
                        }
                      ]
                    },
                    "encoding": {
                      "y": {
                        "field": "salary_low",
                        "type": "nominal",
                        "axis": {
                          "labelOverlap": true
                        }
                      },
                      "x": {
                        "field": "Record",
                        "type": "quantitative",
                        "title": "Number of Records"
                      }
                    },
                    "config": {
                      "mark": {
                        "tooltip": {
                          "content": "encoding"
                        }
                      },
                      "axis": {
                        "labelFont": "Helvetica Neue",
                        "labelFontSize": 9,
                        "labelColor": "#505050",
                        "titleFont": "Helvetica Neue",
                        "labelFontWeight": 400,
                        "titleFontSize": 11,
                        "titleFontWeight": 500
                      },
                      "title": {
                        "fontWeight": 500,
                        "font": "Helvetica Neue",
                        "fontSize": 13
                      },
                      "legend": {
                        "labelFont": "Helvetica Neue",
                        "labelFontSize": 9,
                        "titleFont": "Helvetica Neue",
                        "labelFontWeight": 400,
                        "titleFontSize": 10,
                        "titleFontWeight": 500
                      },
                      "view": {
                        "continuousWidth": 400,
                        "continuousHeight": 300
                      }
                    },
                    "height": 150,
                    "width": 160,
                    "$schema": "https://vega.github.io/schema/vega-lite/v4.8.1.json",
                    "mark": "bar",
                    "data": {
                      "name": "data-22e5de58c2366944615911dedbcc5c99"
                    }
                  }
                ],
                "description": "Show frequency of occurrence for <p class='highlight-descriptor'>categorical</p> attributes."
              }
            ],
            "layout": "IPY_MODEL_765b1f8406c641c4bf7a325bbbad0308",
            "message": "<ul><li>Large dataframe detected: Lux is only visualizing a random sample of 11249 rows.</li><li>Large scatterplots detected: Lux is automatically binning scatterplots to heatmaps.</li></ul>",
            "current_vis": {},
            "_model_module": "luxwidget"
          }
        }
      }
    }
  },
  "cells": [
    {
      "cell_type": "markdown",
      "metadata": {
        "id": "fgqQ2CXnKYzz"
      },
      "source": [
        "**FUll machine learning**\n"
      ]
    },
    {
      "cell_type": "markdown",
      "metadata": {
        "id": "u2tLbwK9Kiyn"
      },
      "source": [
        "*Linear Regression*"
      ]
    },
    {
      "cell_type": "code",
      "metadata": {
        "id": "3-V_vHBrKmch"
      },
      "source": [
        "import pandas as pd\n",
        "import numpy as np\n",
        "from sklearn import linear_model\n",
        "import matplotlib.pyplot as plt\n"
      ],
      "execution_count": 46,
      "outputs": []
    },
    {
      "cell_type": "code",
      "metadata": {
        "colab": {
          "base_uri": "https://localhost:8080/",
          "height": 202
        },
        "id": "CKF8GtquNfrO",
        "outputId": "9a4b8c18-86d6-434f-d645-e373dcb31326"
      },
      "source": [
        "df=pd.read_csv(\"/content/sample_data/alldata/houserprices.csv\")\n",
        "df=df[[\"area\",\"price\"]]\n",
        "df = df.apply (pd.to_numeric, errors='coerce')\n",
        "df = df.dropna()\n",
        "df"
      ],
      "execution_count": 32,
      "outputs": [
        {
          "output_type": "execute_result",
          "data": {
            "text/html": [
              "<div>\n",
              "<style scoped>\n",
              "    .dataframe tbody tr th:only-of-type {\n",
              "        vertical-align: middle;\n",
              "    }\n",
              "\n",
              "    .dataframe tbody tr th {\n",
              "        vertical-align: top;\n",
              "    }\n",
              "\n",
              "    .dataframe thead th {\n",
              "        text-align: right;\n",
              "    }\n",
              "</style>\n",
              "<table border=\"1\" class=\"dataframe\">\n",
              "  <thead>\n",
              "    <tr style=\"text-align: right;\">\n",
              "      <th></th>\n",
              "      <th>area</th>\n",
              "      <th>price</th>\n",
              "    </tr>\n",
              "  </thead>\n",
              "  <tbody>\n",
              "    <tr>\n",
              "      <th>0</th>\n",
              "      <td>2600.0</td>\n",
              "      <td>550000.0</td>\n",
              "    </tr>\n",
              "    <tr>\n",
              "      <th>1</th>\n",
              "      <td>3000.0</td>\n",
              "      <td>565000.0</td>\n",
              "    </tr>\n",
              "    <tr>\n",
              "      <th>2</th>\n",
              "      <td>3200.0</td>\n",
              "      <td>610000.0</td>\n",
              "    </tr>\n",
              "    <tr>\n",
              "      <th>3</th>\n",
              "      <td>3600.0</td>\n",
              "      <td>680000.0</td>\n",
              "    </tr>\n",
              "    <tr>\n",
              "      <th>4</th>\n",
              "      <td>4000.0</td>\n",
              "      <td>725000.0</td>\n",
              "    </tr>\n",
              "  </tbody>\n",
              "</table>\n",
              "</div>"
            ],
            "text/plain": [
              "     area     price\n",
              "0  2600.0  550000.0\n",
              "1  3000.0  565000.0\n",
              "2  3200.0  610000.0\n",
              "3  3600.0  680000.0\n",
              "4  4000.0  725000.0"
            ]
          },
          "metadata": {
            "tags": []
          },
          "execution_count": 32
        }
      ]
    },
    {
      "cell_type": "code",
      "metadata": {
        "colab": {
          "base_uri": "https://localhost:8080/",
          "height": 297
        },
        "id": "jhH3tsDnNqSb",
        "outputId": "78619af2-a9b9-4874-eeb8-8c0df9fde2c9"
      },
      "source": [
        "%matplotlib inline\n",
        "plt.xlabel(\"area\")\n",
        "plt.xlabel(\"price\")\n",
        "plt.scatter(df[\"area\"],df[\"price\"],color=\"red\",marker=\"*\")"
      ],
      "execution_count": 33,
      "outputs": [
        {
          "output_type": "execute_result",
          "data": {
            "text/plain": [
              "<matplotlib.collections.PathCollection at 0x7fdaee2dc7f0>"
            ]
          },
          "metadata": {
            "tags": []
          },
          "execution_count": 33
        },
        {
          "output_type": "display_data",
          "data": {
            "image/png": "[encoded data removed]",
            "text/plain": [
              "<Figure size 432x288 with 1 Axes>"
            ]
          },
          "metadata": {
            "tags": [],
            "needs_background": "light"
          }
        }
      ]
    },
    {
      "cell_type": "code",
      "metadata": {
        "id": "JIxQU6qMO3-y"
      },
      "source": [
        "new_df = df.drop('price',axis='columns')\n",
        "new_df\n",
        "price=df[\"price\"]"
      ],
      "execution_count": 35,
      "outputs": []
    },
    {
      "cell_type": "code",
      "metadata": {
        "id": "Imi8el-IORxD"
      },
      "source": [
        "reg=linear_model.LinearRegression()\n",
        "model = reg.fit(new_df,price)\n"
      ],
      "execution_count": 37,
      "outputs": []
    },
    {
      "cell_type": "code",
      "metadata": {
        "colab": {
          "base_uri": "https://localhost:8080/"
        },
        "id": "ukXFghE-Q_jB",
        "outputId": "0b57148b-7181-4778-bfc4-542d71d0c29d"
      },
      "source": [
        "model"
      ],
      "execution_count": 38,
      "outputs": [
        {
          "output_type": "execute_result",
          "data": {
            "text/plain": [
              "LinearRegression(copy_X=True, fit_intercept=True, n_jobs=None, normalize=False)"
            ]
          },
          "metadata": {
            "tags": []
          },
          "execution_count": 38
        }
      ]
    },
    {
      "cell_type": "code",
      "metadata": {
        "colab": {
          "base_uri": "https://localhost:8080/"
        },
        "id": "x4DuuNuMRCAS",
        "outputId": "c6c2f90d-4701-434d-c0d5-62b9d6a98bb9"
      },
      "source": [
        "print(model.coef_)\n",
        "print(model.intercept_)"
      ],
      "execution_count": 40,
      "outputs": [
        {
          "output_type": "stream",
          "text": [
            "[135.78767123]\n",
            "180616.43835616432\n"
          ],
          "name": "stdout"
        }
      ]
    },
    {
      "cell_type": "code",
      "metadata": {
        "colab": {
          "base_uri": "https://localhost:8080/"
        },
        "id": "GXdFV6U0RMES",
        "outputId": "aef433da-617a-4084-8b32-a341d893910c"
      },
      "source": [
        "model.predict([[3000]])"
      ],
      "execution_count": 43,
      "outputs": [
        {
          "output_type": "execute_result",
          "data": {
            "text/plain": [
              "array([587979.45205479])"
            ]
          },
          "metadata": {
            "tags": []
          },
          "execution_count": 43
        }
      ]
    },
    {
      "cell_type": "code",
      "metadata": {
        "colab": {
          "base_uri": "https://localhost:8080/",
          "height": 141
        },
        "id": "rv3HPAc5RcY8",
        "outputId": "e4f43e95-63cd-48df-da26-f56ebc976beb"
      },
      "source": [
        "area_df =pd.read_csv(\"/content/sample_data/alldata/area.csv\")\n",
        "area_df"
      ],
      "execution_count": 45,
      "outputs": [
        {
          "output_type": "execute_result",
          "data": {
            "text/html": [
              "<div>\n",
              "<style scoped>\n",
              "    .dataframe tbody tr th:only-of-type {\n",
              "        vertical-align: middle;\n",
              "    }\n",
              "\n",
              "    .dataframe tbody tr th {\n",
              "        vertical-align: top;\n",
              "    }\n",
              "\n",
              "    .dataframe thead th {\n",
              "        text-align: right;\n",
              "    }\n",
              "</style>\n",
              "<table border=\"1\" class=\"dataframe\">\n",
              "  <thead>\n",
              "    <tr style=\"text-align: right;\">\n",
              "      <th></th>\n",
              "      <th>area</th>\n",
              "    </tr>\n",
              "  </thead>\n",
              "  <tbody>\n",
              "    <tr>\n",
              "      <th>0</th>\n",
              "      <td>1000</td>\n",
              "    </tr>\n",
              "    <tr>\n",
              "      <th>1</th>\n",
              "      <td>2000</td>\n",
              "    </tr>\n",
              "    <tr>\n",
              "      <th>2</th>\n",
              "      <td>3000</td>\n",
              "    </tr>\n",
              "  </tbody>\n",
              "</table>\n",
              "</div>"
            ],
            "text/plain": [
              "   area\n",
              "0  1000\n",
              "1  2000\n",
              "2  3000"
            ]
          },
          "metadata": {
            "tags": []
          },
          "execution_count": 45
        }
      ]
    },
    {
      "cell_type": "code",
      "metadata": {
        "id": "2BBAy0x9SE3c"
      },
      "source": [
        "p=model.predict(area_df)"
      ],
      "execution_count": 49,
      "outputs": []
    },
    {
      "cell_type": "code",
      "metadata": {
        "colab": {
          "base_uri": "https://localhost:8080/",
          "height": 141
        },
        "id": "d4vB059-ScPi",
        "outputId": "1edd245c-2a6e-496c-92a5-2867d416c391"
      },
      "source": [
        "area_df['prices']=p\n",
        "area_df"
      ],
      "execution_count": 50,
      "outputs": [
        {
          "output_type": "execute_result",
          "data": {
            "text/html": [
              "<div>\n",
              "<style scoped>\n",
              "    .dataframe tbody tr th:only-of-type {\n",
              "        vertical-align: middle;\n",
              "    }\n",
              "\n",
              "    .dataframe tbody tr th {\n",
              "        vertical-align: top;\n",
              "    }\n",
              "\n",
              "    .dataframe thead th {\n",
              "        text-align: right;\n",
              "    }\n",
              "</style>\n",
              "<table border=\"1\" class=\"dataframe\">\n",
              "  <thead>\n",
              "    <tr style=\"text-align: right;\">\n",
              "      <th></th>\n",
              "      <th>area</th>\n",
              "      <th>prices</th>\n",
              "    </tr>\n",
              "  </thead>\n",
              "  <tbody>\n",
              "    <tr>\n",
              "      <th>0</th>\n",
              "      <td>1000</td>\n",
              "      <td>316404.109589</td>\n",
              "    </tr>\n",
              "    <tr>\n",
              "      <th>1</th>\n",
              "      <td>2000</td>\n",
              "      <td>452191.780822</td>\n",
              "    </tr>\n",
              "    <tr>\n",
              "      <th>2</th>\n",
              "      <td>3000</td>\n",
              "      <td>587979.452055</td>\n",
              "    </tr>\n",
              "  </tbody>\n",
              "</table>\n",
              "</div>"
            ],
            "text/plain": [
              "   area         prices\n",
              "0  1000  316404.109589\n",
              "1  2000  452191.780822\n",
              "2  3000  587979.452055"
            ]
          },
          "metadata": {
            "tags": []
          },
          "execution_count": 50
        }
      ]
    },
    {
      "cell_type": "markdown",
      "metadata": {
        "id": "K5arXF_STDDD"
      },
      "source": [
        "Exercise ML"
      ]
    },
    {
      "cell_type": "code",
      "metadata": {
        "colab": {
          "base_uri": "https://localhost:8080/",
          "height": 294
        },
        "id": "aT7VYu6MTGza",
        "outputId": "4f09a323-8050-4d47-cdf6-272b1ce7d9af"
      },
      "source": [
        "canada =pd.read_csv(\"/content/sample_data/alldata/canada.csv\")\n",
        "canada.head()\n",
        "canada.describe()"
      ],
      "execution_count": 57,
      "outputs": [
        {
          "output_type": "execute_result",
          "data": {
            "text/html": [
              "<div>\n",
              "<style scoped>\n",
              "    .dataframe tbody tr th:only-of-type {\n",
              "        vertical-align: middle;\n",
              "    }\n",
              "\n",
              "    .dataframe tbody tr th {\n",
              "        vertical-align: top;\n",
              "    }\n",
              "\n",
              "    .dataframe thead th {\n",
              "        text-align: right;\n",
              "    }\n",
              "</style>\n",
              "<table border=\"1\" class=\"dataframe\">\n",
              "  <thead>\n",
              "    <tr style=\"text-align: right;\">\n",
              "      <th></th>\n",
              "      <th>year</th>\n",
              "      <th>per capita income (US$)</th>\n",
              "    </tr>\n",
              "  </thead>\n",
              "  <tbody>\n",
              "    <tr>\n",
              "      <th>count</th>\n",
              "      <td>47.000000</td>\n",
              "      <td>47.000000</td>\n",
              "    </tr>\n",
              "    <tr>\n",
              "      <th>mean</th>\n",
              "      <td>1993.000000</td>\n",
              "      <td>18920.137063</td>\n",
              "    </tr>\n",
              "    <tr>\n",
              "      <th>std</th>\n",
              "      <td>13.711309</td>\n",
              "      <td>12034.679438</td>\n",
              "    </tr>\n",
              "    <tr>\n",
              "      <th>min</th>\n",
              "      <td>1970.000000</td>\n",
              "      <td>3399.299037</td>\n",
              "    </tr>\n",
              "    <tr>\n",
              "      <th>25%</th>\n",
              "      <td>1981.500000</td>\n",
              "      <td>9526.914515</td>\n",
              "    </tr>\n",
              "    <tr>\n",
              "      <th>50%</th>\n",
              "      <td>1993.000000</td>\n",
              "      <td>16426.725480</td>\n",
              "    </tr>\n",
              "    <tr>\n",
              "      <th>75%</th>\n",
              "      <td>2004.500000</td>\n",
              "      <td>27458.601420</td>\n",
              "    </tr>\n",
              "    <tr>\n",
              "      <th>max</th>\n",
              "      <td>2016.000000</td>\n",
              "      <td>42676.468370</td>\n",
              "    </tr>\n",
              "  </tbody>\n",
              "</table>\n",
              "</div>"
            ],
            "text/plain": [
              "              year  per capita income (US$)\n",
              "count    47.000000                47.000000\n",
              "mean   1993.000000             18920.137063\n",
              "std      13.711309             12034.679438\n",
              "min    1970.000000              3399.299037\n",
              "25%    1981.500000              9526.914515\n",
              "50%    1993.000000             16426.725480\n",
              "75%    2004.500000             27458.601420\n",
              "max    2016.000000             42676.468370"
            ]
          },
          "metadata": {
            "tags": []
          },
          "execution_count": 57
        }
      ]
    },
    {
      "cell_type": "code",
      "metadata": {
        "id": "kWmTmCA0UDvO"
      },
      "source": [
        "plt.xlabel(\"year\")\n",
        "plt.ylabel(\"per capita income (US$)\")\n",
        "plt.scatter(canada[\"year\"],canada[\"per capita income (US$)\"])\n",
        "#plt.line(canada[\"year\"],canada[\"per capita income (US$)\"])"
      ],
      "execution_count": null,
      "outputs": []
    },
    {
      "cell_type": "code",
      "metadata": {
        "id": "Ob8r9vxtVBTe"
      },
      "source": [
        "income=canada[\"per capita income (US$)\"]"
      ],
      "execution_count": 63,
      "outputs": []
    },
    {
      "cell_type": "code",
      "metadata": {
        "id": "sWcD3w0bUtxK"
      },
      "source": [
        "reg_canada=linear_model.LinearRegression()\n",
        "model_canada=reg_canada.fit(canada[[\"year\"]],income)"
      ],
      "execution_count": 65,
      "outputs": []
    },
    {
      "cell_type": "code",
      "metadata": {
        "colab": {
          "base_uri": "https://localhost:8080/"
        },
        "id": "lzqvqcNXVPkm",
        "outputId": "f2a8c017-cdb7-4e1f-eb2a-3b5290a87e39"
      },
      "source": [
        "predict_income=model_canada.predict([[2020]])\n",
        "print(predict_income)"
      ],
      "execution_count": 68,
      "outputs": [
        {
          "output_type": "stream",
          "text": [
            "[41288.69409442]\n"
          ],
          "name": "stdout"
        }
      ]
    },
    {
      "cell_type": "markdown",
      "metadata": {
        "id": "QdDHAN0aV1vI"
      },
      "source": [
        "**2_linear_regression_multivariate**"
      ]
    },
    {
      "cell_type": "code",
      "metadata": {
        "colab": {
          "base_uri": "https://localhost:8080/",
          "height": 233
        },
        "id": "8G2h_wHmWBQK",
        "outputId": "7c889a4e-f0b2-49c3-b339-e316197ff437"
      },
      "source": [
        "df_home=pd.read_csv(\"/content/sample_data/alldata/homeprices.csv\")\n",
        "df_home"
      ],
      "execution_count": 70,
      "outputs": [
        {
          "output_type": "execute_result",
          "data": {
            "text/html": [
              "<div>\n",
              "<style scoped>\n",
              "    .dataframe tbody tr th:only-of-type {\n",
              "        vertical-align: middle;\n",
              "    }\n",
              "\n",
              "    .dataframe tbody tr th {\n",
              "        vertical-align: top;\n",
              "    }\n",
              "\n",
              "    .dataframe thead th {\n",
              "        text-align: right;\n",
              "    }\n",
              "</style>\n",
              "<table border=\"1\" class=\"dataframe\">\n",
              "  <thead>\n",
              "    <tr style=\"text-align: right;\">\n",
              "      <th></th>\n",
              "      <th>area</th>\n",
              "      <th>bedrooms</th>\n",
              "      <th>age</th>\n",
              "      <th>price</th>\n",
              "    </tr>\n",
              "  </thead>\n",
              "  <tbody>\n",
              "    <tr>\n",
              "      <th>0</th>\n",
              "      <td>2600</td>\n",
              "      <td>3.0</td>\n",
              "      <td>20</td>\n",
              "      <td>550000</td>\n",
              "    </tr>\n",
              "    <tr>\n",
              "      <th>1</th>\n",
              "      <td>3000</td>\n",
              "      <td>4.0</td>\n",
              "      <td>15</td>\n",
              "      <td>565000</td>\n",
              "    </tr>\n",
              "    <tr>\n",
              "      <th>2</th>\n",
              "      <td>3200</td>\n",
              "      <td>NaN</td>\n",
              "      <td>18</td>\n",
              "      <td>610000</td>\n",
              "    </tr>\n",
              "    <tr>\n",
              "      <th>3</th>\n",
              "      <td>3600</td>\n",
              "      <td>3.0</td>\n",
              "      <td>30</td>\n",
              "      <td>595000</td>\n",
              "    </tr>\n",
              "    <tr>\n",
              "      <th>4</th>\n",
              "      <td>4000</td>\n",
              "      <td>5.0</td>\n",
              "      <td>8</td>\n",
              "      <td>760000</td>\n",
              "    </tr>\n",
              "    <tr>\n",
              "      <th>5</th>\n",
              "      <td>4100</td>\n",
              "      <td>6.0</td>\n",
              "      <td>8</td>\n",
              "      <td>810000</td>\n",
              "    </tr>\n",
              "  </tbody>\n",
              "</table>\n",
              "</div>"
            ],
            "text/plain": [
              "   area  bedrooms  age   price\n",
              "0  2600       3.0   20  550000\n",
              "1  3000       4.0   15  565000\n",
              "2  3200       NaN   18  610000\n",
              "3  3600       3.0   30  595000\n",
              "4  4000       5.0    8  760000\n",
              "5  4100       6.0    8  810000"
            ]
          },
          "metadata": {
            "tags": []
          },
          "execution_count": 70
        }
      ]
    },
    {
      "cell_type": "code",
      "metadata": {
        "colab": {
          "base_uri": "https://localhost:8080/",
          "height": 233
        },
        "id": "rtbH_FEzW0Av",
        "outputId": "12953530-5bec-4222-a246-00fb186ffe8a"
      },
      "source": [
        "df_home.bedrooms=df_home.bedrooms.fillna(df_home.bedrooms.median())\n",
        "df_home"
      ],
      "execution_count": 73,
      "outputs": [
        {
          "output_type": "execute_result",
          "data": {
            "text/html": [
              "<div>\n",
              "<style scoped>\n",
              "    .dataframe tbody tr th:only-of-type {\n",
              "        vertical-align: middle;\n",
              "    }\n",
              "\n",
              "    .dataframe tbody tr th {\n",
              "        vertical-align: top;\n",
              "    }\n",
              "\n",
              "    .dataframe thead th {\n",
              "        text-align: right;\n",
              "    }\n",
              "</style>\n",
              "<table border=\"1\" class=\"dataframe\">\n",
              "  <thead>\n",
              "    <tr style=\"text-align: right;\">\n",
              "      <th></th>\n",
              "      <th>area</th>\n",
              "      <th>bedrooms</th>\n",
              "      <th>age</th>\n",
              "      <th>price</th>\n",
              "    </tr>\n",
              "  </thead>\n",
              "  <tbody>\n",
              "    <tr>\n",
              "      <th>0</th>\n",
              "      <td>2600</td>\n",
              "      <td>3.0</td>\n",
              "      <td>20</td>\n",
              "      <td>550000</td>\n",
              "    </tr>\n",
              "    <tr>\n",
              "      <th>1</th>\n",
              "      <td>3000</td>\n",
              "      <td>4.0</td>\n",
              "      <td>15</td>\n",
              "      <td>565000</td>\n",
              "    </tr>\n",
              "    <tr>\n",
              "      <th>2</th>\n",
              "      <td>3200</td>\n",
              "      <td>4.0</td>\n",
              "      <td>18</td>\n",
              "      <td>610000</td>\n",
              "    </tr>\n",
              "    <tr>\n",
              "      <th>3</th>\n",
              "      <td>3600</td>\n",
              "      <td>3.0</td>\n",
              "      <td>30</td>\n",
              "      <td>595000</td>\n",
              "    </tr>\n",
              "    <tr>\n",
              "      <th>4</th>\n",
              "      <td>4000</td>\n",
              "      <td>5.0</td>\n",
              "      <td>8</td>\n",
              "      <td>760000</td>\n",
              "    </tr>\n",
              "    <tr>\n",
              "      <th>5</th>\n",
              "      <td>4100</td>\n",
              "      <td>6.0</td>\n",
              "      <td>8</td>\n",
              "      <td>810000</td>\n",
              "    </tr>\n",
              "  </tbody>\n",
              "</table>\n",
              "</div>"
            ],
            "text/plain": [
              "   area  bedrooms  age   price\n",
              "0  2600       3.0   20  550000\n",
              "1  3000       4.0   15  565000\n",
              "2  3200       4.0   18  610000\n",
              "3  3600       3.0   30  595000\n",
              "4  4000       5.0    8  760000\n",
              "5  4100       6.0    8  810000"
            ]
          },
          "metadata": {
            "tags": []
          },
          "execution_count": 73
        }
      ]
    },
    {
      "cell_type": "code",
      "metadata": {
        "id": "hr2uWNDWXSvO"
      },
      "source": [
        "home_reg=linear_model.LinearRegression()\n",
        "home_model=home_reg.fit(df_home.drop(\"price\",axis=\"columns\"),df_home[\"price\"])"
      ],
      "execution_count": 79,
      "outputs": []
    },
    {
      "cell_type": "code",
      "metadata": {
        "colab": {
          "base_uri": "https://localhost:8080/"
        },
        "id": "DL3PHk-fYCgD",
        "outputId": "9dc597e0-34e0-4a12-cec4-45f90c3fe1a8"
      },
      "source": [
        "home_model.predict([[2500, 4, 5]])"
      ],
      "execution_count": 81,
      "outputs": [
        {
          "output_type": "execute_result",
          "data": {
            "text/plain": [
              "array([578876.03748933])"
            ]
          },
          "metadata": {
            "tags": []
          },
          "execution_count": 81
        }
      ]
    },
    {
      "cell_type": "markdown",
      "metadata": {
        "id": "krQdnViIYYnH"
      },
      "source": [
        "Exercise 2"
      ]
    },
    {
      "cell_type": "code",
      "metadata": {
        "colab": {
          "base_uri": "https://localhost:8080/",
          "height": 294
        },
        "id": "MJ8ONMCmYX9a",
        "outputId": "1f867b9c-5369-4122-c284-ea35291eec03"
      },
      "source": [
        "df_hiring=pd.read_csv(\"/content/sample_data/alldata/hiring.csv\")\n",
        "df_hiring"
      ],
      "execution_count": 100,
      "outputs": [
        {
          "output_type": "execute_result",
          "data": {
            "text/html": [
              "<div>\n",
              "<style scoped>\n",
              "    .dataframe tbody tr th:only-of-type {\n",
              "        vertical-align: middle;\n",
              "    }\n",
              "\n",
              "    .dataframe tbody tr th {\n",
              "        vertical-align: top;\n",
              "    }\n",
              "\n",
              "    .dataframe thead th {\n",
              "        text-align: right;\n",
              "    }\n",
              "</style>\n",
              "<table border=\"1\" class=\"dataframe\">\n",
              "  <thead>\n",
              "    <tr style=\"text-align: right;\">\n",
              "      <th></th>\n",
              "      <th>experience</th>\n",
              "      <th>test_score(out of 10)</th>\n",
              "      <th>interview_score(out of 10)</th>\n",
              "      <th>salary($)</th>\n",
              "    </tr>\n",
              "  </thead>\n",
              "  <tbody>\n",
              "    <tr>\n",
              "      <th>0</th>\n",
              "      <td>NaN</td>\n",
              "      <td>8.0</td>\n",
              "      <td>9</td>\n",
              "      <td>50000</td>\n",
              "    </tr>\n",
              "    <tr>\n",
              "      <th>1</th>\n",
              "      <td>NaN</td>\n",
              "      <td>8.0</td>\n",
              "      <td>6</td>\n",
              "      <td>45000</td>\n",
              "    </tr>\n",
              "    <tr>\n",
              "      <th>2</th>\n",
              "      <td>five</td>\n",
              "      <td>6.0</td>\n",
              "      <td>7</td>\n",
              "      <td>60000</td>\n",
              "    </tr>\n",
              "    <tr>\n",
              "      <th>3</th>\n",
              "      <td>two</td>\n",
              "      <td>10.0</td>\n",
              "      <td>10</td>\n",
              "      <td>65000</td>\n",
              "    </tr>\n",
              "    <tr>\n",
              "      <th>4</th>\n",
              "      <td>seven</td>\n",
              "      <td>9.0</td>\n",
              "      <td>6</td>\n",
              "      <td>70000</td>\n",
              "    </tr>\n",
              "    <tr>\n",
              "      <th>5</th>\n",
              "      <td>three</td>\n",
              "      <td>7.0</td>\n",
              "      <td>10</td>\n",
              "      <td>62000</td>\n",
              "    </tr>\n",
              "    <tr>\n",
              "      <th>6</th>\n",
              "      <td>ten</td>\n",
              "      <td>NaN</td>\n",
              "      <td>7</td>\n",
              "      <td>72000</td>\n",
              "    </tr>\n",
              "    <tr>\n",
              "      <th>7</th>\n",
              "      <td>eleven</td>\n",
              "      <td>7.0</td>\n",
              "      <td>8</td>\n",
              "      <td>80000</td>\n",
              "    </tr>\n",
              "  </tbody>\n",
              "</table>\n",
              "</div>"
            ],
            "text/plain": [
              "  experience  test_score(out of 10)  interview_score(out of 10)  salary($)\n",
              "0        NaN                    8.0                           9      50000\n",
              "1        NaN                    8.0                           6      45000\n",
              "2       five                    6.0                           7      60000\n",
              "3        two                   10.0                          10      65000\n",
              "4      seven                    9.0                           6      70000\n",
              "5      three                    7.0                          10      62000\n",
              "6        ten                    NaN                           7      72000\n",
              "7     eleven                    7.0                           8      80000"
            ]
          },
          "metadata": {
            "tags": []
          },
          "execution_count": 100
        }
      ]
    },
    {
      "cell_type": "code",
      "metadata": {
        "colab": {
          "base_uri": "https://localhost:8080/",
          "height": 294
        },
        "id": "XUql0ErqZP5l",
        "outputId": "e6cdf89d-c743-4f8e-e4e3-7fc25313c438"
      },
      "source": [
        "df_hiring.experience=df_hiring.fillna(\"zero\")\n",
        "df_hiring"
      ],
      "execution_count": 101,
      "outputs": [
        {
          "output_type": "execute_result",
          "data": {
            "text/html": [
              "<div>\n",
              "<style scoped>\n",
              "    .dataframe tbody tr th:only-of-type {\n",
              "        vertical-align: middle;\n",
              "    }\n",
              "\n",
              "    .dataframe tbody tr th {\n",
              "        vertical-align: top;\n",
              "    }\n",
              "\n",
              "    .dataframe thead th {\n",
              "        text-align: right;\n",
              "    }\n",
              "</style>\n",
              "<table border=\"1\" class=\"dataframe\">\n",
              "  <thead>\n",
              "    <tr style=\"text-align: right;\">\n",
              "      <th></th>\n",
              "      <th>experience</th>\n",
              "      <th>test_score(out of 10)</th>\n",
              "      <th>interview_score(out of 10)</th>\n",
              "      <th>salary($)</th>\n",
              "    </tr>\n",
              "  </thead>\n",
              "  <tbody>\n",
              "    <tr>\n",
              "      <th>0</th>\n",
              "      <td>zero</td>\n",
              "      <td>8.0</td>\n",
              "      <td>9</td>\n",
              "      <td>50000</td>\n",
              "    </tr>\n",
              "    <tr>\n",
              "      <th>1</th>\n",
              "      <td>zero</td>\n",
              "      <td>8.0</td>\n",
              "      <td>6</td>\n",
              "      <td>45000</td>\n",
              "    </tr>\n",
              "    <tr>\n",
              "      <th>2</th>\n",
              "      <td>five</td>\n",
              "      <td>6.0</td>\n",
              "      <td>7</td>\n",
              "      <td>60000</td>\n",
              "    </tr>\n",
              "    <tr>\n",
              "      <th>3</th>\n",
              "      <td>two</td>\n",
              "      <td>10.0</td>\n",
              "      <td>10</td>\n",
              "      <td>65000</td>\n",
              "    </tr>\n",
              "    <tr>\n",
              "      <th>4</th>\n",
              "      <td>seven</td>\n",
              "      <td>9.0</td>\n",
              "      <td>6</td>\n",
              "      <td>70000</td>\n",
              "    </tr>\n",
              "    <tr>\n",
              "      <th>5</th>\n",
              "      <td>three</td>\n",
              "      <td>7.0</td>\n",
              "      <td>10</td>\n",
              "      <td>62000</td>\n",
              "    </tr>\n",
              "    <tr>\n",
              "      <th>6</th>\n",
              "      <td>ten</td>\n",
              "      <td>NaN</td>\n",
              "      <td>7</td>\n",
              "      <td>72000</td>\n",
              "    </tr>\n",
              "    <tr>\n",
              "      <th>7</th>\n",
              "      <td>eleven</td>\n",
              "      <td>7.0</td>\n",
              "      <td>8</td>\n",
              "      <td>80000</td>\n",
              "    </tr>\n",
              "  </tbody>\n",
              "</table>\n",
              "</div>"
            ],
            "text/plain": [
              "  experience  test_score(out of 10)  interview_score(out of 10)  salary($)\n",
              "0       zero                    8.0                           9      50000\n",
              "1       zero                    8.0                           6      45000\n",
              "2       five                    6.0                           7      60000\n",
              "3        two                   10.0                          10      65000\n",
              "4      seven                    9.0                           6      70000\n",
              "5      three                    7.0                          10      62000\n",
              "6        ten                    NaN                           7      72000\n",
              "7     eleven                    7.0                           8      80000"
            ]
          },
          "metadata": {
            "tags": []
          },
          "execution_count": 101
        }
      ]
    },
    {
      "cell_type": "code",
      "metadata": {
        "id": "wjTGb6DfZdLq"
      },
      "source": [
        "pip install word2number"
      ],
      "execution_count": null,
      "outputs": []
    },
    {
      "cell_type": "code",
      "metadata": {
        "id": "LRxcUDTjZuR4"
      },
      "source": [
        "from word2number import w2n"
      ],
      "execution_count": 3,
      "outputs": []
    },
    {
      "cell_type": "code",
      "metadata": {
        "colab": {
          "base_uri": "https://localhost:8080/"
        },
        "id": "MN2yt5_4hpR2",
        "outputId": "536a893d-bab9-4022-dfb9-ba3ad80a916c"
      },
      "source": [
        "df_hiring.experience.apply(w2n.word_to_num)"
      ],
      "execution_count": 102,
      "outputs": [
        {
          "output_type": "execute_result",
          "data": {
            "text/plain": [
              "0     0\n",
              "1     0\n",
              "2     5\n",
              "3     2\n",
              "4     7\n",
              "5     3\n",
              "6    10\n",
              "7    11\n",
              "Name: experience, dtype: int64"
            ]
          },
          "metadata": {
            "tags": []
          },
          "execution_count": 102
        }
      ]
    },
    {
      "cell_type": "code",
      "metadata": {
        "id": "Aa_r1hE-iROW"
      },
      "source": [
        "df_hiring[\"test_score(out of 10)\"]=df_hiring[\"test_score(out of 10)\"].fillna(df_hiring[\"test_score(out of 10)\"].median())\n"
      ],
      "execution_count": 107,
      "outputs": []
    },
    {
      "cell_type": "code",
      "metadata": {
        "id": "SzbmHuzUh7-3"
      },
      "source": [
        "df_hiring.experience=df_hiring.experience.apply(w2n.word_to_num)\n"
      ],
      "execution_count": null,
      "outputs": []
    },
    {
      "cell_type": "code",
      "metadata": {
        "id": "f4xpZt_PkT2a"
      },
      "source": [
        "df_hiring"
      ],
      "execution_count": null,
      "outputs": []
    },
    {
      "cell_type": "code",
      "metadata": {
        "id": "Ob5eH4Q0kjg9"
      },
      "source": [
        "df_hiring_reg=linear_model.LinearRegression()\n",
        "df_hiring_model=df_hiring_reg.fit(df_hiring.drop([\"salary($)\"],axis=\"columns\"),df_hiring[\"salary($)\"])"
      ],
      "execution_count": 112,
      "outputs": []
    },
    {
      "cell_type": "code",
      "metadata": {
        "colab": {
          "base_uri": "https://localhost:8080/"
        },
        "id": "BKM4IEJGlEK6",
        "outputId": "8eb68f69-efbf-4de8-956d-7c485b559001"
      },
      "source": [
        "df_hiring_model.predict([[2,9,6]])"
      ],
      "execution_count": 113,
      "outputs": [
        {
          "output_type": "execute_result",
          "data": {
            "text/plain": [
              "array([53205.96797671])"
            ]
          },
          "metadata": {
            "tags": []
          },
          "execution_count": 113
        }
      ]
    },
    {
      "cell_type": "markdown",
      "metadata": {
        "id": "bFT8jFZHll_Z"
      },
      "source": [
        "# 3 PICKLE & JOBLIB"
      ]
    },
    {
      "cell_type": "code",
      "metadata": {
        "id": "Cf0Es6g5ls5x"
      },
      "source": [
        "import pickle"
      ],
      "execution_count": 114,
      "outputs": []
    },
    {
      "cell_type": "code",
      "metadata": {
        "id": "cDi0fXg-lusz"
      },
      "source": [
        "\n",
        "with open('model_pickle','wb') as file:\n",
        "    pickle.dump(df_hiring_model,file)"
      ],
      "execution_count": 116,
      "outputs": []
    },
    {
      "cell_type": "code",
      "metadata": {
        "id": "rJ0mGts6l3aG"
      },
      "source": [
        "with open('model_pickle','rb') as file:\n",
        "    mp = pickle.load(file)"
      ],
      "execution_count": 117,
      "outputs": []
    },
    {
      "cell_type": "code",
      "metadata": {
        "colab": {
          "base_uri": "https://localhost:8080/"
        },
        "id": "tJ-Ta6MlmBA5",
        "outputId": "a49d6a4e-91ef-4a59-d442-316ebc2c3ac5"
      },
      "source": [
        "mp.coef_"
      ],
      "execution_count": 118,
      "outputs": [
        {
          "output_type": "execute_result",
          "data": {
            "text/plain": [
              "array([2812.95487627, 1845.70596798, 2205.24017467])"
            ]
          },
          "metadata": {
            "tags": []
          },
          "execution_count": 118
        }
      ]
    },
    {
      "cell_type": "code",
      "metadata": {
        "id": "ofqTT_yNmF90"
      },
      "source": [
        ""
      ],
      "execution_count": null,
      "outputs": []
    },
    {
      "cell_type": "code",
      "metadata": {
        "colab": {
          "base_uri": "https://localhost:8080/"
        },
        "id": "1hkPNkAamF6D",
        "outputId": "b6026e3e-bb50-4373-a4cc-9cc8b4f3abfb"
      },
      "source": [
        "mp.predict([[2,9,6]])"
      ],
      "execution_count": 119,
      "outputs": [
        {
          "output_type": "execute_result",
          "data": {
            "text/plain": [
              "array([53205.96797671])"
            ]
          },
          "metadata": {
            "tags": []
          },
          "execution_count": 119
        }
      ]
    },
    {
      "cell_type": "code",
      "metadata": {
        "colab": {
          "base_uri": "https://localhost:8080/"
        },
        "id": "bxRhCCUVmK9E",
        "outputId": "05d8d027-2dae-413c-d4ea-6383e30050b1"
      },
      "source": [
        "pip install joblib"
      ],
      "execution_count": 121,
      "outputs": [
        {
          "output_type": "stream",
          "text": [
            "Requirement already satisfied: joblib in /usr/local/lib/python3.6/dist-packages (0.17.0)\n"
          ],
          "name": "stdout"
        }
      ]
    },
    {
      "cell_type": "code",
      "metadata": {
        "id": "pBmhJbrFmQUU"
      },
      "source": [
        "import joblib as joblib"
      ],
      "execution_count": 122,
      "outputs": []
    },
    {
      "cell_type": "code",
      "metadata": {
        "colab": {
          "base_uri": "https://localhost:8080/"
        },
        "id": "2oA0QH-2mdQQ",
        "outputId": "0e2b9d20-4848-44f1-f348-b13c297f1499"
      },
      "source": [
        "joblib.dump(home_model, 'model_joblib')"
      ],
      "execution_count": 124,
      "outputs": [
        {
          "output_type": "execute_result",
          "data": {
            "text/plain": [
              "['model_joblib']"
            ]
          },
          "metadata": {
            "tags": []
          },
          "execution_count": 124
        }
      ]
    },
    {
      "cell_type": "code",
      "metadata": {
        "id": "G-c81Pg5mtKr"
      },
      "source": [
        "mj = joblib.load('model_joblib')"
      ],
      "execution_count": 125,
      "outputs": []
    },
    {
      "cell_type": "code",
      "metadata": {
        "colab": {
          "base_uri": "https://localhost:8080/"
        },
        "id": "A-zvAVPmmwoW",
        "outputId": "f7b73b74-1951-4592-dbb3-271dde454619"
      },
      "source": [
        "mj.predict([[2500, 4, 5]])"
      ],
      "execution_count": 126,
      "outputs": [
        {
          "output_type": "execute_result",
          "data": {
            "text/plain": [
              "array([578876.03748933])"
            ]
          },
          "metadata": {
            "tags": []
          },
          "execution_count": 126
        }
      ]
    },
    {
      "cell_type": "markdown",
      "metadata": {
        "id": "eYcT5WUanpCV"
      },
      "source": [
        "# One hot encoding"
      ]
    },
    {
      "cell_type": "code",
      "metadata": {
        "id": "Qd1gjOBonsyz"
      },
      "source": [
        "df_ohe= pd.read_csv(\"/content/sample_data/alldata/homepriceonehot.csv\")"
      ],
      "execution_count": 129,
      "outputs": []
    },
    {
      "cell_type": "code",
      "metadata": {
        "id": "9yQt2KcQn2sT"
      },
      "source": [
        "df_ohe"
      ],
      "execution_count": null,
      "outputs": []
    },
    {
      "cell_type": "code",
      "metadata": {
        "colab": {
          "base_uri": "https://localhost:8080/",
          "height": 447
        },
        "id": "ocblCwoZoFBp",
        "outputId": "71eb31bd-7201-496b-b4ab-78c40353d210"
      },
      "source": [
        "df_ohe=pd.get_dummies(df_ohe,drop_first=True)\n",
        "df_ohe"
      ],
      "execution_count": 133,
      "outputs": [
        {
          "output_type": "execute_result",
          "data": {
            "text/html": [
              "<div>\n",
              "<style scoped>\n",
              "    .dataframe tbody tr th:only-of-type {\n",
              "        vertical-align: middle;\n",
              "    }\n",
              "\n",
              "    .dataframe tbody tr th {\n",
              "        vertical-align: top;\n",
              "    }\n",
              "\n",
              "    .dataframe thead th {\n",
              "        text-align: right;\n",
              "    }\n",
              "</style>\n",
              "<table border=\"1\" class=\"dataframe\">\n",
              "  <thead>\n",
              "    <tr style=\"text-align: right;\">\n",
              "      <th></th>\n",
              "      <th>area</th>\n",
              "      <th>price</th>\n",
              "      <th>town_robinsville</th>\n",
              "      <th>town_west windsor</th>\n",
              "    </tr>\n",
              "  </thead>\n",
              "  <tbody>\n",
              "    <tr>\n",
              "      <th>0</th>\n",
              "      <td>2600</td>\n",
              "      <td>550000</td>\n",
              "      <td>0</td>\n",
              "      <td>0</td>\n",
              "    </tr>\n",
              "    <tr>\n",
              "      <th>1</th>\n",
              "      <td>3000</td>\n",
              "      <td>565000</td>\n",
              "      <td>0</td>\n",
              "      <td>0</td>\n",
              "    </tr>\n",
              "    <tr>\n",
              "      <th>2</th>\n",
              "      <td>3200</td>\n",
              "      <td>610000</td>\n",
              "      <td>0</td>\n",
              "      <td>0</td>\n",
              "    </tr>\n",
              "    <tr>\n",
              "      <th>3</th>\n",
              "      <td>3600</td>\n",
              "      <td>680000</td>\n",
              "      <td>0</td>\n",
              "      <td>0</td>\n",
              "    </tr>\n",
              "    <tr>\n",
              "      <th>4</th>\n",
              "      <td>4000</td>\n",
              "      <td>725000</td>\n",
              "      <td>0</td>\n",
              "      <td>0</td>\n",
              "    </tr>\n",
              "    <tr>\n",
              "      <th>5</th>\n",
              "      <td>2600</td>\n",
              "      <td>585000</td>\n",
              "      <td>0</td>\n",
              "      <td>1</td>\n",
              "    </tr>\n",
              "    <tr>\n",
              "      <th>6</th>\n",
              "      <td>2800</td>\n",
              "      <td>615000</td>\n",
              "      <td>0</td>\n",
              "      <td>1</td>\n",
              "    </tr>\n",
              "    <tr>\n",
              "      <th>7</th>\n",
              "      <td>3300</td>\n",
              "      <td>650000</td>\n",
              "      <td>0</td>\n",
              "      <td>1</td>\n",
              "    </tr>\n",
              "    <tr>\n",
              "      <th>8</th>\n",
              "      <td>3600</td>\n",
              "      <td>710000</td>\n",
              "      <td>0</td>\n",
              "      <td>1</td>\n",
              "    </tr>\n",
              "    <tr>\n",
              "      <th>9</th>\n",
              "      <td>2600</td>\n",
              "      <td>575000</td>\n",
              "      <td>1</td>\n",
              "      <td>0</td>\n",
              "    </tr>\n",
              "    <tr>\n",
              "      <th>10</th>\n",
              "      <td>2900</td>\n",
              "      <td>600000</td>\n",
              "      <td>1</td>\n",
              "      <td>0</td>\n",
              "    </tr>\n",
              "    <tr>\n",
              "      <th>11</th>\n",
              "      <td>3100</td>\n",
              "      <td>620000</td>\n",
              "      <td>1</td>\n",
              "      <td>0</td>\n",
              "    </tr>\n",
              "    <tr>\n",
              "      <th>12</th>\n",
              "      <td>3600</td>\n",
              "      <td>695000</td>\n",
              "      <td>1</td>\n",
              "      <td>0</td>\n",
              "    </tr>\n",
              "  </tbody>\n",
              "</table>\n",
              "</div>"
            ],
            "text/plain": [
              "    area   price  town_robinsville  town_west windsor\n",
              "0   2600  550000                 0                  0\n",
              "1   3000  565000                 0                  0\n",
              "2   3200  610000                 0                  0\n",
              "3   3600  680000                 0                  0\n",
              "4   4000  725000                 0                  0\n",
              "5   2600  585000                 0                  1\n",
              "6   2800  615000                 0                  1\n",
              "7   3300  650000                 0                  1\n",
              "8   3600  710000                 0                  1\n",
              "9   2600  575000                 1                  0\n",
              "10  2900  600000                 1                  0\n",
              "11  3100  620000                 1                  0\n",
              "12  3600  695000                 1                  0"
            ]
          },
          "metadata": {
            "tags": []
          },
          "execution_count": 133
        }
      ]
    },
    {
      "cell_type": "code",
      "metadata": {
        "colab": {
          "base_uri": "https://localhost:8080/"
        },
        "id": "_hczsQB6pJkE",
        "outputId": "e21de308-16db-4915-eba3-ccbfcc4f8c7f"
      },
      "source": [
        "df_ohe[\"price\"]"
      ],
      "execution_count": 136,
      "outputs": [
        {
          "output_type": "execute_result",
          "data": {
            "text/plain": [
              "0     550000\n",
              "1     565000\n",
              "2     610000\n",
              "3     680000\n",
              "4     725000\n",
              "5     585000\n",
              "6     615000\n",
              "7     650000\n",
              "8     710000\n",
              "9     575000\n",
              "10    600000\n",
              "11    620000\n",
              "12    695000\n",
              "Name: price, dtype: int64"
            ]
          },
          "metadata": {
            "tags": []
          },
          "execution_count": 136
        }
      ]
    },
    {
      "cell_type": "code",
      "metadata": {
        "id": "IuILXzEPohsl"
      },
      "source": [
        "df_ohe_reg=linear_model.LinearRegression()\n",
        "df_ohe_model=df_ohe_reg.fit(df_ohe.drop([\"price\"],axis=\"columns\"),df_ohe[\"price\"])"
      ],
      "execution_count": 140,
      "outputs": []
    },
    {
      "cell_type": "code",
      "metadata": {
        "colab": {
          "base_uri": "https://localhost:8080/"
        },
        "id": "EAoe_5pcp1TA",
        "outputId": "100e853a-ffab-4d98-ecd8-eb96df843f5a"
      },
      "source": [
        "X=df_ohe.drop([\"price\"],axis=\"columns\")\n",
        "y=df_ohe[\"price\"]\n",
        "df_ohe_model.predict(X)"
      ],
      "execution_count": 142,
      "outputs": [
        {
          "output_type": "execute_result",
          "data": {
            "text/plain": [
              "array([539709.7398409 , 590468.71640507, 615848.20468716, 666607.18125134,\n",
              "       717366.15781552, 579723.71533004, 605103.20361213, 668551.92431735,\n",
              "       706621.15674048, 565396.1513653 , 603465.38378843, 628844.87207052,\n",
              "       692293.59277575])"
            ]
          },
          "metadata": {
            "tags": []
          },
          "execution_count": 142
        }
      ]
    },
    {
      "cell_type": "code",
      "metadata": {
        "colab": {
          "base_uri": "https://localhost:8080/"
        },
        "id": "HZ1R5idOqNOU",
        "outputId": "c41792b9-db4c-4ccc-854b-40a9ce0769cc"
      },
      "source": [
        "df_ohe_model.score(X,y)"
      ],
      "execution_count": 144,
      "outputs": [
        {
          "output_type": "execute_result",
          "data": {
            "text/plain": [
              "0.9573929037221871"
            ]
          },
          "metadata": {
            "tags": []
          },
          "execution_count": 144
        }
      ]
    },
    {
      "cell_type": "code",
      "metadata": {
        "id": "Bi03dERjqUNm"
      },
      "source": [
        ""
      ],
      "execution_count": null,
      "outputs": []
    },
    {
      "cell_type": "markdown",
      "metadata": {
        "id": "XoeYXws2qZlK"
      },
      "source": [
        "# Using sklearn OneHotEncoder"
      ]
    },
    {
      "cell_type": "code",
      "metadata": {
        "id": "PjmnvR4Wqdqo"
      },
      "source": [
        "dfle= pd.read_csv(\"/content/sample_data/alldata/homepriceonehot.csv\")"
      ],
      "execution_count": 145,
      "outputs": []
    },
    {
      "cell_type": "code",
      "metadata": {
        "colab": {
          "base_uri": "https://localhost:8080/",
          "height": 447
        },
        "id": "BLsPivQKqodU",
        "outputId": "72864804-ee08-40e4-ac02-736834748c95"
      },
      "source": [
        "dfle"
      ],
      "execution_count": 146,
      "outputs": [
        {
          "output_type": "execute_result",
          "data": {
            "text/html": [
              "<div>\n",
              "<style scoped>\n",
              "    .dataframe tbody tr th:only-of-type {\n",
              "        vertical-align: middle;\n",
              "    }\n",
              "\n",
              "    .dataframe tbody tr th {\n",
              "        vertical-align: top;\n",
              "    }\n",
              "\n",
              "    .dataframe thead th {\n",
              "        text-align: right;\n",
              "    }\n",
              "</style>\n",
              "<table border=\"1\" class=\"dataframe\">\n",
              "  <thead>\n",
              "    <tr style=\"text-align: right;\">\n",
              "      <th></th>\n",
              "      <th>town</th>\n",
              "      <th>area</th>\n",
              "      <th>price</th>\n",
              "    </tr>\n",
              "  </thead>\n",
              "  <tbody>\n",
              "    <tr>\n",
              "      <th>0</th>\n",
              "      <td>monroe township</td>\n",
              "      <td>2600</td>\n",
              "      <td>550000</td>\n",
              "    </tr>\n",
              "    <tr>\n",
              "      <th>1</th>\n",
              "      <td>monroe township</td>\n",
              "      <td>3000</td>\n",
              "      <td>565000</td>\n",
              "    </tr>\n",
              "    <tr>\n",
              "      <th>2</th>\n",
              "      <td>monroe township</td>\n",
              "      <td>3200</td>\n",
              "      <td>610000</td>\n",
              "    </tr>\n",
              "    <tr>\n",
              "      <th>3</th>\n",
              "      <td>monroe township</td>\n",
              "      <td>3600</td>\n",
              "      <td>680000</td>\n",
              "    </tr>\n",
              "    <tr>\n",
              "      <th>4</th>\n",
              "      <td>monroe township</td>\n",
              "      <td>4000</td>\n",
              "      <td>725000</td>\n",
              "    </tr>\n",
              "    <tr>\n",
              "      <th>5</th>\n",
              "      <td>west windsor</td>\n",
              "      <td>2600</td>\n",
              "      <td>585000</td>\n",
              "    </tr>\n",
              "    <tr>\n",
              "      <th>6</th>\n",
              "      <td>west windsor</td>\n",
              "      <td>2800</td>\n",
              "      <td>615000</td>\n",
              "    </tr>\n",
              "    <tr>\n",
              "      <th>7</th>\n",
              "      <td>west windsor</td>\n",
              "      <td>3300</td>\n",
              "      <td>650000</td>\n",
              "    </tr>\n",
              "    <tr>\n",
              "      <th>8</th>\n",
              "      <td>west windsor</td>\n",
              "      <td>3600</td>\n",
              "      <td>710000</td>\n",
              "    </tr>\n",
              "    <tr>\n",
              "      <th>9</th>\n",
              "      <td>robinsville</td>\n",
              "      <td>2600</td>\n",
              "      <td>575000</td>\n",
              "    </tr>\n",
              "    <tr>\n",
              "      <th>10</th>\n",
              "      <td>robinsville</td>\n",
              "      <td>2900</td>\n",
              "      <td>600000</td>\n",
              "    </tr>\n",
              "    <tr>\n",
              "      <th>11</th>\n",
              "      <td>robinsville</td>\n",
              "      <td>3100</td>\n",
              "      <td>620000</td>\n",
              "    </tr>\n",
              "    <tr>\n",
              "      <th>12</th>\n",
              "      <td>robinsville</td>\n",
              "      <td>3600</td>\n",
              "      <td>695000</td>\n",
              "    </tr>\n",
              "  </tbody>\n",
              "</table>\n",
              "</div>"
            ],
            "text/plain": [
              "               town  area   price\n",
              "0   monroe township  2600  550000\n",
              "1   monroe township  3000  565000\n",
              "2   monroe township  3200  610000\n",
              "3   monroe township  3600  680000\n",
              "4   monroe township  4000  725000\n",
              "5      west windsor  2600  585000\n",
              "6      west windsor  2800  615000\n",
              "7      west windsor  3300  650000\n",
              "8      west windsor  3600  710000\n",
              "9       robinsville  2600  575000\n",
              "10      robinsville  2900  600000\n",
              "11      robinsville  3100  620000\n",
              "12      robinsville  3600  695000"
            ]
          },
          "metadata": {
            "tags": []
          },
          "execution_count": 146
        }
      ]
    },
    {
      "cell_type": "code",
      "metadata": {
        "id": "8RIq8ACuqrEr"
      },
      "source": [
        "from sklearn.preprocessing import LabelEncoder\n",
        "le=LabelEncoder()\n"
      ],
      "execution_count": 4,
      "outputs": []
    },
    {
      "cell_type": "code",
      "metadata": {
        "id": "VGaQs9Xsq9wK"
      },
      "source": [
        "dfle.town=le.fit_transform(dfle.town)"
      ],
      "execution_count": 148,
      "outputs": []
    },
    {
      "cell_type": "code",
      "metadata": {
        "id": "Rf2mHtEVrHzT"
      },
      "source": [
        "dfle"
      ],
      "execution_count": null,
      "outputs": []
    },
    {
      "cell_type": "code",
      "metadata": {
        "id": "SThMXo4VsBm0"
      },
      "source": [
        "X = dfle[['town','area']].values"
      ],
      "execution_count": 153,
      "outputs": []
    },
    {
      "cell_type": "code",
      "metadata": {
        "id": "NL3E6WwssFEc"
      },
      "source": [
        "y =dfle[[\"price\"]].values"
      ],
      "execution_count": 154,
      "outputs": []
    },
    {
      "cell_type": "code",
      "metadata": {
        "id": "aOFXdH6VrLe-"
      },
      "source": [
        "from sklearn.preprocessing import OneHotEncoder\n",
        "from sklearn.compose import ColumnTransformer\n",
        "ct = ColumnTransformer([('town', OneHotEncoder(), [0])], remainder = 'passthrough')"
      ],
      "execution_count": 5,
      "outputs": []
    },
    {
      "cell_type": "code",
      "metadata": {
        "colab": {
          "base_uri": "https://localhost:8080/"
        },
        "id": "qaWTC5bir1yN",
        "outputId": "54ec09e5-5936-4f56-9541-e377de662bfa"
      },
      "source": [
        "X = ct.fit_transform(X)\n",
        "X"
      ],
      "execution_count": 155,
      "outputs": [
        {
          "output_type": "execute_result",
          "data": {
            "text/plain": [
              "array([[1.0e+00, 0.0e+00, 0.0e+00, 2.6e+03],\n",
              "       [1.0e+00, 0.0e+00, 0.0e+00, 3.0e+03],\n",
              "       [1.0e+00, 0.0e+00, 0.0e+00, 3.2e+03],\n",
              "       [1.0e+00, 0.0e+00, 0.0e+00, 3.6e+03],\n",
              "       [1.0e+00, 0.0e+00, 0.0e+00, 4.0e+03],\n",
              "       [0.0e+00, 0.0e+00, 1.0e+00, 2.6e+03],\n",
              "       [0.0e+00, 0.0e+00, 1.0e+00, 2.8e+03],\n",
              "       [0.0e+00, 0.0e+00, 1.0e+00, 3.3e+03],\n",
              "       [0.0e+00, 0.0e+00, 1.0e+00, 3.6e+03],\n",
              "       [0.0e+00, 1.0e+00, 0.0e+00, 2.6e+03],\n",
              "       [0.0e+00, 1.0e+00, 0.0e+00, 2.9e+03],\n",
              "       [0.0e+00, 1.0e+00, 0.0e+00, 3.1e+03],\n",
              "       [0.0e+00, 1.0e+00, 0.0e+00, 3.6e+03]])"
            ]
          },
          "metadata": {
            "tags": []
          },
          "execution_count": 155
        }
      ]
    },
    {
      "cell_type": "code",
      "metadata": {
        "id": "zGenngBXsTLc"
      },
      "source": [
        "X = X[:,1:]"
      ],
      "execution_count": 156,
      "outputs": []
    },
    {
      "cell_type": "code",
      "metadata": {
        "id": "S0jx9vT_shri"
      },
      "source": [
        "model_ohe2 = linear_model.LinearRegression()"
      ],
      "execution_count": 160,
      "outputs": []
    },
    {
      "cell_type": "code",
      "metadata": {
        "colab": {
          "base_uri": "https://localhost:8080/"
        },
        "id": "Tp4oYgGUsYEl",
        "outputId": "20f6b0d2-addd-416e-93ce-8e7d766dec49"
      },
      "source": [
        "model_ohe2.fit(X,y)"
      ],
      "execution_count": 161,
      "outputs": [
        {
          "output_type": "execute_result",
          "data": {
            "text/plain": [
              "LinearRegression(copy_X=True, fit_intercept=True, n_jobs=None, normalize=False)"
            ]
          },
          "metadata": {
            "tags": []
          },
          "execution_count": 161
        }
      ]
    },
    {
      "cell_type": "code",
      "metadata": {
        "colab": {
          "base_uri": "https://localhost:8080/"
        },
        "id": "rDLewLViswnL",
        "outputId": "c18d4d35-490e-4a2d-d937-906807f311d3"
      },
      "source": [
        "model_ohe2.predict([[1,0,2800]]) "
      ],
      "execution_count": 163,
      "outputs": [
        {
          "output_type": "execute_result",
          "data": {
            "text/plain": [
              "array([[590775.63964739]])"
            ]
          },
          "metadata": {
            "tags": []
          },
          "execution_count": 163
        }
      ]
    },
    {
      "cell_type": "markdown",
      "metadata": {
        "id": "7kL0A2Lsv56N"
      },
      "source": [
        "Exercise one hot encoding"
      ]
    },
    {
      "cell_type": "code",
      "metadata": {
        "id": "lQoDiXBov-l-"
      },
      "source": [
        "df_car= pd.read_csv(\"/content/sample_data/alldata/carprices.csv\")"
      ],
      "execution_count": 164,
      "outputs": []
    },
    {
      "cell_type": "code",
      "metadata": {
        "colab": {
          "base_uri": "https://localhost:8080/",
          "height": 447
        },
        "id": "4OAnmQJuwJHp",
        "outputId": "b7e4b445-54c0-4bda-9471-154ac755951c"
      },
      "source": [
        "df_car"
      ],
      "execution_count": 165,
      "outputs": [
        {
          "output_type": "execute_result",
          "data": {
            "text/html": [
              "<div>\n",
              "<style scoped>\n",
              "    .dataframe tbody tr th:only-of-type {\n",
              "        vertical-align: middle;\n",
              "    }\n",
              "\n",
              "    .dataframe tbody tr th {\n",
              "        vertical-align: top;\n",
              "    }\n",
              "\n",
              "    .dataframe thead th {\n",
              "        text-align: right;\n",
              "    }\n",
              "</style>\n",
              "<table border=\"1\" class=\"dataframe\">\n",
              "  <thead>\n",
              "    <tr style=\"text-align: right;\">\n",
              "      <th></th>\n",
              "      <th>Car Model</th>\n",
              "      <th>Mileage</th>\n",
              "      <th>Sell Price($)</th>\n",
              "      <th>Age(yrs)</th>\n",
              "    </tr>\n",
              "  </thead>\n",
              "  <tbody>\n",
              "    <tr>\n",
              "      <th>0</th>\n",
              "      <td>BMW X5</td>\n",
              "      <td>69000</td>\n",
              "      <td>18000</td>\n",
              "      <td>6</td>\n",
              "    </tr>\n",
              "    <tr>\n",
              "      <th>1</th>\n",
              "      <td>BMW X5</td>\n",
              "      <td>35000</td>\n",
              "      <td>34000</td>\n",
              "      <td>3</td>\n",
              "    </tr>\n",
              "    <tr>\n",
              "      <th>2</th>\n",
              "      <td>BMW X5</td>\n",
              "      <td>57000</td>\n",
              "      <td>26100</td>\n",
              "      <td>5</td>\n",
              "    </tr>\n",
              "    <tr>\n",
              "      <th>3</th>\n",
              "      <td>BMW X5</td>\n",
              "      <td>22500</td>\n",
              "      <td>40000</td>\n",
              "      <td>2</td>\n",
              "    </tr>\n",
              "    <tr>\n",
              "      <th>4</th>\n",
              "      <td>BMW X5</td>\n",
              "      <td>46000</td>\n",
              "      <td>31500</td>\n",
              "      <td>4</td>\n",
              "    </tr>\n",
              "    <tr>\n",
              "      <th>5</th>\n",
              "      <td>Audi A5</td>\n",
              "      <td>59000</td>\n",
              "      <td>29400</td>\n",
              "      <td>5</td>\n",
              "    </tr>\n",
              "    <tr>\n",
              "      <th>6</th>\n",
              "      <td>Audi A5</td>\n",
              "      <td>52000</td>\n",
              "      <td>32000</td>\n",
              "      <td>5</td>\n",
              "    </tr>\n",
              "    <tr>\n",
              "      <th>7</th>\n",
              "      <td>Audi A5</td>\n",
              "      <td>72000</td>\n",
              "      <td>19300</td>\n",
              "      <td>6</td>\n",
              "    </tr>\n",
              "    <tr>\n",
              "      <th>8</th>\n",
              "      <td>Audi A5</td>\n",
              "      <td>91000</td>\n",
              "      <td>12000</td>\n",
              "      <td>8</td>\n",
              "    </tr>\n",
              "    <tr>\n",
              "      <th>9</th>\n",
              "      <td>Mercedez Benz C class</td>\n",
              "      <td>67000</td>\n",
              "      <td>22000</td>\n",
              "      <td>6</td>\n",
              "    </tr>\n",
              "    <tr>\n",
              "      <th>10</th>\n",
              "      <td>Mercedez Benz C class</td>\n",
              "      <td>83000</td>\n",
              "      <td>20000</td>\n",
              "      <td>7</td>\n",
              "    </tr>\n",
              "    <tr>\n",
              "      <th>11</th>\n",
              "      <td>Mercedez Benz C class</td>\n",
              "      <td>79000</td>\n",
              "      <td>21000</td>\n",
              "      <td>7</td>\n",
              "    </tr>\n",
              "    <tr>\n",
              "      <th>12</th>\n",
              "      <td>Mercedez Benz C class</td>\n",
              "      <td>59000</td>\n",
              "      <td>33000</td>\n",
              "      <td>5</td>\n",
              "    </tr>\n",
              "  </tbody>\n",
              "</table>\n",
              "</div>"
            ],
            "text/plain": [
              "                Car Model  Mileage  Sell Price($)  Age(yrs)\n",
              "0                  BMW X5    69000          18000         6\n",
              "1                  BMW X5    35000          34000         3\n",
              "2                  BMW X5    57000          26100         5\n",
              "3                  BMW X5    22500          40000         2\n",
              "4                  BMW X5    46000          31500         4\n",
              "5                 Audi A5    59000          29400         5\n",
              "6                 Audi A5    52000          32000         5\n",
              "7                 Audi A5    72000          19300         6\n",
              "8                 Audi A5    91000          12000         8\n",
              "9   Mercedez Benz C class    67000          22000         6\n",
              "10  Mercedez Benz C class    83000          20000         7\n",
              "11  Mercedez Benz C class    79000          21000         7\n",
              "12  Mercedez Benz C class    59000          33000         5"
            ]
          },
          "metadata": {
            "tags": []
          },
          "execution_count": 165
        }
      ]
    },
    {
      "cell_type": "code",
      "metadata": {
        "id": "-fFDxHgawLrb"
      },
      "source": [
        "df_car=pd.get_dummies(df_car,drop_first=True)"
      ],
      "execution_count": 167,
      "outputs": []
    },
    {
      "cell_type": "code",
      "metadata": {
        "colab": {
          "base_uri": "https://localhost:8080/",
          "height": 447
        },
        "id": "UkPsiMzIwX9-",
        "outputId": "c9f04f3e-a954-4e74-e2c9-22b58cbbc917"
      },
      "source": [
        "df_car"
      ],
      "execution_count": 168,
      "outputs": [
        {
          "output_type": "execute_result",
          "data": {
            "text/html": [
              "<div>\n",
              "<style scoped>\n",
              "    .dataframe tbody tr th:only-of-type {\n",
              "        vertical-align: middle;\n",
              "    }\n",
              "\n",
              "    .dataframe tbody tr th {\n",
              "        vertical-align: top;\n",
              "    }\n",
              "\n",
              "    .dataframe thead th {\n",
              "        text-align: right;\n",
              "    }\n",
              "</style>\n",
              "<table border=\"1\" class=\"dataframe\">\n",
              "  <thead>\n",
              "    <tr style=\"text-align: right;\">\n",
              "      <th></th>\n",
              "      <th>Mileage</th>\n",
              "      <th>Sell Price($)</th>\n",
              "      <th>Age(yrs)</th>\n",
              "      <th>Car Model_BMW X5</th>\n",
              "      <th>Car Model_Mercedez Benz C class</th>\n",
              "    </tr>\n",
              "  </thead>\n",
              "  <tbody>\n",
              "    <tr>\n",
              "      <th>0</th>\n",
              "      <td>69000</td>\n",
              "      <td>18000</td>\n",
              "      <td>6</td>\n",
              "      <td>1</td>\n",
              "      <td>0</td>\n",
              "    </tr>\n",
              "    <tr>\n",
              "      <th>1</th>\n",
              "      <td>35000</td>\n",
              "      <td>34000</td>\n",
              "      <td>3</td>\n",
              "      <td>1</td>\n",
              "      <td>0</td>\n",
              "    </tr>\n",
              "    <tr>\n",
              "      <th>2</th>\n",
              "      <td>57000</td>\n",
              "      <td>26100</td>\n",
              "      <td>5</td>\n",
              "      <td>1</td>\n",
              "      <td>0</td>\n",
              "    </tr>\n",
              "    <tr>\n",
              "      <th>3</th>\n",
              "      <td>22500</td>\n",
              "      <td>40000</td>\n",
              "      <td>2</td>\n",
              "      <td>1</td>\n",
              "      <td>0</td>\n",
              "    </tr>\n",
              "    <tr>\n",
              "      <th>4</th>\n",
              "      <td>46000</td>\n",
              "      <td>31500</td>\n",
              "      <td>4</td>\n",
              "      <td>1</td>\n",
              "      <td>0</td>\n",
              "    </tr>\n",
              "    <tr>\n",
              "      <th>5</th>\n",
              "      <td>59000</td>\n",
              "      <td>29400</td>\n",
              "      <td>5</td>\n",
              "      <td>0</td>\n",
              "      <td>0</td>\n",
              "    </tr>\n",
              "    <tr>\n",
              "      <th>6</th>\n",
              "      <td>52000</td>\n",
              "      <td>32000</td>\n",
              "      <td>5</td>\n",
              "      <td>0</td>\n",
              "      <td>0</td>\n",
              "    </tr>\n",
              "    <tr>\n",
              "      <th>7</th>\n",
              "      <td>72000</td>\n",
              "      <td>19300</td>\n",
              "      <td>6</td>\n",
              "      <td>0</td>\n",
              "      <td>0</td>\n",
              "    </tr>\n",
              "    <tr>\n",
              "      <th>8</th>\n",
              "      <td>91000</td>\n",
              "      <td>12000</td>\n",
              "      <td>8</td>\n",
              "      <td>0</td>\n",
              "      <td>0</td>\n",
              "    </tr>\n",
              "    <tr>\n",
              "      <th>9</th>\n",
              "      <td>67000</td>\n",
              "      <td>22000</td>\n",
              "      <td>6</td>\n",
              "      <td>0</td>\n",
              "      <td>1</td>\n",
              "    </tr>\n",
              "    <tr>\n",
              "      <th>10</th>\n",
              "      <td>83000</td>\n",
              "      <td>20000</td>\n",
              "      <td>7</td>\n",
              "      <td>0</td>\n",
              "      <td>1</td>\n",
              "    </tr>\n",
              "    <tr>\n",
              "      <th>11</th>\n",
              "      <td>79000</td>\n",
              "      <td>21000</td>\n",
              "      <td>7</td>\n",
              "      <td>0</td>\n",
              "      <td>1</td>\n",
              "    </tr>\n",
              "    <tr>\n",
              "      <th>12</th>\n",
              "      <td>59000</td>\n",
              "      <td>33000</td>\n",
              "      <td>5</td>\n",
              "      <td>0</td>\n",
              "      <td>1</td>\n",
              "    </tr>\n",
              "  </tbody>\n",
              "</table>\n",
              "</div>"
            ],
            "text/plain": [
              "    Mileage  Sell Price($)  ...  Car Model_BMW X5  Car Model_Mercedez Benz C class\n",
              "0     69000          18000  ...                 1                                0\n",
              "1     35000          34000  ...                 1                                0\n",
              "2     57000          26100  ...                 1                                0\n",
              "3     22500          40000  ...                 1                                0\n",
              "4     46000          31500  ...                 1                                0\n",
              "5     59000          29400  ...                 0                                0\n",
              "6     52000          32000  ...                 0                                0\n",
              "7     72000          19300  ...                 0                                0\n",
              "8     91000          12000  ...                 0                                0\n",
              "9     67000          22000  ...                 0                                1\n",
              "10    83000          20000  ...                 0                                1\n",
              "11    79000          21000  ...                 0                                1\n",
              "12    59000          33000  ...                 0                                1\n",
              "\n",
              "[13 rows x 5 columns]"
            ]
          },
          "metadata": {
            "tags": []
          },
          "execution_count": 168
        }
      ]
    },
    {
      "cell_type": "code",
      "metadata": {
        "id": "c4CbakI-wkJH"
      },
      "source": [
        "X=df_car.drop(\"Sell Price($)\",axis=\"columns\")"
      ],
      "execution_count": 170,
      "outputs": []
    },
    {
      "cell_type": "code",
      "metadata": {
        "id": "gB3_tYFqw3pJ"
      },
      "source": [
        "y=df_car[\"Sell Price($)\"]"
      ],
      "execution_count": 171,
      "outputs": []
    },
    {
      "cell_type": "code",
      "metadata": {
        "id": "W8ldhP3Aw9SY"
      },
      "source": [
        "car_model_reg=linear_model.LinearRegression()\n",
        "car_model=car_model_reg.fit(X,y)"
      ],
      "execution_count": 173,
      "outputs": []
    },
    {
      "cell_type": "code",
      "metadata": {
        "colab": {
          "base_uri": "https://localhost:8080/"
        },
        "id": "C6_NH770xIcw",
        "outputId": "290eba82-3754-4bf6-8a4a-e74588f5805c"
      },
      "source": [
        "car_model.score(X,y)"
      ],
      "execution_count": 174,
      "outputs": [
        {
          "output_type": "execute_result",
          "data": {
            "text/plain": [
              "0.9417050937281083"
            ]
          },
          "metadata": {
            "tags": []
          },
          "execution_count": 174
        }
      ]
    },
    {
      "cell_type": "markdown",
      "metadata": {
        "id": "9EsjP9I7xN_C"
      },
      "source": [
        "# train test split"
      ]
    },
    {
      "cell_type": "code",
      "metadata": {
        "id": "UBSpCdlCxt4R"
      },
      "source": [
        "car_tts=pd.read_csv(\"/content/sample_data/alldata/carprice_tts.csv\")"
      ],
      "execution_count": 175,
      "outputs": []
    },
    {
      "cell_type": "code",
      "metadata": {
        "colab": {
          "base_uri": "https://localhost:8080/",
          "height": 662
        },
        "id": "XGHFQ57gx3vQ",
        "outputId": "c5fabda7-9dfb-47e2-8d0a-054eddddfca9"
      },
      "source": [
        "car_tts"
      ],
      "execution_count": 176,
      "outputs": [
        {
          "output_type": "execute_result",
          "data": {
            "text/html": [
              "<div>\n",
              "<style scoped>\n",
              "    .dataframe tbody tr th:only-of-type {\n",
              "        vertical-align: middle;\n",
              "    }\n",
              "\n",
              "    .dataframe tbody tr th {\n",
              "        vertical-align: top;\n",
              "    }\n",
              "\n",
              "    .dataframe thead th {\n",
              "        text-align: right;\n",
              "    }\n",
              "</style>\n",
              "<table border=\"1\" class=\"dataframe\">\n",
              "  <thead>\n",
              "    <tr style=\"text-align: right;\">\n",
              "      <th></th>\n",
              "      <th>Mileage</th>\n",
              "      <th>Age(yrs)</th>\n",
              "      <th>Sell Price($)</th>\n",
              "    </tr>\n",
              "  </thead>\n",
              "  <tbody>\n",
              "    <tr>\n",
              "      <th>0</th>\n",
              "      <td>69000</td>\n",
              "      <td>6</td>\n",
              "      <td>18000</td>\n",
              "    </tr>\n",
              "    <tr>\n",
              "      <th>1</th>\n",
              "      <td>35000</td>\n",
              "      <td>3</td>\n",
              "      <td>34000</td>\n",
              "    </tr>\n",
              "    <tr>\n",
              "      <th>2</th>\n",
              "      <td>57000</td>\n",
              "      <td>5</td>\n",
              "      <td>26100</td>\n",
              "    </tr>\n",
              "    <tr>\n",
              "      <th>3</th>\n",
              "      <td>22500</td>\n",
              "      <td>2</td>\n",
              "      <td>40000</td>\n",
              "    </tr>\n",
              "    <tr>\n",
              "      <th>4</th>\n",
              "      <td>46000</td>\n",
              "      <td>4</td>\n",
              "      <td>31500</td>\n",
              "    </tr>\n",
              "    <tr>\n",
              "      <th>5</th>\n",
              "      <td>59000</td>\n",
              "      <td>5</td>\n",
              "      <td>26750</td>\n",
              "    </tr>\n",
              "    <tr>\n",
              "      <th>6</th>\n",
              "      <td>52000</td>\n",
              "      <td>5</td>\n",
              "      <td>32000</td>\n",
              "    </tr>\n",
              "    <tr>\n",
              "      <th>7</th>\n",
              "      <td>72000</td>\n",
              "      <td>6</td>\n",
              "      <td>19300</td>\n",
              "    </tr>\n",
              "    <tr>\n",
              "      <th>8</th>\n",
              "      <td>91000</td>\n",
              "      <td>8</td>\n",
              "      <td>12000</td>\n",
              "    </tr>\n",
              "    <tr>\n",
              "      <th>9</th>\n",
              "      <td>67000</td>\n",
              "      <td>6</td>\n",
              "      <td>22000</td>\n",
              "    </tr>\n",
              "    <tr>\n",
              "      <th>10</th>\n",
              "      <td>83000</td>\n",
              "      <td>7</td>\n",
              "      <td>18700</td>\n",
              "    </tr>\n",
              "    <tr>\n",
              "      <th>11</th>\n",
              "      <td>79000</td>\n",
              "      <td>7</td>\n",
              "      <td>19500</td>\n",
              "    </tr>\n",
              "    <tr>\n",
              "      <th>12</th>\n",
              "      <td>59000</td>\n",
              "      <td>5</td>\n",
              "      <td>26000</td>\n",
              "    </tr>\n",
              "    <tr>\n",
              "      <th>13</th>\n",
              "      <td>58780</td>\n",
              "      <td>4</td>\n",
              "      <td>27500</td>\n",
              "    </tr>\n",
              "    <tr>\n",
              "      <th>14</th>\n",
              "      <td>82450</td>\n",
              "      <td>7</td>\n",
              "      <td>19400</td>\n",
              "    </tr>\n",
              "    <tr>\n",
              "      <th>15</th>\n",
              "      <td>25400</td>\n",
              "      <td>3</td>\n",
              "      <td>35000</td>\n",
              "    </tr>\n",
              "    <tr>\n",
              "      <th>16</th>\n",
              "      <td>28000</td>\n",
              "      <td>2</td>\n",
              "      <td>35500</td>\n",
              "    </tr>\n",
              "    <tr>\n",
              "      <th>17</th>\n",
              "      <td>69000</td>\n",
              "      <td>5</td>\n",
              "      <td>19700</td>\n",
              "    </tr>\n",
              "    <tr>\n",
              "      <th>18</th>\n",
              "      <td>87600</td>\n",
              "      <td>8</td>\n",
              "      <td>12800</td>\n",
              "    </tr>\n",
              "    <tr>\n",
              "      <th>19</th>\n",
              "      <td>52000</td>\n",
              "      <td>5</td>\n",
              "      <td>28200</td>\n",
              "    </tr>\n",
              "  </tbody>\n",
              "</table>\n",
              "</div>"
            ],
            "text/plain": [
              "    Mileage  Age(yrs)  Sell Price($)\n",
              "0     69000         6          18000\n",
              "1     35000         3          34000\n",
              "2     57000         5          26100\n",
              "3     22500         2          40000\n",
              "4     46000         4          31500\n",
              "5     59000         5          26750\n",
              "6     52000         5          32000\n",
              "7     72000         6          19300\n",
              "8     91000         8          12000\n",
              "9     67000         6          22000\n",
              "10    83000         7          18700\n",
              "11    79000         7          19500\n",
              "12    59000         5          26000\n",
              "13    58780         4          27500\n",
              "14    82450         7          19400\n",
              "15    25400         3          35000\n",
              "16    28000         2          35500\n",
              "17    69000         5          19700\n",
              "18    87600         8          12800\n",
              "19    52000         5          28200"
            ]
          },
          "metadata": {
            "tags": []
          },
          "execution_count": 176
        }
      ]
    },
    {
      "cell_type": "code",
      "metadata": {
        "id": "0rmGvE1Qx6_P"
      },
      "source": [
        "from sklearn.model_selection import train_test_split"
      ],
      "execution_count": 44,
      "outputs": []
    },
    {
      "cell_type": "code",
      "metadata": {
        "id": "y6_16jlAyBHB"
      },
      "source": [
        "X=car_tts[[\"Mileage\",\"Age(yrs)\"]]"
      ],
      "execution_count": 178,
      "outputs": []
    },
    {
      "cell_type": "code",
      "metadata": {
        "id": "hNx01D0syOlT"
      },
      "source": [
        "y=car_tts[\"Sell Price($)\"]"
      ],
      "execution_count": 179,
      "outputs": []
    },
    {
      "cell_type": "code",
      "metadata": {
        "id": "EK9-mswRyVH5"
      },
      "source": [
        "X_train, X_test, y_train, y_test = train_test_split(X,y,test_size=0.3)"
      ],
      "execution_count": 180,
      "outputs": []
    },
    {
      "cell_type": "code",
      "metadata": {
        "id": "fWaIRuTvydHa"
      },
      "source": [
        "model_tts_reg=linear_model.LinearRegression()\n",
        "model_tts=model_tts_reg.fit(X_train,y_train)"
      ],
      "execution_count": 182,
      "outputs": []
    },
    {
      "cell_type": "code",
      "metadata": {
        "colab": {
          "base_uri": "https://localhost:8080/"
        },
        "id": "ObZnSCkAyw14",
        "outputId": "2aea84d6-b050-401b-b32a-6a11ad73de37"
      },
      "source": [
        "model_tts.predict(X_test)"
      ],
      "execution_count": 183,
      "outputs": [
        {
          "output_type": "execute_result",
          "data": {
            "text/plain": [
              "array([16727.01851407, 29108.50786433, 13501.83833639, 39779.52181157,\n",
              "       38050.98751038, 22129.16738651])"
            ]
          },
          "metadata": {
            "tags": []
          },
          "execution_count": 183
        }
      ]
    },
    {
      "cell_type": "code",
      "metadata": {
        "colab": {
          "base_uri": "https://localhost:8080/"
        },
        "id": "WteizYEgy_1R",
        "outputId": "a79a15fc-3c6b-44f2-e140-1769fc0c280a"
      },
      "source": [
        "y_test"
      ],
      "execution_count": 184,
      "outputs": [
        {
          "output_type": "execute_result",
          "data": {
            "text/plain": [
              "14    19400\n",
              "19    28200\n",
              "8     12000\n",
              "15    35000\n",
              "16    35500\n",
              "0     18000\n",
              "Name: Sell Price($), dtype: int64"
            ]
          },
          "metadata": {
            "tags": []
          },
          "execution_count": 184
        }
      ]
    },
    {
      "cell_type": "code",
      "metadata": {
        "colab": {
          "base_uri": "https://localhost:8080/"
        },
        "id": "2jhvCNChzDEl",
        "outputId": "27ced244-ce5b-48e9-d983-3a39a482a3ac"
      },
      "source": [
        "model_tts.score(X_test,y_test)"
      ],
      "execution_count": 185,
      "outputs": [
        {
          "output_type": "execute_result",
          "data": {
            "text/plain": [
              "0.8793237604462703"
            ]
          },
          "metadata": {
            "tags": []
          },
          "execution_count": 185
        }
      ]
    },
    {
      "cell_type": "code",
      "metadata": {
        "colab": {
          "base_uri": "https://localhost:8080/"
        },
        "id": "etcbxqYGzJDJ",
        "outputId": "ced3316c-43f1-4dde-9b0a-11dbad7f96fb"
      },
      "source": [
        "model_tts.score(X_train,y_train)"
      ],
      "execution_count": 186,
      "outputs": [
        {
          "output_type": "execute_result",
          "data": {
            "text/plain": [
              "0.9508419184504354"
            ]
          },
          "metadata": {
            "tags": []
          },
          "execution_count": 186
        }
      ]
    },
    {
      "cell_type": "code",
      "metadata": {
        "id": "tRhyIKoCzNEu"
      },
      "source": [
        ""
      ],
      "execution_count": null,
      "outputs": []
    },
    {
      "cell_type": "markdown",
      "metadata": {
        "id": "LKpTYJ9VzoJ5"
      },
      "source": [
        "# Logistic Regression"
      ]
    },
    {
      "cell_type": "code",
      "metadata": {
        "id": "KJmtWOrEztj5"
      },
      "source": [
        "df_insurance=pd.read_csv(\"/content/sample_data/alldata/insurance.csv\")"
      ],
      "execution_count": 187,
      "outputs": []
    },
    {
      "cell_type": "code",
      "metadata": {
        "colab": {
          "base_uri": "https://localhost:8080/"
        },
        "id": "mCJmGrge0mGW",
        "outputId": "d3915fdc-ca15-46d8-b990-b55f13aebccf"
      },
      "source": [
        "df_insurance.columns"
      ],
      "execution_count": 189,
      "outputs": [
        {
          "output_type": "execute_result",
          "data": {
            "text/plain": [
              "Index(['age', 'bought_insurance'], dtype='object')"
            ]
          },
          "metadata": {
            "tags": []
          },
          "execution_count": 189
        }
      ]
    },
    {
      "cell_type": "code",
      "metadata": {
        "colab": {
          "base_uri": "https://localhost:8080/",
          "height": 283
        },
        "id": "ID8ruIK60qMr",
        "outputId": "251fe3cc-e9c9-4e52-c372-91e6e51bb2c3"
      },
      "source": [
        "plt.scatter(df_insurance[\"age\"],df_insurance[\"bought_insurance\"])"
      ],
      "execution_count": 190,
      "outputs": [
        {
          "output_type": "execute_result",
          "data": {
            "text/plain": [
              "<matplotlib.collections.PathCollection at 0x7fdaec3bf748>"
            ]
          },
          "metadata": {
            "tags": []
          },
          "execution_count": 190
        },
        {
          "output_type": "display_data",
          "data": {
            "image/png": "[encoded data removed]",
            "text/plain": [
              "<Figure size 432x288 with 1 Axes>"
            ]
          },
          "metadata": {
            "tags": [],
            "needs_background": "light"
          }
        }
      ]
    },
    {
      "cell_type": "code",
      "metadata": {
        "id": "Wp0RZWyD04Z9"
      },
      "source": [
        "X=df_insurance[[\"age\"]]\n",
        "y=df_insurance[\"bought_insurance\"]"
      ],
      "execution_count": 196,
      "outputs": []
    },
    {
      "cell_type": "code",
      "metadata": {
        "id": "7zdNtfHx1cyQ"
      },
      "source": [
        "X_train, X_test, y_train, y_test = train_test_split(X,y,test_size=0.2)"
      ],
      "execution_count": 198,
      "outputs": []
    },
    {
      "cell_type": "code",
      "metadata": {
        "id": "XgWJjbnq1fEE"
      },
      "source": [
        "model_log_reg=linear_model.LogisticRegression()"
      ],
      "execution_count": 194,
      "outputs": []
    },
    {
      "cell_type": "code",
      "metadata": {
        "id": "aN3sCJFV1kP-"
      },
      "source": [
        "model_log=model_log_reg.fit(X_train,y_train)"
      ],
      "execution_count": 199,
      "outputs": []
    },
    {
      "cell_type": "code",
      "metadata": {
        "id": "gNBHi-gr12g4"
      },
      "source": [
        "y_predicted = model_log.predict(X_test)"
      ],
      "execution_count": 202,
      "outputs": []
    },
    {
      "cell_type": "code",
      "metadata": {
        "colab": {
          "base_uri": "https://localhost:8080/"
        },
        "id": "4XmEXnuF18xQ",
        "outputId": "a5d2e495-e840-446e-91d0-ce4870e8a48a"
      },
      "source": [
        "y_predicted"
      ],
      "execution_count": 203,
      "outputs": [
        {
          "output_type": "execute_result",
          "data": {
            "text/plain": [
              "array([1, 1, 0, 0, 0, 0])"
            ]
          },
          "metadata": {
            "tags": []
          },
          "execution_count": 203
        }
      ]
    },
    {
      "cell_type": "markdown",
      "metadata": {
        "id": "sxvsqwap2hvk"
      },
      "source": [
        "**Exercise Logistic**"
      ]
    },
    {
      "cell_type": "code",
      "metadata": {
        "colab": {
          "base_uri": "https://localhost:8080/",
          "height": 222
        },
        "id": "VsfHiycZ18q4",
        "outputId": "fa143990-d3f4-4c34-a4b5-af02c876c4ac"
      },
      "source": [
        "df_hr =pd.read_csv(\"/content/sample_data/alldata/HR_comma_sep.csv\")\n",
        "df_hr.head()"
      ],
      "execution_count": 205,
      "outputs": [
        {
          "output_type": "execute_result",
          "data": {
            "text/html": [
              "<div>\n",
              "<style scoped>\n",
              "    .dataframe tbody tr th:only-of-type {\n",
              "        vertical-align: middle;\n",
              "    }\n",
              "\n",
              "    .dataframe tbody tr th {\n",
              "        vertical-align: top;\n",
              "    }\n",
              "\n",
              "    .dataframe thead th {\n",
              "        text-align: right;\n",
              "    }\n",
              "</style>\n",
              "<table border=\"1\" class=\"dataframe\">\n",
              "  <thead>\n",
              "    <tr style=\"text-align: right;\">\n",
              "      <th></th>\n",
              "      <th>satisfaction_level</th>\n",
              "      <th>last_evaluation</th>\n",
              "      <th>number_project</th>\n",
              "      <th>average_montly_hours</th>\n",
              "      <th>time_spend_company</th>\n",
              "      <th>Work_accident</th>\n",
              "      <th>left</th>\n",
              "      <th>promotion_last_5years</th>\n",
              "      <th>Department</th>\n",
              "      <th>salary</th>\n",
              "    </tr>\n",
              "  </thead>\n",
              "  <tbody>\n",
              "    <tr>\n",
              "      <th>0</th>\n",
              "      <td>0.38</td>\n",
              "      <td>0.53</td>\n",
              "      <td>2</td>\n",
              "      <td>157</td>\n",
              "      <td>3</td>\n",
              "      <td>0</td>\n",
              "      <td>1</td>\n",
              "      <td>0</td>\n",
              "      <td>sales</td>\n",
              "      <td>low</td>\n",
              "    </tr>\n",
              "    <tr>\n",
              "      <th>1</th>\n",
              "      <td>0.80</td>\n",
              "      <td>0.86</td>\n",
              "      <td>5</td>\n",
              "      <td>262</td>\n",
              "      <td>6</td>\n",
              "      <td>0</td>\n",
              "      <td>1</td>\n",
              "      <td>0</td>\n",
              "      <td>sales</td>\n",
              "      <td>medium</td>\n",
              "    </tr>\n",
              "    <tr>\n",
              "      <th>2</th>\n",
              "      <td>0.11</td>\n",
              "      <td>0.88</td>\n",
              "      <td>7</td>\n",
              "      <td>272</td>\n",
              "      <td>4</td>\n",
              "      <td>0</td>\n",
              "      <td>1</td>\n",
              "      <td>0</td>\n",
              "      <td>sales</td>\n",
              "      <td>medium</td>\n",
              "    </tr>\n",
              "    <tr>\n",
              "      <th>3</th>\n",
              "      <td>0.72</td>\n",
              "      <td>0.87</td>\n",
              "      <td>5</td>\n",
              "      <td>223</td>\n",
              "      <td>5</td>\n",
              "      <td>0</td>\n",
              "      <td>1</td>\n",
              "      <td>0</td>\n",
              "      <td>sales</td>\n",
              "      <td>low</td>\n",
              "    </tr>\n",
              "    <tr>\n",
              "      <th>4</th>\n",
              "      <td>0.37</td>\n",
              "      <td>0.52</td>\n",
              "      <td>2</td>\n",
              "      <td>159</td>\n",
              "      <td>3</td>\n",
              "      <td>0</td>\n",
              "      <td>1</td>\n",
              "      <td>0</td>\n",
              "      <td>sales</td>\n",
              "      <td>low</td>\n",
              "    </tr>\n",
              "  </tbody>\n",
              "</table>\n",
              "</div>"
            ],
            "text/plain": [
              "   satisfaction_level  last_evaluation  ...  Department  salary\n",
              "0                0.38             0.53  ...       sales     low\n",
              "1                0.80             0.86  ...       sales  medium\n",
              "2                0.11             0.88  ...       sales  medium\n",
              "3                0.72             0.87  ...       sales     low\n",
              "4                0.37             0.52  ...       sales     low\n",
              "\n",
              "[5 rows x 10 columns]"
            ]
          },
          "metadata": {
            "tags": []
          },
          "execution_count": 205
        }
      ]
    },
    {
      "cell_type": "code",
      "metadata": {
        "id": "ctRJjC-K6PNb"
      },
      "source": [
        "left=df_hr[df_hr[\"left\"]==1]"
      ],
      "execution_count": 210,
      "outputs": []
    },
    {
      "cell_type": "code",
      "metadata": {
        "id": "G6nsNLjQ6rrm"
      },
      "source": [
        "retained=df_hr[df_hr[\"left\"]==0]"
      ],
      "execution_count": 211,
      "outputs": []
    },
    {
      "cell_type": "code",
      "metadata": {
        "colab": {
          "base_uri": "https://localhost:8080/",
          "height": 161
        },
        "id": "ixsxhbCD60sW",
        "outputId": "80df9a78-4bb7-44a0-9543-085888077876"
      },
      "source": [
        "df_hr.groupby('left').mean()"
      ],
      "execution_count": 213,
      "outputs": [
        {
          "output_type": "execute_result",
          "data": {
            "text/html": [
              "<div>\n",
              "<style scoped>\n",
              "    .dataframe tbody tr th:only-of-type {\n",
              "        vertical-align: middle;\n",
              "    }\n",
              "\n",
              "    .dataframe tbody tr th {\n",
              "        vertical-align: top;\n",
              "    }\n",
              "\n",
              "    .dataframe thead th {\n",
              "        text-align: right;\n",
              "    }\n",
              "</style>\n",
              "<table border=\"1\" class=\"dataframe\">\n",
              "  <thead>\n",
              "    <tr style=\"text-align: right;\">\n",
              "      <th></th>\n",
              "      <th>satisfaction_level</th>\n",
              "      <th>last_evaluation</th>\n",
              "      <th>number_project</th>\n",
              "      <th>average_montly_hours</th>\n",
              "      <th>time_spend_company</th>\n",
              "      <th>Work_accident</th>\n",
              "      <th>promotion_last_5years</th>\n",
              "    </tr>\n",
              "    <tr>\n",
              "      <th>left</th>\n",
              "      <th></th>\n",
              "      <th></th>\n",
              "      <th></th>\n",
              "      <th></th>\n",
              "      <th></th>\n",
              "      <th></th>\n",
              "      <th></th>\n",
              "    </tr>\n",
              "  </thead>\n",
              "  <tbody>\n",
              "    <tr>\n",
              "      <th>0</th>\n",
              "      <td>0.666810</td>\n",
              "      <td>0.715473</td>\n",
              "      <td>3.786664</td>\n",
              "      <td>199.060203</td>\n",
              "      <td>3.380032</td>\n",
              "      <td>0.175009</td>\n",
              "      <td>0.026251</td>\n",
              "    </tr>\n",
              "    <tr>\n",
              "      <th>1</th>\n",
              "      <td>0.440098</td>\n",
              "      <td>0.718113</td>\n",
              "      <td>3.855503</td>\n",
              "      <td>207.419210</td>\n",
              "      <td>3.876505</td>\n",
              "      <td>0.047326</td>\n",
              "      <td>0.005321</td>\n",
              "    </tr>\n",
              "  </tbody>\n",
              "</table>\n",
              "</div>"
            ],
            "text/plain": [
              "      satisfaction_level  last_evaluation  ...  Work_accident  promotion_last_5years\n",
              "left                                       ...                                      \n",
              "0               0.666810         0.715473  ...       0.175009               0.026251\n",
              "1               0.440098         0.718113  ...       0.047326               0.005321\n",
              "\n",
              "[2 rows x 7 columns]"
            ]
          },
          "metadata": {
            "tags": []
          },
          "execution_count": 213
        }
      ]
    },
    {
      "cell_type": "code",
      "metadata": {
        "colab": {
          "base_uri": "https://localhost:8080/",
          "height": 327
        },
        "id": "O0kTU0a27GYi",
        "outputId": "1c4e06d2-c456-4c66-ae79-c436cfcc2692"
      },
      "source": [
        "pd.crosstab(df_hr.salary,df_hr.left).plot(kind='bar')"
      ],
      "execution_count": 214,
      "outputs": [
        {
          "output_type": "execute_result",
          "data": {
            "text/plain": [
              "<matplotlib.axes._subplots.AxesSubplot at 0x7fdaec3b92e8>"
            ]
          },
          "metadata": {
            "tags": []
          },
          "execution_count": 214
        },
        {
          "output_type": "display_data",
          "data": {
            "image/png": "[encoded data removed]",
            "text/plain": [
              "<Figure size 432x288 with 1 Axes>"
            ]
          },
          "metadata": {
            "tags": [],
            "needs_background": "light"
          }
        }
      ]
    },
    {
      "cell_type": "code",
      "metadata": {
        "colab": {
          "base_uri": "https://localhost:8080/",
          "height": 353
        },
        "id": "Dr_6sUfR7TtY",
        "outputId": "2c2c9758-79e0-4342-baaf-0445c8e7c965"
      },
      "source": [
        "pd.crosstab(df_hr.Department,df_hr.left).plot(kind='bar')"
      ],
      "execution_count": 215,
      "outputs": [
        {
          "output_type": "execute_result",
          "data": {
            "text/plain": [
              "<matplotlib.axes._subplots.AxesSubplot at 0x7fdaec50aeb8>"
            ]
          },
          "metadata": {
            "tags": []
          },
          "execution_count": 215
        },
        {
          "output_type": "display_data",
          "data": {
            "image/png": "[encoded data removed]",
            "text/plain": [
              "<Figure size 432x288 with 1 Axes>"
            ]
          },
          "metadata": {
            "tags": [],
            "needs_background": "light"
          }
        }
      ]
    },
    {
      "cell_type": "code",
      "metadata": {
        "colab": {
          "base_uri": "https://localhost:8080/",
          "height": 237
        },
        "id": "8uBcgZ-GARLB",
        "outputId": "c69a2874-8ff9-4e2f-e735-b7c5a033238e"
      },
      "source": [
        "subdf = df_hr[['satisfaction_level','average_montly_hours','promotion_last_5years','salary']]\n",
        "subdf.head()"
      ],
      "execution_count": 12,
      "outputs": [
        {
          "output_type": "stream",
          "text": [
            "/usr/local/lib/python3.6/dist-packages/IPython/core/formatters.py:338: UserWarning:\n",
            "Lux defaults to Pandas when there are no valid actions defined.\n"
          ],
          "name": "stderr"
        },
        {
          "output_type": "display_data",
          "data": {
            "text/html": [
              "<div>\n",
              "<style scoped>\n",
              "    .dataframe tbody tr th:only-of-type {\n",
              "        vertical-align: middle;\n",
              "    }\n",
              "\n",
              "    .dataframe tbody tr th {\n",
              "        vertical-align: top;\n",
              "    }\n",
              "\n",
              "    .dataframe thead th {\n",
              "        text-align: right;\n",
              "    }\n",
              "</style>\n",
              "<table border=\"1\" class=\"dataframe\">\n",
              "  <thead>\n",
              "    <tr style=\"text-align: right;\">\n",
              "      <th></th>\n",
              "      <th>satisfaction_level</th>\n",
              "      <th>average_montly_hours</th>\n",
              "      <th>promotion_last_5years</th>\n",
              "      <th>salary</th>\n",
              "    </tr>\n",
              "  </thead>\n",
              "  <tbody>\n",
              "    <tr>\n",
              "      <th>0</th>\n",
              "      <td>0.38</td>\n",
              "      <td>157</td>\n",
              "      <td>0</td>\n",
              "      <td>low</td>\n",
              "    </tr>\n",
              "    <tr>\n",
              "      <th>1</th>\n",
              "      <td>0.80</td>\n",
              "      <td>262</td>\n",
              "      <td>0</td>\n",
              "      <td>medium</td>\n",
              "    </tr>\n",
              "    <tr>\n",
              "      <th>2</th>\n",
              "      <td>0.11</td>\n",
              "      <td>272</td>\n",
              "      <td>0</td>\n",
              "      <td>medium</td>\n",
              "    </tr>\n",
              "    <tr>\n",
              "      <th>3</th>\n",
              "      <td>0.72</td>\n",
              "      <td>223</td>\n",
              "      <td>0</td>\n",
              "      <td>low</td>\n",
              "    </tr>\n",
              "    <tr>\n",
              "      <th>4</th>\n",
              "      <td>0.37</td>\n",
              "      <td>159</td>\n",
              "      <td>0</td>\n",
              "      <td>low</td>\n",
              "    </tr>\n",
              "  </tbody>\n",
              "</table>\n",
              "</div>"
            ],
            "text/plain": [
              "   satisfaction_level  average_montly_hours  promotion_last_5years  salary\n",
              "0                0.38                   157                      0     low\n",
              "1                0.80                   262                      0  medium\n",
              "2                0.11                   272                      0  medium\n",
              "3                0.72                   223                      0     low\n",
              "4                0.37                   159                      0     low"
            ]
          },
          "metadata": {
            "tags": []
          }
        },
        {
          "output_type": "execute_result",
          "data": {
            "text/plain": [
              ""
            ]
          },
          "metadata": {
            "tags": []
          },
          "execution_count": 12
        }
      ]
    },
    {
      "cell_type": "code",
      "metadata": {
        "id": "UlJkkhqWAUcv"
      },
      "source": [
        "subdf=pd.get_dummies(subdf,prefix=\"salary\",drop_first=\"True\")"
      ],
      "execution_count": 13,
      "outputs": []
    },
    {
      "cell_type": "code",
      "metadata": {
        "colab": {
          "base_uri": "https://localhost:8080/",
          "height": 49,
          "referenced_widgets": [
            "cae013ace72249baae6cc830ea92c8a1",
            "64c19f50fb614cbabdb3c59da683e6ff",
            "06c6cb9ea8484bd6852cc80a7d958f23",
            "25d4be29b29b40b0b454697695b7910b",
            "427c3ac5e43e49bb9354aa9a49c820fc",
            "c8ff5b51a7e24cba81f0e86f35b333f3"
          ]
        },
        "id": "ePFRnM19AqLg",
        "outputId": "9afda999-9001-4caf-a029-73e86dea4d08"
      },
      "source": [
        "subdf"
      ],
      "execution_count": 14,
      "outputs": [
        {
          "output_type": "display_data",
          "data": {
            "application/vnd.jupyter.widget-view+json": {
              "model_id": "cae013ace72249baae6cc830ea92c8a1",
              "version_minor": 0,
              "version_major": 2
            },
            "text/plain": [
              "Button(description='Toggle Pandas/Lux', layout=Layout(top='5px', width='140px'), style=ButtonStyle())"
            ]
          },
          "metadata": {
            "tags": []
          }
        },
        {
          "output_type": "display_data",
          "data": {
            "application/vnd.jupyter.widget-view+json": {
              "model_id": "25d4be29b29b40b0b454697695b7910b",
              "version_minor": 0,
              "version_major": 2
            },
            "text/plain": [
              "Output()"
            ]
          },
          "metadata": {
            "tags": []
          }
        },
        {
          "output_type": "execute_result",
          "data": {
            "text/plain": [
              ""
            ]
          },
          "metadata": {
            "tags": []
          },
          "execution_count": 14
        }
      ]
    },
    {
      "cell_type": "code",
      "metadata": {
        "id": "pfvl5flkA8Kc"
      },
      "source": [
        "X_train, X_test, y_train, y_test = train_test_split(subdf,df_hr[\"left\"],train_size=0.3)"
      ],
      "execution_count": 53,
      "outputs": []
    },
    {
      "cell_type": "code",
      "metadata": {
        "id": "hdb79zUoBOtN"
      },
      "source": [
        "model_hr_reg=linear_model.LogisticRegression()"
      ],
      "execution_count": 54,
      "outputs": []
    },
    {
      "cell_type": "code",
      "metadata": {
        "id": "pkVNA1AFBOkX"
      },
      "source": [
        "model_hr=model_hr_reg.fit(X_train,y_train)"
      ],
      "execution_count": 55,
      "outputs": []
    },
    {
      "cell_type": "code",
      "metadata": {
        "colab": {
          "base_uri": "https://localhost:8080/"
        },
        "id": "I5LPhrGfBbt0",
        "outputId": "ba0e799f-a35a-4611-a9f1-c6f91ec76c63"
      },
      "source": [
        "model_hr.predict(X_test)"
      ],
      "execution_count": 19,
      "outputs": [
        {
          "output_type": "execute_result",
          "data": {
            "text/plain": [
              "array([0, 0, 1, ..., 0, 0, 0])"
            ]
          },
          "metadata": {
            "tags": []
          },
          "execution_count": 19
        }
      ]
    },
    {
      "cell_type": "code",
      "metadata": {
        "colab": {
          "base_uri": "https://localhost:8080/"
        },
        "id": "LNqb1WGgBknF",
        "outputId": "c52c2cbd-5461-4c7d-f768-776f59e66caf"
      },
      "source": [
        "\n",
        "model_hr.score(X_test,y_test)"
      ],
      "execution_count": 21,
      "outputs": [
        {
          "output_type": "execute_result",
          "data": {
            "text/plain": [
              "0.7753333333333333"
            ]
          },
          "metadata": {
            "tags": []
          },
          "execution_count": 21
        }
      ]
    },
    {
      "cell_type": "code",
      "metadata": {
        "id": "K9aHJgSWBpX3"
      },
      "source": [
        "y_predicted=model_hr.predict(X_test)"
      ],
      "execution_count": 58,
      "outputs": []
    },
    {
      "cell_type": "code",
      "metadata": {
        "id": "YHVq2nqzP_D4"
      },
      "source": [
        "from sklearn.metrics import confusion_matrix\n",
        "from sklearn.metrics import plot_confusion_matrix\n",
        "from sklearn.metrics imp\n",
        "\n",
        "plot_confusion_matrix(model_hr, X_test, y_test)\n"
      ],
      "execution_count": null,
      "outputs": []
    },
    {
      "cell_type": "markdown",
      "metadata": {
        "id": "Sk1w9EsnBrz8"
      },
      "source": [
        "# Multi class logistic"
      ]
    },
    {
      "cell_type": "code",
      "metadata": {
        "id": "f2EmAa2rB95c"
      },
      "source": [
        "from sklearn.datasets import load_digits\n"
      ],
      "execution_count": 22,
      "outputs": []
    },
    {
      "cell_type": "code",
      "metadata": {
        "colab": {
          "base_uri": "https://localhost:8080/"
        },
        "id": "xnh3NYXOCLjf",
        "outputId": "908706b8-148b-4d65-c72b-5a5a41c04dda"
      },
      "source": [
        "dir(load_digits)"
      ],
      "execution_count": 23,
      "outputs": [
        {
          "output_type": "execute_result",
          "data": {
            "text/plain": [
              "['__annotations__',\n",
              " '__call__',\n",
              " '__class__',\n",
              " '__closure__',\n",
              " '__code__',\n",
              " '__defaults__',\n",
              " '__delattr__',\n",
              " '__dict__',\n",
              " '__dir__',\n",
              " '__doc__',\n",
              " '__eq__',\n",
              " '__format__',\n",
              " '__ge__',\n",
              " '__get__',\n",
              " '__getattribute__',\n",
              " '__globals__',\n",
              " '__gt__',\n",
              " '__hash__',\n",
              " '__init__',\n",
              " '__init_subclass__',\n",
              " '__kwdefaults__',\n",
              " '__le__',\n",
              " '__lt__',\n",
              " '__module__',\n",
              " '__name__',\n",
              " '__ne__',\n",
              " '__new__',\n",
              " '__qualname__',\n",
              " '__reduce__',\n",
              " '__reduce_ex__',\n",
              " '__repr__',\n",
              " '__setattr__',\n",
              " '__sizeof__',\n",
              " '__str__',\n",
              " '__subclasshook__']"
            ]
          },
          "metadata": {
            "tags": []
          },
          "execution_count": 23
        }
      ]
    },
    {
      "cell_type": "code",
      "metadata": {
        "id": "rncvnlLCCQNm"
      },
      "source": [
        "digits = load_digits()"
      ],
      "execution_count": 24,
      "outputs": []
    },
    {
      "cell_type": "code",
      "metadata": {
        "colab": {
          "base_uri": "https://localhost:8080/"
        },
        "id": "yz4r2LyfCR3A",
        "outputId": "13658a52-050d-4747-f6a3-99e090798652"
      },
      "source": [
        "dir(digits)"
      ],
      "execution_count": 25,
      "outputs": [
        {
          "output_type": "execute_result",
          "data": {
            "text/plain": [
              "['DESCR', 'data', 'images', 'target', 'target_names']"
            ]
          },
          "metadata": {
            "tags": []
          },
          "execution_count": 25
        }
      ]
    },
    {
      "cell_type": "code",
      "metadata": {
        "id": "5hlP1lnvCUsi"
      },
      "source": [
        "for i in range(5):\n",
        "  plt.matshow(digits.images[i])"
      ],
      "execution_count": null,
      "outputs": []
    },
    {
      "cell_type": "code",
      "metadata": {
        "colab": {
          "base_uri": "https://localhost:8080/"
        },
        "id": "jzCoefsICpGF",
        "outputId": "ca597124-d887-41dd-af3f-08ffd93213eb"
      },
      "source": [
        "digits.data[0]"
      ],
      "execution_count": 28,
      "outputs": [
        {
          "output_type": "execute_result",
          "data": {
            "text/plain": [
              "array([ 0.,  0.,  5., 13.,  9.,  1.,  0.,  0.,  0.,  0., 13., 15., 10.,\n",
              "       15.,  5.,  0.,  0.,  3., 15.,  2.,  0., 11.,  8.,  0.,  0.,  4.,\n",
              "       12.,  0.,  0.,  8.,  8.,  0.,  0.,  5.,  8.,  0.,  0.,  9.,  8.,\n",
              "        0.,  0.,  4., 11.,  0.,  1., 12.,  7.,  0.,  0.,  2., 14.,  5.,\n",
              "       10., 12.,  0.,  0.,  0.,  0.,  6., 13., 10.,  0.,  0.,  0.])"
            ]
          },
          "metadata": {
            "tags": []
          },
          "execution_count": 28
        }
      ]
    },
    {
      "cell_type": "code",
      "metadata": {
        "id": "9wCixUJJNwFI"
      },
      "source": [
        "from sklearn import preprocessing"
      ],
      "execution_count": 30,
      "outputs": []
    },
    {
      "cell_type": "code",
      "metadata": {
        "id": "Px37K8PLNxue"
      },
      "source": [
        "X_scaled = preprocessing.scale(digits.data)\n",
        "X_scaled[0]"
      ],
      "execution_count": null,
      "outputs": []
    },
    {
      "cell_type": "code",
      "metadata": {
        "id": "T0Gj4X8LM3MF"
      },
      "source": [
        "X_train, X_test, y_train, y_test = train_test_split(X_scaled,digits.target, test_size=0.2)\n",
        "model_digits_reg=linear_model.LogisticRegression();\n",
        "model_digits=model_digits_reg.fit(X_train,y_train)"
      ],
      "execution_count": 34,
      "outputs": []
    },
    {
      "cell_type": "code",
      "metadata": {
        "id": "VL_IEGkoOO7h"
      },
      "source": [
        "p=model_digits.predict([X_scaled[]])"
      ],
      "execution_count": 45,
      "outputs": []
    },
    {
      "cell_type": "code",
      "metadata": {
        "colab": {
          "base_uri": "https://localhost:8080/"
        },
        "id": "9wA-RlKpOfF9",
        "outputId": "9f15191a-c06b-49f7-cfa2-403f18d78d27"
      },
      "source": [
        "p[0]"
      ],
      "execution_count": 39,
      "outputs": [
        {
          "output_type": "execute_result",
          "data": {
            "text/plain": [
              "0"
            ]
          },
          "metadata": {
            "tags": []
          },
          "execution_count": 39
        }
      ]
    },
    {
      "cell_type": "code",
      "metadata": {
        "colab": {
          "base_uri": "https://localhost:8080/"
        },
        "id": "3Ud6DVYTPJuf",
        "outputId": "e158e9de-95df-45e0-91cc-0f661d0c9e09"
      },
      "source": [
        "model_digits.score(X_train, y_train)"
      ],
      "execution_count": 48,
      "outputs": [
        {
          "output_type": "execute_result",
          "data": {
            "text/plain": [
              "0.9986082115518441"
            ]
          },
          "metadata": {
            "tags": []
          },
          "execution_count": 48
        }
      ]
    },
    {
      "cell_type": "code",
      "metadata": {
        "id": "PmH_0d_JPTKV"
      },
      "source": [
        "y_predicted = model_digits.predict(X_test)"
      ],
      "execution_count": 50,
      "outputs": []
    },
    {
      "cell_type": "code",
      "metadata": {
        "colab": {
          "base_uri": "https://localhost:8080/"
        },
        "id": "6AUsnONEPcwW",
        "outputId": "1a58c474-8d38-4fc2-9b07-404c1ac0ed78"
      },
      "source": [
        "from sklearn.metrics import confusion_matrix\n",
        "cm = confusion_matrix(y_test, y_predicted)\n",
        "cm"
      ],
      "execution_count": 51,
      "outputs": [
        {
          "output_type": "execute_result",
          "data": {
            "text/plain": [
              "array([[27,  0,  0,  0,  0,  0,  0,  0,  0,  0],\n",
              "       [ 0, 44,  0,  0,  0,  0,  0,  0,  0,  1],\n",
              "       [ 0,  0, 30,  0,  0,  0,  0,  0,  0,  0],\n",
              "       [ 0,  0,  0, 40,  0,  0,  0,  0,  0,  0],\n",
              "       [ 0,  0,  0,  0, 31,  0,  0,  1,  0,  0],\n",
              "       [ 0,  0,  0,  1,  0, 40,  0,  0,  0,  2],\n",
              "       [ 0,  0,  0,  0,  0,  0, 35,  0,  0,  0],\n",
              "       [ 0,  0,  0,  0,  0,  0,  0, 36,  0,  1],\n",
              "       [ 0,  1,  0,  0,  0,  0,  0,  0, 33,  0],\n",
              "       [ 0,  0,  0,  0,  0,  1,  0,  0,  0, 36]])"
            ]
          },
          "metadata": {
            "tags": []
          },
          "execution_count": 51
        }
      ]
    },
    {
      "cell_type": "code",
      "metadata": {
        "colab": {
          "base_uri": "https://localhost:8080/",
          "height": 459
        },
        "id": "YRvREXaLPjU8",
        "outputId": "504ac779-bd66-4b59-8720-cf6b40a8caea"
      },
      "source": [
        "import seaborn as sn\n",
        "plt.figure(figsize = (10,7))\n",
        "sn.heatmap(cm, annot=True)\n",
        "plt.xlabel('Predicted')\n",
        "plt.ylabel('Truth')"
      ],
      "execution_count": 52,
      "outputs": [
        {
          "output_type": "execute_result",
          "data": {
            "text/plain": [
              "Text(69.0, 0.5, 'Truth')"
            ]
          },
          "metadata": {
            "tags": []
          },
          "execution_count": 52
        },
        {
          "output_type": "display_data",
          "data": {
            "image/png": "[encoded data removed]",
            "text/plain": [
              "<Figure size 720x504 with 2 Axes>"
            ]
          },
          "metadata": {
            "tags": [],
            "needs_background": "light"
          }
        }
      ]
    },
    {
      "cell_type": "markdown",
      "metadata": {
        "id": "p6TC_1lGSamp"
      },
      "source": [
        "# Exercise logistic"
      ]
    },
    {
      "cell_type": "code",
      "metadata": {
        "id": "BK_QgPhPSeK7"
      },
      "source": [
        "from sklearn.datasets import load_iris"
      ],
      "execution_count": 2,
      "outputs": []
    },
    {
      "cell_type": "code",
      "metadata": {
        "id": "BivvdRPySj3p"
      },
      "source": [
        "iris=load_iris()"
      ],
      "execution_count": 3,
      "outputs": []
    },
    {
      "cell_type": "code",
      "metadata": {
        "colab": {
          "base_uri": "https://localhost:8080/"
        },
        "id": "yQXg2yjHSnZl",
        "outputId": "35810a94-e0a1-424e-9090-e319796d3071"
      },
      "source": [
        "dir(iris)"
      ],
      "execution_count": 4,
      "outputs": [
        {
          "output_type": "execute_result",
          "data": {
            "text/plain": [
              "['DESCR', 'data', 'feature_names', 'filename', 'target', 'target_names']"
            ]
          },
          "metadata": {
            "tags": []
          },
          "execution_count": 4
        }
      ]
    },
    {
      "cell_type": "code",
      "metadata": {
        "id": "E6ZPXqu0Spgu"
      },
      "source": [
        "df_iris=iris.data"
      ],
      "execution_count": 5,
      "outputs": []
    },
    {
      "cell_type": "code",
      "metadata": {
        "id": "Rdnh9D2JSwxp"
      },
      "source": [
        "df_iris."
      ],
      "execution_count": null,
      "outputs": []
    },
    {
      "cell_type": "code",
      "metadata": {
        "id": "JQbKhdbyTSmq"
      },
      "source": [
        "df_iris = pd.DataFrame(df_iris)"
      ],
      "execution_count": 6,
      "outputs": []
    },
    {
      "cell_type": "code",
      "metadata": {
        "id": "Iamr-4o5TZcK"
      },
      "source": [
        "df_iris"
      ],
      "execution_count": null,
      "outputs": []
    },
    {
      "cell_type": "code",
      "metadata": {
        "colab": {
          "base_uri": "https://localhost:8080/"
        },
        "id": "WGXlRLdWTiJr",
        "outputId": "e3c1eea9-80ae-4320-c051-37dd09899d31"
      },
      "source": [
        "iris.feature_names"
      ],
      "execution_count": 7,
      "outputs": [
        {
          "output_type": "execute_result",
          "data": {
            "text/plain": [
              "['sepal length (cm)',\n",
              " 'sepal width (cm)',\n",
              " 'petal length (cm)',\n",
              " 'petal width (cm)']"
            ]
          },
          "metadata": {
            "tags": []
          },
          "execution_count": 7
        }
      ]
    },
    {
      "cell_type": "code",
      "metadata": {
        "id": "rhuBut3nTos9"
      },
      "source": [
        "df_iris.columns =iris.feature_names"
      ],
      "execution_count": 8,
      "outputs": []
    },
    {
      "cell_type": "code",
      "metadata": {
        "colab": {
          "base_uri": "https://localhost:8080/",
          "height": 202
        },
        "id": "c2FWZ9v9T3CU",
        "outputId": "adb4ab31-7fcd-4197-8c44-b612a6241d0a"
      },
      "source": [
        "df_iris.head()"
      ],
      "execution_count": 26,
      "outputs": [
        {
          "output_type": "execute_result",
          "data": {
            "text/html": [
              "<div>\n",
              "<style scoped>\n",
              "    .dataframe tbody tr th:only-of-type {\n",
              "        vertical-align: middle;\n",
              "    }\n",
              "\n",
              "    .dataframe tbody tr th {\n",
              "        vertical-align: top;\n",
              "    }\n",
              "\n",
              "    .dataframe thead th {\n",
              "        text-align: right;\n",
              "    }\n",
              "</style>\n",
              "<table border=\"1\" class=\"dataframe\">\n",
              "  <thead>\n",
              "    <tr style=\"text-align: right;\">\n",
              "      <th></th>\n",
              "      <th>sepal length (cm)</th>\n",
              "      <th>sepal width (cm)</th>\n",
              "      <th>petal length (cm)</th>\n",
              "      <th>petal width (cm)</th>\n",
              "    </tr>\n",
              "  </thead>\n",
              "  <tbody>\n",
              "    <tr>\n",
              "      <th>0</th>\n",
              "      <td>5.1</td>\n",
              "      <td>3.5</td>\n",
              "      <td>1.4</td>\n",
              "      <td>0.2</td>\n",
              "    </tr>\n",
              "    <tr>\n",
              "      <th>1</th>\n",
              "      <td>4.9</td>\n",
              "      <td>3.0</td>\n",
              "      <td>1.4</td>\n",
              "      <td>0.2</td>\n",
              "    </tr>\n",
              "    <tr>\n",
              "      <th>2</th>\n",
              "      <td>4.7</td>\n",
              "      <td>3.2</td>\n",
              "      <td>1.3</td>\n",
              "      <td>0.2</td>\n",
              "    </tr>\n",
              "    <tr>\n",
              "      <th>3</th>\n",
              "      <td>4.6</td>\n",
              "      <td>3.1</td>\n",
              "      <td>1.5</td>\n",
              "      <td>0.2</td>\n",
              "    </tr>\n",
              "    <tr>\n",
              "      <th>4</th>\n",
              "      <td>5.0</td>\n",
              "      <td>3.6</td>\n",
              "      <td>1.4</td>\n",
              "      <td>0.2</td>\n",
              "    </tr>\n",
              "  </tbody>\n",
              "</table>\n",
              "</div>"
            ],
            "text/plain": [
              "   sepal length (cm)  sepal width (cm)  petal length (cm)  petal width (cm)\n",
              "0                5.1               3.5                1.4               0.2\n",
              "1                4.9               3.0                1.4               0.2\n",
              "2                4.7               3.2                1.3               0.2\n",
              "3                4.6               3.1                1.5               0.2\n",
              "4                5.0               3.6                1.4               0.2"
            ]
          },
          "metadata": {
            "tags": []
          },
          "execution_count": 26
        }
      ]
    },
    {
      "cell_type": "code",
      "metadata": {
        "colab": {
          "base_uri": "https://localhost:8080/"
        },
        "id": "WJOAcfOkT7RO",
        "outputId": "61f07fb6-fca0-4265-8e6d-a79ce864fbd5"
      },
      "source": [
        "type(iris.target_names)"
      ],
      "execution_count": 80,
      "outputs": [
        {
          "output_type": "execute_result",
          "data": {
            "text/plain": [
              "numpy.ndarray"
            ]
          },
          "metadata": {
            "tags": []
          },
          "execution_count": 80
        }
      ]
    },
    {
      "cell_type": "code",
      "metadata": {
        "id": "hjgmgTr4UFev"
      },
      "source": [
        "df_iris_target = pd.DataFrame(iris.target)"
      ],
      "execution_count": 9,
      "outputs": []
    },
    {
      "cell_type": "code",
      "metadata": {
        "colab": {
          "base_uri": "https://localhost:8080/",
          "height": 415
        },
        "id": "0iRG9jbsUMoG",
        "outputId": "9993bc53-51ba-4f0a-863c-2c0992c9253a"
      },
      "source": [
        "df_iris_target"
      ],
      "execution_count": 25,
      "outputs": [
        {
          "output_type": "execute_result",
          "data": {
            "text/html": [
              "<div>\n",
              "<style scoped>\n",
              "    .dataframe tbody tr th:only-of-type {\n",
              "        vertical-align: middle;\n",
              "    }\n",
              "\n",
              "    .dataframe tbody tr th {\n",
              "        vertical-align: top;\n",
              "    }\n",
              "\n",
              "    .dataframe thead th {\n",
              "        text-align: right;\n",
              "    }\n",
              "</style>\n",
              "<table border=\"1\" class=\"dataframe\">\n",
              "  <thead>\n",
              "    <tr style=\"text-align: right;\">\n",
              "      <th></th>\n",
              "      <th>target</th>\n",
              "    </tr>\n",
              "  </thead>\n",
              "  <tbody>\n",
              "    <tr>\n",
              "      <th>0</th>\n",
              "      <td>0</td>\n",
              "    </tr>\n",
              "    <tr>\n",
              "      <th>1</th>\n",
              "      <td>0</td>\n",
              "    </tr>\n",
              "    <tr>\n",
              "      <th>2</th>\n",
              "      <td>0</td>\n",
              "    </tr>\n",
              "    <tr>\n",
              "      <th>3</th>\n",
              "      <td>0</td>\n",
              "    </tr>\n",
              "    <tr>\n",
              "      <th>4</th>\n",
              "      <td>0</td>\n",
              "    </tr>\n",
              "    <tr>\n",
              "      <th>...</th>\n",
              "      <td>...</td>\n",
              "    </tr>\n",
              "    <tr>\n",
              "      <th>145</th>\n",
              "      <td>2</td>\n",
              "    </tr>\n",
              "    <tr>\n",
              "      <th>146</th>\n",
              "      <td>2</td>\n",
              "    </tr>\n",
              "    <tr>\n",
              "      <th>147</th>\n",
              "      <td>2</td>\n",
              "    </tr>\n",
              "    <tr>\n",
              "      <th>148</th>\n",
              "      <td>2</td>\n",
              "    </tr>\n",
              "    <tr>\n",
              "      <th>149</th>\n",
              "      <td>2</td>\n",
              "    </tr>\n",
              "  </tbody>\n",
              "</table>\n",
              "<p>150 rows × 1 columns</p>\n",
              "</div>"
            ],
            "text/plain": [
              "     target\n",
              "0         0\n",
              "1         0\n",
              "2         0\n",
              "3         0\n",
              "4         0\n",
              "..      ...\n",
              "145       2\n",
              "146       2\n",
              "147       2\n",
              "148       2\n",
              "149       2\n",
              "\n",
              "[150 rows x 1 columns]"
            ]
          },
          "metadata": {
            "tags": []
          },
          "execution_count": 25
        }
      ]
    },
    {
      "cell_type": "code",
      "metadata": {
        "id": "5NtJqc28U2A0"
      },
      "source": [
        "df_iris_target.columns=[\"target\"]"
      ],
      "execution_count": 10,
      "outputs": []
    },
    {
      "cell_type": "code",
      "metadata": {
        "id": "daP144bwURTp"
      },
      "source": [
        "X_train, X_test, y_train, y_test = train_test_split(df_iris,df_iris_target[\"target\"], test_size=0.2)"
      ],
      "execution_count": 21,
      "outputs": []
    },
    {
      "cell_type": "code",
      "metadata": {
        "id": "GX7yG60MVIFB"
      },
      "source": [
        "model_iris_reg=linear_model.LogisticRegression()\n",
        "model_iris=model_iris_reg.fit(X_train,y_train)"
      ],
      "execution_count": 22,
      "outputs": []
    },
    {
      "cell_type": "code",
      "metadata": {
        "id": "dy8XxpxOVUoM"
      },
      "source": [
        "y_predict=model_iris.predict(X_test)"
      ],
      "execution_count": 23,
      "outputs": []
    },
    {
      "cell_type": "code",
      "metadata": {
        "id": "kXGX0jKVWXj-"
      },
      "source": [
        "from sklearn.metrics import confusion_matrix"
      ],
      "execution_count": 17,
      "outputs": []
    },
    {
      "cell_type": "code",
      "metadata": {
        "colab": {
          "base_uri": "https://localhost:8080/"
        },
        "id": "BXXbg024VcDS",
        "outputId": "0bd632d7-d43a-4f38-d27e-a87a0f366c3d"
      },
      "source": [
        "cm = confusion_matrix(y_test, y_predict)\n",
        "cm"
      ],
      "execution_count": 24,
      "outputs": [
        {
          "output_type": "execute_result",
          "data": {
            "text/plain": [
              "array([[ 8,  0,  0],\n",
              "       [ 0, 13,  0],\n",
              "       [ 0,  0,  9]])"
            ]
          },
          "metadata": {
            "tags": []
          },
          "execution_count": 24
        }
      ]
    },
    {
      "cell_type": "code",
      "metadata": {
        "colab": {
          "base_uri": "https://localhost:8080/",
          "height": 297
        },
        "id": "_Gd3lKLyWo68",
        "outputId": "f7acfb49-5730-4065-a363-9d7714aeeaf2"
      },
      "source": [
        "from sklearn.metrics import plot_confusion_matrix\n",
        "\n",
        "\n",
        "plot_confusion_matrix(model_iris, X_test, y_test)"
      ],
      "execution_count": 19,
      "outputs": [
        {
          "output_type": "execute_result",
          "data": {
            "text/plain": [
              "<sklearn.metrics._plot.confusion_matrix.ConfusionMatrixDisplay at 0x7fe3b7649080>"
            ]
          },
          "metadata": {
            "tags": []
          },
          "execution_count": 19
        },
        {
          "output_type": "display_data",
          "data": {
            "image/png": "[encoded data removed]",
            "text/plain": [
              "<Figure size 432x288 with 2 Axes>"
            ]
          },
          "metadata": {
            "tags": [],
            "needs_background": "light"
          }
        }
      ]
    },
    {
      "cell_type": "code",
      "metadata": {
        "colab": {
          "base_uri": "https://localhost:8080/"
        },
        "id": "dlNwt3ZBW2tW",
        "outputId": "03223386-145d-4bd3-af12-a2381942d32f"
      },
      "source": [
        "model_iris.score( X_test, y_test)"
      ],
      "execution_count": 20,
      "outputs": [
        {
          "output_type": "execute_result",
          "data": {
            "text/plain": [
              "1.0"
            ]
          },
          "metadata": {
            "tags": []
          },
          "execution_count": 20
        }
      ]
    },
    {
      "cell_type": "code",
      "metadata": {
        "id": "PAbqQfXLZ3cC"
      },
      "source": [
        "df_dt =pd.read_csv(\"/content/sample_data/alldata/salary_dt.csv\")"
      ],
      "execution_count": 27,
      "outputs": []
    },
    {
      "cell_type": "code",
      "metadata": {
        "colab": {
          "base_uri": "https://localhost:8080/",
          "height": 202
        },
        "id": "agRQJRhEabbq",
        "outputId": "56cc75fe-c95b-4e1a-b11b-de1f9201e01d"
      },
      "source": [
        "df_dt.head()"
      ],
      "execution_count": 28,
      "outputs": [
        {
          "output_type": "execute_result",
          "data": {
            "text/html": [
              "<div>\n",
              "<style scoped>\n",
              "    .dataframe tbody tr th:only-of-type {\n",
              "        vertical-align: middle;\n",
              "    }\n",
              "\n",
              "    .dataframe tbody tr th {\n",
              "        vertical-align: top;\n",
              "    }\n",
              "\n",
              "    .dataframe thead th {\n",
              "        text-align: right;\n",
              "    }\n",
              "</style>\n",
              "<table border=\"1\" class=\"dataframe\">\n",
              "  <thead>\n",
              "    <tr style=\"text-align: right;\">\n",
              "      <th></th>\n",
              "      <th>company</th>\n",
              "      <th>job</th>\n",
              "      <th>degree</th>\n",
              "      <th>salary_more_then_100k</th>\n",
              "    </tr>\n",
              "  </thead>\n",
              "  <tbody>\n",
              "    <tr>\n",
              "      <th>0</th>\n",
              "      <td>google</td>\n",
              "      <td>sales executive</td>\n",
              "      <td>bachelors</td>\n",
              "      <td>0</td>\n",
              "    </tr>\n",
              "    <tr>\n",
              "      <th>1</th>\n",
              "      <td>google</td>\n",
              "      <td>sales executive</td>\n",
              "      <td>masters</td>\n",
              "      <td>0</td>\n",
              "    </tr>\n",
              "    <tr>\n",
              "      <th>2</th>\n",
              "      <td>google</td>\n",
              "      <td>business manager</td>\n",
              "      <td>bachelors</td>\n",
              "      <td>1</td>\n",
              "    </tr>\n",
              "    <tr>\n",
              "      <th>3</th>\n",
              "      <td>google</td>\n",
              "      <td>business manager</td>\n",
              "      <td>masters</td>\n",
              "      <td>1</td>\n",
              "    </tr>\n",
              "    <tr>\n",
              "      <th>4</th>\n",
              "      <td>google</td>\n",
              "      <td>computer programmer</td>\n",
              "      <td>bachelors</td>\n",
              "      <td>0</td>\n",
              "    </tr>\n",
              "  </tbody>\n",
              "</table>\n",
              "</div>"
            ],
            "text/plain": [
              "  company                  job     degree  salary_more_then_100k\n",
              "0  google      sales executive  bachelors                      0\n",
              "1  google      sales executive    masters                      0\n",
              "2  google     business manager  bachelors                      1\n",
              "3  google     business manager    masters                      1\n",
              "4  google  computer programmer  bachelors                      0"
            ]
          },
          "metadata": {
            "tags": []
          },
          "execution_count": 28
        }
      ]
    },
    {
      "cell_type": "code",
      "metadata": {
        "id": "Zz7cOw4DafWB"
      },
      "source": [
        "from sklearn.tree import DecisionTreeClassifier"
      ],
      "execution_count": 43,
      "outputs": []
    },
    {
      "cell_type": "code",
      "metadata": {
        "id": "EpqYQ65hawSt"
      },
      "source": [
        "model_dt_reg=DecisionTreeClassifier()"
      ],
      "execution_count": 31,
      "outputs": []
    },
    {
      "cell_type": "code",
      "metadata": {
        "id": "XxF8yIAha8Bb"
      },
      "source": [
        "from sklearn.preprocessing import LabelEncoder\n",
        "\n",
        "le_company = LabelEncoder()\n",
        "le_job = LabelEncoder()\n",
        "le_degree = LabelEncoder()\n"
      ],
      "execution_count": 34,
      "outputs": []
    },
    {
      "cell_type": "code",
      "metadata": {
        "id": "hjFS74t1b0HK"
      },
      "source": [
        "df_dt['company_n'] = le_company.fit_transform(df_dt['company'])\n",
        "df_dt['job_n'] = le_job.fit_transform(df_dt['job'])\n",
        "df_dt['degree_n'] = le_degree.fit_transform(df_dt['degree'])"
      ],
      "execution_count": 36,
      "outputs": []
    },
    {
      "cell_type": "code",
      "metadata": {
        "colab": {
          "base_uri": "https://localhost:8080/",
          "height": 202
        },
        "id": "BFBjiCSfcA3K",
        "outputId": "e9c177f8-a831-4534-f28f-bca2ba118923"
      },
      "source": [
        "df_dt.head()"
      ],
      "execution_count": 37,
      "outputs": [
        {
          "output_type": "execute_result",
          "data": {
            "text/html": [
              "<div>\n",
              "<style scoped>\n",
              "    .dataframe tbody tr th:only-of-type {\n",
              "        vertical-align: middle;\n",
              "    }\n",
              "\n",
              "    .dataframe tbody tr th {\n",
              "        vertical-align: top;\n",
              "    }\n",
              "\n",
              "    .dataframe thead th {\n",
              "        text-align: right;\n",
              "    }\n",
              "</style>\n",
              "<table border=\"1\" class=\"dataframe\">\n",
              "  <thead>\n",
              "    <tr style=\"text-align: right;\">\n",
              "      <th></th>\n",
              "      <th>company</th>\n",
              "      <th>job</th>\n",
              "      <th>degree</th>\n",
              "      <th>salary_more_then_100k</th>\n",
              "      <th>company_n</th>\n",
              "      <th>job_n</th>\n",
              "      <th>degree_n</th>\n",
              "    </tr>\n",
              "  </thead>\n",
              "  <tbody>\n",
              "    <tr>\n",
              "      <th>0</th>\n",
              "      <td>google</td>\n",
              "      <td>sales executive</td>\n",
              "      <td>bachelors</td>\n",
              "      <td>0</td>\n",
              "      <td>2</td>\n",
              "      <td>2</td>\n",
              "      <td>0</td>\n",
              "    </tr>\n",
              "    <tr>\n",
              "      <th>1</th>\n",
              "      <td>google</td>\n",
              "      <td>sales executive</td>\n",
              "      <td>masters</td>\n",
              "      <td>0</td>\n",
              "      <td>2</td>\n",
              "      <td>2</td>\n",
              "      <td>1</td>\n",
              "    </tr>\n",
              "    <tr>\n",
              "      <th>2</th>\n",
              "      <td>google</td>\n",
              "      <td>business manager</td>\n",
              "      <td>bachelors</td>\n",
              "      <td>1</td>\n",
              "      <td>2</td>\n",
              "      <td>0</td>\n",
              "      <td>0</td>\n",
              "    </tr>\n",
              "    <tr>\n",
              "      <th>3</th>\n",
              "      <td>google</td>\n",
              "      <td>business manager</td>\n",
              "      <td>masters</td>\n",
              "      <td>1</td>\n",
              "      <td>2</td>\n",
              "      <td>0</td>\n",
              "      <td>1</td>\n",
              "    </tr>\n",
              "    <tr>\n",
              "      <th>4</th>\n",
              "      <td>google</td>\n",
              "      <td>computer programmer</td>\n",
              "      <td>bachelors</td>\n",
              "      <td>0</td>\n",
              "      <td>2</td>\n",
              "      <td>1</td>\n",
              "      <td>0</td>\n",
              "    </tr>\n",
              "  </tbody>\n",
              "</table>\n",
              "</div>"
            ],
            "text/plain": [
              "  company                  job     degree  ...  company_n  job_n  degree_n\n",
              "0  google      sales executive  bachelors  ...          2      2         0\n",
              "1  google      sales executive    masters  ...          2      2         1\n",
              "2  google     business manager  bachelors  ...          2      0         0\n",
              "3  google     business manager    masters  ...          2      0         1\n",
              "4  google  computer programmer  bachelors  ...          2      1         0\n",
              "\n",
              "[5 rows x 7 columns]"
            ]
          },
          "metadata": {
            "tags": []
          },
          "execution_count": 37
        }
      ]
    },
    {
      "cell_type": "code",
      "metadata": {
        "id": "H_QT7v6TcD9h"
      },
      "source": [
        "X=df_dt[[\"company_n\",\t\"job_n\",\t\"degree_n\"]]"
      ],
      "execution_count": 38,
      "outputs": []
    },
    {
      "cell_type": "code",
      "metadata": {
        "id": "6a3-UstAcOcQ"
      },
      "source": [
        "y=df_dt[\"salary_more_then_100k\"]"
      ],
      "execution_count": 39,
      "outputs": []
    },
    {
      "cell_type": "code",
      "metadata": {
        "id": "Ll6-RWWjcTHb"
      },
      "source": [
        "model_dt_reg=DecisionTreeClassifier()\n",
        "model_dt=model_dt_reg.fit(X,y)"
      ],
      "execution_count": 41,
      "outputs": []
    },
    {
      "cell_type": "markdown",
      "metadata": {
        "id": "pkH-kM28udr7"
      },
      "source": [
        "# Exercise dession tree\n"
      ]
    },
    {
      "cell_type": "code",
      "metadata": {
        "id": "eAw8pVVBui6-"
      },
      "source": [
        "df_titanic=pd.read_csv(\"/content/sample_data/alldata/titanic.csv\")"
      ],
      "execution_count": 48,
      "outputs": []
    },
    {
      "cell_type": "code",
      "metadata": {
        "colab": {
          "base_uri": "https://localhost:8080/",
          "height": 254
        },
        "id": "WEvPqlovu5Rk",
        "outputId": "42c38c7a-d506-49f6-f0c1-19cefd3ffc07"
      },
      "source": [
        "df_titanic.head()"
      ],
      "execution_count": 51,
      "outputs": [
        {
          "output_type": "execute_result",
          "data": {
            "text/html": [
              "<div>\n",
              "<style scoped>\n",
              "    .dataframe tbody tr th:only-of-type {\n",
              "        vertical-align: middle;\n",
              "    }\n",
              "\n",
              "    .dataframe tbody tr th {\n",
              "        vertical-align: top;\n",
              "    }\n",
              "\n",
              "    .dataframe thead th {\n",
              "        text-align: right;\n",
              "    }\n",
              "</style>\n",
              "<table border=\"1\" class=\"dataframe\">\n",
              "  <thead>\n",
              "    <tr style=\"text-align: right;\">\n",
              "      <th></th>\n",
              "      <th>PassengerId</th>\n",
              "      <th>Survived</th>\n",
              "      <th>Pclass</th>\n",
              "      <th>Name</th>\n",
              "      <th>Sex</th>\n",
              "      <th>Age</th>\n",
              "      <th>SibSp</th>\n",
              "      <th>Parch</th>\n",
              "      <th>Ticket</th>\n",
              "      <th>Fare</th>\n",
              "      <th>Cabin</th>\n",
              "      <th>Embarked</th>\n",
              "    </tr>\n",
              "  </thead>\n",
              "  <tbody>\n",
              "    <tr>\n",
              "      <th>0</th>\n",
              "      <td>1</td>\n",
              "      <td>0</td>\n",
              "      <td>3</td>\n",
              "      <td>Braund, Mr. Owen Harris</td>\n",
              "      <td>male</td>\n",
              "      <td>22.0</td>\n",
              "      <td>1</td>\n",
              "      <td>0</td>\n",
              "      <td>A/5 21171</td>\n",
              "      <td>7.2500</td>\n",
              "      <td>NaN</td>\n",
              "      <td>S</td>\n",
              "    </tr>\n",
              "    <tr>\n",
              "      <th>1</th>\n",
              "      <td>2</td>\n",
              "      <td>1</td>\n",
              "      <td>1</td>\n",
              "      <td>Cumings, Mrs. John Bradley (Florence Briggs Th...</td>\n",
              "      <td>female</td>\n",
              "      <td>38.0</td>\n",
              "      <td>1</td>\n",
              "      <td>0</td>\n",
              "      <td>PC 17599</td>\n",
              "      <td>71.2833</td>\n",
              "      <td>C85</td>\n",
              "      <td>C</td>\n",
              "    </tr>\n",
              "    <tr>\n",
              "      <th>2</th>\n",
              "      <td>3</td>\n",
              "      <td>1</td>\n",
              "      <td>3</td>\n",
              "      <td>Heikkinen, Miss. Laina</td>\n",
              "      <td>female</td>\n",
              "      <td>26.0</td>\n",
              "      <td>0</td>\n",
              "      <td>0</td>\n",
              "      <td>STON/O2. 3101282</td>\n",
              "      <td>7.9250</td>\n",
              "      <td>NaN</td>\n",
              "      <td>S</td>\n",
              "    </tr>\n",
              "    <tr>\n",
              "      <th>3</th>\n",
              "      <td>4</td>\n",
              "      <td>1</td>\n",
              "      <td>1</td>\n",
              "      <td>Futrelle, Mrs. Jacques Heath (Lily May Peel)</td>\n",
              "      <td>female</td>\n",
              "      <td>35.0</td>\n",
              "      <td>1</td>\n",
              "      <td>0</td>\n",
              "      <td>113803</td>\n",
              "      <td>53.1000</td>\n",
              "      <td>C123</td>\n",
              "      <td>S</td>\n",
              "    </tr>\n",
              "    <tr>\n",
              "      <th>4</th>\n",
              "      <td>5</td>\n",
              "      <td>0</td>\n",
              "      <td>3</td>\n",
              "      <td>Allen, Mr. William Henry</td>\n",
              "      <td>male</td>\n",
              "      <td>35.0</td>\n",
              "      <td>0</td>\n",
              "      <td>0</td>\n",
              "      <td>373450</td>\n",
              "      <td>8.0500</td>\n",
              "      <td>NaN</td>\n",
              "      <td>S</td>\n",
              "    </tr>\n",
              "  </tbody>\n",
              "</table>\n",
              "</div>"
            ],
            "text/plain": [
              "   PassengerId  Survived  Pclass  ...     Fare Cabin  Embarked\n",
              "0            1         0       3  ...   7.2500   NaN         S\n",
              "1            2         1       1  ...  71.2833   C85         C\n",
              "2            3         1       3  ...   7.9250   NaN         S\n",
              "3            4         1       1  ...  53.1000  C123         S\n",
              "4            5         0       3  ...   8.0500   NaN         S\n",
              "\n",
              "[5 rows x 12 columns]"
            ]
          },
          "metadata": {
            "tags": []
          },
          "execution_count": 51
        }
      ]
    },
    {
      "cell_type": "code",
      "metadata": {
        "id": "V8XZQZvju-Sb"
      },
      "source": [
        "df_titanic=df_titanic[[\"Survived\",\"Pclass\",\"Sex\",\"Age\",\"Fare\"]]"
      ],
      "execution_count": 52,
      "outputs": []
    },
    {
      "cell_type": "code",
      "metadata": {
        "colab": {
          "base_uri": "https://localhost:8080/"
        },
        "id": "ImgrHLcjvRI5",
        "outputId": "c0689382-9049-4f9c-a2a1-2e621e1a2bd1"
      },
      "source": [
        "df_titanic.isnull().sum()"
      ],
      "execution_count": 59,
      "outputs": [
        {
          "output_type": "execute_result",
          "data": {
            "text/plain": [
              "Survived    0\n",
              "Pclass      0\n",
              "Sex         0\n",
              "Age         0\n",
              "Fare        0\n",
              "dtype: int64"
            ]
          },
          "metadata": {
            "tags": []
          },
          "execution_count": 59
        }
      ]
    },
    {
      "cell_type": "code",
      "metadata": {
        "id": "Iyef8CDIv254"
      },
      "source": [
        "df_titanic.Age = df_titanic.Age.fillna(df_titanic.Age.mean())"
      ],
      "execution_count": null,
      "outputs": []
    },
    {
      "cell_type": "code",
      "metadata": {
        "colab": {
          "base_uri": "https://localhost:8080/",
          "height": 202
        },
        "id": "Bq4ROQ-RxPBX",
        "outputId": "9d93600c-18dd-48db-8433-ec67fcef6eca"
      },
      "source": [
        "df_titanic.head()"
      ],
      "execution_count": 72,
      "outputs": [
        {
          "output_type": "execute_result",
          "data": {
            "text/html": [
              "<div>\n",
              "<style scoped>\n",
              "    .dataframe tbody tr th:only-of-type {\n",
              "        vertical-align: middle;\n",
              "    }\n",
              "\n",
              "    .dataframe tbody tr th {\n",
              "        vertical-align: top;\n",
              "    }\n",
              "\n",
              "    .dataframe thead th {\n",
              "        text-align: right;\n",
              "    }\n",
              "</style>\n",
              "<table border=\"1\" class=\"dataframe\">\n",
              "  <thead>\n",
              "    <tr style=\"text-align: right;\">\n",
              "      <th></th>\n",
              "      <th>Survived</th>\n",
              "      <th>Pclass</th>\n",
              "      <th>Sex</th>\n",
              "      <th>Age</th>\n",
              "      <th>Fare</th>\n",
              "    </tr>\n",
              "  </thead>\n",
              "  <tbody>\n",
              "    <tr>\n",
              "      <th>0</th>\n",
              "      <td>0</td>\n",
              "      <td>3</td>\n",
              "      <td>1</td>\n",
              "      <td>22.0</td>\n",
              "      <td>7.2500</td>\n",
              "    </tr>\n",
              "    <tr>\n",
              "      <th>1</th>\n",
              "      <td>1</td>\n",
              "      <td>1</td>\n",
              "      <td>0</td>\n",
              "      <td>38.0</td>\n",
              "      <td>71.2833</td>\n",
              "    </tr>\n",
              "    <tr>\n",
              "      <th>2</th>\n",
              "      <td>1</td>\n",
              "      <td>3</td>\n",
              "      <td>0</td>\n",
              "      <td>26.0</td>\n",
              "      <td>7.9250</td>\n",
              "    </tr>\n",
              "    <tr>\n",
              "      <th>3</th>\n",
              "      <td>1</td>\n",
              "      <td>1</td>\n",
              "      <td>0</td>\n",
              "      <td>35.0</td>\n",
              "      <td>53.1000</td>\n",
              "    </tr>\n",
              "    <tr>\n",
              "      <th>4</th>\n",
              "      <td>0</td>\n",
              "      <td>3</td>\n",
              "      <td>1</td>\n",
              "      <td>35.0</td>\n",
              "      <td>8.0500</td>\n",
              "    </tr>\n",
              "  </tbody>\n",
              "</table>\n",
              "</div>"
            ],
            "text/plain": [
              "   Survived  Pclass  Sex   Age     Fare\n",
              "0         0       3    1  22.0   7.2500\n",
              "1         1       1    0  38.0  71.2833\n",
              "2         1       3    0  26.0   7.9250\n",
              "3         1       1    0  35.0  53.1000\n",
              "4         0       3    1  35.0   8.0500"
            ]
          },
          "metadata": {
            "tags": []
          },
          "execution_count": 72
        }
      ]
    },
    {
      "cell_type": "code",
      "metadata": {
        "colab": {
          "base_uri": "https://localhost:8080/"
        },
        "id": "gBHwUmL-xSiy",
        "outputId": "3a510530-eb52-47ae-a129-7389cb38eef6"
      },
      "source": [
        "from sklearn.preprocessing import LabelEncoder\n",
        "\n",
        "le_Sex=LabelEncoder()\n",
        "df_titanic[\"Sex\"] = le_Sex.fit_transform(df_titanic[\"Sex\"])"
      ],
      "execution_count": 74,
      "outputs": [
        {
          "output_type": "stream",
          "text": [
            "/usr/local/lib/python3.6/dist-packages/ipykernel_launcher.py:4: SettingWithCopyWarning: \n",
            "A value is trying to be set on a copy of a slice from a DataFrame.\n",
            "Try using .loc[row_indexer,col_indexer] = value instead\n",
            "\n",
            "See the caveats in the documentation: https://pandas.pydata.org/pandas-docs/stable/user_guide/indexing.html#returning-a-view-versus-a-copy\n",
            "  after removing the cwd from sys.path.\n"
          ],
          "name": "stderr"
        }
      ]
    },
    {
      "cell_type": "code",
      "metadata": {
        "id": "BnsNYEf3xdqp"
      },
      "source": [
        ""
      ],
      "execution_count": null,
      "outputs": []
    },
    {
      "cell_type": "code",
      "metadata": {
        "id": "nlDwdKckwgfi"
      },
      "source": [
        "X=df_titanic.drop([\"Survived\"],axis=\"columns\")"
      ],
      "execution_count": 75,
      "outputs": []
    },
    {
      "cell_type": "code",
      "metadata": {
        "id": "ZEOvm72HwyYn"
      },
      "source": [
        "y=df_titanic[\"Survived\"]"
      ],
      "execution_count": 76,
      "outputs": []
    },
    {
      "cell_type": "code",
      "metadata": {
        "id": "RnNp6KZ9w53u"
      },
      "source": [
        "X_train, X_test, y_train, y_test = train_test_split(X,y, test_size=0.2)"
      ],
      "execution_count": 77,
      "outputs": []
    },
    {
      "cell_type": "code",
      "metadata": {
        "id": "9exYKdSsw9ND"
      },
      "source": [
        "model_titanic_reg=DecisionTreeClassifier();"
      ],
      "execution_count": 78,
      "outputs": []
    },
    {
      "cell_type": "code",
      "metadata": {
        "id": "WBSp-rzdxCJL"
      },
      "source": [
        "model_titanic=model_titanic_reg.fit(X_train,y_train)"
      ],
      "execution_count": 79,
      "outputs": []
    },
    {
      "cell_type": "code",
      "metadata": {
        "colab": {
          "base_uri": "https://localhost:8080/"
        },
        "id": "bV7M2-jCyCph",
        "outputId": "a77a81bb-384e-4dd7-a8bb-84a7b3dbc71c"
      },
      "source": [
        "model_titanic"
      ],
      "execution_count": 80,
      "outputs": [
        {
          "output_type": "execute_result",
          "data": {
            "text/plain": [
              "DecisionTreeClassifier(ccp_alpha=0.0, class_weight=None, criterion='gini',\n",
              "                       max_depth=None, max_features=None, max_leaf_nodes=None,\n",
              "                       min_impurity_decrease=0.0, min_impurity_split=None,\n",
              "                       min_samples_leaf=1, min_samples_split=2,\n",
              "                       min_weight_fraction_leaf=0.0, presort='deprecated',\n",
              "                       random_state=None, splitter='best')"
            ]
          },
          "metadata": {
            "tags": []
          },
          "execution_count": 80
        }
      ]
    },
    {
      "cell_type": "code",
      "metadata": {
        "id": "b1oz8f7DyFbC"
      },
      "source": [
        "y_predict=model_titanic.predict(X_test)"
      ],
      "execution_count": 81,
      "outputs": []
    },
    {
      "cell_type": "code",
      "metadata": {
        "colab": {
          "base_uri": "https://localhost:8080/",
          "height": 297
        },
        "id": "xGDC9oXPyLs9",
        "outputId": "34ee1da2-1bff-4141-aa7c-1413c93c7f74"
      },
      "source": [
        "from sklearn.metrics import plot_confusion_matrix\n",
        "\n",
        "\n",
        "plot_confusion_matrix(model_titanic, X_test, y_test)"
      ],
      "execution_count": 83,
      "outputs": [
        {
          "output_type": "execute_result",
          "data": {
            "text/plain": [
              "<sklearn.metrics._plot.confusion_matrix.ConfusionMatrixDisplay at 0x7fe3ad039470>"
            ]
          },
          "metadata": {
            "tags": []
          },
          "execution_count": 83
        },
        {
          "output_type": "display_data",
          "data": {
            "image/png": "[encoded data removed]",
            "text/plain": [
              "<Figure size 432x288 with 2 Axes>"
            ]
          },
          "metadata": {
            "tags": [],
            "needs_background": "light"
          }
        }
      ]
    },
    {
      "cell_type": "markdown",
      "metadata": {
        "id": "O0k9qXzRy3zI"
      },
      "source": [
        "# Support Vector machines "
      ]
    },
    {
      "cell_type": "code",
      "metadata": {
        "id": "xxTcDaEVy-Ly"
      },
      "source": [
        "import pandas as pd\n",
        "import numpy as np\n",
        "import matplotlib.pyplot as plt"
      ],
      "execution_count": 84,
      "outputs": []
    },
    {
      "cell_type": "code",
      "metadata": {
        "id": "Y5LhUZtvzRTu"
      },
      "source": [
        "from sklearn.datasets import load_iris"
      ],
      "execution_count": 86,
      "outputs": []
    },
    {
      "cell_type": "code",
      "metadata": {
        "id": "bCUzfqFZzdFi"
      },
      "source": [
        "data=load_iris()"
      ],
      "execution_count": 87,
      "outputs": []
    },
    {
      "cell_type": "code",
      "metadata": {
        "colab": {
          "base_uri": "https://localhost:8080/"
        },
        "id": "kXFlPiI3zgmS",
        "outputId": "76e0c71e-d36f-4e12-e3be-5643072ef43e"
      },
      "source": [
        "dir(data)"
      ],
      "execution_count": 88,
      "outputs": [
        {
          "output_type": "execute_result",
          "data": {
            "text/plain": [
              "['DESCR', 'data', 'feature_names', 'filename', 'target', 'target_names']"
            ]
          },
          "metadata": {
            "tags": []
          },
          "execution_count": 88
        }
      ]
    },
    {
      "cell_type": "code",
      "metadata": {
        "colab": {
          "base_uri": "https://localhost:8080/",
          "height": 202
        },
        "id": "7S6yHZrmzkWM",
        "outputId": "9fb5214c-4c66-445e-e6cb-9148127e54e3"
      },
      "source": [
        "df_iris = pd.DataFrame(iris.data,columns=iris.feature_names)\n",
        "df_iris.head()"
      ],
      "execution_count": 90,
      "outputs": [
        {
          "output_type": "execute_result",
          "data": {
            "text/html": [
              "<div>\n",
              "<style scoped>\n",
              "    .dataframe tbody tr th:only-of-type {\n",
              "        vertical-align: middle;\n",
              "    }\n",
              "\n",
              "    .dataframe tbody tr th {\n",
              "        vertical-align: top;\n",
              "    }\n",
              "\n",
              "    .dataframe thead th {\n",
              "        text-align: right;\n",
              "    }\n",
              "</style>\n",
              "<table border=\"1\" class=\"dataframe\">\n",
              "  <thead>\n",
              "    <tr style=\"text-align: right;\">\n",
              "      <th></th>\n",
              "      <th>sepal length (cm)</th>\n",
              "      <th>sepal width (cm)</th>\n",
              "      <th>petal length (cm)</th>\n",
              "      <th>petal width (cm)</th>\n",
              "    </tr>\n",
              "  </thead>\n",
              "  <tbody>\n",
              "    <tr>\n",
              "      <th>0</th>\n",
              "      <td>5.1</td>\n",
              "      <td>3.5</td>\n",
              "      <td>1.4</td>\n",
              "      <td>0.2</td>\n",
              "    </tr>\n",
              "    <tr>\n",
              "      <th>1</th>\n",
              "      <td>4.9</td>\n",
              "      <td>3.0</td>\n",
              "      <td>1.4</td>\n",
              "      <td>0.2</td>\n",
              "    </tr>\n",
              "    <tr>\n",
              "      <th>2</th>\n",
              "      <td>4.7</td>\n",
              "      <td>3.2</td>\n",
              "      <td>1.3</td>\n",
              "      <td>0.2</td>\n",
              "    </tr>\n",
              "    <tr>\n",
              "      <th>3</th>\n",
              "      <td>4.6</td>\n",
              "      <td>3.1</td>\n",
              "      <td>1.5</td>\n",
              "      <td>0.2</td>\n",
              "    </tr>\n",
              "    <tr>\n",
              "      <th>4</th>\n",
              "      <td>5.0</td>\n",
              "      <td>3.6</td>\n",
              "      <td>1.4</td>\n",
              "      <td>0.2</td>\n",
              "    </tr>\n",
              "  </tbody>\n",
              "</table>\n",
              "</div>"
            ],
            "text/plain": [
              "   sepal length (cm)  sepal width (cm)  petal length (cm)  petal width (cm)\n",
              "0                5.1               3.5                1.4               0.2\n",
              "1                4.9               3.0                1.4               0.2\n",
              "2                4.7               3.2                1.3               0.2\n",
              "3                4.6               3.1                1.5               0.2\n",
              "4                5.0               3.6                1.4               0.2"
            ]
          },
          "metadata": {
            "tags": []
          },
          "execution_count": 90
        }
      ]
    },
    {
      "cell_type": "code",
      "metadata": {
        "id": "cRHqommD0BMB"
      },
      "source": [
        ""
      ],
      "execution_count": null,
      "outputs": []
    },
    {
      "cell_type": "code",
      "metadata": {
        "id": "DNJAN4LVz8_n"
      },
      "source": [
        "df_iris['target'] = iris.target"
      ],
      "execution_count": 92,
      "outputs": []
    },
    {
      "cell_type": "code",
      "metadata": {
        "id": "zrnM2Psp0B4X"
      },
      "source": [
        "df_iris['flower_name'] =df_iris.target.apply(lambda x: iris.target_names[x])"
      ],
      "execution_count": 94,
      "outputs": []
    },
    {
      "cell_type": "code",
      "metadata": {
        "colab": {
          "base_uri": "https://localhost:8080/",
          "height": 202
        },
        "id": "D1OcEcLs0Nek",
        "outputId": "a070e0f5-8880-4fa2-c64b-d727004fc388"
      },
      "source": [
        "df_iris.head()"
      ],
      "execution_count": 95,
      "outputs": [
        {
          "output_type": "execute_result",
          "data": {
            "text/html": [
              "<div>\n",
              "<style scoped>\n",
              "    .dataframe tbody tr th:only-of-type {\n",
              "        vertical-align: middle;\n",
              "    }\n",
              "\n",
              "    .dataframe tbody tr th {\n",
              "        vertical-align: top;\n",
              "    }\n",
              "\n",
              "    .dataframe thead th {\n",
              "        text-align: right;\n",
              "    }\n",
              "</style>\n",
              "<table border=\"1\" class=\"dataframe\">\n",
              "  <thead>\n",
              "    <tr style=\"text-align: right;\">\n",
              "      <th></th>\n",
              "      <th>sepal length (cm)</th>\n",
              "      <th>sepal width (cm)</th>\n",
              "      <th>petal length (cm)</th>\n",
              "      <th>petal width (cm)</th>\n",
              "      <th>target</th>\n",
              "      <th>flower_name</th>\n",
              "    </tr>\n",
              "  </thead>\n",
              "  <tbody>\n",
              "    <tr>\n",
              "      <th>0</th>\n",
              "      <td>5.1</td>\n",
              "      <td>3.5</td>\n",
              "      <td>1.4</td>\n",
              "      <td>0.2</td>\n",
              "      <td>0</td>\n",
              "      <td>setosa</td>\n",
              "    </tr>\n",
              "    <tr>\n",
              "      <th>1</th>\n",
              "      <td>4.9</td>\n",
              "      <td>3.0</td>\n",
              "      <td>1.4</td>\n",
              "      <td>0.2</td>\n",
              "      <td>0</td>\n",
              "      <td>setosa</td>\n",
              "    </tr>\n",
              "    <tr>\n",
              "      <th>2</th>\n",
              "      <td>4.7</td>\n",
              "      <td>3.2</td>\n",
              "      <td>1.3</td>\n",
              "      <td>0.2</td>\n",
              "      <td>0</td>\n",
              "      <td>setosa</td>\n",
              "    </tr>\n",
              "    <tr>\n",
              "      <th>3</th>\n",
              "      <td>4.6</td>\n",
              "      <td>3.1</td>\n",
              "      <td>1.5</td>\n",
              "      <td>0.2</td>\n",
              "      <td>0</td>\n",
              "      <td>setosa</td>\n",
              "    </tr>\n",
              "    <tr>\n",
              "      <th>4</th>\n",
              "      <td>5.0</td>\n",
              "      <td>3.6</td>\n",
              "      <td>1.4</td>\n",
              "      <td>0.2</td>\n",
              "      <td>0</td>\n",
              "      <td>setosa</td>\n",
              "    </tr>\n",
              "  </tbody>\n",
              "</table>\n",
              "</div>"
            ],
            "text/plain": [
              "   sepal length (cm)  sepal width (cm)  ...  target  flower_name\n",
              "0                5.1               3.5  ...       0       setosa\n",
              "1                4.9               3.0  ...       0       setosa\n",
              "2                4.7               3.2  ...       0       setosa\n",
              "3                4.6               3.1  ...       0       setosa\n",
              "4                5.0               3.6  ...       0       setosa\n",
              "\n",
              "[5 rows x 6 columns]"
            ]
          },
          "metadata": {
            "tags": []
          },
          "execution_count": 95
        }
      ]
    },
    {
      "cell_type": "code",
      "metadata": {
        "id": "5YSuj1MJ0Qgd"
      },
      "source": [
        "df0=df_iris[:50]\n",
        "df1=df_iris[50:100]\n",
        "df2=df_iris[100:]"
      ],
      "execution_count": 101,
      "outputs": []
    },
    {
      "cell_type": "code",
      "metadata": {
        "id": "MFOXGJsO0h7x"
      },
      "source": [
        "%matplotlib inline"
      ],
      "execution_count": 98,
      "outputs": []
    },
    {
      "cell_type": "code",
      "metadata": {
        "colab": {
          "base_uri": "https://localhost:8080/",
          "height": 299
        },
        "id": "knNUs5-Q2mBJ",
        "outputId": "fb5b338b-8514-4748-c927-199e85c107c3"
      },
      "source": [
        "plt.xlabel('Sepal Length')\n",
        "plt.ylabel('Sepal Width')\n",
        "plt.scatter(df0['sepal length (cm)'], df0['sepal width (cm)'],color=\"green\",marker='+')\n",
        "plt.scatter(df1['sepal length (cm)'], df1['sepal width (cm)'],color=\"blue\",marker='.')\n",
        "plt.scatter(df2['sepal length (cm)'], df2['sepal width (cm)'],color=\"red\",marker='*')"
      ],
      "execution_count": 102,
      "outputs": [
        {
          "output_type": "execute_result",
          "data": {
            "text/plain": [
              "<matplotlib.collections.PathCollection at 0x7fe3acdee160>"
            ]
          },
          "metadata": {
            "tags": []
          },
          "execution_count": 102
        },
        {
          "output_type": "display_data",
          "data": {
            "image/png": "[encoded data removed]",
            "text/plain": [
              "<Figure size 432x288 with 1 Axes>"
            ]
          },
          "metadata": {
            "tags": [],
            "needs_background": "light"
          }
        }
      ]
    },
    {
      "cell_type": "code",
      "metadata": {
        "id": "nl1BAXYy2_wV"
      },
      "source": [
        "X=df_iris.drop([\"target\",\"flower_name\"],axis=\"columns\")\n",
        "y=df_iris[\"target\"]\n",
        "X_train, X_test, y_train, y_test = train_test_split(X,y, test_size=0.2)\n"
      ],
      "execution_count": 105,
      "outputs": []
    },
    {
      "cell_type": "markdown",
      "metadata": {
        "id": "5mwsHjuA3l5X"
      },
      "source": [
        ""
      ]
    },
    {
      "cell_type": "code",
      "metadata": {
        "id": "CCCXkbbj3mqj"
      },
      "source": [
        "from sklearn.svm import SVC"
      ],
      "execution_count": 107,
      "outputs": []
    },
    {
      "cell_type": "code",
      "metadata": {
        "id": "05JYgVix3cYN"
      },
      "source": [
        "model_iris_svc_reg=SVC()"
      ],
      "execution_count": 108,
      "outputs": []
    },
    {
      "cell_type": "code",
      "metadata": {
        "id": "y4pdinjd3jwu"
      },
      "source": [
        "model_iris_svc=model_iris_svc_reg.fit(X_train,y_train)"
      ],
      "execution_count": 109,
      "outputs": []
    },
    {
      "cell_type": "code",
      "metadata": {
        "colab": {
          "base_uri": "https://localhost:8080/"
        },
        "id": "8hqJrAF_3_Tx",
        "outputId": "d0afdfa7-dc12-497c-fcfb-1ca69ace5aab"
      },
      "source": [
        "model_iris_svc.score(X_test,y_test)"
      ],
      "execution_count": 110,
      "outputs": [
        {
          "output_type": "execute_result",
          "data": {
            "text/plain": [
              "0.9666666666666667"
            ]
          },
          "metadata": {
            "tags": []
          },
          "execution_count": 110
        }
      ]
    },
    {
      "cell_type": "code",
      "metadata": {
        "colab": {
          "base_uri": "https://localhost:8080/",
          "height": 301
        },
        "id": "73pWdgli4Fek",
        "outputId": "05baf8f3-0e77-4bed-c9ae-c78fd145db11"
      },
      "source": [
        "plot_confusion_matrix(model_iris_svc, X_test, y_test)"
      ],
      "execution_count": 111,
      "outputs": [
        {
          "output_type": "execute_result",
          "data": {
            "text/plain": [
              "<sklearn.metrics._plot.confusion_matrix.ConfusionMatrixDisplay at 0x7fe3ace34eb8>"
            ]
          },
          "metadata": {
            "tags": []
          },
          "execution_count": 111
        },
        {
          "output_type": "display_data",
          "data": {
            "image/png": "[encoded data removed]",
            "text/plain": [
              "<Figure size 432x288 with 2 Axes>"
            ]
          },
          "metadata": {
            "tags": [],
            "needs_background": "light"
          }
        }
      ]
    },
    {
      "cell_type": "markdown",
      "metadata": {
        "id": "xCU634fAAS3O"
      },
      "source": [
        "# Random Forest"
      ]
    },
    {
      "cell_type": "code",
      "metadata": {
        "id": "Drf0wjGYAW7G"
      },
      "source": [
        "from sklearn.datasets import load_digits"
      ],
      "execution_count": 113,
      "outputs": []
    },
    {
      "cell_type": "code",
      "metadata": {
        "id": "qDLNwfxtAfR8"
      },
      "source": [
        "data =load_digits()"
      ],
      "execution_count": 114,
      "outputs": []
    },
    {
      "cell_type": "code",
      "metadata": {
        "colab": {
          "base_uri": "https://localhost:8080/"
        },
        "id": "rTIVrS7rAkst",
        "outputId": "3b3b414e-ddd6-4ad3-c566-7c5168aaaded"
      },
      "source": [
        "dir(data)"
      ],
      "execution_count": 115,
      "outputs": [
        {
          "output_type": "execute_result",
          "data": {
            "text/plain": [
              "['DESCR', 'data', 'images', 'target', 'target_names']"
            ]
          },
          "metadata": {
            "tags": []
          },
          "execution_count": 115
        }
      ]
    },
    {
      "cell_type": "code",
      "metadata": {
        "id": "vbDOQJ_WAne7"
      },
      "source": [
        "df_rf=pd.DataFrame(data.data)"
      ],
      "execution_count": 116,
      "outputs": []
    },
    {
      "cell_type": "code",
      "metadata": {
        "colab": {
          "base_uri": "https://localhost:8080/",
          "height": 222
        },
        "id": "FdtYbQyQA724",
        "outputId": "58c414a9-a586-4c8d-9b85-403982d52e71"
      },
      "source": [
        "df_rf.head()"
      ],
      "execution_count": 117,
      "outputs": [
        {
          "output_type": "execute_result",
          "data": {
            "text/html": [
              "<div>\n",
              "<style scoped>\n",
              "    .dataframe tbody tr th:only-of-type {\n",
              "        vertical-align: middle;\n",
              "    }\n",
              "\n",
              "    .dataframe tbody tr th {\n",
              "        vertical-align: top;\n",
              "    }\n",
              "\n",
              "    .dataframe thead th {\n",
              "        text-align: right;\n",
              "    }\n",
              "</style>\n",
              "<table border=\"1\" class=\"dataframe\">\n",
              "  <thead>\n",
              "    <tr style=\"text-align: right;\">\n",
              "      <th></th>\n",
              "      <th>0</th>\n",
              "      <th>1</th>\n",
              "      <th>2</th>\n",
              "      <th>3</th>\n",
              "      <th>4</th>\n",
              "      <th>5</th>\n",
              "      <th>6</th>\n",
              "      <th>7</th>\n",
              "      <th>8</th>\n",
              "      <th>9</th>\n",
              "      <th>10</th>\n",
              "      <th>11</th>\n",
              "      <th>12</th>\n",
              "      <th>13</th>\n",
              "      <th>14</th>\n",
              "      <th>15</th>\n",
              "      <th>16</th>\n",
              "      <th>17</th>\n",
              "      <th>18</th>\n",
              "      <th>19</th>\n",
              "      <th>20</th>\n",
              "      <th>21</th>\n",
              "      <th>22</th>\n",
              "      <th>23</th>\n",
              "      <th>24</th>\n",
              "      <th>25</th>\n",
              "      <th>26</th>\n",
              "      <th>27</th>\n",
              "      <th>28</th>\n",
              "      <th>29</th>\n",
              "      <th>30</th>\n",
              "      <th>31</th>\n",
              "      <th>32</th>\n",
              "      <th>33</th>\n",
              "      <th>34</th>\n",
              "      <th>35</th>\n",
              "      <th>36</th>\n",
              "      <th>37</th>\n",
              "      <th>38</th>\n",
              "      <th>39</th>\n",
              "      <th>40</th>\n",
              "      <th>41</th>\n",
              "      <th>42</th>\n",
              "      <th>43</th>\n",
              "      <th>44</th>\n",
              "      <th>45</th>\n",
              "      <th>46</th>\n",
              "      <th>47</th>\n",
              "      <th>48</th>\n",
              "      <th>49</th>\n",
              "      <th>50</th>\n",
              "      <th>51</th>\n",
              "      <th>52</th>\n",
              "      <th>53</th>\n",
              "      <th>54</th>\n",
              "      <th>55</th>\n",
              "      <th>56</th>\n",
              "      <th>57</th>\n",
              "      <th>58</th>\n",
              "      <th>59</th>\n",
              "      <th>60</th>\n",
              "      <th>61</th>\n",
              "      <th>62</th>\n",
              "      <th>63</th>\n",
              "    </tr>\n",
              "  </thead>\n",
              "  <tbody>\n",
              "    <tr>\n",
              "      <th>0</th>\n",
              "      <td>0.0</td>\n",
              "      <td>0.0</td>\n",
              "      <td>5.0</td>\n",
              "      <td>13.0</td>\n",
              "      <td>9.0</td>\n",
              "      <td>1.0</td>\n",
              "      <td>0.0</td>\n",
              "      <td>0.0</td>\n",
              "      <td>0.0</td>\n",
              "      <td>0.0</td>\n",
              "      <td>13.0</td>\n",
              "      <td>15.0</td>\n",
              "      <td>10.0</td>\n",
              "      <td>15.0</td>\n",
              "      <td>5.0</td>\n",
              "      <td>0.0</td>\n",
              "      <td>0.0</td>\n",
              "      <td>3.0</td>\n",
              "      <td>15.0</td>\n",
              "      <td>2.0</td>\n",
              "      <td>0.0</td>\n",
              "      <td>11.0</td>\n",
              "      <td>8.0</td>\n",
              "      <td>0.0</td>\n",
              "      <td>0.0</td>\n",
              "      <td>4.0</td>\n",
              "      <td>12.0</td>\n",
              "      <td>0.0</td>\n",
              "      <td>0.0</td>\n",
              "      <td>8.0</td>\n",
              "      <td>8.0</td>\n",
              "      <td>0.0</td>\n",
              "      <td>0.0</td>\n",
              "      <td>5.0</td>\n",
              "      <td>8.0</td>\n",
              "      <td>0.0</td>\n",
              "      <td>0.0</td>\n",
              "      <td>9.0</td>\n",
              "      <td>8.0</td>\n",
              "      <td>0.0</td>\n",
              "      <td>0.0</td>\n",
              "      <td>4.0</td>\n",
              "      <td>11.0</td>\n",
              "      <td>0.0</td>\n",
              "      <td>1.0</td>\n",
              "      <td>12.0</td>\n",
              "      <td>7.0</td>\n",
              "      <td>0.0</td>\n",
              "      <td>0.0</td>\n",
              "      <td>2.0</td>\n",
              "      <td>14.0</td>\n",
              "      <td>5.0</td>\n",
              "      <td>10.0</td>\n",
              "      <td>12.0</td>\n",
              "      <td>0.0</td>\n",
              "      <td>0.0</td>\n",
              "      <td>0.0</td>\n",
              "      <td>0.0</td>\n",
              "      <td>6.0</td>\n",
              "      <td>13.0</td>\n",
              "      <td>10.0</td>\n",
              "      <td>0.0</td>\n",
              "      <td>0.0</td>\n",
              "      <td>0.0</td>\n",
              "    </tr>\n",
              "    <tr>\n",
              "      <th>1</th>\n",
              "      <td>0.0</td>\n",
              "      <td>0.0</td>\n",
              "      <td>0.0</td>\n",
              "      <td>12.0</td>\n",
              "      <td>13.0</td>\n",
              "      <td>5.0</td>\n",
              "      <td>0.0</td>\n",
              "      <td>0.0</td>\n",
              "      <td>0.0</td>\n",
              "      <td>0.0</td>\n",
              "      <td>0.0</td>\n",
              "      <td>11.0</td>\n",
              "      <td>16.0</td>\n",
              "      <td>9.0</td>\n",
              "      <td>0.0</td>\n",
              "      <td>0.0</td>\n",
              "      <td>0.0</td>\n",
              "      <td>0.0</td>\n",
              "      <td>3.0</td>\n",
              "      <td>15.0</td>\n",
              "      <td>16.0</td>\n",
              "      <td>6.0</td>\n",
              "      <td>0.0</td>\n",
              "      <td>0.0</td>\n",
              "      <td>0.0</td>\n",
              "      <td>7.0</td>\n",
              "      <td>15.0</td>\n",
              "      <td>16.0</td>\n",
              "      <td>16.0</td>\n",
              "      <td>2.0</td>\n",
              "      <td>0.0</td>\n",
              "      <td>0.0</td>\n",
              "      <td>0.0</td>\n",
              "      <td>0.0</td>\n",
              "      <td>1.0</td>\n",
              "      <td>16.0</td>\n",
              "      <td>16.0</td>\n",
              "      <td>3.0</td>\n",
              "      <td>0.0</td>\n",
              "      <td>0.0</td>\n",
              "      <td>0.0</td>\n",
              "      <td>0.0</td>\n",
              "      <td>1.0</td>\n",
              "      <td>16.0</td>\n",
              "      <td>16.0</td>\n",
              "      <td>6.0</td>\n",
              "      <td>0.0</td>\n",
              "      <td>0.0</td>\n",
              "      <td>0.0</td>\n",
              "      <td>0.0</td>\n",
              "      <td>1.0</td>\n",
              "      <td>16.0</td>\n",
              "      <td>16.0</td>\n",
              "      <td>6.0</td>\n",
              "      <td>0.0</td>\n",
              "      <td>0.0</td>\n",
              "      <td>0.0</td>\n",
              "      <td>0.0</td>\n",
              "      <td>0.0</td>\n",
              "      <td>11.0</td>\n",
              "      <td>16.0</td>\n",
              "      <td>10.0</td>\n",
              "      <td>0.0</td>\n",
              "      <td>0.0</td>\n",
              "    </tr>\n",
              "    <tr>\n",
              "      <th>2</th>\n",
              "      <td>0.0</td>\n",
              "      <td>0.0</td>\n",
              "      <td>0.0</td>\n",
              "      <td>4.0</td>\n",
              "      <td>15.0</td>\n",
              "      <td>12.0</td>\n",
              "      <td>0.0</td>\n",
              "      <td>0.0</td>\n",
              "      <td>0.0</td>\n",
              "      <td>0.0</td>\n",
              "      <td>3.0</td>\n",
              "      <td>16.0</td>\n",
              "      <td>15.0</td>\n",
              "      <td>14.0</td>\n",
              "      <td>0.0</td>\n",
              "      <td>0.0</td>\n",
              "      <td>0.0</td>\n",
              "      <td>0.0</td>\n",
              "      <td>8.0</td>\n",
              "      <td>13.0</td>\n",
              "      <td>8.0</td>\n",
              "      <td>16.0</td>\n",
              "      <td>0.0</td>\n",
              "      <td>0.0</td>\n",
              "      <td>0.0</td>\n",
              "      <td>0.0</td>\n",
              "      <td>1.0</td>\n",
              "      <td>6.0</td>\n",
              "      <td>15.0</td>\n",
              "      <td>11.0</td>\n",
              "      <td>0.0</td>\n",
              "      <td>0.0</td>\n",
              "      <td>0.0</td>\n",
              "      <td>1.0</td>\n",
              "      <td>8.0</td>\n",
              "      <td>13.0</td>\n",
              "      <td>15.0</td>\n",
              "      <td>1.0</td>\n",
              "      <td>0.0</td>\n",
              "      <td>0.0</td>\n",
              "      <td>0.0</td>\n",
              "      <td>9.0</td>\n",
              "      <td>16.0</td>\n",
              "      <td>16.0</td>\n",
              "      <td>5.0</td>\n",
              "      <td>0.0</td>\n",
              "      <td>0.0</td>\n",
              "      <td>0.0</td>\n",
              "      <td>0.0</td>\n",
              "      <td>3.0</td>\n",
              "      <td>13.0</td>\n",
              "      <td>16.0</td>\n",
              "      <td>16.0</td>\n",
              "      <td>11.0</td>\n",
              "      <td>5.0</td>\n",
              "      <td>0.0</td>\n",
              "      <td>0.0</td>\n",
              "      <td>0.0</td>\n",
              "      <td>0.0</td>\n",
              "      <td>3.0</td>\n",
              "      <td>11.0</td>\n",
              "      <td>16.0</td>\n",
              "      <td>9.0</td>\n",
              "      <td>0.0</td>\n",
              "    </tr>\n",
              "    <tr>\n",
              "      <th>3</th>\n",
              "      <td>0.0</td>\n",
              "      <td>0.0</td>\n",
              "      <td>7.0</td>\n",
              "      <td>15.0</td>\n",
              "      <td>13.0</td>\n",
              "      <td>1.0</td>\n",
              "      <td>0.0</td>\n",
              "      <td>0.0</td>\n",
              "      <td>0.0</td>\n",
              "      <td>8.0</td>\n",
              "      <td>13.0</td>\n",
              "      <td>6.0</td>\n",
              "      <td>15.0</td>\n",
              "      <td>4.0</td>\n",
              "      <td>0.0</td>\n",
              "      <td>0.0</td>\n",
              "      <td>0.0</td>\n",
              "      <td>2.0</td>\n",
              "      <td>1.0</td>\n",
              "      <td>13.0</td>\n",
              "      <td>13.0</td>\n",
              "      <td>0.0</td>\n",
              "      <td>0.0</td>\n",
              "      <td>0.0</td>\n",
              "      <td>0.0</td>\n",
              "      <td>0.0</td>\n",
              "      <td>2.0</td>\n",
              "      <td>15.0</td>\n",
              "      <td>11.0</td>\n",
              "      <td>1.0</td>\n",
              "      <td>0.0</td>\n",
              "      <td>0.0</td>\n",
              "      <td>0.0</td>\n",
              "      <td>0.0</td>\n",
              "      <td>0.0</td>\n",
              "      <td>1.0</td>\n",
              "      <td>12.0</td>\n",
              "      <td>12.0</td>\n",
              "      <td>1.0</td>\n",
              "      <td>0.0</td>\n",
              "      <td>0.0</td>\n",
              "      <td>0.0</td>\n",
              "      <td>0.0</td>\n",
              "      <td>0.0</td>\n",
              "      <td>1.0</td>\n",
              "      <td>10.0</td>\n",
              "      <td>8.0</td>\n",
              "      <td>0.0</td>\n",
              "      <td>0.0</td>\n",
              "      <td>0.0</td>\n",
              "      <td>8.0</td>\n",
              "      <td>4.0</td>\n",
              "      <td>5.0</td>\n",
              "      <td>14.0</td>\n",
              "      <td>9.0</td>\n",
              "      <td>0.0</td>\n",
              "      <td>0.0</td>\n",
              "      <td>0.0</td>\n",
              "      <td>7.0</td>\n",
              "      <td>13.0</td>\n",
              "      <td>13.0</td>\n",
              "      <td>9.0</td>\n",
              "      <td>0.0</td>\n",
              "      <td>0.0</td>\n",
              "    </tr>\n",
              "    <tr>\n",
              "      <th>4</th>\n",
              "      <td>0.0</td>\n",
              "      <td>0.0</td>\n",
              "      <td>0.0</td>\n",
              "      <td>1.0</td>\n",
              "      <td>11.0</td>\n",
              "      <td>0.0</td>\n",
              "      <td>0.0</td>\n",
              "      <td>0.0</td>\n",
              "      <td>0.0</td>\n",
              "      <td>0.0</td>\n",
              "      <td>0.0</td>\n",
              "      <td>7.0</td>\n",
              "      <td>8.0</td>\n",
              "      <td>0.0</td>\n",
              "      <td>0.0</td>\n",
              "      <td>0.0</td>\n",
              "      <td>0.0</td>\n",
              "      <td>0.0</td>\n",
              "      <td>1.0</td>\n",
              "      <td>13.0</td>\n",
              "      <td>6.0</td>\n",
              "      <td>2.0</td>\n",
              "      <td>2.0</td>\n",
              "      <td>0.0</td>\n",
              "      <td>0.0</td>\n",
              "      <td>0.0</td>\n",
              "      <td>7.0</td>\n",
              "      <td>15.0</td>\n",
              "      <td>0.0</td>\n",
              "      <td>9.0</td>\n",
              "      <td>8.0</td>\n",
              "      <td>0.0</td>\n",
              "      <td>0.0</td>\n",
              "      <td>5.0</td>\n",
              "      <td>16.0</td>\n",
              "      <td>10.0</td>\n",
              "      <td>0.0</td>\n",
              "      <td>16.0</td>\n",
              "      <td>6.0</td>\n",
              "      <td>0.0</td>\n",
              "      <td>0.0</td>\n",
              "      <td>4.0</td>\n",
              "      <td>15.0</td>\n",
              "      <td>16.0</td>\n",
              "      <td>13.0</td>\n",
              "      <td>16.0</td>\n",
              "      <td>1.0</td>\n",
              "      <td>0.0</td>\n",
              "      <td>0.0</td>\n",
              "      <td>0.0</td>\n",
              "      <td>0.0</td>\n",
              "      <td>3.0</td>\n",
              "      <td>15.0</td>\n",
              "      <td>10.0</td>\n",
              "      <td>0.0</td>\n",
              "      <td>0.0</td>\n",
              "      <td>0.0</td>\n",
              "      <td>0.0</td>\n",
              "      <td>0.0</td>\n",
              "      <td>2.0</td>\n",
              "      <td>16.0</td>\n",
              "      <td>4.0</td>\n",
              "      <td>0.0</td>\n",
              "      <td>0.0</td>\n",
              "    </tr>\n",
              "  </tbody>\n",
              "</table>\n",
              "</div>"
            ],
            "text/plain": [
              "    0    1    2     3     4     5    6   ...   57   58    59    60    61   62   63\n",
              "0  0.0  0.0  5.0  13.0   9.0   1.0  0.0  ...  0.0  6.0  13.0  10.0   0.0  0.0  0.0\n",
              "1  0.0  0.0  0.0  12.0  13.0   5.0  0.0  ...  0.0  0.0  11.0  16.0  10.0  0.0  0.0\n",
              "2  0.0  0.0  0.0   4.0  15.0  12.0  0.0  ...  0.0  0.0   3.0  11.0  16.0  9.0  0.0\n",
              "3  0.0  0.0  7.0  15.0  13.0   1.0  0.0  ...  0.0  7.0  13.0  13.0   9.0  0.0  0.0\n",
              "4  0.0  0.0  0.0   1.0  11.0   0.0  0.0  ...  0.0  0.0   2.0  16.0   4.0  0.0  0.0\n",
              "\n",
              "[5 rows x 64 columns]"
            ]
          },
          "metadata": {
            "tags": []
          },
          "execution_count": 117
        }
      ]
    },
    {
      "cell_type": "code",
      "metadata": {
        "id": "wRINS9dcA_DH"
      },
      "source": [
        "X=df_rf\n",
        "y=data[\"target\"]"
      ],
      "execution_count": 120,
      "outputs": []
    },
    {
      "cell_type": "code",
      "metadata": {
        "id": "I4Fi6fY0BOSa"
      },
      "source": [
        "from sklearn.ensemble import RandomForestClassifier"
      ],
      "execution_count": 121,
      "outputs": []
    },
    {
      "cell_type": "code",
      "metadata": {
        "id": "qJIlaP56BU2c"
      },
      "source": [
        "X_train, X_test, y_train, y_test = train_test_split(X,y, test_size=0.2)"
      ],
      "execution_count": 122,
      "outputs": []
    },
    {
      "cell_type": "code",
      "metadata": {
        "id": "OpyP9-XyBZXZ"
      },
      "source": [
        "model_rf_reg=RandomForestClassifier()"
      ],
      "execution_count": 123,
      "outputs": []
    },
    {
      "cell_type": "code",
      "metadata": {
        "id": "e_hRvHaoBeh_"
      },
      "source": [
        "model_rf=model_rf_reg.fit(X_train,y_train)"
      ],
      "execution_count": 124,
      "outputs": []
    },
    {
      "cell_type": "code",
      "metadata": {
        "id": "HUwjOeDWBnGO"
      },
      "source": [
        "y_predict=model_rf.predict(X_test)"
      ],
      "execution_count": 125,
      "outputs": []
    },
    {
      "cell_type": "code",
      "metadata": {
        "colab": {
          "base_uri": "https://localhost:8080/"
        },
        "id": "ZNkWKS2QBucc",
        "outputId": "ee90c0d2-04aa-4da7-c60a-b28647c8bc72"
      },
      "source": [
        "y_predict"
      ],
      "execution_count": 126,
      "outputs": [
        {
          "output_type": "execute_result",
          "data": {
            "text/plain": [
              "array([7, 1, 1, 1, 4, 8, 2, 9, 4, 1, 9, 8, 7, 6, 3, 3, 3, 0, 9, 1, 3, 1,\n",
              "       5, 6, 6, 3, 9, 1, 0, 3, 1, 3, 0, 4, 2, 4, 6, 7, 8, 5, 5, 6, 8, 0,\n",
              "       5, 2, 0, 6, 6, 0, 7, 3, 9, 2, 3, 9, 2, 1, 6, 0, 6, 1, 2, 4, 6, 7,\n",
              "       1, 1, 2, 8, 6, 7, 9, 4, 6, 5, 9, 9, 7, 3, 6, 2, 8, 9, 6, 4, 6, 5,\n",
              "       5, 3, 6, 8, 0, 8, 1, 9, 5, 6, 8, 7, 3, 0, 2, 2, 6, 8, 4, 6, 6, 7,\n",
              "       2, 6, 6, 4, 3, 1, 1, 0, 5, 8, 5, 3, 1, 9, 9, 8, 9, 0, 7, 8, 5, 8,\n",
              "       9, 8, 9, 1, 7, 3, 4, 5, 1, 8, 4, 1, 7, 9, 7, 7, 0, 9, 1, 2, 9, 1,\n",
              "       9, 2, 0, 4, 1, 3, 8, 3, 1, 3, 3, 4, 6, 7, 8, 2, 7, 6, 7, 5, 5, 3,\n",
              "       6, 7, 9, 7, 1, 6, 4, 6, 1, 8, 7, 4, 3, 9, 0, 6, 8, 0, 4, 3, 2, 4,\n",
              "       9, 7, 3, 8, 5, 5, 6, 3, 8, 0, 7, 0, 5, 9, 2, 5, 9, 0, 5, 6, 8, 1,\n",
              "       6, 5, 9, 5, 6, 8, 6, 1, 3, 0, 6, 2, 2, 6, 3, 7, 2, 8, 7, 6, 7, 0,\n",
              "       2, 8, 9, 5, 0, 8, 1, 6, 8, 2, 0, 2, 5, 0, 2, 2, 7, 8, 4, 8, 5, 9,\n",
              "       2, 8, 4, 5, 3, 4, 1, 6, 6, 9, 7, 0, 6, 6, 6, 8, 1, 3, 0, 8, 0, 7,\n",
              "       7, 5, 6, 5, 0, 2, 9, 8, 8, 7, 6, 0, 8, 2, 7, 0, 9, 4, 5, 4, 4, 9,\n",
              "       2, 1, 4, 2, 4, 7, 9, 7, 1, 3, 3, 3, 5, 7, 1, 3, 9, 6, 9, 7, 7, 0,\n",
              "       1, 8, 0, 4, 7, 1, 8, 5, 1, 0, 9, 6, 9, 4, 1, 1, 0, 8, 3, 3, 1, 0,\n",
              "       0, 0, 4, 1, 7, 7, 1, 5])"
            ]
          },
          "metadata": {
            "tags": []
          },
          "execution_count": 126
        }
      ]
    },
    {
      "cell_type": "code",
      "metadata": {
        "colab": {
          "base_uri": "https://localhost:8080/",
          "height": 297
        },
        "id": "reQh982gBz9q",
        "outputId": "c10f44d6-236a-4e49-e0f6-53ae203ec05d"
      },
      "source": [
        "plot_confusion_matrix(model_rf, X_test, y_test)"
      ],
      "execution_count": 128,
      "outputs": [
        {
          "output_type": "execute_result",
          "data": {
            "text/plain": [
              "<sklearn.metrics._plot.confusion_matrix.ConfusionMatrixDisplay at 0x7fe3acb05da0>"
            ]
          },
          "metadata": {
            "tags": []
          },
          "execution_count": 128
        },
        {
          "output_type": "display_data",
          "data": {
            "image/png": "[encoded data removed]",
            "text/plain": [
              "<Figure size 432x288 with 2 Axes>"
            ]
          },
          "metadata": {
            "tags": [],
            "needs_background": "light"
          }
        }
      ]
    },
    {
      "cell_type": "code",
      "metadata": {
        "colab": {
          "base_uri": "https://localhost:8080/"
        },
        "id": "YQZz5HHvCFLL",
        "outputId": "20254d17-3d0b-4875-8e62-4bd355b1065b"
      },
      "source": [
        "model_rf"
      ],
      "execution_count": 129,
      "outputs": [
        {
          "output_type": "execute_result",
          "data": {
            "text/plain": [
              "RandomForestClassifier(bootstrap=True, ccp_alpha=0.0, class_weight=None,\n",
              "                       criterion='gini', max_depth=None, max_features='auto',\n",
              "                       max_leaf_nodes=None, max_samples=None,\n",
              "                       min_impurity_decrease=0.0, min_impurity_split=None,\n",
              "                       min_samples_leaf=1, min_samples_split=2,\n",
              "                       min_weight_fraction_leaf=0.0, n_estimators=100,\n",
              "                       n_jobs=None, oob_score=False, random_state=None,\n",
              "                       verbose=0, warm_start=False)"
            ]
          },
          "metadata": {
            "tags": []
          },
          "execution_count": 129
        }
      ]
    },
    {
      "cell_type": "code",
      "metadata": {
        "colab": {
          "base_uri": "https://localhost:8080/",
          "height": 310
        },
        "id": "dkBC4u9FCZ8K",
        "outputId": "3b085c1e-0c1e-456d-def3-75a44d1dde51"
      },
      "source": [
        "plt.gray()\n",
        "plt.matshow(data.images[467])"
      ],
      "execution_count": 146,
      "outputs": [
        {
          "output_type": "execute_result",
          "data": {
            "text/plain": [
              "<matplotlib.image.AxesImage at 0x7fe3ac0fb080>"
            ]
          },
          "metadata": {
            "tags": []
          },
          "execution_count": 146
        },
        {
          "output_type": "display_data",
          "data": {
            "text/plain": [
              "<Figure size 432x288 with 0 Axes>"
            ]
          },
          "metadata": {
            "tags": []
          }
        },
        {
          "output_type": "display_data",
          "data": {
            "image/png": "[encoded data removed]",
            "text/plain": [
              "<Figure size 288x288 with 1 Axes>"
            ]
          },
          "metadata": {
            "tags": [],
            "needs_background": "light"
          }
        }
      ]
    },
    {
      "cell_type": "code",
      "metadata": {
        "id": "QZDcI2mpCgYU"
      },
      "source": [
        "y_predict_all=model_rf.predict(X)"
      ],
      "execution_count": 133,
      "outputs": []
    },
    {
      "cell_type": "code",
      "metadata": {
        "colab": {
          "base_uri": "https://localhost:8080/"
        },
        "id": "A6trscsrC5B4",
        "outputId": "73dd5dd9-14aa-40b6-88f6-fd658f56365a"
      },
      "source": [
        "len(y_predict_all)"
      ],
      "execution_count": 134,
      "outputs": [
        {
          "output_type": "execute_result",
          "data": {
            "text/plain": [
              "1797"
            ]
          },
          "metadata": {
            "tags": []
          },
          "execution_count": 134
        }
      ]
    },
    {
      "cell_type": "code",
      "metadata": {
        "colab": {
          "base_uri": "https://localhost:8080/"
        },
        "id": "lHMYdwN4C8cZ",
        "outputId": "9646a490-90bb-43c8-8d39-30741c05da5b"
      },
      "source": [
        "y_predict_all[467]"
      ],
      "execution_count": 144,
      "outputs": [
        {
          "output_type": "execute_result",
          "data": {
            "text/plain": [
              "8"
            ]
          },
          "metadata": {
            "tags": []
          },
          "execution_count": 144
        }
      ]
    },
    {
      "cell_type": "markdown",
      "metadata": {
        "id": "ChB84cpmDk3a"
      },
      "source": [
        "# K fold cross validation"
      ]
    },
    {
      "cell_type": "code",
      "metadata": {
        "id": "b3BJGolLEMqC"
      },
      "source": [
        "import pandas as pd\n",
        "import numpy as np\n",
        "from sklearn.linear_model import LogisticRegression\n",
        "from sklearn.svm import SVC\n",
        "from sklearn.ensemble import RandomForestClassifier\n",
        "from sklearn.model_selection import train_test_split"
      ],
      "execution_count": 147,
      "outputs": []
    },
    {
      "cell_type": "code",
      "metadata": {
        "id": "LwNXXUUeEoQh"
      },
      "source": [
        "import matplotlib.pyplot as plt\n",
        "from sklearn.datasets import load_digits"
      ],
      "execution_count": 148,
      "outputs": []
    },
    {
      "cell_type": "code",
      "metadata": {
        "id": "BD7-tspyE24g"
      },
      "source": [
        "digits = load_digits()"
      ],
      "execution_count": 149,
      "outputs": []
    },
    {
      "cell_type": "code",
      "metadata": {
        "id": "vJnknLIME7OV"
      },
      "source": [
        "X_train, X_test, y_train, y_test = train_test_split(digits.data,digits.target,test_size=0.3)"
      ],
      "execution_count": 150,
      "outputs": []
    },
    {
      "cell_type": "code",
      "metadata": {
        "colab": {
          "base_uri": "https://localhost:8080/"
        },
        "id": "GkvB6Qm_E-uq",
        "outputId": "9b05ec52-ca07-4bfe-93d9-3982356b241d"
      },
      "source": [
        "lr = LogisticRegression(solver='liblinear',multi_class='ovr')\n",
        "lr.fit(X_train, y_train)\n",
        "lr.score(X_test, y_test)"
      ],
      "execution_count": 151,
      "outputs": [
        {
          "output_type": "execute_result",
          "data": {
            "text/plain": [
              "0.9444444444444444"
            ]
          },
          "metadata": {
            "tags": []
          },
          "execution_count": 151
        }
      ]
    },
    {
      "cell_type": "code",
      "metadata": {
        "colab": {
          "base_uri": "https://localhost:8080/"
        },
        "id": "sjpbFOxtFCjm",
        "outputId": "51350d10-0d02-4737-a368-70e4f669787f"
      },
      "source": [
        "svm = SVC(gamma='auto')\n",
        "svm.fit(X_train, y_train)\n",
        "svm.score(X_test, y_test)"
      ],
      "execution_count": 152,
      "outputs": [
        {
          "output_type": "execute_result",
          "data": {
            "text/plain": [
              "0.5296296296296297"
            ]
          },
          "metadata": {
            "tags": []
          },
          "execution_count": 152
        }
      ]
    },
    {
      "cell_type": "code",
      "metadata": {
        "colab": {
          "base_uri": "https://localhost:8080/"
        },
        "id": "PzzoXQmLFHuL",
        "outputId": "ca5c5ccb-3290-4797-f297-803d65717a61"
      },
      "source": [
        "rf = RandomForestClassifier(n_estimators=40)\n",
        "rf.fit(X_train, y_train)\n",
        "rf.score(X_test, y_test)"
      ],
      "execution_count": 153,
      "outputs": [
        {
          "output_type": "execute_result",
          "data": {
            "text/plain": [
              "0.9703703703703703"
            ]
          },
          "metadata": {
            "tags": []
          },
          "execution_count": 153
        }
      ]
    },
    {
      "cell_type": "markdown",
      "metadata": {
        "id": "fLF2JeaqFLxK"
      },
      "source": [
        "K fold"
      ]
    },
    {
      "cell_type": "code",
      "metadata": {
        "id": "8ulO6hs3FNL9"
      },
      "source": [
        "from sklearn.model_selection import KFold"
      ],
      "execution_count": 154,
      "outputs": []
    },
    {
      "cell_type": "code",
      "metadata": {
        "colab": {
          "base_uri": "https://localhost:8080/"
        },
        "id": "DgpXvqroFUYb",
        "outputId": "01905a4b-92ff-415b-bc51-de66015e6057"
      },
      "source": [
        "kf = KFold(n_splits=3)\n",
        "kf"
      ],
      "execution_count": 155,
      "outputs": [
        {
          "output_type": "execute_result",
          "data": {
            "text/plain": [
              "KFold(n_splits=3, random_state=None, shuffle=False)"
            ]
          },
          "metadata": {
            "tags": []
          },
          "execution_count": 155
        }
      ]
    },
    {
      "cell_type": "code",
      "metadata": {
        "colab": {
          "base_uri": "https://localhost:8080/"
        },
        "id": "9TYpWEPTFc-5",
        "outputId": "4a0113a1-87f4-443d-b5ef-b9b1f262f01a"
      },
      "source": [
        "for train_index, test_index in kf.split([1,2,3,4,5,6,7,8,9]):\n",
        "    print(train_index, test_index)"
      ],
      "execution_count": 156,
      "outputs": [
        {
          "output_type": "stream",
          "text": [
            "[3 4 5 6 7 8] [0 1 2]\n",
            "[0 1 2 6 7 8] [3 4 5]\n",
            "[0 1 2 3 4 5] [6 7 8]\n"
          ],
          "name": "stdout"
        }
      ]
    },
    {
      "cell_type": "code",
      "metadata": {
        "id": "eIN36UdJFh0M"
      },
      "source": [
        "def get_score(model, X_train, X_test, y_train, y_test):\n",
        "    model.fit(X_train, y_train)\n",
        "    return model.score(X_test, y_test)"
      ],
      "execution_count": 157,
      "outputs": []
    },
    {
      "cell_type": "code",
      "metadata": {
        "id": "zn9iNptGFsCM"
      },
      "source": [
        "from sklearn.model_selection import StratifiedKFold\n",
        "folds = StratifiedKFold(n_splits=3)\n",
        "\n",
        "scores_logistic = []\n",
        "scores_svm = []\n",
        "scores_rf = []\n",
        "\n",
        "for train_index, test_index in folds.split(digits.data,digits.target):\n",
        "    X_train, X_test, y_train, y_test = digits.data[train_index], digits.data[test_index], \\\n",
        "                                       digits.target[train_index], digits.target[test_index]\n",
        "    scores_logistic.append(get_score(LogisticRegression(solver='liblinear',multi_class='ovr'), X_train, X_test, y_train, y_test))  \n",
        "    scores_svm.append(get_score(SVC(gamma='auto'), X_train, X_test, y_train, y_test))\n",
        "    scores_rf.append(get_score(RandomForestClassifier(n_estimators=40), X_train, X_test, y_train, y_test))"
      ],
      "execution_count": 158,
      "outputs": []
    },
    {
      "cell_type": "code",
      "metadata": {
        "colab": {
          "base_uri": "https://localhost:8080/"
        },
        "id": "Ta6NekrTFxHq",
        "outputId": "9ee3bdab-7a94-4b5f-d2f7-5fa3688e543d"
      },
      "source": [
        "scores_logistic"
      ],
      "execution_count": 159,
      "outputs": [
        {
          "output_type": "execute_result",
          "data": {
            "text/plain": [
              "[0.8948247078464107, 0.9532554257095158, 0.9098497495826378]"
            ]
          },
          "metadata": {
            "tags": []
          },
          "execution_count": 159
        }
      ]
    },
    {
      "cell_type": "code",
      "metadata": {
        "colab": {
          "base_uri": "https://localhost:8080/"
        },
        "id": "6KCZWyUDF0XE",
        "outputId": "19ec58b8-ae88-4991-9407-b54350acf908"
      },
      "source": [
        "scores_svm"
      ],
      "execution_count": 160,
      "outputs": [
        {
          "output_type": "execute_result",
          "data": {
            "text/plain": [
              "[0.3806343906510851, 0.41068447412353926, 0.5125208681135225]"
            ]
          },
          "metadata": {
            "tags": []
          },
          "execution_count": 160
        }
      ]
    },
    {
      "cell_type": "markdown",
      "metadata": {
        "id": "ncWCNan8F8TT"
      },
      "source": [
        "CROSS  FOLD VALIDATIO"
      ]
    },
    {
      "cell_type": "code",
      "metadata": {
        "id": "oKqyxa6FF5SO"
      },
      "source": [
        "from sklearn.model_selection import cross_val_score"
      ],
      "execution_count": 161,
      "outputs": []
    },
    {
      "cell_type": "code",
      "metadata": {
        "colab": {
          "base_uri": "https://localhost:8080/"
        },
        "id": "UOztJPyOGI7t",
        "outputId": "50a5bc19-0876-4c10-b511-dc0062e1952b"
      },
      "source": [
        "cross_val_score(LogisticRegression(solver='liblinear',multi_class='ovr'), digits.data, digits.target,cv=3)"
      ],
      "execution_count": 162,
      "outputs": [
        {
          "output_type": "execute_result",
          "data": {
            "text/plain": [
              "array([0.89482471, 0.95325543, 0.90984975])"
            ]
          },
          "metadata": {
            "tags": []
          },
          "execution_count": 162
        }
      ]
    },
    {
      "cell_type": "code",
      "metadata": {
        "colab": {
          "base_uri": "https://localhost:8080/"
        },
        "id": "oawGPiYCGUY5",
        "outputId": "aa082fad-2a6b-4f8c-f571-d7ca27c3a97e"
      },
      "source": [
        "cross_val_score(SVC(gamma=\"auto\"), digits.data, digits.target,cv=3)"
      ],
      "execution_count": 164,
      "outputs": [
        {
          "output_type": "execute_result",
          "data": {
            "text/plain": [
              "array([0.38063439, 0.41068447, 0.51252087])"
            ]
          },
          "metadata": {
            "tags": []
          },
          "execution_count": 164
        }
      ]
    },
    {
      "cell_type": "code",
      "metadata": {
        "colab": {
          "base_uri": "https://localhost:8080/"
        },
        "id": "19KZ6HG2GkSQ",
        "outputId": "78cd9be2-a534-4cf2-d2b3-6c7a8d791807"
      },
      "source": [
        "score1=cross_val_score(RandomForestClassifier(n_estimators=40), digits.data, digits.target,cv=3)\n",
        "score1=np.average(score1)\n",
        "print(score1)"
      ],
      "execution_count": 168,
      "outputs": [
        {
          "output_type": "stream",
          "text": [
            "0.9309961046188091\n"
          ],
          "name": "stdout"
        }
      ]
    },
    {
      "cell_type": "code",
      "metadata": {
        "colab": {
          "base_uri": "https://localhost:8080/"
        },
        "id": "I3LpZ448HCQt",
        "outputId": "ebf621bd-5340-4d72-d715-d5698123e160"
      },
      "source": [
        "score2=cross_val_score(RandomForestClassifier(n_estimators=10), digits.data, digits.target,cv=3)\n",
        "score2=np.average(score2)\n",
        "print(score2)"
      ],
      "execution_count": 170,
      "outputs": [
        {
          "output_type": "stream",
          "text": [
            "0.895937673900946\n"
          ],
          "name": "stdout"
        }
      ]
    },
    {
      "cell_type": "code",
      "metadata": {
        "colab": {
          "base_uri": "https://localhost:8080/"
        },
        "id": "I_SF4SdmHKxh",
        "outputId": "b5c3b375-ee2e-4984-bed2-ab605c48dba5"
      },
      "source": [
        "score3=cross_val_score(RandomForestClassifier(n_estimators=100), digits.data, digits.target,cv=3)\n",
        "score3=np.average(score3)\n",
        "print(score3)"
      ],
      "execution_count": 171,
      "outputs": [
        {
          "output_type": "stream",
          "text": [
            "0.9415692821368947\n"
          ],
          "name": "stdout"
        }
      ]
    },
    {
      "cell_type": "markdown",
      "metadata": {
        "id": "p3tfXOHDOKyr"
      },
      "source": [
        "# k means clustering\n"
      ]
    },
    {
      "cell_type": "code",
      "metadata": {
        "id": "OfkdZuH1O8tb"
      },
      "source": [
        "from sklearn.cluster import KMeans\n",
        "from sklearn.preprocessing import MinMaxScaler"
      ],
      "execution_count": 179,
      "outputs": []
    },
    {
      "cell_type": "code",
      "metadata": {
        "id": "dSLcJ4chO88F"
      },
      "source": [
        "df_kmeans=pd.read_csv(\"/content/sample_data/alldata/income.csv\")"
      ],
      "execution_count": 173,
      "outputs": []
    },
    {
      "cell_type": "code",
      "metadata": {
        "id": "sdf0-1R6PtTv",
        "outputId": "17e1bf33-9357-44a3-d927-872ff6f775c0",
        "colab": {
          "base_uri": "https://localhost:8080/"
        }
      },
      "source": [
        "df_kmeans.columns"
      ],
      "execution_count": 176,
      "outputs": [
        {
          "output_type": "execute_result",
          "data": {
            "text/plain": [
              "Index(['Name', 'Age', 'Income($)'], dtype='object')"
            ]
          },
          "metadata": {
            "tags": []
          },
          "execution_count": 176
        }
      ]
    },
    {
      "cell_type": "code",
      "metadata": {
        "id": "R4a9po7YP0TB",
        "outputId": "68983dea-c16a-4cdb-c744-8682edfac6a5",
        "colab": {
          "base_uri": "https://localhost:8080/",
          "height": 283
        }
      },
      "source": [
        "plt.scatter(df_kmeans['Age'],df_kmeans['Income($)'])"
      ],
      "execution_count": 177,
      "outputs": [
        {
          "output_type": "execute_result",
          "data": {
            "text/plain": [
              "<matplotlib.collections.PathCollection at 0x7fe3abdd8e10>"
            ]
          },
          "metadata": {
            "tags": []
          },
          "execution_count": 177
        },
        {
          "output_type": "display_data",
          "data": {
            "image/png": "[encoded data removed]",
            "text/plain": [
              "<Figure size 432x288 with 1 Axes>"
            ]
          },
          "metadata": {
            "tags": [],
            "needs_background": "light"
          }
        }
      ]
    },
    {
      "cell_type": "code",
      "metadata": {
        "id": "98G2wCjEQxU4"
      },
      "source": [
        ""
      ],
      "execution_count": null,
      "outputs": []
    },
    {
      "cell_type": "code",
      "metadata": {
        "id": "cPQkHP8dQJON"
      },
      "source": [
        "km =KMeans(n_clusters=3)"
      ],
      "execution_count": 180,
      "outputs": []
    },
    {
      "cell_type": "code",
      "metadata": {
        "id": "nD_qIhfYQx_9"
      },
      "source": [
        "y_predicted=km.fit_predict(df_kmeans[[\"Age\",\"Income($)\"]])"
      ],
      "execution_count": 183,
      "outputs": []
    },
    {
      "cell_type": "code",
      "metadata": {
        "id": "f4HqoBbCRJMW",
        "outputId": "cc05fb7a-ad94-4e2d-ba34-7c384606dd66",
        "colab": {
          "base_uri": "https://localhost:8080/",
          "height": 202
        }
      },
      "source": [
        "df_kmeans['cluster']=y_predicted\n",
        "df_kmeans.head()"
      ],
      "execution_count": 184,
      "outputs": [
        {
          "output_type": "execute_result",
          "data": {
            "text/html": [
              "<div>\n",
              "<style scoped>\n",
              "    .dataframe tbody tr th:only-of-type {\n",
              "        vertical-align: middle;\n",
              "    }\n",
              "\n",
              "    .dataframe tbody tr th {\n",
              "        vertical-align: top;\n",
              "    }\n",
              "\n",
              "    .dataframe thead th {\n",
              "        text-align: right;\n",
              "    }\n",
              "</style>\n",
              "<table border=\"1\" class=\"dataframe\">\n",
              "  <thead>\n",
              "    <tr style=\"text-align: right;\">\n",
              "      <th></th>\n",
              "      <th>Name</th>\n",
              "      <th>Age</th>\n",
              "      <th>Income($)</th>\n",
              "      <th>cluster</th>\n",
              "    </tr>\n",
              "  </thead>\n",
              "  <tbody>\n",
              "    <tr>\n",
              "      <th>0</th>\n",
              "      <td>Rob</td>\n",
              "      <td>27</td>\n",
              "      <td>70000</td>\n",
              "      <td>2</td>\n",
              "    </tr>\n",
              "    <tr>\n",
              "      <th>1</th>\n",
              "      <td>Michael</td>\n",
              "      <td>29</td>\n",
              "      <td>90000</td>\n",
              "      <td>2</td>\n",
              "    </tr>\n",
              "    <tr>\n",
              "      <th>2</th>\n",
              "      <td>Mohan</td>\n",
              "      <td>29</td>\n",
              "      <td>61000</td>\n",
              "      <td>0</td>\n",
              "    </tr>\n",
              "    <tr>\n",
              "      <th>3</th>\n",
              "      <td>Ismail</td>\n",
              "      <td>28</td>\n",
              "      <td>60000</td>\n",
              "      <td>0</td>\n",
              "    </tr>\n",
              "    <tr>\n",
              "      <th>4</th>\n",
              "      <td>Kory</td>\n",
              "      <td>42</td>\n",
              "      <td>150000</td>\n",
              "      <td>1</td>\n",
              "    </tr>\n",
              "  </tbody>\n",
              "</table>\n",
              "</div>"
            ],
            "text/plain": [
              "      Name  Age  Income($)  cluster\n",
              "0      Rob   27      70000        2\n",
              "1  Michael   29      90000        2\n",
              "2    Mohan   29      61000        0\n",
              "3   Ismail   28      60000        0\n",
              "4     Kory   42     150000        1"
            ]
          },
          "metadata": {
            "tags": []
          },
          "execution_count": 184
        }
      ]
    },
    {
      "cell_type": "code",
      "metadata": {
        "id": "aaf5S7CyRQVx",
        "outputId": "db13892a-2ee7-482a-a6ac-8671adc52d9c",
        "colab": {
          "base_uri": "https://localhost:8080/",
          "height": 297
        }
      },
      "source": [
        "df1 = df_kmeans[df_kmeans.cluster==0]\n",
        "df2 = df_kmeans[df_kmeans.cluster==1]\n",
        "df3 = df_kmeans[df_kmeans.cluster==2]\n",
        "plt.scatter(df1.Age,df1['Income($)'],color='green')\n",
        "plt.scatter(df2.Age,df2['Income($)'],color='red')\n",
        "plt.scatter(df3.Age,df3['Income($)'],color='black')\n",
        "plt.scatter(km.cluster_centers_[:,0],km.cluster_centers_[:,1],color='purple',marker='*',label='centroid')\n",
        "plt.xlabel('Age')\n",
        "plt.ylabel('Income ($)')\n",
        "plt.legend()"
      ],
      "execution_count": 186,
      "outputs": [
        {
          "output_type": "execute_result",
          "data": {
            "text/plain": [
              "<matplotlib.legend.Legend at 0x7fe3a700ada0>"
            ]
          },
          "metadata": {
            "tags": []
          },
          "execution_count": 186
        },
        {
          "output_type": "display_data",
          "data": {
            "image/png": "[encoded data removed]",
            "text/plain": [
              "<Figure size 432x288 with 1 Axes>"
            ]
          },
          "metadata": {
            "tags": [],
            "needs_background": "light"
          }
        }
      ]
    },
    {
      "cell_type": "code",
      "metadata": {
        "id": "IxwHaIvmRpJG"
      },
      "source": [
        "scaler = MinMaxScaler()\n",
        "\n",
        "scaler.fit(df_kmeans[['Income($)']])\n",
        "df_kmeans['Income($)'] = scaler.transform(df_kmeans[['Income($)']])\n",
        "\n",
        "scaler.fit(df_kmeans[['Age']])\n",
        "df_kmeans['Age'] = scaler.transform(df_kmeans[['Age']])"
      ],
      "execution_count": 188,
      "outputs": []
    },
    {
      "cell_type": "markdown",
      "metadata": {
        "id": "EirhG_aBSaBb"
      },
      "source": [
        "# feture standarisation"
      ]
    },
    {
      "cell_type": "code",
      "metadata": {
        "id": "WN7A7PHkR8IE"
      },
      "source": [
        "df_kmeans=pd.read_csv(\"/content/sample_data/alldata/income.csv\")"
      ],
      "execution_count": 189,
      "outputs": []
    },
    {
      "cell_type": "code",
      "metadata": {
        "id": "oy1Eqt2nSk2f"
      },
      "source": [
        "df_kmeans=df_kmeans[[\"Age\",'Income($)']]"
      ],
      "execution_count": 190,
      "outputs": []
    },
    {
      "cell_type": "code",
      "metadata": {
        "id": "Ci7Z5WoCSemc"
      },
      "source": [
        "from sklearn.preprocessing import MinMaxScaler\n",
        "sc = MinMaxScaler(feature_range = (0, 1))\n",
        "df_kmeans_scaled = sc.fit_transform(df_kmeans)\n"
      ],
      "execution_count": 191,
      "outputs": []
    },
    {
      "cell_type": "code",
      "metadata": {
        "id": "FP6ciNn6S18d",
        "outputId": "6656c951-9e1d-4e30-a5f5-62cfa1148052",
        "colab": {
          "base_uri": "https://localhost:8080/"
        }
      },
      "source": [
        "df_kmeans_scaled"
      ],
      "execution_count": 192,
      "outputs": [
        {
          "output_type": "execute_result",
          "data": {
            "text/plain": [
              "array([[0.05882353, 0.21367521],\n",
              "       [0.17647059, 0.38461538],\n",
              "       [0.17647059, 0.13675214],\n",
              "       [0.11764706, 0.12820513],\n",
              "       [0.94117647, 0.8974359 ],\n",
              "       [0.76470588, 0.94017094],\n",
              "       [0.88235294, 0.98290598],\n",
              "       [0.70588235, 1.        ],\n",
              "       [0.58823529, 0.94871795],\n",
              "       [0.52941176, 0.72649573],\n",
              "       [0.64705882, 0.78632479],\n",
              "       [0.        , 0.        ],\n",
              "       [0.05882353, 0.02564103],\n",
              "       [0.11764706, 0.05128205],\n",
              "       [0.17647059, 0.03846154],\n",
              "       [0.35294118, 0.06837607],\n",
              "       [0.82352941, 0.17094017],\n",
              "       [0.88235294, 0.15384615],\n",
              "       [1.        , 0.16239316],\n",
              "       [0.76470588, 0.2991453 ],\n",
              "       [0.88235294, 0.31623932],\n",
              "       [0.76470588, 0.11111111]])"
            ]
          },
          "metadata": {
            "tags": []
          },
          "execution_count": 192
        }
      ]
    },
    {
      "cell_type": "code",
      "metadata": {
        "id": "Cqo5Eot6S41_",
        "outputId": "5714a1b1-538a-42ac-b54c-9aa81debf14e",
        "colab": {
          "base_uri": "https://localhost:8080/"
        }
      },
      "source": [
        "type(df_kmeans_scaled)"
      ],
      "execution_count": 193,
      "outputs": [
        {
          "output_type": "execute_result",
          "data": {
            "text/plain": [
              "numpy.ndarray"
            ]
          },
          "metadata": {
            "tags": []
          },
          "execution_count": 193
        }
      ]
    },
    {
      "cell_type": "code",
      "metadata": {
        "id": "3YyXaHyES-4g"
      },
      "source": [
        "df_kmeans_scaled=pd.DataFrame(df_kmeans_scaled)"
      ],
      "execution_count": 196,
      "outputs": []
    },
    {
      "cell_type": "code",
      "metadata": {
        "id": "mVHarrTHTbc7",
        "outputId": "8186276a-ed2f-49fc-fef8-f06a38a11826",
        "colab": {
          "base_uri": "https://localhost:8080/",
          "height": 202
        }
      },
      "source": [
        "df_kmeans_scaled.head()"
      ],
      "execution_count": 199,
      "outputs": [
        {
          "output_type": "execute_result",
          "data": {
            "text/html": [
              "<div>\n",
              "<style scoped>\n",
              "    .dataframe tbody tr th:only-of-type {\n",
              "        vertical-align: middle;\n",
              "    }\n",
              "\n",
              "    .dataframe tbody tr th {\n",
              "        vertical-align: top;\n",
              "    }\n",
              "\n",
              "    .dataframe thead th {\n",
              "        text-align: right;\n",
              "    }\n",
              "</style>\n",
              "<table border=\"1\" class=\"dataframe\">\n",
              "  <thead>\n",
              "    <tr style=\"text-align: right;\">\n",
              "      <th></th>\n",
              "      <th>Age</th>\n",
              "      <th>Income($)</th>\n",
              "    </tr>\n",
              "  </thead>\n",
              "  <tbody>\n",
              "    <tr>\n",
              "      <th>0</th>\n",
              "      <td>0.058824</td>\n",
              "      <td>0.213675</td>\n",
              "    </tr>\n",
              "    <tr>\n",
              "      <th>1</th>\n",
              "      <td>0.176471</td>\n",
              "      <td>0.384615</td>\n",
              "    </tr>\n",
              "    <tr>\n",
              "      <th>2</th>\n",
              "      <td>0.176471</td>\n",
              "      <td>0.136752</td>\n",
              "    </tr>\n",
              "    <tr>\n",
              "      <th>3</th>\n",
              "      <td>0.117647</td>\n",
              "      <td>0.128205</td>\n",
              "    </tr>\n",
              "    <tr>\n",
              "      <th>4</th>\n",
              "      <td>0.941176</td>\n",
              "      <td>0.897436</td>\n",
              "    </tr>\n",
              "  </tbody>\n",
              "</table>\n",
              "</div>"
            ],
            "text/plain": [
              "        Age  Income($)\n",
              "0  0.058824   0.213675\n",
              "1  0.176471   0.384615\n",
              "2  0.176471   0.136752\n",
              "3  0.117647   0.128205\n",
              "4  0.941176   0.897436"
            ]
          },
          "metadata": {
            "tags": []
          },
          "execution_count": 199
        }
      ]
    },
    {
      "cell_type": "code",
      "metadata": {
        "id": "imda-7l3TehM"
      },
      "source": [
        "df_kmeans_scaled.columns=[\"Age\",\"Income($)\"]"
      ],
      "execution_count": 198,
      "outputs": []
    },
    {
      "cell_type": "code",
      "metadata": {
        "id": "Vi7HfhwWTsEJ",
        "outputId": "b1d6cbf0-30e8-4cff-e21f-d88a0548a98b",
        "colab": {
          "base_uri": "https://localhost:8080/",
          "height": 283
        }
      },
      "source": [
        "plt.scatter(df_kmeans_scaled['Age'],df_kmeans_scaled['Income($)'])"
      ],
      "execution_count": 201,
      "outputs": [
        {
          "output_type": "execute_result",
          "data": {
            "text/plain": [
              "<matplotlib.collections.PathCollection at 0x7fe3a6f0ea20>"
            ]
          },
          "metadata": {
            "tags": []
          },
          "execution_count": 201
        },
        {
          "output_type": "display_data",
          "data": {
            "image/png": "[encoded data removed]",
            "text/plain": [
              "<Figure size 432x288 with 1 Axes>"
            ]
          },
          "metadata": {
            "tags": [],
            "needs_background": "light"
          }
        }
      ]
    },
    {
      "cell_type": "code",
      "metadata": {
        "id": "rgQ05TI_T5r0",
        "outputId": "95391262-5e98-4827-b57e-639b970ff6f7",
        "colab": {
          "base_uri": "https://localhost:8080/"
        }
      },
      "source": [
        "km = KMeans(n_clusters=3)\n",
        "y_predicted = km.fit_predict(df_kmeans_scaled[['Age','Income($)']])\n",
        "y_predicted"
      ],
      "execution_count": 202,
      "outputs": [
        {
          "output_type": "execute_result",
          "data": {
            "text/plain": [
              "array([0, 0, 0, 0, 1, 1, 1, 1, 1, 1, 1, 0, 0, 0, 0, 0, 2, 2, 2, 2, 2, 2],\n",
              "      dtype=int32)"
            ]
          },
          "metadata": {
            "tags": []
          },
          "execution_count": 202
        }
      ]
    },
    {
      "cell_type": "code",
      "metadata": {
        "id": "OqkatDhPUPXS"
      },
      "source": [
        "df_kmeans_scaled['cluster']=y_predicted"
      ],
      "execution_count": 203,
      "outputs": []
    },
    {
      "cell_type": "code",
      "metadata": {
        "id": "VSu11ijSUITz",
        "outputId": "fde3bf57-78c6-4a64-8faa-3fa73624128d",
        "colab": {
          "base_uri": "https://localhost:8080/",
          "height": 283
        }
      },
      "source": [
        "df1 = df_kmeans_scaled[df_kmeans_scaled.cluster==0]\n",
        "df2 = df_kmeans_scaled[df_kmeans_scaled.cluster==1]\n",
        "df3 = df_kmeans_scaled[df_kmeans_scaled.cluster==2]\n",
        "plt.scatter(df1.Age,df1['Income($)'],color='green')\n",
        "plt.scatter(df2.Age,df2['Income($)'],color='red')\n",
        "plt.scatter(df3.Age,df3['Income($)'],color='black')\n",
        "plt.scatter(km.cluster_centers_[:,0],km.cluster_centers_[:,1],color='purple',marker='*',label='centroid')\n",
        "plt.legend()"
      ],
      "execution_count": 205,
      "outputs": [
        {
          "output_type": "execute_result",
          "data": {
            "text/plain": [
              "<matplotlib.legend.Legend at 0x7fe3a6e84860>"
            ]
          },
          "metadata": {
            "tags": []
          },
          "execution_count": 205
        },
        {
          "output_type": "display_data",
          "data": {
            "image/png": "[encoded data removed]",
            "text/plain": [
              "<Figure size 432x288 with 1 Axes>"
            ]
          },
          "metadata": {
            "tags": [],
            "needs_background": "light"
          }
        }
      ]
    },
    {
      "cell_type": "code",
      "metadata": {
        "id": "2M_gqJ4iUzPR"
      },
      "source": [
        "sse = []\n",
        "k_rng = range(1,10)\n",
        "for k in k_rng:\n",
        "    km = KMeans(n_clusters=k)\n",
        "    km.fit(df_kmeans_scaled[['Age','Income($)']])\n",
        "    sse.append(km.inertia_)"
      ],
      "execution_count": 206,
      "outputs": []
    },
    {
      "cell_type": "code",
      "metadata": {
        "id": "tezMZgT8U5Ku",
        "outputId": "0b6ed60f-4f6f-4b30-bc0f-c9ec01959cc6",
        "colab": {
          "base_uri": "https://localhost:8080/",
          "height": 297
        }
      },
      "source": [
        "plt.xlabel('K')\n",
        "plt.ylabel('Sum of squared error')\n",
        "plt.plot(k_rng,sse)"
      ],
      "execution_count": 207,
      "outputs": [
        {
          "output_type": "execute_result",
          "data": {
            "text/plain": [
              "[<matplotlib.lines.Line2D at 0x7fe3a6e6c5c0>]"
            ]
          },
          "metadata": {
            "tags": []
          },
          "execution_count": 207
        },
        {
          "output_type": "display_data",
          "data": {
            "image/png": "[encoded data removed]",
            "text/plain": [
              "<Figure size 432x288 with 1 Axes>"
            ]
          },
          "metadata": {
            "tags": [],
            "needs_background": "light"
          }
        }
      ]
    }
  ]
}