{
  "nbformat": 4,
  "nbformat_minor": 0,
  "metadata": {
    "colab": {
      "name": "Welcome To Colaboratory",
      "provenance": [],
      "collapsed_sections": [],
      "toc_visible": true,
      "include_colab_link": true
    },
    "kernelspec": {
      "display_name": "Python 3",
      "name": "python3"
    }
  },
  "cells": [
    {
      "cell_type": "markdown",
      "metadata": {
        "id": "view-in-github",
        "colab_type": "text"
      },
      "source": [
        "<a href=\"https://colab.research.google.com/github/rizwannitk/machinelearning/blob/main/sparkml.ipynb\" target=\"_parent\"><img src=\"https://colab.research.google.com/assets/colab-badge.svg\" alt=\"Open In Colab\"/></a>"
      ]
    },
    {
      "cell_type": "code",
      "metadata": {
        "id": "s8ymzJ6tMAdD"
      },
      "source": [
        "\n",
        "!apt-get install -y openjdk-8-jdk-headless -qq"
      ],
      "execution_count": null,
      "outputs": []
    },
    {
      "cell_type": "code",
      "metadata": {
        "id": "EMtM-X5RMXT9"
      },
      "source": [
        "import os\n",
        "os.environ[\"JAVA_HOME\"] = \"/usr/lib/jvm/java-8-openjdk-amd64\" "
      ],
      "execution_count": 3,
      "outputs": []
    },
    {
      "cell_type": "code",
      "metadata": {
        "id": "yTJsELo6MSS8",
        "outputId": "2348e94e-0021-47c6-eb0d-5caf4964b014",
        "colab": {
          "base_uri": "https://localhost:8080/"
        }
      },
      "source": [
        "!update-alternatives --set java /usr/lib/jvm/java-8-openjdk-amd64/jre/bin/java"
      ],
      "execution_count": 4,
      "outputs": [
        {
          "output_type": "stream",
          "text": [
            "update-alternatives: using /usr/lib/jvm/java-8-openjdk-amd64/jre/bin/java to provide /usr/bin/java (java) in manual mode\n"
          ],
          "name": "stdout"
        }
      ]
    },
    {
      "cell_type": "code",
      "metadata": {
        "id": "PIo4rV9tMeiR",
        "outputId": "691297df-ab8b-48af-f27f-1967e6d33abd",
        "colab": {
          "base_uri": "https://localhost:8080/"
        }
      },
      "source": [
        "!java -version"
      ],
      "execution_count": 5,
      "outputs": [
        {
          "output_type": "stream",
          "text": [
            "openjdk version \"1.8.0_275\"\n",
            "OpenJDK Runtime Environment (build 1.8.0_275-8u275-b01-0ubuntu1~18.04-b01)\n",
            "OpenJDK 64-Bit Server VM (build 25.275-b01, mixed mode)\n"
          ],
          "name": "stdout"
        }
      ]
    },
    {
      "cell_type": "code",
      "metadata": {
        "id": "mGjd8HVxMirE",
        "outputId": "21110c83-c450-4a19-8ac0-bdeadaf8cffa",
        "colab": {
          "base_uri": "https://localhost:8080/"
        }
      },
      "source": [
        "\n",
        "!pip install pyspark"
      ],
      "execution_count": 6,
      "outputs": [
        {
          "output_type": "stream",
          "text": [
            "Collecting pyspark\n",
            "\u001b[?25l  Downloading https://files.pythonhosted.org/packages/f0/26/198fc8c0b98580f617cb03cb298c6056587b8f0447e20fa40c5b634ced77/pyspark-3.0.1.tar.gz (204.2MB)\n",
            "\u001b[K     |████████████████████████████████| 204.2MB 72kB/s \n",
            "\u001b[?25hCollecting py4j==0.10.9\n",
            "\u001b[?25l  Downloading https://files.pythonhosted.org/packages/9e/b6/6a4fb90cd235dc8e265a6a2067f2a2c99f0d91787f06aca4bcf7c23f3f80/py4j-0.10.9-py2.py3-none-any.whl (198kB)\n",
            "\u001b[K     |████████████████████████████████| 204kB 39.8MB/s \n",
            "\u001b[?25hBuilding wheels for collected packages: pyspark\n",
            "  Building wheel for pyspark (setup.py) ... \u001b[?25l\u001b[?25hdone\n",
            "  Created wheel for pyspark: filename=pyspark-3.0.1-py2.py3-none-any.whl size=204612243 sha256=3d53ec7217199cdceb952d5eef42fc88c250cf22c28d0be386d460582329f4cf\n",
            "  Stored in directory: /root/.cache/pip/wheels/5e/bd/07/031766ca628adec8435bb40f0bd83bb676ce65ff4007f8e73f\n",
            "Successfully built pyspark\n",
            "Installing collected packages: py4j, pyspark\n",
            "Successfully installed py4j-0.10.9 pyspark-3.0.1\n"
          ],
          "name": "stdout"
        }
      ]
    },
    {
      "cell_type": "code",
      "metadata": {
        "id": "HkLnAo6UMwI0",
        "outputId": "6df51115-4264-4b25-bc7c-950fb3730fda",
        "colab": {
          "base_uri": "https://localhost:8080/"
        }
      },
      "source": [
        "!pip install pyarrow==0.15.1"
      ],
      "execution_count": 7,
      "outputs": [
        {
          "output_type": "stream",
          "text": [
            "Collecting pyarrow==0.15.1\n",
            "\u001b[?25l  Downloading https://files.pythonhosted.org/packages/6c/32/ce1926f05679ea5448fd3b98fbd9419d8c7a65f87d1a12ee5fb9577e3a8e/pyarrow-0.15.1-cp36-cp36m-manylinux2010_x86_64.whl (59.2MB)\n",
            "\u001b[K     |████████████████████████████████| 59.2MB 78kB/s \n",
            "\u001b[?25hRequirement already satisfied: numpy>=1.14 in /usr/local/lib/python3.6/dist-packages (from pyarrow==0.15.1) (1.18.5)\n",
            "Requirement already satisfied: six>=1.0.0 in /usr/local/lib/python3.6/dist-packages (from pyarrow==0.15.1) (1.15.0)\n",
            "Installing collected packages: pyarrow\n",
            "  Found existing installation: pyarrow 0.14.1\n",
            "    Uninstalling pyarrow-0.14.1:\n",
            "      Successfully uninstalled pyarrow-0.14.1\n",
            "Successfully installed pyarrow-0.15.1\n"
          ],
          "name": "stdout"
        }
      ]
    },
    {
      "cell_type": "code",
      "metadata": {
        "id": "KnN1n899M4YC"
      },
      "source": [
        "import matplotlib as mpl\n",
        "import matplotlib.pyplot as plt\n",
        "import pandas as pd\n",
        "\n",
        "from fbprophet import Prophet\n",
        "\n",
        "mpl.rcParams['figure.figsize'] = (10, 8)\n",
        "mpl.rcParams['axes.grid'] = False"
      ],
      "execution_count": 8,
      "outputs": []
    },
    {
      "cell_type": "code",
      "metadata": {
        "id": "OvfoTY9oM9AY"
      },
      "source": [
        "from pyspark.sql import SparkSession\n",
        "import pyspark\n",
        "spark = SparkSession.builder.master('local').getOrCreate()"
      ],
      "execution_count": 9,
      "outputs": []
    },
    {
      "cell_type": "code",
      "metadata": {
        "id": "JOt2SyqUNDwB",
        "outputId": "edb206ca-ed27-4320-dc9c-8b6e2198917e",
        "colab": {
          "base_uri": "https://localhost:8080/"
        }
      },
      "source": [
        "type(spark)"
      ],
      "execution_count": 10,
      "outputs": [
        {
          "output_type": "execute_result",
          "data": {
            "text/plain": [
              "pyspark.sql.session.SparkSession"
            ]
          },
          "metadata": {
            "tags": []
          },
          "execution_count": 10
        }
      ]
    },
    {
      "cell_type": "code",
      "metadata": {
        "id": "WiAEM9qONKFt"
      },
      "source": [
        "df = pd.read_csv('https://raw.githubusercontent.com/srivatsan88/YouTubeLI/master/dataset/weekly_sales_data.csv')"
      ],
      "execution_count": 11,
      "outputs": []
    },
    {
      "cell_type": "code",
      "metadata": {
        "id": "Q114MruDNOmh",
        "outputId": "60df2c9b-c5da-45ef-a108-feadd66e5606",
        "colab": {
          "base_uri": "https://localhost:8080/"
        }
      },
      "source": [
        "print (\"Rows     : \" ,df.shape[0])\n",
        "print (\"Columns  : \" ,df.shape[1])\n",
        "print (\"\\nFeatures : \\n\" ,df.columns.tolist())\n",
        "print (\"\\nMissing values :  \", df.isnull().any())\n",
        "print (\"\\nUnique values :  \\n\",df.nunique())"
      ],
      "execution_count": 12,
      "outputs": [
        {
          "output_type": "stream",
          "text": [
            "Rows     :  500\n",
            "Columns  :  3\n",
            "\n",
            "Features : \n",
            " ['date', 'store_id', 'sales']\n",
            "\n",
            "Missing values :   date        False\n",
            "store_id    False\n",
            "sales       False\n",
            "dtype: bool\n",
            "\n",
            "Unique values :  \n",
            " date         50\n",
            "store_id     10\n",
            "sales       500\n",
            "dtype: int64\n"
          ],
          "name": "stdout"
        }
      ]
    },
    {
      "cell_type": "code",
      "metadata": {
        "id": "T93zkRryNhHl",
        "outputId": "6cb6c6de-07b4-4664-954e-ca1633d5eaee",
        "colab": {
          "base_uri": "https://localhost:8080/",
          "height": 202
        }
      },
      "source": [
        "df.head()"
      ],
      "execution_count": 13,
      "outputs": [
        {
          "output_type": "execute_result",
          "data": {
            "text/html": [
              "<div>\n",
              "<style scoped>\n",
              "    .dataframe tbody tr th:only-of-type {\n",
              "        vertical-align: middle;\n",
              "    }\n",
              "\n",
              "    .dataframe tbody tr th {\n",
              "        vertical-align: top;\n",
              "    }\n",
              "\n",
              "    .dataframe thead th {\n",
              "        text-align: right;\n",
              "    }\n",
              "</style>\n",
              "<table border=\"1\" class=\"dataframe\">\n",
              "  <thead>\n",
              "    <tr style=\"text-align: right;\">\n",
              "      <th></th>\n",
              "      <th>date</th>\n",
              "      <th>store_id</th>\n",
              "      <th>sales</th>\n",
              "    </tr>\n",
              "  </thead>\n",
              "  <tbody>\n",
              "    <tr>\n",
              "      <th>0</th>\n",
              "      <td>1/6/2019</td>\n",
              "      <td>25</td>\n",
              "      <td>736657.2267</td>\n",
              "    </tr>\n",
              "    <tr>\n",
              "      <th>1</th>\n",
              "      <td>1/6/2019</td>\n",
              "      <td>26</td>\n",
              "      <td>233711.0000</td>\n",
              "    </tr>\n",
              "    <tr>\n",
              "      <th>2</th>\n",
              "      <td>1/6/2019</td>\n",
              "      <td>28</td>\n",
              "      <td>692156.3794</td>\n",
              "    </tr>\n",
              "    <tr>\n",
              "      <th>3</th>\n",
              "      <td>1/6/2019</td>\n",
              "      <td>29</td>\n",
              "      <td>213706.8000</td>\n",
              "    </tr>\n",
              "    <tr>\n",
              "      <th>4</th>\n",
              "      <td>1/6/2019</td>\n",
              "      <td>30</td>\n",
              "      <td>266455.0000</td>\n",
              "    </tr>\n",
              "  </tbody>\n",
              "</table>\n",
              "</div>"
            ],
            "text/plain": [
              "       date  store_id        sales\n",
              "0  1/6/2019        25  736657.2267\n",
              "1  1/6/2019        26  233711.0000\n",
              "2  1/6/2019        28  692156.3794\n",
              "3  1/6/2019        29  213706.8000\n",
              "4  1/6/2019        30  266455.0000"
            ]
          },
          "metadata": {
            "tags": []
          },
          "execution_count": 13
        }
      ]
    },
    {
      "cell_type": "code",
      "metadata": {
        "id": "1lwiytr5NnAB"
      },
      "source": [
        "df[\"date\"]=pd.to_datetime(df[\"date\"],infer_datetime_format=True)"
      ],
      "execution_count": 14,
      "outputs": []
    },
    {
      "cell_type": "code",
      "metadata": {
        "id": "3LSOb70wN73-"
      },
      "source": [
        "df_base = df.copy()"
      ],
      "execution_count": 15,
      "outputs": []
    },
    {
      "cell_type": "code",
      "metadata": {
        "id": "tx0MEwNpOBlU",
        "outputId": "ad678260-c283-4820-d6af-f1344b221306",
        "colab": {
          "base_uri": "https://localhost:8080/",
          "height": 294
        }
      },
      "source": [
        "df_base.describe()"
      ],
      "execution_count": 16,
      "outputs": [
        {
          "output_type": "execute_result",
          "data": {
            "text/html": [
              "<div>\n",
              "<style scoped>\n",
              "    .dataframe tbody tr th:only-of-type {\n",
              "        vertical-align: middle;\n",
              "    }\n",
              "\n",
              "    .dataframe tbody tr th {\n",
              "        vertical-align: top;\n",
              "    }\n",
              "\n",
              "    .dataframe thead th {\n",
              "        text-align: right;\n",
              "    }\n",
              "</style>\n",
              "<table border=\"1\" class=\"dataframe\">\n",
              "  <thead>\n",
              "    <tr style=\"text-align: right;\">\n",
              "      <th></th>\n",
              "      <th>store_id</th>\n",
              "      <th>sales</th>\n",
              "    </tr>\n",
              "  </thead>\n",
              "  <tbody>\n",
              "    <tr>\n",
              "      <th>count</th>\n",
              "      <td>500.0000</td>\n",
              "      <td>5.000000e+02</td>\n",
              "    </tr>\n",
              "    <tr>\n",
              "      <th>mean</th>\n",
              "      <td>32.7000</td>\n",
              "      <td>4.470800e+05</td>\n",
              "    </tr>\n",
              "    <tr>\n",
              "      <th>std</th>\n",
              "      <td>6.1714</td>\n",
              "      <td>2.970660e+05</td>\n",
              "    </tr>\n",
              "    <tr>\n",
              "      <th>min</th>\n",
              "      <td>25.0000</td>\n",
              "      <td>1.278800e+04</td>\n",
              "    </tr>\n",
              "    <tr>\n",
              "      <th>25%</th>\n",
              "      <td>28.0000</td>\n",
              "      <td>2.526557e+05</td>\n",
              "    </tr>\n",
              "    <tr>\n",
              "      <th>50%</th>\n",
              "      <td>30.5000</td>\n",
              "      <td>3.150259e+05</td>\n",
              "    </tr>\n",
              "    <tr>\n",
              "      <th>75%</th>\n",
              "      <td>38.0000</td>\n",
              "      <td>6.845418e+05</td>\n",
              "    </tr>\n",
              "    <tr>\n",
              "      <th>max</th>\n",
              "      <td>44.0000</td>\n",
              "      <td>1.631585e+06</td>\n",
              "    </tr>\n",
              "  </tbody>\n",
              "</table>\n",
              "</div>"
            ],
            "text/plain": [
              "       store_id         sales\n",
              "count  500.0000  5.000000e+02\n",
              "mean    32.7000  4.470800e+05\n",
              "std      6.1714  2.970660e+05\n",
              "min     25.0000  1.278800e+04\n",
              "25%     28.0000  2.526557e+05\n",
              "50%     30.5000  3.150259e+05\n",
              "75%     38.0000  6.845418e+05\n",
              "max     44.0000  1.631585e+06"
            ]
          },
          "metadata": {
            "tags": []
          },
          "execution_count": 16
        }
      ]
    },
    {
      "cell_type": "code",
      "metadata": {
        "id": "l4BoE4YvOJus",
        "outputId": "5bd50814-cc07-477f-9a60-931bd8ca9764",
        "colab": {
          "base_uri": "https://localhost:8080/"
        }
      },
      "source": [
        "df[\"store_id\"].value_counts()"
      ],
      "execution_count": 18,
      "outputs": [
        {
          "output_type": "execute_result",
          "data": {
            "text/plain": [
              "44    50\n",
              "41    50\n",
              "38    50\n",
              "35    50\n",
              "31    50\n",
              "30    50\n",
              "29    50\n",
              "28    50\n",
              "26    50\n",
              "25    50\n",
              "Name: store_id, dtype: int64"
            ]
          },
          "metadata": {
            "tags": []
          },
          "execution_count": 18
        }
      ]
    },
    {
      "cell_type": "markdown",
      "metadata": {
        "id": "2SudVsAQOJPY"
      },
      "source": [
        ""
      ]
    },
    {
      "cell_type": "code",
      "metadata": {
        "id": "yCS_ereGOa_y"
      },
      "source": [
        "item_df=df.set_index(\"date\")"
      ],
      "execution_count": 19,
      "outputs": []
    },
    {
      "cell_type": "code",
      "metadata": {
        "id": "XUPfZkByOlA8",
        "outputId": "69ee0f19-f315-43e9-dfe5-466648940ac5",
        "colab": {
          "base_uri": "https://localhost:8080/",
          "height": 537
        }
      },
      "source": [
        "item_df.query(\"store_id==25\")[[\"sales\"]].plot()"
      ],
      "execution_count": 23,
      "outputs": [
        {
          "output_type": "execute_result",
          "data": {
            "text/plain": [
              "<matplotlib.axes._subplots.AxesSubplot at 0x7f88fe74e358>"
            ]
          },
          "metadata": {
            "tags": []
          },
          "execution_count": 23
        },
        {
          "output_type": "display_data",
          "data": {
            "image/png": "[encoded data removed]",
            "text/plain": [
              "<Figure size 720x576 with 1 Axes>"
            ]
          },
          "metadata": {
            "tags": [],
            "needs_background": "light"
          }
        }
      ]
    },
    {
      "cell_type": "code",
      "metadata": {
        "id": "gkG6ilCSWyoa"
      },
      "source": [
        "sdf = spark.createDataFrame(df)"
      ],
      "execution_count": 24,
      "outputs": []
    },
    {
      "cell_type": "code",
      "metadata": {
        "id": "OCuyH7MAW2E_",
        "outputId": "5cd6a0e4-df48-4ace-8ae2-76741e995a3a",
        "colab": {
          "base_uri": "https://localhost:8080/"
        }
      },
      "source": [
        "sdf"
      ],
      "execution_count": 25,
      "outputs": [
        {
          "output_type": "execute_result",
          "data": {
            "text/plain": [
              "DataFrame[date: timestamp, store_id: bigint, sales: double]"
            ]
          },
          "metadata": {
            "tags": []
          },
          "execution_count": 25
        }
      ]
    },
    {
      "cell_type": "code",
      "metadata": {
        "id": "uPgo7EZWW59b",
        "outputId": "e6113c40-2c7c-4e62-9fe1-649845309ae8",
        "colab": {
          "base_uri": "https://localhost:8080/"
        }
      },
      "source": [
        "sdf.show()"
      ],
      "execution_count": 26,
      "outputs": [
        {
          "output_type": "stream",
          "text": [
            "+-------------------+--------+-----------+\n",
            "|               date|store_id|      sales|\n",
            "+-------------------+--------+-----------+\n",
            "|2019-01-06 00:00:00|      25|736657.2267|\n",
            "|2019-01-06 00:00:00|      26|   233711.0|\n",
            "|2019-01-06 00:00:00|      28|692156.3794|\n",
            "|2019-01-06 00:00:00|      29|   213706.8|\n",
            "|2019-01-06 00:00:00|      30|   266455.0|\n",
            "|2019-01-06 00:00:00|      31|837342.8156|\n",
            "|2019-01-06 00:00:00|      35|   201013.6|\n",
            "|2019-01-06 00:00:00|      38|  242397.03|\n",
            "|2019-01-06 00:00:00|      41|   244189.4|\n",
            "|2019-01-06 00:00:00|      44|   164553.5|\n",
            "|2019-01-13 00:00:00|      25|696457.1717|\n",
            "|2019-01-13 00:00:00|      26|  261136.45|\n",
            "|2019-01-13 00:00:00|      28|  787359.03|\n",
            "|2019-01-13 00:00:00|      29|   279218.0|\n",
            "|2019-01-13 00:00:00|      30|  252519.59|\n",
            "|2019-01-13 00:00:00|      31|836604.5717|\n",
            "|2019-01-13 00:00:00|      35| 277550.185|\n",
            "|2019-01-13 00:00:00|      38| 215895.275|\n",
            "|2019-01-13 00:00:00|      41|   231992.5|\n",
            "|2019-01-13 00:00:00|      44|   134188.0|\n",
            "+-------------------+--------+-----------+\n",
            "only showing top 20 rows\n",
            "\n"
          ],
          "name": "stdout"
        }
      ]
    },
    {
      "cell_type": "code",
      "metadata": {
        "id": "WOdPsYlvXCf6",
        "outputId": "0483f0c0-e059-47ca-ca5b-3d29c9746004",
        "colab": {
          "base_uri": "https://localhost:8080/"
        }
      },
      "source": [
        "sdf.printSchema()"
      ],
      "execution_count": 27,
      "outputs": [
        {
          "output_type": "stream",
          "text": [
            "root\n",
            " |-- date: timestamp (nullable = true)\n",
            " |-- store_id: long (nullable = true)\n",
            " |-- sales: double (nullable = true)\n",
            "\n"
          ],
          "name": "stdout"
        }
      ]
    },
    {
      "cell_type": "code",
      "metadata": {
        "id": "JTrC0FYnXIDy",
        "outputId": "d351bd7b-cd8c-4218-f278-9e2220744d9b",
        "colab": {
          "base_uri": "https://localhost:8080/"
        }
      },
      "source": [
        "sdf.count()"
      ],
      "execution_count": 28,
      "outputs": [
        {
          "output_type": "execute_result",
          "data": {
            "text/plain": [
              "500"
            ]
          },
          "metadata": {
            "tags": []
          },
          "execution_count": 28
        }
      ]
    },
    {
      "cell_type": "code",
      "metadata": {
        "id": "S1IyyUuPXSiN",
        "outputId": "b5deb76b-b0bc-4480-a715-e270364b361f",
        "colab": {
          "base_uri": "https://localhost:8080/"
        }
      },
      "source": [
        "#sdf.select(['store_id']).groupBy('store_id').agg({'store_id':'count'}).show()\n",
        "\n",
        "sdf.select(['store_id']).groupBy('store_id').agg({'store_id':'count'}).show()"
      ],
      "execution_count": 31,
      "outputs": [
        {
          "output_type": "stream",
          "text": [
            "+--------+---------------+\n",
            "|store_id|count(store_id)|\n",
            "+--------+---------------+\n",
            "|      26|             50|\n",
            "|      29|             50|\n",
            "|      31|             50|\n",
            "|      25|             50|\n",
            "|      41|             50|\n",
            "|      28|             50|\n",
            "|      44|             50|\n",
            "|      35|             50|\n",
            "|      38|             50|\n",
            "|      30|             50|\n",
            "+--------+---------------+\n",
            "\n"
          ],
          "name": "stdout"
        }
      ]
    },
    {
      "cell_type": "code",
      "metadata": {
        "id": "JJb7A1CMXoJM"
      },
      "source": [
        "sdf.createOrReplaceTempView(\"sales\")"
      ],
      "execution_count": 32,
      "outputs": []
    },
    {
      "cell_type": "code",
      "metadata": {
        "id": "v3-Ez2gwXusQ",
        "outputId": "eb973931-3461-40f4-d403-233beb5a553a",
        "colab": {
          "base_uri": "https://localhost:8080/"
        }
      },
      "source": [
        "spark.sql(\"select store_id, count(*) from sales group by store_id order by store_id\").show()"
      ],
      "execution_count": 33,
      "outputs": [
        {
          "output_type": "stream",
          "text": [
            "+--------+--------+\n",
            "|store_id|count(1)|\n",
            "+--------+--------+\n",
            "|      25|      50|\n",
            "|      26|      50|\n",
            "|      28|      50|\n",
            "|      29|      50|\n",
            "|      30|      50|\n",
            "|      31|      50|\n",
            "|      35|      50|\n",
            "|      38|      50|\n",
            "|      41|      50|\n",
            "|      44|      50|\n",
            "+--------+--------+\n",
            "\n"
          ],
          "name": "stdout"
        }
      ]
    },
    {
      "cell_type": "code",
      "metadata": {
        "id": "fYruKUO0Xyxu"
      },
      "source": [
        "sql = 'SELECT store_id, date as ds, sum(sales) as y FROM sales GROUP BY store_id, ds ORDER BY store_id, ds'"
      ],
      "execution_count": 34,
      "outputs": []
    },
    {
      "cell_type": "code",
      "metadata": {
        "id": "8jLDcf0HX6KS",
        "outputId": "aa65495e-38ed-45a7-8908-50ee2baa3e5e",
        "colab": {
          "base_uri": "https://localhost:8080/"
        }
      },
      "source": [
        "spark.sql(sql).show()"
      ],
      "execution_count": 35,
      "outputs": [
        {
          "output_type": "stream",
          "text": [
            "+--------+-------------------+------------------+\n",
            "|store_id|                 ds|                 y|\n",
            "+--------+-------------------+------------------+\n",
            "|      25|2019-01-06 00:00:00|       736657.2267|\n",
            "|      25|2019-01-13 00:00:00|       696457.1717|\n",
            "|      25|2019-01-20 00:00:00|        996876.875|\n",
            "|      25|2019-01-27 00:00:00|        1029737.05|\n",
            "|      25|2019-02-03 00:00:00|       1072873.705|\n",
            "|      25|2019-02-10 00:00:00|       880462.4681|\n",
            "|      25|2019-02-17 00:00:00|        1088756.78|\n",
            "|      25|2019-02-24 00:00:00|       1266928.313|\n",
            "|      25|2019-03-03 00:00:00|       907510.1217|\n",
            "|      25|2019-03-10 00:00:00|       747920.9824|\n",
            "|      25|2019-03-17 00:00:00|       904750.3158|\n",
            "|      25|2019-03-24 00:00:00|1069857.5890000002|\n",
            "|      25|2019-03-31 00:00:00|       1195574.314|\n",
            "|      25|2019-04-07 00:00:00|       834911.3333|\n",
            "|      25|2019-04-14 00:00:00|       788777.4167|\n",
            "|      25|2019-04-21 00:00:00|       849603.4333|\n",
            "|      25|2019-04-28 00:00:00|        965521.165|\n",
            "|      25|2019-05-05 00:00:00|       1045632.688|\n",
            "|      25|2019-05-12 00:00:00|        587768.245|\n",
            "|      25|2019-05-19 00:00:00|       806767.5946|\n",
            "+--------+-------------------+------------------+\n",
            "only showing top 20 rows\n",
            "\n"
          ],
          "name": "stdout"
        }
      ]
    },
    {
      "cell_type": "code",
      "metadata": {
        "id": "K8ghMHGkYAa2",
        "outputId": "39ad150b-02ae-4f33-8a26-ad4875ef10c4",
        "colab": {
          "base_uri": "https://localhost:8080/"
        }
      },
      "source": [
        "sdf.explain()"
      ],
      "execution_count": 36,
      "outputs": [
        {
          "output_type": "stream",
          "text": [
            "== Physical Plan ==\n",
            "*(1) Scan ExistingRDD[date#0,store_id#1L,sales#2]\n",
            "\n",
            "\n"
          ],
          "name": "stdout"
        }
      ]
    },
    {
      "cell_type": "code",
      "metadata": {
        "id": "W3_1osu0YEFH",
        "outputId": "2aa6e3c6-4461-4fb9-de44-910deb870eaf",
        "colab": {
          "base_uri": "https://localhost:8080/"
        }
      },
      "source": [
        "sdf.rdd.getNumPartitions()"
      ],
      "execution_count": 39,
      "outputs": [
        {
          "output_type": "execute_result",
          "data": {
            "text/plain": [
              "1"
            ]
          },
          "metadata": {
            "tags": []
          },
          "execution_count": 39
        }
      ]
    },
    {
      "cell_type": "code",
      "metadata": {
        "id": "nxIe53-VYK4V"
      },
      "source": [
        "store_part = (spark.sql( sql ).repartition(spark.sparkContext.defaultParallelism, ['store_id'])).cache()"
      ],
      "execution_count": 38,
      "outputs": []
    },
    {
      "cell_type": "code",
      "metadata": {
        "id": "zi0zE0bdYRpt",
        "outputId": "7ca30788-379d-4db2-c973-8cf02540e8e9",
        "colab": {
          "base_uri": "https://localhost:8080/"
        }
      },
      "source": [
        "store_part"
      ],
      "execution_count": 40,
      "outputs": [
        {
          "output_type": "execute_result",
          "data": {
            "text/plain": [
              "DataFrame[store_id: bigint, ds: timestamp, y: double]"
            ]
          },
          "metadata": {
            "tags": []
          },
          "execution_count": 40
        }
      ]
    },
    {
      "cell_type": "code",
      "metadata": {
        "id": "jboeEausYUfK"
      },
      "source": [
        "from pyspark.sql.types import *\n",
        "\n",
        "result_schema =StructType([\n",
        "  StructField('ds',TimestampType()),\n",
        "  StructField('store_id',IntegerType()),\n",
        "  StructField('y',DoubleType()),\n",
        "  StructField('yhat',DoubleType()),\n",
        "  StructField('yhat_upper',DoubleType()),\n",
        "  StructField('yhat_lower',DoubleType())\n",
        "  ])"
      ],
      "execution_count": 41,
      "outputs": []
    },
    {
      "cell_type": "code",
      "metadata": {
        "id": "fqotD1bkYc7x"
      },
      "source": [
        "from pyspark.sql.functions import pandas_udf, PandasUDFType\n",
        "\n",
        "@pandas_udf( result_schema, PandasUDFType.GROUPED_MAP )\n",
        "def forecast_sales( store_pd ):\n",
        "\n",
        "  model = Prophet(interval_width=0.95,seasonality_mode = 'multiplicative', weekly_seasonality=True, yearly_seasonality=True)\n",
        "\n",
        "  model.fit( store_pd )\n",
        "\n",
        "  future_pd = model.make_future_dataframe(\n",
        "    periods=5, \n",
        "    freq='w'\n",
        "    )\n",
        "  \n",
        "  forecast_pd = model.predict( future_pd )  \n",
        "  \n",
        "  f_pd = forecast_pd[ ['ds','yhat', 'yhat_upper', 'yhat_lower'] ].set_index('ds')\n",
        "  \n",
        "  st_pd = store_pd[['ds','store_id','y']].set_index('ds')\n",
        "  \n",
        "  results_pd = f_pd.join( st_pd, how='left' )\n",
        "  results_pd.reset_index(level=0, inplace=True)\n",
        "  \n",
        "  results_pd['store_id'] = store_pd['store_id'].iloc[0]\n",
        "\n",
        "  return results_pd[ ['ds', 'store_id','y', 'yhat', 'yhat_upper', 'yhat_lower'] ]"
      ],
      "execution_count": 42,
      "outputs": []
    },
    {
      "cell_type": "code",
      "metadata": {
        "id": "lF5n1up0YxAx",
        "outputId": "294ea7bd-ae7b-4e47-889b-ec4e4e62bc7e",
        "colab": {
          "base_uri": "https://localhost:8080/"
        }
      },
      "source": [
        "from pyspark.sql.functions import current_date\n",
        "\n",
        "results = (\n",
        "  store_part\n",
        "    .groupBy('store_id')\n",
        "    .apply(forecast_sales)\n",
        "    .withColumn('training_date', current_date() )\n",
        "    )"
      ],
      "execution_count": 43,
      "outputs": [
        {
          "output_type": "stream",
          "text": [
            "/usr/local/lib/python3.6/dist-packages/pyspark/sql/pandas/group_ops.py:76: UserWarning:\n",
            "\n",
            "It is preferred to use 'applyInPandas' over this API. This API will be deprecated in the future releases. See SPARK-28264 for more details.\n",
            "\n"
          ],
          "name": "stderr"
        }
      ]
    },
    {
      "cell_type": "code",
      "metadata": {
        "id": "RjhK3dRgY2VS",
        "outputId": "82f84309-69da-4770-fad8-c76ad5829c01",
        "colab": {
          "base_uri": "https://localhost:8080/"
        }
      },
      "source": [
        "results.show()"
      ],
      "execution_count": 44,
      "outputs": [
        {
          "output_type": "stream",
          "text": [
            "+-------------------+--------+------------------+------------------+------------------+-----------------+-------------+\n",
            "|                 ds|store_id|                 y|              yhat|        yhat_upper|       yhat_lower|training_date|\n",
            "+-------------------+--------+------------------+------------------+------------------+-----------------+-------------+\n",
            "|2019-01-06 00:00:00|      25|       736657.2267| 712575.0694095818| 936956.4524630198|475096.2063836026|   2020-12-05|\n",
            "|2019-01-13 00:00:00|      25|       696457.1717| 743751.7568979745| 965876.5876192765|503562.8997221712|   2020-12-05|\n",
            "|2019-01-20 00:00:00|      25|        996876.875| 972909.8778074606|1195277.4953785625|744531.1475626396|   2020-12-05|\n",
            "|2019-01-27 00:00:00|      25|        1029737.05|1034447.5557655566|1276423.1859308672| 776458.188045089|   2020-12-05|\n",
            "|2019-02-03 00:00:00|      25|       1072873.705| 986365.7266813249| 1213796.646979198|752225.2354045012|   2020-12-05|\n",
            "|2019-02-10 00:00:00|      25|       880462.4681|1016291.0609378252|1237749.5102559177| 773769.541713459|   2020-12-05|\n",
            "|2019-02-17 00:00:00|      25|        1088756.78|1108793.2648377852|1345611.8710275001| 874983.269790889|   2020-12-05|\n",
            "|2019-02-24 00:00:00|      25|       1266928.313| 1099825.778191229| 1334603.563713092|883339.6373892123|   2020-12-05|\n",
            "|2019-03-03 00:00:00|      25|       907510.1217| 954930.7385069402|1174145.3903224552|732627.5097819497|   2020-12-05|\n",
            "|2019-03-10 00:00:00|      25|       747920.9824| 840307.5565039386|1063642.9182238905|621328.1250703335|   2020-12-05|\n",
            "|2019-03-17 00:00:00|      25|       904750.3158| 895698.5219485628|1142811.3206948498|659742.4914953238|   2020-12-05|\n",
            "|2019-03-24 00:00:00|      25|1069857.5890000002|1040022.5385733753|1277110.1766675957|822911.9516357585|   2020-12-05|\n",
            "|2019-03-31 00:00:00|      25|       1195574.314|1078329.0328818252|1332312.2694767832|834568.0104032971|   2020-12-05|\n",
            "|2019-04-07 00:00:00|      25|       834911.3333| 957531.8584538421|1185103.7161358765|726195.5020966743|   2020-12-05|\n",
            "|2019-04-14 00:00:00|      25|       788777.4167| 825594.4716870873| 1061941.955841097|584682.0193850293|   2020-12-05|\n",
            "|2019-04-21 00:00:00|      25|       849603.4333|  826255.107714139|1072966.3701733511|599722.9257057321|   2020-12-05|\n",
            "|2019-04-28 00:00:00|      25|        965521.165| 913980.6218906845|1127907.0596006284|698983.1374818687|   2020-12-05|\n",
            "|2019-05-05 00:00:00|      25|       1045632.688|  931383.522344465|1155497.7353767965|691573.3939055736|   2020-12-05|\n",
            "|2019-05-12 00:00:00|      25|        587768.245| 831326.9849957973|1071715.6502261513|607027.1696338507|   2020-12-05|\n",
            "|2019-05-19 00:00:00|      25|       806767.5946| 740232.6751864685| 956743.9433717235|499161.7173735283|   2020-12-05|\n",
            "+-------------------+--------+------------------+------------------+------------------+-----------------+-------------+\n",
            "only showing top 20 rows\n",
            "\n"
          ],
          "name": "stdout"
        }
      ]
    }
  ]
}